{
  "nbformat": 4,
  "nbformat_minor": 0,
  "metadata": {
    "colab": {
      "provenance": [],
      "collapsed_sections": [],
      "authorship_tag": "ABX9TyOaTI/6UrF3i/mrpDgpyJK1",
      "include_colab_link": true
    },
    "kernelspec": {
      "name": "python3",
      "display_name": "Python 3"
    },
    "language_info": {
      "name": "python"
    }
  },
  "cells": [
    {
      "cell_type": "markdown",
      "metadata": {
        "id": "view-in-github",
        "colab_type": "text"
      },
      "source": [
        "<a href=\"https://colab.research.google.com/github/PosgradoMNA/actividades-de-aprendizaje-A01104776/blob/main/Modulo4.ipynb\" target=\"_parent\"><img src=\"https://colab.research.google.com/assets/colab-badge.svg\" alt=\"Open In Colab\"/></a>"
      ]
    },
    {
      "cell_type": "markdown",
      "source": [],
      "metadata": {
        "id": "MHxGu9tqUW6E"
      }
    },
    {
      "cell_type": "code",
      "source": [
        "## Uncomment these if working locally, else let the following code cell run.\n",
        "\n",
        "# import urllib.request\n",
        "# url = 'https://cf-courses-data.s3.us.cloud-object-storage.appdomain.cloud/IBMDeveloperSkillsNetwork-PY0101EN-SkillsNetwork/labs/Module%204/data/example1.txt'\n",
        "# filename = 'Example1.txt'\n",
        "# urllib.request.urlretrieve(url, filename)\n",
        "\n",
        "## Download Example file\n",
        "# !wget -O /resources/data/Example1.txt https://cf-courses-data.s3.us.cloud-object-storage.appdomain.cloud/IBMDeveloperSkillsNetwork-PY0101EN-SkillsNetwork/labs/Module%204/data/example1.txt"
      ],
      "metadata": {
        "id": "5RBKm2sRZBVS"
      },
      "execution_count": null,
      "outputs": []
    },
    {
      "cell_type": "code",
      "source": [
        "input = \"https://cf-courses-data.s3.us.cloud-object-storage.appdomain.cloud/IBMDeveloperSkillsNetwork-PY0101EN-SkillsNetwork/labs/Module%204/data/example1.txt\""
      ],
      "metadata": {
        "id": "fN5wA5nJhXdZ"
      },
      "execution_count": 95,
      "outputs": []
    },
    {
      "cell_type": "code",
      "source": [
        "import pandas as pd"
      ],
      "metadata": {
        "id": "09UH-DijhiHJ"
      },
      "execution_count": 97,
      "outputs": []
    },
    {
      "cell_type": "code",
      "source": [
        "filename = \"https://cf-courses-data.s3.us.cloud-object-storage.appdomain.cloud/IBMDeveloperSkillsNetwork-PY0101EN-SkillsNetwork/labs/Module%204/data/example1.txt\""
      ],
      "metadata": {
        "id": "ICW5elA_j8EJ"
      },
      "execution_count": 122,
      "outputs": []
    },
    {
      "cell_type": "code",
      "source": [
        "example1 = \"Example1.txt\""
      ],
      "metadata": {
        "id": "hMLAKVG6iDjY"
      },
      "execution_count": 123,
      "outputs": []
    },
    {
      "cell_type": "code",
      "source": [
        "example1"
      ],
      "metadata": {
        "colab": {
          "base_uri": "https://localhost:8080/",
          "height": 35
        },
        "id": "Aj8-JGbZin65",
        "outputId": "32c12353-5707-4bda-9ac4-e535ce9d3c7d"
      },
      "execution_count": 124,
      "outputs": [
        {
          "output_type": "execute_result",
          "data": {
            "text/plain": [
              "'Example1.txt'"
            ],
            "application/vnd.google.colaboratory.intrinsic+json": {
              "type": "string"
            }
          },
          "metadata": {},
          "execution_count": 124
        }
      ]
    },
    {
      "cell_type": "code",
      "source": [
        "async def download(url, filename):\n",
        "    response = await pyfetch(url)\n",
        "    if response.status == 200:\n",
        "        with open(filename, \"wb\") as f:\n",
        "            f.write(await response.bytes())\n",
        "\n",
        "    "
      ],
      "metadata": {
        "id": "UrLILp8RiGuB"
      },
      "execution_count": 132,
      "outputs": []
    },
    {
      "cell_type": "code",
      "source": [
        "async def download(url, filename):\n",
        "    response = await pyfetch(url)\n",
        "    if response.status == 200:\n",
        "        with open(filename, \"wb\") as f:\n",
        "            f.write(await response.bytes())"
      ],
      "metadata": {
        "id": "212rg6Z1lIh3"
      },
      "execution_count": 155,
      "outputs": []
    },
    {
      "cell_type": "code",
      "source": [
        "async def download(url, filename):\n",
        "    response = await pyfetch(url)\n",
        "    if response.status == 200:\n",
        "        with open(filename, \"wb\") as f:\n",
        "            f.write(await response.bytes())"
      ],
      "metadata": {
        "id": "PMbP9iIulRQo"
      },
      "execution_count": 157,
      "outputs": []
    },
    {
      "cell_type": "code",
      "source": [
        "async def download(url, filename):\n",
        "    response = await pyfetch(url)\n",
        "    if response.status == 200:\n",
        "        with open(filename, \"wb\") as f:\n",
        "            f.write(await response.bytes())"
      ],
      "metadata": {
        "id": "ui5tCVcDlWBf"
      },
      "execution_count": 159,
      "outputs": []
    },
    {
      "cell_type": "code",
      "source": [
        "async def download(url, filename):\n",
        "    response = await pyfetch(url)\n",
        "    if response.status == 200:\n",
        "        with open(filename, \"wb\") as f:\n",
        "            f.write(await response.bytes())"
      ],
      "metadata": {
        "id": "ZkNTCpXRlbs3"
      },
      "execution_count": 160,
      "outputs": []
    },
    {
      "cell_type": "code",
      "source": [
        "example1 = \"Example1.txt\"\n"
      ],
      "metadata": {
        "id": "kQcipWA0lgSq"
      },
      "execution_count": 163,
      "outputs": []
    },
    {
      "cell_type": "code",
      "source": [
        "file1 = open(example1, \"r\")"
      ],
      "metadata": {
        "colab": {
          "base_uri": "https://localhost:8080/",
          "height": 166
        },
        "id": "TPPY5rQvbFik",
        "outputId": "d53ee0a8-b238-4dc6-81cb-34f8c02e37fd"
      },
      "execution_count": 164,
      "outputs": [
        {
          "output_type": "error",
          "ename": "FileNotFoundError",
          "evalue": "ignored",
          "traceback": [
            "\u001b[0;31m---------------------------------------------------------------------------\u001b[0m",
            "\u001b[0;31mFileNotFoundError\u001b[0m                         Traceback (most recent call last)",
            "\u001b[0;32m<ipython-input-164-4da003dc8b57>\u001b[0m in \u001b[0;36m<module>\u001b[0;34m\u001b[0m\n\u001b[0;32m----> 1\u001b[0;31m \u001b[0mfile1\u001b[0m \u001b[0;34m=\u001b[0m \u001b[0mopen\u001b[0m\u001b[0;34m(\u001b[0m\u001b[0mexample1\u001b[0m\u001b[0;34m,\u001b[0m \u001b[0;34m\"r\"\u001b[0m\u001b[0;34m)\u001b[0m\u001b[0;34m\u001b[0m\u001b[0;34m\u001b[0m\u001b[0m\n\u001b[0m",
            "\u001b[0;31mFileNotFoundError\u001b[0m: [Errno 2] No such file or directory: 'Example1.txt'"
          ]
        }
      ]
    },
    {
      "cell_type": "code",
      "source": [
        "example1 = \"Example1.txt\"\n",
        "file1 = open(example1, \"r\")"
      ],
      "metadata": {
        "colab": {
          "base_uri": "https://localhost:8080/",
          "height": 183
        },
        "id": "PuECt7eeakWy",
        "outputId": "1afa8c1f-f60b-4ee0-c423-92d7ae086ca1"
      },
      "execution_count": 166,
      "outputs": [
        {
          "output_type": "error",
          "ename": "FileNotFoundError",
          "evalue": "ignored",
          "traceback": [
            "\u001b[0;31m---------------------------------------------------------------------------\u001b[0m",
            "\u001b[0;31mFileNotFoundError\u001b[0m                         Traceback (most recent call last)",
            "\u001b[0;32m<ipython-input-166-ec4ce82bd8e3>\u001b[0m in \u001b[0;36m<module>\u001b[0;34m\u001b[0m\n\u001b[1;32m      1\u001b[0m \u001b[0mexample1\u001b[0m \u001b[0;34m=\u001b[0m \u001b[0;34m\"Example1.txt\"\u001b[0m\u001b[0;34m\u001b[0m\u001b[0;34m\u001b[0m\u001b[0m\n\u001b[0;32m----> 2\u001b[0;31m \u001b[0mfile1\u001b[0m \u001b[0;34m=\u001b[0m \u001b[0mopen\u001b[0m\u001b[0;34m(\u001b[0m\u001b[0mexample1\u001b[0m\u001b[0;34m,\u001b[0m \u001b[0;34m\"r\"\u001b[0m\u001b[0;34m)\u001b[0m\u001b[0;34m\u001b[0m\u001b[0;34m\u001b[0m\u001b[0m\n\u001b[0m",
            "\u001b[0;31mFileNotFoundError\u001b[0m: [Errno 2] No such file or directory: 'Example1.txt'"
          ]
        }
      ]
    },
    {
      "cell_type": "markdown",
      "source": [],
      "metadata": {
        "id": "8bQh0HcFZAsr"
      }
    },
    {
      "cell_type": "code",
      "source": [
        "file1.name"
      ],
      "metadata": {
        "colab": {
          "base_uri": "https://localhost:8080/",
          "height": 166
        },
        "id": "B-o66m5o2iVX",
        "outputId": "4f7c17ad-57ab-4f8d-8432-23bfa1b94e56"
      },
      "execution_count": 169,
      "outputs": [
        {
          "output_type": "error",
          "ename": "AttributeError",
          "evalue": "ignored",
          "traceback": [
            "\u001b[0;31m---------------------------------------------------------------------------\u001b[0m",
            "\u001b[0;31mAttributeError\u001b[0m                            Traceback (most recent call last)",
            "\u001b[0;32m<ipython-input-169-ed1def4c7d61>\u001b[0m in \u001b[0;36m<module>\u001b[0;34m\u001b[0m\n\u001b[0;32m----> 1\u001b[0;31m \u001b[0mfile1\u001b[0m\u001b[0;34m.\u001b[0m\u001b[0mname\u001b[0m\u001b[0;34m\u001b[0m\u001b[0;34m\u001b[0m\u001b[0m\n\u001b[0m",
            "\u001b[0;31mAttributeError\u001b[0m: 'function' object has no attribute 'name'"
          ]
        }
      ]
    },
    {
      "cell_type": "code",
      "source": [
        "file1.mode"
      ],
      "metadata": {
        "colab": {
          "base_uri": "https://localhost:8080/",
          "height": 166
        },
        "id": "QF_oFuPe24Op",
        "outputId": "4e12b05a-a6a9-4d45-9406-151f611df8b8"
      },
      "execution_count": 168,
      "outputs": [
        {
          "output_type": "error",
          "ename": "AttributeError",
          "evalue": "ignored",
          "traceback": [
            "\u001b[0;31m---------------------------------------------------------------------------\u001b[0m",
            "\u001b[0;31mAttributeError\u001b[0m                            Traceback (most recent call last)",
            "\u001b[0;32m<ipython-input-168-99c2eaa601ce>\u001b[0m in \u001b[0;36m<module>\u001b[0;34m\u001b[0m\n\u001b[0;32m----> 1\u001b[0;31m \u001b[0mfile1\u001b[0m\u001b[0;34m.\u001b[0m\u001b[0mmode\u001b[0m\u001b[0;34m\u001b[0m\u001b[0;34m\u001b[0m\u001b[0m\n\u001b[0m",
            "\u001b[0;31mAttributeError\u001b[0m: 'function' object has no attribute 'mode'"
          ]
        }
      ]
    },
    {
      "cell_type": "code",
      "source": [
        "FileContent = file1.read()\n",
        "FileContent"
      ],
      "metadata": {
        "colab": {
          "base_uri": "https://localhost:8080/",
          "height": 183
        },
        "id": "W1Yp35uC2-Hj",
        "outputId": "dcd17daa-58fe-4d07-9d1a-cfdb02b8e099"
      },
      "execution_count": 170,
      "outputs": [
        {
          "output_type": "error",
          "ename": "AttributeError",
          "evalue": "ignored",
          "traceback": [
            "\u001b[0;31m---------------------------------------------------------------------------\u001b[0m",
            "\u001b[0;31mAttributeError\u001b[0m                            Traceback (most recent call last)",
            "\u001b[0;32m<ipython-input-170-6d322f8d5106>\u001b[0m in \u001b[0;36m<module>\u001b[0;34m\u001b[0m\n\u001b[0;32m----> 1\u001b[0;31m \u001b[0mFileContent\u001b[0m \u001b[0;34m=\u001b[0m \u001b[0mfile1\u001b[0m\u001b[0;34m.\u001b[0m\u001b[0mread\u001b[0m\u001b[0;34m(\u001b[0m\u001b[0;34m)\u001b[0m\u001b[0;34m\u001b[0m\u001b[0;34m\u001b[0m\u001b[0m\n\u001b[0m\u001b[1;32m      2\u001b[0m \u001b[0mFileContent\u001b[0m\u001b[0;34m\u001b[0m\u001b[0;34m\u001b[0m\u001b[0m\n",
            "\u001b[0;31mAttributeError\u001b[0m: 'function' object has no attribute 'read'"
          ]
        }
      ]
    },
    {
      "cell_type": "code",
      "source": [
        "print(FileContent)"
      ],
      "metadata": {
        "colab": {
          "base_uri": "https://localhost:8080/",
          "height": 166
        },
        "id": "y2yQOdKd3CUU",
        "outputId": "b87065a7-9d9f-4411-a6a0-aed1e336ed42"
      },
      "execution_count": 171,
      "outputs": [
        {
          "output_type": "error",
          "ename": "NameError",
          "evalue": "ignored",
          "traceback": [
            "\u001b[0;31m---------------------------------------------------------------------------\u001b[0m",
            "\u001b[0;31mNameError\u001b[0m                                 Traceback (most recent call last)",
            "\u001b[0;32m<ipython-input-171-09b4d0168d4b>\u001b[0m in \u001b[0;36m<module>\u001b[0;34m\u001b[0m\n\u001b[0;32m----> 1\u001b[0;31m \u001b[0mprint\u001b[0m\u001b[0;34m(\u001b[0m\u001b[0mFileContent\u001b[0m\u001b[0;34m)\u001b[0m\u001b[0;34m\u001b[0m\u001b[0;34m\u001b[0m\u001b[0m\n\u001b[0m",
            "\u001b[0;31mNameError\u001b[0m: name 'FileContent' is not defined"
          ]
        }
      ]
    },
    {
      "cell_type": "code",
      "source": [
        "type(FileContent)"
      ],
      "metadata": {
        "colab": {
          "base_uri": "https://localhost:8080/",
          "height": 166
        },
        "id": "IMWRJGCr3E5y",
        "outputId": "3bdb1a3a-517d-47ef-88c1-425254b7e24e"
      },
      "execution_count": 172,
      "outputs": [
        {
          "output_type": "error",
          "ename": "NameError",
          "evalue": "ignored",
          "traceback": [
            "\u001b[0;31m---------------------------------------------------------------------------\u001b[0m",
            "\u001b[0;31mNameError\u001b[0m                                 Traceback (most recent call last)",
            "\u001b[0;32m<ipython-input-172-835af671a55e>\u001b[0m in \u001b[0;36m<module>\u001b[0;34m\u001b[0m\n\u001b[0;32m----> 1\u001b[0;31m \u001b[0mtype\u001b[0m\u001b[0;34m(\u001b[0m\u001b[0mFileContent\u001b[0m\u001b[0;34m)\u001b[0m\u001b[0;34m\u001b[0m\u001b[0;34m\u001b[0m\u001b[0m\n\u001b[0m",
            "\u001b[0;31mNameError\u001b[0m: name 'FileContent' is not defined"
          ]
        }
      ]
    },
    {
      "cell_type": "code",
      "source": [
        "file1.close()"
      ],
      "metadata": {
        "colab": {
          "base_uri": "https://localhost:8080/",
          "height": 166
        },
        "id": "UwX3yWzS2Jau",
        "outputId": "fc55b34c-2f89-471b-8f19-b936351ce2a0"
      },
      "execution_count": 173,
      "outputs": [
        {
          "output_type": "error",
          "ename": "AttributeError",
          "evalue": "ignored",
          "traceback": [
            "\u001b[0;31m---------------------------------------------------------------------------\u001b[0m",
            "\u001b[0;31mAttributeError\u001b[0m                            Traceback (most recent call last)",
            "\u001b[0;32m<ipython-input-173-6f6f565106ae>\u001b[0m in \u001b[0;36m<module>\u001b[0;34m\u001b[0m\n\u001b[0;32m----> 1\u001b[0;31m \u001b[0mfile1\u001b[0m\u001b[0;34m.\u001b[0m\u001b[0mclose\u001b[0m\u001b[0;34m(\u001b[0m\u001b[0;34m)\u001b[0m\u001b[0;34m\u001b[0m\u001b[0;34m\u001b[0m\u001b[0m\n\u001b[0m",
            "\u001b[0;31mAttributeError\u001b[0m: 'function' object has no attribute 'close'"
          ]
        }
      ]
    },
    {
      "cell_type": "code",
      "source": [
        "with open(example1, \"r\") as file1:\n",
        "    FileContent = file1.read()\n",
        "    print(FileContent)"
      ],
      "metadata": {
        "colab": {
          "base_uri": "https://localhost:8080/",
          "height": 201
        },
        "id": "RZLlKF7j3i1M",
        "outputId": "e1809a4f-a047-4496-8248-9674db705984"
      },
      "execution_count": 174,
      "outputs": [
        {
          "output_type": "error",
          "ename": "FileNotFoundError",
          "evalue": "ignored",
          "traceback": [
            "\u001b[0;31m---------------------------------------------------------------------------\u001b[0m",
            "\u001b[0;31mFileNotFoundError\u001b[0m                         Traceback (most recent call last)",
            "\u001b[0;32m<ipython-input-174-ddf0663121a3>\u001b[0m in \u001b[0;36m<module>\u001b[0;34m\u001b[0m\n\u001b[0;32m----> 1\u001b[0;31m \u001b[0;32mwith\u001b[0m \u001b[0mopen\u001b[0m\u001b[0;34m(\u001b[0m\u001b[0mexample1\u001b[0m\u001b[0;34m,\u001b[0m \u001b[0;34m\"r\"\u001b[0m\u001b[0;34m)\u001b[0m \u001b[0;32mas\u001b[0m \u001b[0mfile1\u001b[0m\u001b[0;34m:\u001b[0m\u001b[0;34m\u001b[0m\u001b[0;34m\u001b[0m\u001b[0m\n\u001b[0m\u001b[1;32m      2\u001b[0m     \u001b[0mFileContent\u001b[0m \u001b[0;34m=\u001b[0m \u001b[0mfile1\u001b[0m\u001b[0;34m.\u001b[0m\u001b[0mread\u001b[0m\u001b[0;34m(\u001b[0m\u001b[0;34m)\u001b[0m\u001b[0;34m\u001b[0m\u001b[0;34m\u001b[0m\u001b[0m\n\u001b[1;32m      3\u001b[0m     \u001b[0mprint\u001b[0m\u001b[0;34m(\u001b[0m\u001b[0mFileContent\u001b[0m\u001b[0;34m)\u001b[0m\u001b[0;34m\u001b[0m\u001b[0;34m\u001b[0m\u001b[0m\n",
            "\u001b[0;31mFileNotFoundError\u001b[0m: [Errno 2] No such file or directory: 'Example1.txt'"
          ]
        }
      ]
    },
    {
      "cell_type": "code",
      "source": [
        "file1.closed"
      ],
      "metadata": {
        "colab": {
          "base_uri": "https://localhost:8080/",
          "height": 166
        },
        "id": "2Q5yKDMJ3lLG",
        "outputId": "b5ab6310-3441-4408-a3bf-03b6ebe9d5bc"
      },
      "execution_count": 175,
      "outputs": [
        {
          "output_type": "error",
          "ename": "AttributeError",
          "evalue": "ignored",
          "traceback": [
            "\u001b[0;31m---------------------------------------------------------------------------\u001b[0m",
            "\u001b[0;31mAttributeError\u001b[0m                            Traceback (most recent call last)",
            "\u001b[0;32m<ipython-input-175-8c43c593ec62>\u001b[0m in \u001b[0;36m<module>\u001b[0;34m\u001b[0m\n\u001b[0;32m----> 1\u001b[0;31m \u001b[0mfile1\u001b[0m\u001b[0;34m.\u001b[0m\u001b[0mclosed\u001b[0m\u001b[0;34m\u001b[0m\u001b[0;34m\u001b[0m\u001b[0m\n\u001b[0m",
            "\u001b[0;31mAttributeError\u001b[0m: 'function' object has no attribute 'closed'"
          ]
        }
      ]
    },
    {
      "cell_type": "code",
      "source": [
        "print(FileContent)"
      ],
      "metadata": {
        "colab": {
          "base_uri": "https://localhost:8080/",
          "height": 166
        },
        "id": "0Nu4D7HR3n_j",
        "outputId": "00b2832c-4ec6-4ca1-aeec-e1ccc7597370"
      },
      "execution_count": 176,
      "outputs": [
        {
          "output_type": "error",
          "ename": "NameError",
          "evalue": "ignored",
          "traceback": [
            "\u001b[0;31m---------------------------------------------------------------------------\u001b[0m",
            "\u001b[0;31mNameError\u001b[0m                                 Traceback (most recent call last)",
            "\u001b[0;32m<ipython-input-176-09b4d0168d4b>\u001b[0m in \u001b[0;36m<module>\u001b[0;34m\u001b[0m\n\u001b[0;32m----> 1\u001b[0;31m \u001b[0mprint\u001b[0m\u001b[0;34m(\u001b[0m\u001b[0mFileContent\u001b[0m\u001b[0;34m)\u001b[0m\u001b[0;34m\u001b[0m\u001b[0;34m\u001b[0m\u001b[0m\n\u001b[0m",
            "\u001b[0;31mNameError\u001b[0m: name 'FileContent' is not defined"
          ]
        }
      ]
    },
    {
      "cell_type": "code",
      "source": [
        "with open(example1, \"r\") as file1:\n",
        "    print(file1.read(4))"
      ],
      "metadata": {
        "colab": {
          "base_uri": "https://localhost:8080/",
          "height": 183
        },
        "id": "II_5B8YX3pDB",
        "outputId": "219193bc-94b3-4d32-bf56-a6839a8d0cda"
      },
      "execution_count": 177,
      "outputs": [
        {
          "output_type": "error",
          "ename": "FileNotFoundError",
          "evalue": "ignored",
          "traceback": [
            "\u001b[0;31m---------------------------------------------------------------------------\u001b[0m",
            "\u001b[0;31mFileNotFoundError\u001b[0m                         Traceback (most recent call last)",
            "\u001b[0;32m<ipython-input-177-641b01c3eb3c>\u001b[0m in \u001b[0;36m<module>\u001b[0;34m\u001b[0m\n\u001b[0;32m----> 1\u001b[0;31m \u001b[0;32mwith\u001b[0m \u001b[0mopen\u001b[0m\u001b[0;34m(\u001b[0m\u001b[0mexample1\u001b[0m\u001b[0;34m,\u001b[0m \u001b[0;34m\"r\"\u001b[0m\u001b[0;34m)\u001b[0m \u001b[0;32mas\u001b[0m \u001b[0mfile1\u001b[0m\u001b[0;34m:\u001b[0m\u001b[0;34m\u001b[0m\u001b[0;34m\u001b[0m\u001b[0m\n\u001b[0m\u001b[1;32m      2\u001b[0m     \u001b[0mprint\u001b[0m\u001b[0;34m(\u001b[0m\u001b[0mfile1\u001b[0m\u001b[0;34m.\u001b[0m\u001b[0mread\u001b[0m\u001b[0;34m(\u001b[0m\u001b[0;36m4\u001b[0m\u001b[0;34m)\u001b[0m\u001b[0;34m)\u001b[0m\u001b[0;34m\u001b[0m\u001b[0;34m\u001b[0m\u001b[0m\n",
            "\u001b[0;31mFileNotFoundError\u001b[0m: [Errno 2] No such file or directory: 'Example1.txt'"
          ]
        }
      ]
    },
    {
      "cell_type": "code",
      "source": [
        "with open(example1, \"r\") as file1:\n",
        "    print(file1.read(4))\n",
        "    print(file1.read(4))\n",
        "    print(file1.read(7))\n",
        "    print(file1.read(15))"
      ],
      "metadata": {
        "colab": {
          "base_uri": "https://localhost:8080/",
          "height": 235
        },
        "id": "7TsiLuLo3wHs",
        "outputId": "60f88a01-ac8b-4c13-8749-451b1e9b23b6"
      },
      "execution_count": 178,
      "outputs": [
        {
          "output_type": "error",
          "ename": "FileNotFoundError",
          "evalue": "ignored",
          "traceback": [
            "\u001b[0;31m---------------------------------------------------------------------------\u001b[0m",
            "\u001b[0;31mFileNotFoundError\u001b[0m                         Traceback (most recent call last)",
            "\u001b[0;32m<ipython-input-178-8a16153332a7>\u001b[0m in \u001b[0;36m<module>\u001b[0;34m\u001b[0m\n\u001b[0;32m----> 1\u001b[0;31m \u001b[0;32mwith\u001b[0m \u001b[0mopen\u001b[0m\u001b[0;34m(\u001b[0m\u001b[0mexample1\u001b[0m\u001b[0;34m,\u001b[0m \u001b[0;34m\"r\"\u001b[0m\u001b[0;34m)\u001b[0m \u001b[0;32mas\u001b[0m \u001b[0mfile1\u001b[0m\u001b[0;34m:\u001b[0m\u001b[0;34m\u001b[0m\u001b[0;34m\u001b[0m\u001b[0m\n\u001b[0m\u001b[1;32m      2\u001b[0m     \u001b[0mprint\u001b[0m\u001b[0;34m(\u001b[0m\u001b[0mfile1\u001b[0m\u001b[0;34m.\u001b[0m\u001b[0mread\u001b[0m\u001b[0;34m(\u001b[0m\u001b[0;36m4\u001b[0m\u001b[0;34m)\u001b[0m\u001b[0;34m)\u001b[0m\u001b[0;34m\u001b[0m\u001b[0;34m\u001b[0m\u001b[0m\n\u001b[1;32m      3\u001b[0m     \u001b[0mprint\u001b[0m\u001b[0;34m(\u001b[0m\u001b[0mfile1\u001b[0m\u001b[0;34m.\u001b[0m\u001b[0mread\u001b[0m\u001b[0;34m(\u001b[0m\u001b[0;36m4\u001b[0m\u001b[0;34m)\u001b[0m\u001b[0;34m)\u001b[0m\u001b[0;34m\u001b[0m\u001b[0;34m\u001b[0m\u001b[0m\n\u001b[1;32m      4\u001b[0m     \u001b[0mprint\u001b[0m\u001b[0;34m(\u001b[0m\u001b[0mfile1\u001b[0m\u001b[0;34m.\u001b[0m\u001b[0mread\u001b[0m\u001b[0;34m(\u001b[0m\u001b[0;36m7\u001b[0m\u001b[0;34m)\u001b[0m\u001b[0;34m)\u001b[0m\u001b[0;34m\u001b[0m\u001b[0;34m\u001b[0m\u001b[0m\n\u001b[1;32m      5\u001b[0m     \u001b[0mprint\u001b[0m\u001b[0;34m(\u001b[0m\u001b[0mfile1\u001b[0m\u001b[0;34m.\u001b[0m\u001b[0mread\u001b[0m\u001b[0;34m(\u001b[0m\u001b[0;36m15\u001b[0m\u001b[0;34m)\u001b[0m\u001b[0;34m)\u001b[0m\u001b[0;34m\u001b[0m\u001b[0;34m\u001b[0m\u001b[0m\n",
            "\u001b[0;31mFileNotFoundError\u001b[0m: [Errno 2] No such file or directory: 'Example1.txt'"
          ]
        }
      ]
    },
    {
      "cell_type": "code",
      "source": [
        "with open(example1, \"r\") as file1:\n",
        "    print(file1.read(16))\n",
        "    print(file1.read(5))\n",
        "    print(file1.read(9))"
      ],
      "metadata": {
        "colab": {
          "base_uri": "https://localhost:8080/",
          "height": 218
        },
        "id": "OuiDNTyQ39Mt",
        "outputId": "d0554eb3-42a2-4984-b859-c29df6732876"
      },
      "execution_count": 179,
      "outputs": [
        {
          "output_type": "error",
          "ename": "FileNotFoundError",
          "evalue": "ignored",
          "traceback": [
            "\u001b[0;31m---------------------------------------------------------------------------\u001b[0m",
            "\u001b[0;31mFileNotFoundError\u001b[0m                         Traceback (most recent call last)",
            "\u001b[0;32m<ipython-input-179-5cd9bb2017bf>\u001b[0m in \u001b[0;36m<module>\u001b[0;34m\u001b[0m\n\u001b[0;32m----> 1\u001b[0;31m \u001b[0;32mwith\u001b[0m \u001b[0mopen\u001b[0m\u001b[0;34m(\u001b[0m\u001b[0mexample1\u001b[0m\u001b[0;34m,\u001b[0m \u001b[0;34m\"r\"\u001b[0m\u001b[0;34m)\u001b[0m \u001b[0;32mas\u001b[0m \u001b[0mfile1\u001b[0m\u001b[0;34m:\u001b[0m\u001b[0;34m\u001b[0m\u001b[0;34m\u001b[0m\u001b[0m\n\u001b[0m\u001b[1;32m      2\u001b[0m     \u001b[0mprint\u001b[0m\u001b[0;34m(\u001b[0m\u001b[0mfile1\u001b[0m\u001b[0;34m.\u001b[0m\u001b[0mread\u001b[0m\u001b[0;34m(\u001b[0m\u001b[0;36m16\u001b[0m\u001b[0;34m)\u001b[0m\u001b[0;34m)\u001b[0m\u001b[0;34m\u001b[0m\u001b[0;34m\u001b[0m\u001b[0m\n\u001b[1;32m      3\u001b[0m     \u001b[0mprint\u001b[0m\u001b[0;34m(\u001b[0m\u001b[0mfile1\u001b[0m\u001b[0;34m.\u001b[0m\u001b[0mread\u001b[0m\u001b[0;34m(\u001b[0m\u001b[0;36m5\u001b[0m\u001b[0;34m)\u001b[0m\u001b[0;34m)\u001b[0m\u001b[0;34m\u001b[0m\u001b[0;34m\u001b[0m\u001b[0m\n\u001b[1;32m      4\u001b[0m     \u001b[0mprint\u001b[0m\u001b[0;34m(\u001b[0m\u001b[0mfile1\u001b[0m\u001b[0;34m.\u001b[0m\u001b[0mread\u001b[0m\u001b[0;34m(\u001b[0m\u001b[0;36m9\u001b[0m\u001b[0;34m)\u001b[0m\u001b[0;34m)\u001b[0m\u001b[0;34m\u001b[0m\u001b[0;34m\u001b[0m\u001b[0m\n",
            "\u001b[0;31mFileNotFoundError\u001b[0m: [Errno 2] No such file or directory: 'Example1.txt'"
          ]
        }
      ]
    },
    {
      "cell_type": "code",
      "source": [
        "\n",
        "with open(example1, \"r\") as file1:\n",
        "    print(\"first line: \" + file1.readline())"
      ],
      "metadata": {
        "colab": {
          "base_uri": "https://localhost:8080/",
          "height": 183
        },
        "id": "joFCFxLl4BRI",
        "outputId": "712e3a9a-f873-4eb7-9b0b-7b8a4f47f5da"
      },
      "execution_count": 180,
      "outputs": [
        {
          "output_type": "error",
          "ename": "FileNotFoundError",
          "evalue": "ignored",
          "traceback": [
            "\u001b[0;31m---------------------------------------------------------------------------\u001b[0m",
            "\u001b[0;31mFileNotFoundError\u001b[0m                         Traceback (most recent call last)",
            "\u001b[0;32m<ipython-input-180-b8e08af9ef6f>\u001b[0m in \u001b[0;36m<module>\u001b[0;34m\u001b[0m\n\u001b[0;32m----> 1\u001b[0;31m \u001b[0;32mwith\u001b[0m \u001b[0mopen\u001b[0m\u001b[0;34m(\u001b[0m\u001b[0mexample1\u001b[0m\u001b[0;34m,\u001b[0m \u001b[0;34m\"r\"\u001b[0m\u001b[0;34m)\u001b[0m \u001b[0;32mas\u001b[0m \u001b[0mfile1\u001b[0m\u001b[0;34m:\u001b[0m\u001b[0;34m\u001b[0m\u001b[0;34m\u001b[0m\u001b[0m\n\u001b[0m\u001b[1;32m      2\u001b[0m     \u001b[0mprint\u001b[0m\u001b[0;34m(\u001b[0m\u001b[0;34m\"first line: \"\u001b[0m \u001b[0;34m+\u001b[0m \u001b[0mfile1\u001b[0m\u001b[0;34m.\u001b[0m\u001b[0mreadline\u001b[0m\u001b[0;34m(\u001b[0m\u001b[0;34m)\u001b[0m\u001b[0;34m)\u001b[0m\u001b[0;34m\u001b[0m\u001b[0;34m\u001b[0m\u001b[0m\n",
            "\u001b[0;31mFileNotFoundError\u001b[0m: [Errno 2] No such file or directory: 'Example1.txt'"
          ]
        }
      ]
    },
    {
      "cell_type": "code",
      "source": [
        "with open(example1, \"r\") as file1:\n",
        "    print(file1.readline(20)) # does not read past the end of line\n",
        "    print(file1.read(20)) # Returns the next 20 chars\n"
      ],
      "metadata": {
        "colab": {
          "base_uri": "https://localhost:8080/",
          "height": 201
        },
        "id": "Y0WDDjsr4sAQ",
        "outputId": "081e11b1-2aae-4f45-ab4a-d10b1d5bb2b6"
      },
      "execution_count": null,
      "outputs": [
        {
          "output_type": "error",
          "ename": "FileNotFoundError",
          "evalue": "ignored",
          "traceback": [
            "\u001b[0;31m---------------------------------------------------------------------------\u001b[0m",
            "\u001b[0;31mFileNotFoundError\u001b[0m                         Traceback (most recent call last)",
            "\u001b[0;32m<ipython-input-24-75d53388f638>\u001b[0m in \u001b[0;36m<module>\u001b[0;34m\u001b[0m\n\u001b[0;32m----> 1\u001b[0;31m \u001b[0;32mwith\u001b[0m \u001b[0mopen\u001b[0m\u001b[0;34m(\u001b[0m\u001b[0mexample1\u001b[0m\u001b[0;34m,\u001b[0m \u001b[0;34m\"r\"\u001b[0m\u001b[0;34m)\u001b[0m \u001b[0;32mas\u001b[0m \u001b[0mfile1\u001b[0m\u001b[0;34m:\u001b[0m\u001b[0;34m\u001b[0m\u001b[0;34m\u001b[0m\u001b[0m\n\u001b[0m\u001b[1;32m      2\u001b[0m     \u001b[0mprint\u001b[0m\u001b[0;34m(\u001b[0m\u001b[0mfile1\u001b[0m\u001b[0;34m.\u001b[0m\u001b[0mreadline\u001b[0m\u001b[0;34m(\u001b[0m\u001b[0;36m20\u001b[0m\u001b[0;34m)\u001b[0m\u001b[0;34m)\u001b[0m \u001b[0;31m# does not read past the end of line\u001b[0m\u001b[0;34m\u001b[0m\u001b[0;34m\u001b[0m\u001b[0m\n\u001b[1;32m      3\u001b[0m     \u001b[0mprint\u001b[0m\u001b[0;34m(\u001b[0m\u001b[0mfile1\u001b[0m\u001b[0;34m.\u001b[0m\u001b[0mread\u001b[0m\u001b[0;34m(\u001b[0m\u001b[0;36m20\u001b[0m\u001b[0;34m)\u001b[0m\u001b[0;34m)\u001b[0m \u001b[0;31m# Returns the next 20 chars\u001b[0m\u001b[0;34m\u001b[0m\u001b[0;34m\u001b[0m\u001b[0m\n",
            "\u001b[0;31mFileNotFoundError\u001b[0m: [Errno 2] No such file or directory: 'Example1.txt'"
          ]
        }
      ]
    },
    {
      "cell_type": "code",
      "source": [
        "with open(example1,\"r\") as file1:\n",
        "        i = 0;\n",
        "        for line in file1:\n",
        "            print(\"Iteration\", str(i), \": \", line)\n",
        "            i = i + 1"
      ],
      "metadata": {
        "colab": {
          "base_uri": "https://localhost:8080/",
          "height": 235
        },
        "id": "U5LLnpgH4wYJ",
        "outputId": "4484462a-e7e8-47ee-dbfe-bfeb81df2bfb"
      },
      "execution_count": null,
      "outputs": [
        {
          "output_type": "error",
          "ename": "FileNotFoundError",
          "evalue": "ignored",
          "traceback": [
            "\u001b[0;31m---------------------------------------------------------------------------\u001b[0m",
            "\u001b[0;31mFileNotFoundError\u001b[0m                         Traceback (most recent call last)",
            "\u001b[0;32m<ipython-input-25-8beae9d14ded>\u001b[0m in \u001b[0;36m<module>\u001b[0;34m\u001b[0m\n\u001b[0;32m----> 1\u001b[0;31m \u001b[0;32mwith\u001b[0m \u001b[0mopen\u001b[0m\u001b[0;34m(\u001b[0m\u001b[0mexample1\u001b[0m\u001b[0;34m,\u001b[0m\u001b[0;34m\"r\"\u001b[0m\u001b[0;34m)\u001b[0m \u001b[0;32mas\u001b[0m \u001b[0mfile1\u001b[0m\u001b[0;34m:\u001b[0m\u001b[0;34m\u001b[0m\u001b[0;34m\u001b[0m\u001b[0m\n\u001b[0m\u001b[1;32m      2\u001b[0m         \u001b[0mi\u001b[0m \u001b[0;34m=\u001b[0m \u001b[0;36m0\u001b[0m\u001b[0;34m;\u001b[0m\u001b[0;34m\u001b[0m\u001b[0;34m\u001b[0m\u001b[0m\n\u001b[1;32m      3\u001b[0m         \u001b[0;32mfor\u001b[0m \u001b[0mline\u001b[0m \u001b[0;32min\u001b[0m \u001b[0mfile1\u001b[0m\u001b[0;34m:\u001b[0m\u001b[0;34m\u001b[0m\u001b[0;34m\u001b[0m\u001b[0m\n\u001b[1;32m      4\u001b[0m             \u001b[0mprint\u001b[0m\u001b[0;34m(\u001b[0m\u001b[0;34m\"Iteration\"\u001b[0m\u001b[0;34m,\u001b[0m \u001b[0mstr\u001b[0m\u001b[0;34m(\u001b[0m\u001b[0mi\u001b[0m\u001b[0;34m)\u001b[0m\u001b[0;34m,\u001b[0m \u001b[0;34m\": \"\u001b[0m\u001b[0;34m,\u001b[0m \u001b[0mline\u001b[0m\u001b[0;34m)\u001b[0m\u001b[0;34m\u001b[0m\u001b[0;34m\u001b[0m\u001b[0m\n\u001b[1;32m      5\u001b[0m             \u001b[0mi\u001b[0m \u001b[0;34m=\u001b[0m \u001b[0mi\u001b[0m \u001b[0;34m+\u001b[0m \u001b[0;36m1\u001b[0m\u001b[0;34m\u001b[0m\u001b[0;34m\u001b[0m\u001b[0m\n",
            "\u001b[0;31mFileNotFoundError\u001b[0m: [Errno 2] No such file or directory: 'Example1.txt'"
          ]
        }
      ]
    },
    {
      "cell_type": "code",
      "source": [
        "with open(example1, \"r\") as file1:\n",
        "    FileasList = file1.readlines()"
      ],
      "metadata": {
        "colab": {
          "base_uri": "https://localhost:8080/",
          "height": 183
        },
        "id": "NSSsM1U14zv1",
        "outputId": "8452ede3-544f-4e82-da98-44d4cd332a01"
      },
      "execution_count": null,
      "outputs": [
        {
          "output_type": "error",
          "ename": "FileNotFoundError",
          "evalue": "ignored",
          "traceback": [
            "\u001b[0;31m---------------------------------------------------------------------------\u001b[0m",
            "\u001b[0;31mFileNotFoundError\u001b[0m                         Traceback (most recent call last)",
            "\u001b[0;32m<ipython-input-26-d957ac2c9487>\u001b[0m in \u001b[0;36m<module>\u001b[0;34m\u001b[0m\n\u001b[0;32m----> 1\u001b[0;31m \u001b[0;32mwith\u001b[0m \u001b[0mopen\u001b[0m\u001b[0;34m(\u001b[0m\u001b[0mexample1\u001b[0m\u001b[0;34m,\u001b[0m \u001b[0;34m\"r\"\u001b[0m\u001b[0;34m)\u001b[0m \u001b[0;32mas\u001b[0m \u001b[0mfile1\u001b[0m\u001b[0;34m:\u001b[0m\u001b[0;34m\u001b[0m\u001b[0;34m\u001b[0m\u001b[0m\n\u001b[0m\u001b[1;32m      2\u001b[0m     \u001b[0mFileasList\u001b[0m \u001b[0;34m=\u001b[0m \u001b[0mfile1\u001b[0m\u001b[0;34m.\u001b[0m\u001b[0mreadlines\u001b[0m\u001b[0;34m(\u001b[0m\u001b[0;34m)\u001b[0m\u001b[0;34m\u001b[0m\u001b[0;34m\u001b[0m\u001b[0m\n",
            "\u001b[0;31mFileNotFoundError\u001b[0m: [Errno 2] No such file or directory: 'Example1.txt'"
          ]
        }
      ]
    },
    {
      "cell_type": "code",
      "source": [
        "FileasList[0]"
      ],
      "metadata": {
        "colab": {
          "base_uri": "https://localhost:8080/",
          "height": 166
        },
        "id": "AKWyiX5v43VG",
        "outputId": "0a788a1e-b454-42e1-c623-ad2bbf418eb0"
      },
      "execution_count": null,
      "outputs": [
        {
          "output_type": "error",
          "ename": "NameError",
          "evalue": "ignored",
          "traceback": [
            "\u001b[0;31m---------------------------------------------------------------------------\u001b[0m",
            "\u001b[0;31mNameError\u001b[0m                                 Traceback (most recent call last)",
            "\u001b[0;32m<ipython-input-27-c4217b4adb1e>\u001b[0m in \u001b[0;36m<module>\u001b[0;34m\u001b[0m\n\u001b[0;32m----> 1\u001b[0;31m \u001b[0mFileasList\u001b[0m\u001b[0;34m[\u001b[0m\u001b[0;36m0\u001b[0m\u001b[0;34m]\u001b[0m\u001b[0;34m\u001b[0m\u001b[0;34m\u001b[0m\u001b[0m\n\u001b[0m",
            "\u001b[0;31mNameError\u001b[0m: name 'FileasList' is not defined"
          ]
        }
      ]
    },
    {
      "cell_type": "code",
      "source": [
        "FileasList[1]"
      ],
      "metadata": {
        "colab": {
          "base_uri": "https://localhost:8080/",
          "height": 166
        },
        "id": "3E6uAXk949mM",
        "outputId": "5368e5d0-b325-449c-f450-893ae26a353a"
      },
      "execution_count": null,
      "outputs": [
        {
          "output_type": "error",
          "ename": "NameError",
          "evalue": "ignored",
          "traceback": [
            "\u001b[0;31m---------------------------------------------------------------------------\u001b[0m",
            "\u001b[0;31mNameError\u001b[0m                                 Traceback (most recent call last)",
            "\u001b[0;32m<ipython-input-28-79739f5b1178>\u001b[0m in \u001b[0;36m<module>\u001b[0;34m\u001b[0m\n\u001b[0;32m----> 1\u001b[0;31m \u001b[0mFileasList\u001b[0m\u001b[0;34m[\u001b[0m\u001b[0;36m1\u001b[0m\u001b[0;34m]\u001b[0m\u001b[0;34m\u001b[0m\u001b[0;34m\u001b[0m\u001b[0m\n\u001b[0m",
            "\u001b[0;31mNameError\u001b[0m: name 'FileasList' is not defined"
          ]
        }
      ]
    },
    {
      "cell_type": "code",
      "source": [
        "FileasList[2]"
      ],
      "metadata": {
        "colab": {
          "base_uri": "https://localhost:8080/",
          "height": 166
        },
        "id": "ULlkCOMN4_uP",
        "outputId": "6cb43fe6-3fcd-417c-ffe7-03ebdc995bab"
      },
      "execution_count": null,
      "outputs": [
        {
          "output_type": "error",
          "ename": "NameError",
          "evalue": "ignored",
          "traceback": [
            "\u001b[0;31m---------------------------------------------------------------------------\u001b[0m",
            "\u001b[0;31mNameError\u001b[0m                                 Traceback (most recent call last)",
            "\u001b[0;32m<ipython-input-29-44f81d507014>\u001b[0m in \u001b[0;36m<module>\u001b[0;34m\u001b[0m\n\u001b[0;32m----> 1\u001b[0;31m \u001b[0mFileasList\u001b[0m\u001b[0;34m[\u001b[0m\u001b[0;36m2\u001b[0m\u001b[0;34m]\u001b[0m\u001b[0;34m\u001b[0m\u001b[0;34m\u001b[0m\u001b[0m\n\u001b[0m",
            "\u001b[0;31mNameError\u001b[0m: name 'FileasList' is not defined"
          ]
        }
      ]
    },
    {
      "cell_type": "code",
      "source": [
        "exmp2 = 'Example2.txt'\n",
        "with open(exmp2, 'w') as writefile:\n",
        "    writefile.write(\"This is line A\")"
      ],
      "metadata": {
        "id": "cMD9YC_i6do2"
      },
      "execution_count": null,
      "outputs": []
    },
    {
      "cell_type": "code",
      "source": [
        "with open(exmp2, 'r') as testwritefile:\n",
        "    print(testwritefile.read())"
      ],
      "metadata": {
        "colab": {
          "base_uri": "https://localhost:8080/"
        },
        "id": "478e2AR37T6h",
        "outputId": "0e6001a6-d6a1-4cb6-c2ba-1d36f7c95f9c"
      },
      "execution_count": null,
      "outputs": [
        {
          "output_type": "stream",
          "name": "stdout",
          "text": [
            "This is line A\n"
          ]
        }
      ]
    },
    {
      "cell_type": "code",
      "source": [
        "\n",
        "with open(exmp2, 'w') as writefile:\n",
        "    writefile.write(\"This is line A\\n\")\n",
        "    writefile.write(\"This is line B\\n\")"
      ],
      "metadata": {
        "id": "uXRVBTId7aUc"
      },
      "execution_count": null,
      "outputs": []
    },
    {
      "cell_type": "code",
      "source": [
        "with open(exmp2, 'r') as testwritefile:\n",
        "    print(testwritefile.read())"
      ],
      "metadata": {
        "colab": {
          "base_uri": "https://localhost:8080/"
        },
        "id": "eJtyXLDf7if-",
        "outputId": "65056bbe-506f-4a83-d212-574fe3a4576f"
      },
      "execution_count": null,
      "outputs": [
        {
          "output_type": "stream",
          "name": "stdout",
          "text": [
            "This is line A\n",
            "This is line B\n",
            "\n"
          ]
        }
      ]
    },
    {
      "cell_type": "code",
      "source": [
        "Lines = [\"This is line A\\n\", \"This is line B\\n\", \"This is line C\\n\"]\n",
        "Lines"
      ],
      "metadata": {
        "colab": {
          "base_uri": "https://localhost:8080/"
        },
        "id": "OZvyDHa27rC4",
        "outputId": "9e3f45d1-f7fa-4e4c-8f84-56de320fbdee"
      },
      "execution_count": null,
      "outputs": [
        {
          "output_type": "execute_result",
          "data": {
            "text/plain": [
              "['This is line A\\n', 'This is line B\\n', 'This is line C\\n']"
            ]
          },
          "metadata": {},
          "execution_count": 35
        }
      ]
    },
    {
      "cell_type": "code",
      "source": [
        "with open('Example2.txt', 'w') as writefile:\n",
        "    for line in Lines:\n",
        "        print(line)\n",
        "        writefile.write(line)"
      ],
      "metadata": {
        "colab": {
          "base_uri": "https://localhost:8080/"
        },
        "id": "SQYULnrv7utA",
        "outputId": "6abe9e7b-940b-4f6c-ef5b-b3eaa20f061f"
      },
      "execution_count": null,
      "outputs": [
        {
          "output_type": "stream",
          "name": "stdout",
          "text": [
            "This is line A\n",
            "\n",
            "This is line B\n",
            "\n",
            "This is line C\n",
            "\n"
          ]
        }
      ]
    },
    {
      "cell_type": "code",
      "source": [
        "with open('Example2.txt', 'r') as testwritefile:\n",
        "    print(testwritefile.read())"
      ],
      "metadata": {
        "colab": {
          "base_uri": "https://localhost:8080/"
        },
        "id": "cWHyO2Es7x-G",
        "outputId": "82d04d94-0110-4eb8-c786-9a9edb15635e"
      },
      "execution_count": null,
      "outputs": [
        {
          "output_type": "stream",
          "name": "stdout",
          "text": [
            "This is line A\n",
            "This is line B\n",
            "This is line C\n",
            "\n"
          ]
        }
      ]
    },
    {
      "cell_type": "code",
      "source": [
        "with open('Example2.txt', 'w') as writefile:\n",
        "    writefile.write(\"Overwrite\\n\")\n",
        "with open('Example2.txt', 'r') as testwritefile:\n",
        "    print(testwritefile.read())"
      ],
      "metadata": {
        "colab": {
          "base_uri": "https://localhost:8080/"
        },
        "id": "k9sBqcRx7zyj",
        "outputId": "44c5b134-eb4c-4b0b-bd93-48447347f124"
      },
      "execution_count": null,
      "outputs": [
        {
          "output_type": "stream",
          "name": "stdout",
          "text": [
            "Overwrite\n",
            "\n"
          ]
        }
      ]
    },
    {
      "cell_type": "code",
      "source": [
        "with open('Example2.txt', 'a') as testwritefile:\n",
        "    testwritefile.write(\"This is line C\\n\")\n",
        "    testwritefile.write(\"This is line D\\n\")\n",
        "    testwritefile.write(\"This is line E\\n\")"
      ],
      "metadata": {
        "id": "nPw2yoXa73Vh"
      },
      "execution_count": null,
      "outputs": []
    },
    {
      "cell_type": "code",
      "source": [
        "with open('Example2.txt', 'r') as testwritefile:\n",
        "    print(testwritefile.read())"
      ],
      "metadata": {
        "colab": {
          "base_uri": "https://localhost:8080/"
        },
        "id": "trS1eI9n756T",
        "outputId": "00786487-c488-4dc6-86cb-64a7c8706ded"
      },
      "execution_count": null,
      "outputs": [
        {
          "output_type": "stream",
          "name": "stdout",
          "text": [
            "Overwrite\n",
            "This is line C\n",
            "This is line D\n",
            "This is line E\n",
            "\n"
          ]
        }
      ]
    },
    {
      "cell_type": "code",
      "source": [
        "with open('Example2.txt', 'a+') as testwritefile:\n",
        "    testwritefile.write(\"This is line E\\n\")\n",
        "    print(testwritefile.read())"
      ],
      "metadata": {
        "colab": {
          "base_uri": "https://localhost:8080/"
        },
        "id": "4NqP2i218XXU",
        "outputId": "7d69e2a1-1a6c-44ae-f33a-85ed5d88c954"
      },
      "execution_count": null,
      "outputs": [
        {
          "output_type": "stream",
          "name": "stdout",
          "text": [
            "\n"
          ]
        }
      ]
    },
    {
      "cell_type": "code",
      "source": [
        "with open('Example2.txt', 'a+') as testwritefile:\n",
        "    print(\"Initial Location: {}\".format(testwritefile.tell()))\n",
        "    \n",
        "    data = testwritefile.read()\n",
        "    if (not data):  #empty strings return false in python\n",
        "            print('Read nothing') \n",
        "    else: \n",
        "            print(testwritefile.read())\n",
        "            \n",
        "    testwritefile.seek(0,0) # move 0 bytes from beginning.\n",
        "    \n",
        "    print(\"\\nNew Location : {}\".format(testwritefile.tell()))\n",
        "    data = testwritefile.read()\n",
        "    if (not data): \n",
        "            print('Read nothing') \n",
        "    else: \n",
        "            print(data)\n",
        "    \n",
        "    print(\"Location after read: {}\".format(testwritefile.tell()) )"
      ],
      "metadata": {
        "colab": {
          "base_uri": "https://localhost:8080/"
        },
        "id": "QdvEXt4G8s9H",
        "outputId": "a5b2032a-ef57-40dc-d354-f22e6b97eb50"
      },
      "execution_count": null,
      "outputs": [
        {
          "output_type": "stream",
          "name": "stdout",
          "text": [
            "Initial Location: 70\n",
            "Read nothing\n",
            "\n",
            "New Location : 0\n",
            "Overwrite\n",
            "This is line C\n",
            "This is line D\n",
            "This is line E\n",
            "This is line E\n",
            "\n",
            "Location after read: 70\n"
          ]
        }
      ]
    },
    {
      "cell_type": "code",
      "source": [
        "with open('Example2.txt', 'r+') as testwritefile:\n",
        "    data = testwritefile.readlines()\n",
        "    testwritefile.seek(0,0) #write at beginning of file\n",
        "   \n",
        "    testwritefile.write(\"Line 1\" + \"\\n\")\n",
        "    testwritefile.write(\"Line 2\" + \"\\n\")\n",
        "    testwritefile.write(\"Line 3\" + \"\\n\")\n",
        "    testwritefile.write(\"finished\\n\")\n",
        "    #Uncomment the line below\n",
        "    #testwritefile.truncate()\n",
        "    testwritefile.seek(0,0)\n",
        "    print(testwritefile.read())\n",
        "    "
      ],
      "metadata": {
        "colab": {
          "base_uri": "https://localhost:8080/"
        },
        "id": "s0lhme4U8xYI",
        "outputId": "044dec1b-1ebe-4408-b890-f7efd6c5d484"
      },
      "execution_count": null,
      "outputs": [
        {
          "output_type": "stream",
          "name": "stdout",
          "text": [
            "Line 1\n",
            "Line 2\n",
            "Line 3\n",
            "finished\n",
            "is line D\n",
            "This is line E\n",
            "This is line E\n",
            "\n"
          ]
        }
      ]
    },
    {
      "cell_type": "code",
      "source": [
        "with open('Example2.txt','r') as readfile:\n",
        "    with open('Example3.txt','w') as writefile:\n",
        "          for line in readfile:\n",
        "                writefile.write(line)"
      ],
      "metadata": {
        "id": "pHv6iu1K82hT"
      },
      "execution_count": null,
      "outputs": []
    },
    {
      "cell_type": "code",
      "source": [
        "\n",
        "with open('Example3.txt','r') as testwritefile:\n",
        "    print(testwritefile.read())"
      ],
      "metadata": {
        "colab": {
          "base_uri": "https://localhost:8080/"
        },
        "id": "IH7ToP13860n",
        "outputId": "3682d0f4-0e38-437a-9af5-db17e06f3ab9"
      },
      "execution_count": null,
      "outputs": [
        {
          "output_type": "stream",
          "name": "stdout",
          "text": [
            "Line 1\n",
            "Line 2\n",
            "Line 3\n",
            "finished\n",
            "is line D\n",
            "This is line E\n",
            "This is line E\n",
            "\n"
          ]
        }
      ]
    },
    {
      "cell_type": "code",
      "source": [
        "from random import randint as rnd\n",
        "\n",
        "memReg = 'members.txt'\n",
        "exReg = 'inactive.txt'\n",
        "fee =('yes','no')\n",
        "\n",
        "def genFiles(current,old):\n",
        "    with open(current,'w+') as writefile: \n",
        "        writefile.write('Membership No  Date Joined  Active  \\n')\n",
        "        data = \"{:^13}  {:<11}  {:<6}\\n\"\n",
        "\n",
        "        for rowno in range(20):\n",
        "            date = str(rnd(2015,2020))+ '-' + str(rnd(1,12))+'-'+str(rnd(1,25))\n",
        "            writefile.write(data.format(rnd(10000,99999),date,fee[rnd(0,1)]))\n",
        "\n",
        "\n",
        "    with open(old,'w+') as writefile: \n",
        "        writefile.write('Membership No  Date Joined  Active  \\n')\n",
        "        data = \"{:^13}  {:<11}  {:<6}\\n\"\n",
        "        for rowno in range(3):\n",
        "            date = str(rnd(2015,2020))+ '-' + str(rnd(1,12))+'-'+str(rnd(1,25))\n",
        "            writefile.write(data.format(rnd(10000,99999),date,fee[1]))"
      ],
      "metadata": {
        "id": "RTY_rw_U9Cml"
      },
      "execution_count": null,
      "outputs": []
    },
    {
      "cell_type": "code",
      "source": [
        "memReg = 'members.txt'\n",
        "exReg = 'inactive.txt'\n",
        "cleanFiles(memReg,exReg)\n",
        "\n",
        "\n",
        "headers = \"Membership No  Date Joined  Active  \\n\"\n",
        "with open(memReg,'r') as readFile:\n",
        "    print(\"Active Members: \\n\\n\")\n",
        "    print(readFile.read())\n",
        "    \n",
        "with open(exReg,'r') as readFile:\n",
        "    print(\"Inactive Members: \\n\\n\")\n",
        "    print(readFile.read())"
      ],
      "metadata": {
        "colab": {
          "base_uri": "https://localhost:8080/",
          "height": 235
        },
        "id": "lKTMYUOZ9Dsf",
        "outputId": "9cd94397-eee8-4e2c-c34f-7ac1bb167716"
      },
      "execution_count": null,
      "outputs": [
        {
          "output_type": "error",
          "ename": "NameError",
          "evalue": "ignored",
          "traceback": [
            "\u001b[0;31m---------------------------------------------------------------------------\u001b[0m",
            "\u001b[0;31mNameError\u001b[0m                                 Traceback (most recent call last)",
            "\u001b[0;32m<ipython-input-49-4e428793aa6f>\u001b[0m in \u001b[0;36m<module>\u001b[0;34m\u001b[0m\n\u001b[1;32m      1\u001b[0m \u001b[0mmemReg\u001b[0m \u001b[0;34m=\u001b[0m \u001b[0;34m'members.txt'\u001b[0m\u001b[0;34m\u001b[0m\u001b[0;34m\u001b[0m\u001b[0m\n\u001b[1;32m      2\u001b[0m \u001b[0mexReg\u001b[0m \u001b[0;34m=\u001b[0m \u001b[0;34m'inactive.txt'\u001b[0m\u001b[0;34m\u001b[0m\u001b[0;34m\u001b[0m\u001b[0m\n\u001b[0;32m----> 3\u001b[0;31m \u001b[0mcleanFiles\u001b[0m\u001b[0;34m(\u001b[0m\u001b[0mmemReg\u001b[0m\u001b[0;34m,\u001b[0m\u001b[0mexReg\u001b[0m\u001b[0;34m)\u001b[0m\u001b[0;34m\u001b[0m\u001b[0;34m\u001b[0m\u001b[0m\n\u001b[0m\u001b[1;32m      4\u001b[0m \u001b[0;34m\u001b[0m\u001b[0m\n\u001b[1;32m      5\u001b[0m \u001b[0;34m\u001b[0m\u001b[0m\n",
            "\u001b[0;31mNameError\u001b[0m: name 'cleanFiles' is not defined"
          ]
        }
      ]
    },
    {
      "cell_type": "code",
      "source": [
        "def testMsg(passed):\n",
        "    if passed:\n",
        "       return 'Test Passed'\n",
        "    else :\n",
        "       return 'Test Failed'\n",
        "\n",
        "testWrite = \"testWrite.txt\"\n",
        "testAppend = \"testAppend.txt\" \n",
        "passed = True\n",
        "\n",
        "genFiles(testWrite,testAppend)\n",
        "\n",
        "with open(testWrite,'r') as file:\n",
        "    ogWrite = file.readlines()\n",
        "\n",
        "with open(testAppend,'r') as file:\n",
        "    ogAppend = file.readlines()\n",
        "\n",
        "try:\n",
        "    cleanFiles(testWrite,testAppend)\n",
        "except:\n",
        "    print('Error')\n",
        "\n",
        "with open(testWrite,'r') as file:\n",
        "    clWrite = file.readlines()\n",
        "\n",
        "with open(testAppend,'r') as file:\n",
        "    clAppend = file.readlines()\n",
        "        \n",
        "# checking if total no of rows is same, including headers\n",
        "\n",
        "if (len(ogWrite) + len(ogAppend) != len(clWrite) + len(clAppend)):\n",
        "    print(\"The number of rows do not add up. Make sure your final files have the same header and format.\")\n",
        "    passed = False\n",
        "    \n",
        "for line in clWrite:\n",
        "    if  'no' in line:\n",
        "        passed = False\n",
        "        print(\"Inactive members in file\")\n",
        "        break\n",
        "    else:\n",
        "        if line not in ogWrite:\n",
        "            print(\"Data in file does not match original file\")\n",
        "            passed = False\n",
        "print (\"{}\".format(testMsg(passed)))"
      ],
      "metadata": {
        "colab": {
          "base_uri": "https://localhost:8080/"
        },
        "id": "Dlk-lSUD9fhH",
        "outputId": "097235b2-2d0d-4e9e-eb19-75b53016c212"
      },
      "execution_count": null,
      "outputs": [
        {
          "output_type": "stream",
          "name": "stdout",
          "text": [
            "Error\n",
            "Inactive members in file\n",
            "Test Failed\n"
          ]
        }
      ]
    },
    {
      "cell_type": "code",
      "source": [
        "import pandas as pd\n",
        "\n",
        "df=pd.DataFrame({'a':[11,21,31],'b':[21,22,23]})"
      ],
      "metadata": {
        "id": "LOH3BsGI-1ra"
      },
      "execution_count": null,
      "outputs": []
    },
    {
      "cell_type": "code",
      "source": [
        "df.head(3)"
      ],
      "metadata": {
        "colab": {
          "base_uri": "https://localhost:8080/",
          "height": 143
        },
        "id": "_M64N9Ef-_Mf",
        "outputId": "f85a4b85-e036-4db3-d594-573d379027ec"
      },
      "execution_count": null,
      "outputs": [
        {
          "output_type": "execute_result",
          "data": {
            "text/plain": [
              "    a   b\n",
              "0  11  21\n",
              "1  21  22\n",
              "2  31  23"
            ],
            "text/html": [
              "\n",
              "  <div id=\"df-3343e233-ef3b-4240-844c-95ef12c73898\">\n",
              "    <div class=\"colab-df-container\">\n",
              "      <div>\n",
              "<style scoped>\n",
              "    .dataframe tbody tr th:only-of-type {\n",
              "        vertical-align: middle;\n",
              "    }\n",
              "\n",
              "    .dataframe tbody tr th {\n",
              "        vertical-align: top;\n",
              "    }\n",
              "\n",
              "    .dataframe thead th {\n",
              "        text-align: right;\n",
              "    }\n",
              "</style>\n",
              "<table border=\"1\" class=\"dataframe\">\n",
              "  <thead>\n",
              "    <tr style=\"text-align: right;\">\n",
              "      <th></th>\n",
              "      <th>a</th>\n",
              "      <th>b</th>\n",
              "    </tr>\n",
              "  </thead>\n",
              "  <tbody>\n",
              "    <tr>\n",
              "      <th>0</th>\n",
              "      <td>11</td>\n",
              "      <td>21</td>\n",
              "    </tr>\n",
              "    <tr>\n",
              "      <th>1</th>\n",
              "      <td>21</td>\n",
              "      <td>22</td>\n",
              "    </tr>\n",
              "    <tr>\n",
              "      <th>2</th>\n",
              "      <td>31</td>\n",
              "      <td>23</td>\n",
              "    </tr>\n",
              "  </tbody>\n",
              "</table>\n",
              "</div>\n",
              "      <button class=\"colab-df-convert\" onclick=\"convertToInteractive('df-3343e233-ef3b-4240-844c-95ef12c73898')\"\n",
              "              title=\"Convert this dataframe to an interactive table.\"\n",
              "              style=\"display:none;\">\n",
              "        \n",
              "  <svg xmlns=\"http://www.w3.org/2000/svg\" height=\"24px\"viewBox=\"0 0 24 24\"\n",
              "       width=\"24px\">\n",
              "    <path d=\"M0 0h24v24H0V0z\" fill=\"none\"/>\n",
              "    <path d=\"M18.56 5.44l.94 2.06.94-2.06 2.06-.94-2.06-.94-.94-2.06-.94 2.06-2.06.94zm-11 1L8.5 8.5l.94-2.06 2.06-.94-2.06-.94L8.5 2.5l-.94 2.06-2.06.94zm10 10l.94 2.06.94-2.06 2.06-.94-2.06-.94-.94-2.06-.94 2.06-2.06.94z\"/><path d=\"M17.41 7.96l-1.37-1.37c-.4-.4-.92-.59-1.43-.59-.52 0-1.04.2-1.43.59L10.3 9.45l-7.72 7.72c-.78.78-.78 2.05 0 2.83L4 21.41c.39.39.9.59 1.41.59.51 0 1.02-.2 1.41-.59l7.78-7.78 2.81-2.81c.8-.78.8-2.07 0-2.86zM5.41 20L4 18.59l7.72-7.72 1.47 1.35L5.41 20z\"/>\n",
              "  </svg>\n",
              "      </button>\n",
              "      \n",
              "  <style>\n",
              "    .colab-df-container {\n",
              "      display:flex;\n",
              "      flex-wrap:wrap;\n",
              "      gap: 12px;\n",
              "    }\n",
              "\n",
              "    .colab-df-convert {\n",
              "      background-color: #E8F0FE;\n",
              "      border: none;\n",
              "      border-radius: 50%;\n",
              "      cursor: pointer;\n",
              "      display: none;\n",
              "      fill: #1967D2;\n",
              "      height: 32px;\n",
              "      padding: 0 0 0 0;\n",
              "      width: 32px;\n",
              "    }\n",
              "\n",
              "    .colab-df-convert:hover {\n",
              "      background-color: #E2EBFA;\n",
              "      box-shadow: 0px 1px 2px rgba(60, 64, 67, 0.3), 0px 1px 3px 1px rgba(60, 64, 67, 0.15);\n",
              "      fill: #174EA6;\n",
              "    }\n",
              "\n",
              "    [theme=dark] .colab-df-convert {\n",
              "      background-color: #3B4455;\n",
              "      fill: #D2E3FC;\n",
              "    }\n",
              "\n",
              "    [theme=dark] .colab-df-convert:hover {\n",
              "      background-color: #434B5C;\n",
              "      box-shadow: 0px 1px 3px 1px rgba(0, 0, 0, 0.15);\n",
              "      filter: drop-shadow(0px 1px 2px rgba(0, 0, 0, 0.3));\n",
              "      fill: #FFFFFF;\n",
              "    }\n",
              "  </style>\n",
              "\n",
              "      <script>\n",
              "        const buttonEl =\n",
              "          document.querySelector('#df-3343e233-ef3b-4240-844c-95ef12c73898 button.colab-df-convert');\n",
              "        buttonEl.style.display =\n",
              "          google.colab.kernel.accessAllowed ? 'block' : 'none';\n",
              "\n",
              "        async function convertToInteractive(key) {\n",
              "          const element = document.querySelector('#df-3343e233-ef3b-4240-844c-95ef12c73898');\n",
              "          const dataTable =\n",
              "            await google.colab.kernel.invokeFunction('convertToInteractive',\n",
              "                                                     [key], {});\n",
              "          if (!dataTable) return;\n",
              "\n",
              "          const docLinkHtml = 'Like what you see? Visit the ' +\n",
              "            '<a target=\"_blank\" href=https://colab.research.google.com/notebooks/data_table.ipynb>data table notebook</a>'\n",
              "            + ' to learn more about interactive tables.';\n",
              "          element.innerHTML = '';\n",
              "          dataTable['output_type'] = 'display_data';\n",
              "          await google.colab.output.renderOutput(dataTable, element);\n",
              "          const docLink = document.createElement('div');\n",
              "          docLink.innerHTML = docLinkHtml;\n",
              "          element.appendChild(docLink);\n",
              "        }\n",
              "      </script>\n",
              "    </div>\n",
              "  </div>\n",
              "  "
            ]
          },
          "metadata": {},
          "execution_count": 54
        }
      ]
    },
    {
      "cell_type": "code",
      "source": [
        "df['a']"
      ],
      "metadata": {
        "colab": {
          "base_uri": "https://localhost:8080/"
        },
        "id": "h977yyoy_QYa",
        "outputId": "64fe56b8-87d2-45bf-e639-994abea93c0c"
      },
      "execution_count": null,
      "outputs": [
        {
          "output_type": "execute_result",
          "data": {
            "text/plain": [
              "0    11\n",
              "1    21\n",
              "2    31\n",
              "Name: a, dtype: int64"
            ]
          },
          "metadata": {},
          "execution_count": 55
        }
      ]
    },
    {
      "cell_type": "code",
      "source": [
        "df=pd.DataFrame({'a':[1,2,1],'b':[1,1,1]})"
      ],
      "metadata": {
        "id": "uKWtOgA2_UNL"
      },
      "execution_count": null,
      "outputs": []
    },
    {
      "cell_type": "code",
      "source": [
        "df['a']==1 "
      ],
      "metadata": {
        "colab": {
          "base_uri": "https://localhost:8080/"
        },
        "id": "0QCJSVkvBdUa",
        "outputId": "d8063007-aba0-4489-ca3e-084124bdc21d"
      },
      "execution_count": null,
      "outputs": [
        {
          "output_type": "execute_result",
          "data": {
            "text/plain": [
              "0     True\n",
              "1    False\n",
              "2     True\n",
              "Name: a, dtype: bool"
            ]
          },
          "metadata": {},
          "execution_count": 57
        }
      ]
    },
    {
      "cell_type": "code",
      "source": [
        "df.to_csv(\"file.csv\")"
      ],
      "metadata": {
        "id": "MRkw5Lf_BmS4"
      },
      "execution_count": null,
      "outputs": []
    },
    {
      "cell_type": "code",
      "source": [
        "# Dependency needed to install file \n",
        "\n",
        "# If running the notebook on your machine, else leave it commented\n",
        "# !pip install xlrd\n",
        "\n",
        "import piplite\n",
        "await piplite.install(['xlrd','openpyxl'])"
      ],
      "metadata": {
        "colab": {
          "base_uri": "https://localhost:8080/",
          "height": 305
        },
        "id": "PMM_7bFAEI7I",
        "outputId": "2af3461e-8556-45c8-9a62-c8645bcee478"
      },
      "execution_count": null,
      "outputs": [
        {
          "output_type": "error",
          "ename": "ModuleNotFoundError",
          "evalue": "ignored",
          "traceback": [
            "\u001b[0;31m---------------------------------------------------------------------------\u001b[0m",
            "\u001b[0;31mModuleNotFoundError\u001b[0m                       Traceback (most recent call last)",
            "\u001b[0;32m<ipython-input-89-f1d41576fc6d>\u001b[0m in \u001b[0;36masync-def-wrapper\u001b[0;34m()\u001b[0m\n\u001b[1;32m      7\u001b[0m \u001b[0;32mawait\u001b[0m \u001b[0mpiplite\u001b[0m\u001b[0;34m.\u001b[0m\u001b[0minstall\u001b[0m\u001b[0;34m(\u001b[0m\u001b[0;34m[\u001b[0m\u001b[0;34m'xlrd'\u001b[0m\u001b[0;34m,\u001b[0m\u001b[0;34m'openpyxl'\u001b[0m\u001b[0;34m]\u001b[0m\u001b[0;34m)\u001b[0m\u001b[0;34m\u001b[0m\u001b[0;34m\u001b[0m\u001b[0m\n",
            "\u001b[0;31mModuleNotFoundError\u001b[0m: No module named 'piplite'",
            "",
            "\u001b[0;31m---------------------------------------------------------------------------\u001b[0;32m\nNOTE: If your import is failing due to a missing package, you can\nmanually install dependencies using either !pip or !apt.\n\nTo view examples of installing some common dependencies, click the\n\"Open Examples\" button below.\n\u001b[0;31m---------------------------------------------------------------------------\u001b[0m\n"
          ],
          "errorDetails": {
            "actions": [
              {
                "action": "open_url",
                "actionText": "Open Examples",
                "url": "/notebooks/snippets/importing_libraries.ipynb"
              }
            ]
          }
        }
      ]
    },
    {
      "cell_type": "code",
      "source": [
        "import pandas as pd"
      ],
      "metadata": {
        "id": "7ztP0mX0ERlM"
      },
      "execution_count": null,
      "outputs": []
    },
    {
      "cell_type": "code",
      "source": [
        "from pyodide.http import pyfetch\n",
        "import pandas as pd\n",
        "\n",
        "filename = \"https://cf-courses-data.s3.us.cloud-object-storage.appdomain.cloud/IBMDeveloperSkillsNetwork-PY0101EN-SkillsNetwork/labs/Module%204/data/TopSellingAlbums.csv\"\n",
        "\n",
        "async def download(url, filename):\n",
        "    response = await pyfetch(url)\n",
        "    if response.status == 200:\n",
        "        with open(filename, \"wb\") as f:\n",
        "            f.write(await response.bytes())\n",
        "\n",
        "\n",
        "await download(filename, \"TopSellingAlbums.csv\")\n",
        "df = pd.read_csv(\"TopSellingAlbums.csv\")"
      ],
      "metadata": {
        "colab": {
          "base_uri": "https://localhost:8080/",
          "height": 391
        },
        "id": "njle87QNEU79",
        "outputId": "b6e3e730-3581-46af-c1f3-cc057f3ebd0d"
      },
      "execution_count": null,
      "outputs": [
        {
          "output_type": "error",
          "ename": "ModuleNotFoundError",
          "evalue": "ignored",
          "traceback": [
            "\u001b[0;31m---------------------------------------------------------------------------\u001b[0m",
            "\u001b[0;31mModuleNotFoundError\u001b[0m                       Traceback (most recent call last)",
            "\u001b[0;32m<ipython-input-65-60d7f8a65785>\u001b[0m in \u001b[0;36masync-def-wrapper\u001b[0;34m()\u001b[0m\n\u001b[1;32m      2\u001b[0m \u001b[0;32mimport\u001b[0m \u001b[0mpandas\u001b[0m \u001b[0;32mas\u001b[0m \u001b[0mpd\u001b[0m\u001b[0;34m\u001b[0m\u001b[0;34m\u001b[0m\u001b[0m\n\u001b[1;32m      3\u001b[0m \u001b[0;34m\u001b[0m\u001b[0m\n\u001b[0;32m----> 4\u001b[0;31m \u001b[0mfilename\u001b[0m \u001b[0;34m=\u001b[0m \u001b[0;34m\"https://cf-courses-data.s3.us.cloud-object-storage.appdomain.cloud/IBMDeveloperSkillsNetwork-PY0101EN-SkillsNetwork/labs/Module%204/data/TopSellingAlbums.csv\"\u001b[0m\u001b[0;34m\u001b[0m\u001b[0;34m\u001b[0m\u001b[0m\n\u001b[0m\u001b[1;32m      5\u001b[0m \u001b[0;34m\u001b[0m\u001b[0m\n\u001b[1;32m      6\u001b[0m \u001b[0;32masync\u001b[0m \u001b[0;32mdef\u001b[0m \u001b[0mdownload\u001b[0m\u001b[0;34m(\u001b[0m\u001b[0murl\u001b[0m\u001b[0;34m,\u001b[0m \u001b[0mfilename\u001b[0m\u001b[0;34m)\u001b[0m\u001b[0;34m:\u001b[0m\u001b[0;34m\u001b[0m\u001b[0;34m\u001b[0m\u001b[0m\n",
            "\u001b[0;31mModuleNotFoundError\u001b[0m: No module named 'pyodide'",
            "",
            "\u001b[0;31m---------------------------------------------------------------------------\u001b[0;32m\nNOTE: If your import is failing due to a missing package, you can\nmanually install dependencies using either !pip or !apt.\n\nTo view examples of installing some common dependencies, click the\n\"Open Examples\" button below.\n\u001b[0;31m---------------------------------------------------------------------------\u001b[0m\n"
          ],
          "errorDetails": {
            "actions": [
              {
                "action": "open_url",
                "actionText": "Open Examples",
                "url": "/notebooks/snippets/importing_libraries.ipynb"
              }
            ]
          }
        }
      ]
    },
    {
      "cell_type": "code",
      "source": [],
      "metadata": {
        "id": "qTOqv8vdG7sn"
      },
      "execution_count": null,
      "outputs": []
    },
    {
      "cell_type": "code",
      "source": [
        "from pyodide.http import pyfetch\n",
        "import pandas as pd\n",
        "\n",
        "filename = \"https://cf-courses-data.s3.us.cloud-object-storage.appdomain.cloud/IBMDeveloperSkillsNetwork-PY0101EN-SkillsNetwork/labs/Module%204/data/TopSellingAlbums.csv\"\n",
        "\n",
        "async def download(url, filename):\n",
        "    response = await pyfetch(url)\n",
        "    if response.status == 200:\n",
        "        with open(filename, \"wb\") as f:\n",
        "            f.write(await response.bytes())\n",
        "\n",
        "\n",
        "await download(filename, \"TopSellingAlbums.csv\")\n",
        "df = pd.read_csv(\"TopSellingAlbums.csv\")"
      ],
      "metadata": {
        "colab": {
          "base_uri": "https://localhost:8080/",
          "height": 391
        },
        "outputId": "b6e3e730-3581-46af-c1f3-cc057f3ebd0d",
        "id": "D7lfgOgqG-zb"
      },
      "execution_count": null,
      "outputs": [
        {
          "output_type": "error",
          "ename": "ModuleNotFoundError",
          "evalue": "ignored",
          "traceback": [
            "\u001b[0;31m---------------------------------------------------------------------------\u001b[0m",
            "\u001b[0;31mModuleNotFoundError\u001b[0m                       Traceback (most recent call last)",
            "\u001b[0;32m<ipython-input-65-60d7f8a65785>\u001b[0m in \u001b[0;36masync-def-wrapper\u001b[0;34m()\u001b[0m\n\u001b[1;32m      2\u001b[0m \u001b[0;32mimport\u001b[0m \u001b[0mpandas\u001b[0m \u001b[0;32mas\u001b[0m \u001b[0mpd\u001b[0m\u001b[0;34m\u001b[0m\u001b[0;34m\u001b[0m\u001b[0m\n\u001b[1;32m      3\u001b[0m \u001b[0;34m\u001b[0m\u001b[0m\n\u001b[0;32m----> 4\u001b[0;31m \u001b[0mfilename\u001b[0m \u001b[0;34m=\u001b[0m \u001b[0;34m\"https://cf-courses-data.s3.us.cloud-object-storage.appdomain.cloud/IBMDeveloperSkillsNetwork-PY0101EN-SkillsNetwork/labs/Module%204/data/TopSellingAlbums.csv\"\u001b[0m\u001b[0;34m\u001b[0m\u001b[0;34m\u001b[0m\u001b[0m\n\u001b[0m\u001b[1;32m      5\u001b[0m \u001b[0;34m\u001b[0m\u001b[0m\n\u001b[1;32m      6\u001b[0m \u001b[0;32masync\u001b[0m \u001b[0;32mdef\u001b[0m \u001b[0mdownload\u001b[0m\u001b[0;34m(\u001b[0m\u001b[0murl\u001b[0m\u001b[0;34m,\u001b[0m \u001b[0mfilename\u001b[0m\u001b[0;34m)\u001b[0m\u001b[0;34m:\u001b[0m\u001b[0;34m\u001b[0m\u001b[0;34m\u001b[0m\u001b[0m\n",
            "\u001b[0;31mModuleNotFoundError\u001b[0m: No module named 'pyodide'",
            "",
            "\u001b[0;31m---------------------------------------------------------------------------\u001b[0;32m\nNOTE: If your import is failing due to a missing package, you can\nmanually install dependencies using either !pip or !apt.\n\nTo view examples of installing some common dependencies, click the\n\"Open Examples\" button below.\n\u001b[0;31m---------------------------------------------------------------------------\u001b[0m\n"
          ],
          "errorDetails": {
            "actions": [
              {
                "action": "open_url",
                "actionText": "Open Examples",
                "url": "/notebooks/snippets/importing_libraries.ipynb"
              }
            ]
          }
        }
      ]
    },
    {
      "cell_type": "code",
      "source": [
        "df = pd.read_csv(\"TopSellingAlbums.csv\")"
      ],
      "metadata": {
        "colab": {
          "base_uri": "https://localhost:8080/",
          "height": 166
        },
        "id": "FFiPyj7eHCsh",
        "outputId": "5f93409b-50ce-4eee-f043-26e53c5a03d0"
      },
      "execution_count": null,
      "outputs": [
        {
          "output_type": "error",
          "ename": "NameError",
          "evalue": "ignored",
          "traceback": [
            "\u001b[0;31m---------------------------------------------------------------------------\u001b[0m",
            "\u001b[0;31mNameError\u001b[0m                                 Traceback (most recent call last)",
            "\u001b[0;32m<ipython-input-88-5ef94313e188>\u001b[0m in \u001b[0;36m<module>\u001b[0;34m\u001b[0m\n\u001b[0;32m----> 1\u001b[0;31m \u001b[0mdf\u001b[0m \u001b[0;34m=\u001b[0m \u001b[0mpd\u001b[0m\u001b[0;34m.\u001b[0m\u001b[0mread_csv\u001b[0m\u001b[0;34m(\u001b[0m\u001b[0;34m\"TopSellingAlbums.csv\"\u001b[0m\u001b[0;34m)\u001b[0m\u001b[0;34m\u001b[0m\u001b[0;34m\u001b[0m\u001b[0m\n\u001b[0m",
            "\u001b[0;31mNameError\u001b[0m: name 'pd' is not defined"
          ]
        }
      ]
    },
    {
      "cell_type": "code",
      "source": [
        "df.head()"
      ],
      "metadata": {
        "colab": {
          "base_uri": "https://localhost:8080/",
          "height": 166
        },
        "id": "EVrEc8MxEor6",
        "outputId": "e10a5d8a-859b-4520-8006-217d12b3d004"
      },
      "execution_count": null,
      "outputs": [
        {
          "output_type": "error",
          "ename": "NameError",
          "evalue": "ignored",
          "traceback": [
            "\u001b[0;31m---------------------------------------------------------------------------\u001b[0m",
            "\u001b[0;31mNameError\u001b[0m                                 Traceback (most recent call last)",
            "\u001b[0;32m<ipython-input-66-c42a15b2c7cf>\u001b[0m in \u001b[0;36m<module>\u001b[0;34m\u001b[0m\n\u001b[0;32m----> 1\u001b[0;31m \u001b[0mdf\u001b[0m\u001b[0;34m.\u001b[0m\u001b[0mhead\u001b[0m\u001b[0;34m(\u001b[0m\u001b[0;34m)\u001b[0m\u001b[0;34m\u001b[0m\u001b[0;34m\u001b[0m\u001b[0m\n\u001b[0m",
            "\u001b[0;31mNameError\u001b[0m: name 'df' is not defined"
          ]
        }
      ]
    },
    {
      "cell_type": "code",
      "source": [
        "x = df[['Length']]"
      ],
      "metadata": {
        "colab": {
          "base_uri": "https://localhost:8080/",
          "height": 166
        },
        "id": "hO3xoTw5EtJB",
        "outputId": "52032bd2-90cb-42bb-e3cd-f4dc66b7c55c"
      },
      "execution_count": null,
      "outputs": [
        {
          "output_type": "error",
          "ename": "NameError",
          "evalue": "ignored",
          "traceback": [
            "\u001b[0;31m---------------------------------------------------------------------------\u001b[0m",
            "\u001b[0;31mNameError\u001b[0m                                 Traceback (most recent call last)",
            "\u001b[0;32m<ipython-input-67-b43b756b4662>\u001b[0m in \u001b[0;36m<module>\u001b[0;34m\u001b[0m\n\u001b[0;32m----> 1\u001b[0;31m \u001b[0mx\u001b[0m \u001b[0;34m=\u001b[0m \u001b[0mdf\u001b[0m\u001b[0;34m[\u001b[0m\u001b[0;34m[\u001b[0m\u001b[0;34m'Length'\u001b[0m\u001b[0;34m]\u001b[0m\u001b[0;34m]\u001b[0m\u001b[0;34m\u001b[0m\u001b[0;34m\u001b[0m\u001b[0m\n\u001b[0m",
            "\u001b[0;31mNameError\u001b[0m: name 'df' is not defined"
          ]
        }
      ]
    },
    {
      "cell_type": "code",
      "source": [
        "x"
      ],
      "metadata": {
        "colab": {
          "base_uri": "https://localhost:8080/",
          "height": 166
        },
        "id": "FxOLvOR_Et7s",
        "outputId": "ce186e3b-694c-4fd0-c192-77b16e316ccf"
      },
      "execution_count": null,
      "outputs": [
        {
          "output_type": "error",
          "ename": "NameError",
          "evalue": "ignored",
          "traceback": [
            "\u001b[0;31m---------------------------------------------------------------------------\u001b[0m",
            "\u001b[0;31mNameError\u001b[0m                                 Traceback (most recent call last)",
            "\u001b[0;32m<ipython-input-68-6fcf9dfbd479>\u001b[0m in \u001b[0;36m<module>\u001b[0;34m\u001b[0m\n\u001b[0;32m----> 1\u001b[0;31m \u001b[0mx\u001b[0m\u001b[0;34m\u001b[0m\u001b[0;34m\u001b[0m\u001b[0m\n\u001b[0m",
            "\u001b[0;31mNameError\u001b[0m: name 'x' is not defined"
          ]
        }
      ]
    },
    {
      "cell_type": "code",
      "source": [
        "x = df['Length']"
      ],
      "metadata": {
        "colab": {
          "base_uri": "https://localhost:8080/",
          "height": 166
        },
        "id": "xeafgcN6Ew8H",
        "outputId": "12360f30-1485-415a-bb44-93b2b419e86c"
      },
      "execution_count": null,
      "outputs": [
        {
          "output_type": "error",
          "ename": "NameError",
          "evalue": "ignored",
          "traceback": [
            "\u001b[0;31m---------------------------------------------------------------------------\u001b[0m",
            "\u001b[0;31mNameError\u001b[0m                                 Traceback (most recent call last)",
            "\u001b[0;32m<ipython-input-69-43fd83d7401b>\u001b[0m in \u001b[0;36m<module>\u001b[0;34m\u001b[0m\n\u001b[0;32m----> 1\u001b[0;31m \u001b[0mx\u001b[0m \u001b[0;34m=\u001b[0m \u001b[0mdf\u001b[0m\u001b[0;34m[\u001b[0m\u001b[0;34m'Length'\u001b[0m\u001b[0;34m]\u001b[0m\u001b[0;34m\u001b[0m\u001b[0;34m\u001b[0m\u001b[0m\n\u001b[0m",
            "\u001b[0;31mNameError\u001b[0m: name 'df' is not defined"
          ]
        }
      ]
    },
    {
      "cell_type": "code",
      "source": [
        "x = df[['Artist']]\n",
        "type(x)"
      ],
      "metadata": {
        "colab": {
          "base_uri": "https://localhost:8080/",
          "height": 183
        },
        "id": "tWvRSkKzEykJ",
        "outputId": "1cc3b1ed-0fdd-4456-cb5d-8c38a0efbd27"
      },
      "execution_count": null,
      "outputs": [
        {
          "output_type": "error",
          "ename": "NameError",
          "evalue": "ignored",
          "traceback": [
            "\u001b[0;31m---------------------------------------------------------------------------\u001b[0m",
            "\u001b[0;31mNameError\u001b[0m                                 Traceback (most recent call last)",
            "\u001b[0;32m<ipython-input-70-e2caf4140acb>\u001b[0m in \u001b[0;36m<module>\u001b[0;34m\u001b[0m\n\u001b[0;32m----> 1\u001b[0;31m \u001b[0mx\u001b[0m \u001b[0;34m=\u001b[0m \u001b[0mdf\u001b[0m\u001b[0;34m[\u001b[0m\u001b[0;34m[\u001b[0m\u001b[0;34m'Artist'\u001b[0m\u001b[0;34m]\u001b[0m\u001b[0;34m]\u001b[0m\u001b[0;34m\u001b[0m\u001b[0;34m\u001b[0m\u001b[0m\n\u001b[0m\u001b[1;32m      2\u001b[0m \u001b[0mtype\u001b[0m\u001b[0;34m(\u001b[0m\u001b[0mx\u001b[0m\u001b[0;34m)\u001b[0m\u001b[0;34m\u001b[0m\u001b[0;34m\u001b[0m\u001b[0m\n",
            "\u001b[0;31mNameError\u001b[0m: name 'df' is not defined"
          ]
        }
      ]
    },
    {
      "cell_type": "code",
      "source": [
        "y = df[['Artist','Length','Genre']]\n",
        "y"
      ],
      "metadata": {
        "colab": {
          "base_uri": "https://localhost:8080/",
          "height": 183
        },
        "id": "61rqIOJ5FMuU",
        "outputId": "6836b9ca-bdb5-47ac-ec7b-71d09ccf1c84"
      },
      "execution_count": null,
      "outputs": [
        {
          "output_type": "error",
          "ename": "NameError",
          "evalue": "ignored",
          "traceback": [
            "\u001b[0;31m---------------------------------------------------------------------------\u001b[0m",
            "\u001b[0;31mNameError\u001b[0m                                 Traceback (most recent call last)",
            "\u001b[0;32m<ipython-input-71-140436cd4a20>\u001b[0m in \u001b[0;36m<module>\u001b[0;34m\u001b[0m\n\u001b[0;32m----> 1\u001b[0;31m \u001b[0my\u001b[0m \u001b[0;34m=\u001b[0m \u001b[0mdf\u001b[0m\u001b[0;34m[\u001b[0m\u001b[0;34m[\u001b[0m\u001b[0;34m'Artist'\u001b[0m\u001b[0;34m,\u001b[0m\u001b[0;34m'Length'\u001b[0m\u001b[0;34m,\u001b[0m\u001b[0;34m'Genre'\u001b[0m\u001b[0;34m]\u001b[0m\u001b[0;34m]\u001b[0m\u001b[0;34m\u001b[0m\u001b[0;34m\u001b[0m\u001b[0m\n\u001b[0m\u001b[1;32m      2\u001b[0m \u001b[0my\u001b[0m\u001b[0;34m\u001b[0m\u001b[0;34m\u001b[0m\u001b[0m\n",
            "\u001b[0;31mNameError\u001b[0m: name 'df' is not defined"
          ]
        }
      ]
    },
    {
      "cell_type": "code",
      "source": [
        "df.iloc[0, 0]"
      ],
      "metadata": {
        "colab": {
          "base_uri": "https://localhost:8080/",
          "height": 166
        },
        "id": "EwM8xH04FRmY",
        "outputId": "fec5fbdf-6005-4f27-ff95-84cf5b18cd3e"
      },
      "execution_count": null,
      "outputs": [
        {
          "output_type": "error",
          "ename": "NameError",
          "evalue": "ignored",
          "traceback": [
            "\u001b[0;31m---------------------------------------------------------------------------\u001b[0m",
            "\u001b[0;31mNameError\u001b[0m                                 Traceback (most recent call last)",
            "\u001b[0;32m<ipython-input-72-0184b2b3ef29>\u001b[0m in \u001b[0;36m<module>\u001b[0;34m\u001b[0m\n\u001b[0;32m----> 1\u001b[0;31m \u001b[0mdf\u001b[0m\u001b[0;34m.\u001b[0m\u001b[0miloc\u001b[0m\u001b[0;34m[\u001b[0m\u001b[0;36m0\u001b[0m\u001b[0;34m,\u001b[0m \u001b[0;36m0\u001b[0m\u001b[0;34m]\u001b[0m\u001b[0;34m\u001b[0m\u001b[0;34m\u001b[0m\u001b[0m\n\u001b[0m",
            "\u001b[0;31mNameError\u001b[0m: name 'df' is not defined"
          ]
        }
      ]
    },
    {
      "cell_type": "code",
      "source": [
        "df.iloc[1,0]"
      ],
      "metadata": {
        "colab": {
          "base_uri": "https://localhost:8080/",
          "height": 166
        },
        "id": "xYLPMM3ZFUKj",
        "outputId": "3c6964cd-c5b9-4b8d-ca7d-b6f7fa6821e8"
      },
      "execution_count": null,
      "outputs": [
        {
          "output_type": "error",
          "ename": "NameError",
          "evalue": "ignored",
          "traceback": [
            "\u001b[0;31m---------------------------------------------------------------------------\u001b[0m",
            "\u001b[0;31mNameError\u001b[0m                                 Traceback (most recent call last)",
            "\u001b[0;32m<ipython-input-73-07b2ee02ecc8>\u001b[0m in \u001b[0;36m<module>\u001b[0;34m\u001b[0m\n\u001b[0;32m----> 1\u001b[0;31m \u001b[0mdf\u001b[0m\u001b[0;34m.\u001b[0m\u001b[0miloc\u001b[0m\u001b[0;34m[\u001b[0m\u001b[0;36m1\u001b[0m\u001b[0;34m,\u001b[0m\u001b[0;36m0\u001b[0m\u001b[0;34m]\u001b[0m\u001b[0;34m\u001b[0m\u001b[0;34m\u001b[0m\u001b[0m\n\u001b[0m",
            "\u001b[0;31mNameError\u001b[0m: name 'df' is not defined"
          ]
        }
      ]
    },
    {
      "cell_type": "code",
      "source": [
        "df.iloc[0,2]"
      ],
      "metadata": {
        "colab": {
          "base_uri": "https://localhost:8080/",
          "height": 166
        },
        "id": "iKiMBio7FW_C",
        "outputId": "66dc8f1c-15c3-4261-db94-8f088ebff645"
      },
      "execution_count": null,
      "outputs": [
        {
          "output_type": "error",
          "ename": "NameError",
          "evalue": "ignored",
          "traceback": [
            "\u001b[0;31m---------------------------------------------------------------------------\u001b[0m",
            "\u001b[0;31mNameError\u001b[0m                                 Traceback (most recent call last)",
            "\u001b[0;32m<ipython-input-74-c1c2c0f5a42f>\u001b[0m in \u001b[0;36m<module>\u001b[0;34m\u001b[0m\n\u001b[0;32m----> 1\u001b[0;31m \u001b[0mdf\u001b[0m\u001b[0;34m.\u001b[0m\u001b[0miloc\u001b[0m\u001b[0;34m[\u001b[0m\u001b[0;36m0\u001b[0m\u001b[0;34m,\u001b[0m\u001b[0;36m2\u001b[0m\u001b[0;34m]\u001b[0m\u001b[0;34m\u001b[0m\u001b[0;34m\u001b[0m\u001b[0m\n\u001b[0m",
            "\u001b[0;31mNameError\u001b[0m: name 'df' is not defined"
          ]
        }
      ]
    },
    {
      "cell_type": "code",
      "source": [
        "df.iloc[1,2]"
      ],
      "metadata": {
        "colab": {
          "base_uri": "https://localhost:8080/",
          "height": 166
        },
        "id": "eQPbGwUwFYP9",
        "outputId": "80ecdd7f-dea5-4f40-ef1f-cf5c04b212e9"
      },
      "execution_count": null,
      "outputs": [
        {
          "output_type": "error",
          "ename": "NameError",
          "evalue": "ignored",
          "traceback": [
            "\u001b[0;31m---------------------------------------------------------------------------\u001b[0m",
            "\u001b[0;31mNameError\u001b[0m                                 Traceback (most recent call last)",
            "\u001b[0;32m<ipython-input-75-cc0bbd58fc38>\u001b[0m in \u001b[0;36m<module>\u001b[0;34m\u001b[0m\n\u001b[0;32m----> 1\u001b[0;31m \u001b[0mdf\u001b[0m\u001b[0;34m.\u001b[0m\u001b[0miloc\u001b[0m\u001b[0;34m[\u001b[0m\u001b[0;36m1\u001b[0m\u001b[0;34m,\u001b[0m\u001b[0;36m2\u001b[0m\u001b[0;34m]\u001b[0m\u001b[0;34m\u001b[0m\u001b[0;34m\u001b[0m\u001b[0m\n\u001b[0m",
            "\u001b[0;31mNameError\u001b[0m: name 'df' is not defined"
          ]
        }
      ]
    },
    {
      "cell_type": "code",
      "source": [
        "df.loc[1, 'Artist']"
      ],
      "metadata": {
        "colab": {
          "base_uri": "https://localhost:8080/",
          "height": 166
        },
        "id": "9KnfkjC4Fb7L",
        "outputId": "33fd65d6-1800-4ee8-a193-fc4997c840d2"
      },
      "execution_count": null,
      "outputs": [
        {
          "output_type": "error",
          "ename": "NameError",
          "evalue": "ignored",
          "traceback": [
            "\u001b[0;31m---------------------------------------------------------------------------\u001b[0m",
            "\u001b[0;31mNameError\u001b[0m                                 Traceback (most recent call last)",
            "\u001b[0;32m<ipython-input-76-7a5292c3a354>\u001b[0m in \u001b[0;36m<module>\u001b[0;34m\u001b[0m\n\u001b[0;32m----> 1\u001b[0;31m \u001b[0mdf\u001b[0m\u001b[0;34m.\u001b[0m\u001b[0mloc\u001b[0m\u001b[0;34m[\u001b[0m\u001b[0;36m1\u001b[0m\u001b[0;34m,\u001b[0m \u001b[0;34m'Artist'\u001b[0m\u001b[0;34m]\u001b[0m\u001b[0;34m\u001b[0m\u001b[0;34m\u001b[0m\u001b[0m\n\u001b[0m",
            "\u001b[0;31mNameError\u001b[0m: name 'df' is not defined"
          ]
        }
      ]
    },
    {
      "cell_type": "code",
      "source": [
        "df.loc[1, 'Artist']"
      ],
      "metadata": {
        "colab": {
          "base_uri": "https://localhost:8080/",
          "height": 166
        },
        "id": "x6Kgm_ZLFdNA",
        "outputId": "2ba781a2-0149-4ae4-fcb2-f6db29fdac41"
      },
      "execution_count": null,
      "outputs": [
        {
          "output_type": "error",
          "ename": "NameError",
          "evalue": "ignored",
          "traceback": [
            "\u001b[0;31m---------------------------------------------------------------------------\u001b[0m",
            "\u001b[0;31mNameError\u001b[0m                                 Traceback (most recent call last)",
            "\u001b[0;32m<ipython-input-77-7a5292c3a354>\u001b[0m in \u001b[0;36m<module>\u001b[0;34m\u001b[0m\n\u001b[0;32m----> 1\u001b[0;31m \u001b[0mdf\u001b[0m\u001b[0;34m.\u001b[0m\u001b[0mloc\u001b[0m\u001b[0;34m[\u001b[0m\u001b[0;36m1\u001b[0m\u001b[0;34m,\u001b[0m \u001b[0;34m'Artist'\u001b[0m\u001b[0;34m]\u001b[0m\u001b[0;34m\u001b[0m\u001b[0;34m\u001b[0m\u001b[0m\n\u001b[0m",
            "\u001b[0;31mNameError\u001b[0m: name 'df' is not defined"
          ]
        }
      ]
    },
    {
      "cell_type": "code",
      "source": [
        "df.loc[0, 'Released']"
      ],
      "metadata": {
        "colab": {
          "base_uri": "https://localhost:8080/",
          "height": 166
        },
        "id": "eFBjKTa0FefG",
        "outputId": "ba00f963-e439-44ca-f3b9-611d147413c3"
      },
      "execution_count": null,
      "outputs": [
        {
          "output_type": "error",
          "ename": "NameError",
          "evalue": "ignored",
          "traceback": [
            "\u001b[0;31m---------------------------------------------------------------------------\u001b[0m",
            "\u001b[0;31mNameError\u001b[0m                                 Traceback (most recent call last)",
            "\u001b[0;32m<ipython-input-78-f8fc8c4bcfef>\u001b[0m in \u001b[0;36m<module>\u001b[0;34m\u001b[0m\n\u001b[0;32m----> 1\u001b[0;31m \u001b[0mdf\u001b[0m\u001b[0;34m.\u001b[0m\u001b[0mloc\u001b[0m\u001b[0;34m[\u001b[0m\u001b[0;36m0\u001b[0m\u001b[0;34m,\u001b[0m \u001b[0;34m'Released'\u001b[0m\u001b[0;34m]\u001b[0m\u001b[0;34m\u001b[0m\u001b[0;34m\u001b[0m\u001b[0m\n\u001b[0m",
            "\u001b[0;31mNameError\u001b[0m: name 'df' is not defined"
          ]
        }
      ]
    },
    {
      "cell_type": "code",
      "source": [
        "df.loc[0, 'Released']"
      ],
      "metadata": {
        "colab": {
          "base_uri": "https://localhost:8080/",
          "height": 166
        },
        "id": "DTB9eDRTFgBn",
        "outputId": "71636550-fc08-499a-b921-aaa36ef3a086"
      },
      "execution_count": null,
      "outputs": [
        {
          "output_type": "error",
          "ename": "NameError",
          "evalue": "ignored",
          "traceback": [
            "\u001b[0;31m---------------------------------------------------------------------------\u001b[0m",
            "\u001b[0;31mNameError\u001b[0m                                 Traceback (most recent call last)",
            "\u001b[0;32m<ipython-input-79-f8fc8c4bcfef>\u001b[0m in \u001b[0;36m<module>\u001b[0;34m\u001b[0m\n\u001b[0;32m----> 1\u001b[0;31m \u001b[0mdf\u001b[0m\u001b[0;34m.\u001b[0m\u001b[0mloc\u001b[0m\u001b[0;34m[\u001b[0m\u001b[0;36m0\u001b[0m\u001b[0;34m,\u001b[0m \u001b[0;34m'Released'\u001b[0m\u001b[0;34m]\u001b[0m\u001b[0;34m\u001b[0m\u001b[0;34m\u001b[0m\u001b[0m\n\u001b[0m",
            "\u001b[0;31mNameError\u001b[0m: name 'df' is not defined"
          ]
        }
      ]
    },
    {
      "cell_type": "code",
      "source": [
        "df.loc[1, 'Released']"
      ],
      "metadata": {
        "colab": {
          "base_uri": "https://localhost:8080/",
          "height": 166
        },
        "id": "C0_GVWz3Fhs1",
        "outputId": "5d987d09-ecc8-4487-d577-909facfda22a"
      },
      "execution_count": null,
      "outputs": [
        {
          "output_type": "error",
          "ename": "NameError",
          "evalue": "ignored",
          "traceback": [
            "\u001b[0;31m---------------------------------------------------------------------------\u001b[0m",
            "\u001b[0;31mNameError\u001b[0m                                 Traceback (most recent call last)",
            "\u001b[0;32m<ipython-input-80-269881aa4cf6>\u001b[0m in \u001b[0;36m<module>\u001b[0;34m\u001b[0m\n\u001b[0;32m----> 1\u001b[0;31m \u001b[0mdf\u001b[0m\u001b[0;34m.\u001b[0m\u001b[0mloc\u001b[0m\u001b[0;34m[\u001b[0m\u001b[0;36m1\u001b[0m\u001b[0;34m,\u001b[0m \u001b[0;34m'Released'\u001b[0m\u001b[0;34m]\u001b[0m\u001b[0;34m\u001b[0m\u001b[0;34m\u001b[0m\u001b[0m\n\u001b[0m",
            "\u001b[0;31mNameError\u001b[0m: name 'df' is not defined"
          ]
        }
      ]
    },
    {
      "cell_type": "code",
      "source": [
        "df.iloc[0:2, 0:3]"
      ],
      "metadata": {
        "colab": {
          "base_uri": "https://localhost:8080/",
          "height": 166
        },
        "id": "cZ5oDDE5Fmut",
        "outputId": "b19d8bf0-3bea-4a7a-9612-da4add2fd622"
      },
      "execution_count": null,
      "outputs": [
        {
          "output_type": "error",
          "ename": "NameError",
          "evalue": "ignored",
          "traceback": [
            "\u001b[0;31m---------------------------------------------------------------------------\u001b[0m",
            "\u001b[0;31mNameError\u001b[0m                                 Traceback (most recent call last)",
            "\u001b[0;32m<ipython-input-81-f2c5ff2ee2d2>\u001b[0m in \u001b[0;36m<module>\u001b[0;34m\u001b[0m\n\u001b[0;32m----> 1\u001b[0;31m \u001b[0mdf\u001b[0m\u001b[0;34m.\u001b[0m\u001b[0miloc\u001b[0m\u001b[0;34m[\u001b[0m\u001b[0;36m0\u001b[0m\u001b[0;34m:\u001b[0m\u001b[0;36m2\u001b[0m\u001b[0;34m,\u001b[0m \u001b[0;36m0\u001b[0m\u001b[0;34m:\u001b[0m\u001b[0;36m3\u001b[0m\u001b[0;34m]\u001b[0m\u001b[0;34m\u001b[0m\u001b[0;34m\u001b[0m\u001b[0m\n\u001b[0m",
            "\u001b[0;31mNameError\u001b[0m: name 'df' is not defined"
          ]
        }
      ]
    },
    {
      "cell_type": "code",
      "source": [
        "df.loc[0:2, 'Artist':'Released']"
      ],
      "metadata": {
        "colab": {
          "base_uri": "https://localhost:8080/",
          "height": 166
        },
        "id": "mb0lylniFsjz",
        "outputId": "8eb971c6-85bd-45f5-8e6b-d577d0fcb48f"
      },
      "execution_count": null,
      "outputs": [
        {
          "output_type": "error",
          "ename": "NameError",
          "evalue": "ignored",
          "traceback": [
            "\u001b[0;31m---------------------------------------------------------------------------\u001b[0m",
            "\u001b[0;31mNameError\u001b[0m                                 Traceback (most recent call last)",
            "\u001b[0;32m<ipython-input-82-56f352060e48>\u001b[0m in \u001b[0;36m<module>\u001b[0;34m\u001b[0m\n\u001b[0;32m----> 1\u001b[0;31m \u001b[0mdf\u001b[0m\u001b[0;34m.\u001b[0m\u001b[0mloc\u001b[0m\u001b[0;34m[\u001b[0m\u001b[0;36m0\u001b[0m\u001b[0;34m:\u001b[0m\u001b[0;36m2\u001b[0m\u001b[0;34m,\u001b[0m \u001b[0;34m'Artist'\u001b[0m\u001b[0;34m:\u001b[0m\u001b[0;34m'Released'\u001b[0m\u001b[0;34m]\u001b[0m\u001b[0;34m\u001b[0m\u001b[0;34m\u001b[0m\u001b[0m\n\u001b[0m",
            "\u001b[0;31mNameError\u001b[0m: name 'df' is not defined"
          ]
        }
      ]
    },
    {
      "cell_type": "code",
      "source": [
        "q = df[['Rating']]"
      ],
      "metadata": {
        "colab": {
          "base_uri": "https://localhost:8080/",
          "height": 166
        },
        "id": "cuQIMFXcFylQ",
        "outputId": "f8d349d3-d23c-4c04-b1d7-e4d360e0faa1"
      },
      "execution_count": null,
      "outputs": [
        {
          "output_type": "error",
          "ename": "NameError",
          "evalue": "ignored",
          "traceback": [
            "\u001b[0;31m---------------------------------------------------------------------------\u001b[0m",
            "\u001b[0;31mNameError\u001b[0m                                 Traceback (most recent call last)",
            "\u001b[0;32m<ipython-input-83-dc9a04f4a0c0>\u001b[0m in \u001b[0;36m<module>\u001b[0;34m\u001b[0m\n\u001b[0;32m----> 1\u001b[0;31m \u001b[0mq\u001b[0m \u001b[0;34m=\u001b[0m \u001b[0mdf\u001b[0m\u001b[0;34m[\u001b[0m\u001b[0;34m[\u001b[0m\u001b[0;34m'Rating'\u001b[0m\u001b[0;34m]\u001b[0m\u001b[0;34m]\u001b[0m\u001b[0;34m\u001b[0m\u001b[0;34m\u001b[0m\u001b[0m\n\u001b[0m",
            "\u001b[0;31mNameError\u001b[0m: name 'df' is not defined"
          ]
        }
      ]
    },
    {
      "cell_type": "code",
      "source": [
        "q = df[['Released', 'Artist']]"
      ],
      "metadata": {
        "colab": {
          "base_uri": "https://localhost:8080/",
          "height": 166
        },
        "id": "cB0nJLZCF4Kp",
        "outputId": "cfd11140-0236-4812-e6c2-7474ba9e2f5e"
      },
      "execution_count": null,
      "outputs": [
        {
          "output_type": "error",
          "ename": "NameError",
          "evalue": "ignored",
          "traceback": [
            "\u001b[0;31m---------------------------------------------------------------------------\u001b[0m",
            "\u001b[0;31mNameError\u001b[0m                                 Traceback (most recent call last)",
            "\u001b[0;32m<ipython-input-84-4873bd5837c5>\u001b[0m in \u001b[0;36m<module>\u001b[0;34m\u001b[0m\n\u001b[0;32m----> 1\u001b[0;31m \u001b[0mq\u001b[0m \u001b[0;34m=\u001b[0m \u001b[0mdf\u001b[0m\u001b[0;34m[\u001b[0m\u001b[0;34m[\u001b[0m\u001b[0;34m'Released'\u001b[0m\u001b[0;34m,\u001b[0m \u001b[0;34m'Artist'\u001b[0m\u001b[0;34m]\u001b[0m\u001b[0;34m]\u001b[0m\u001b[0;34m\u001b[0m\u001b[0;34m\u001b[0m\u001b[0m\n\u001b[0m",
            "\u001b[0;31mNameError\u001b[0m: name 'df' is not defined"
          ]
        }
      ]
    },
    {
      "cell_type": "code",
      "source": [
        "df.iloc[1, 2]"
      ],
      "metadata": {
        "colab": {
          "base_uri": "https://localhost:8080/",
          "height": 166
        },
        "id": "a4-yQJc4F7mq",
        "outputId": "a5834e70-0fd3-4462-cc94-2386ff01847e"
      },
      "execution_count": null,
      "outputs": [
        {
          "output_type": "error",
          "ename": "NameError",
          "evalue": "ignored",
          "traceback": [
            "\u001b[0;31m---------------------------------------------------------------------------\u001b[0m",
            "\u001b[0;31mNameError\u001b[0m                                 Traceback (most recent call last)",
            "\u001b[0;32m<ipython-input-85-13638c861dfc>\u001b[0m in \u001b[0;36m<module>\u001b[0;34m\u001b[0m\n\u001b[0;32m----> 1\u001b[0;31m \u001b[0mdf\u001b[0m\u001b[0;34m.\u001b[0m\u001b[0miloc\u001b[0m\u001b[0;34m[\u001b[0m\u001b[0;36m1\u001b[0m\u001b[0;34m,\u001b[0m \u001b[0;36m2\u001b[0m\u001b[0;34m]\u001b[0m\u001b[0;34m\u001b[0m\u001b[0;34m\u001b[0m\u001b[0m\n\u001b[0m",
            "\u001b[0;31mNameError\u001b[0m: name 'df' is not defined"
          ]
        }
      ]
    },
    {
      "cell_type": "code",
      "source": [
        "new_index=['a','b','c','d','e','f','g','h']"
      ],
      "metadata": {
        "id": "Hkk1N2l7F-Dh"
      },
      "execution_count": null,
      "outputs": []
    },
    {
      "cell_type": "code",
      "source": [
        "df_new=df\n",
        "df_new.index=new_index\n",
        "df_new.loc['a', 'Artist']\n",
        "df_new.loc['a':'d', 'Artist']"
      ],
      "metadata": {
        "colab": {
          "base_uri": "https://localhost:8080/",
          "height": 218
        },
        "id": "PT6YeHfDGBNC",
        "outputId": "5cf729aa-9d64-4c77-9691-52b4c9ef0034"
      },
      "execution_count": null,
      "outputs": [
        {
          "output_type": "error",
          "ename": "NameError",
          "evalue": "ignored",
          "traceback": [
            "\u001b[0;31m---------------------------------------------------------------------------\u001b[0m",
            "\u001b[0;31mNameError\u001b[0m                                 Traceback (most recent call last)",
            "\u001b[0;32m<ipython-input-87-d4cd6ed5c9c8>\u001b[0m in \u001b[0;36m<module>\u001b[0;34m\u001b[0m\n\u001b[0;32m----> 1\u001b[0;31m \u001b[0mdf_new\u001b[0m\u001b[0;34m=\u001b[0m\u001b[0mdf\u001b[0m\u001b[0;34m\u001b[0m\u001b[0;34m\u001b[0m\u001b[0m\n\u001b[0m\u001b[1;32m      2\u001b[0m \u001b[0mdf_new\u001b[0m\u001b[0;34m.\u001b[0m\u001b[0mindex\u001b[0m\u001b[0;34m=\u001b[0m\u001b[0mnew_index\u001b[0m\u001b[0;34m\u001b[0m\u001b[0;34m\u001b[0m\u001b[0m\n\u001b[1;32m      3\u001b[0m \u001b[0mdf_new\u001b[0m\u001b[0;34m.\u001b[0m\u001b[0mloc\u001b[0m\u001b[0;34m[\u001b[0m\u001b[0;34m'a'\u001b[0m\u001b[0;34m,\u001b[0m \u001b[0;34m'Artist'\u001b[0m\u001b[0;34m]\u001b[0m\u001b[0;34m\u001b[0m\u001b[0;34m\u001b[0m\u001b[0m\n\u001b[1;32m      4\u001b[0m \u001b[0mdf_new\u001b[0m\u001b[0;34m.\u001b[0m\u001b[0mloc\u001b[0m\u001b[0;34m[\u001b[0m\u001b[0;34m'a'\u001b[0m\u001b[0;34m:\u001b[0m\u001b[0;34m'd'\u001b[0m\u001b[0;34m,\u001b[0m \u001b[0;34m'Artist'\u001b[0m\u001b[0;34m]\u001b[0m\u001b[0;34m\u001b[0m\u001b[0;34m\u001b[0m\u001b[0m\n",
            "\u001b[0;31mNameError\u001b[0m: name 'df' is not defined"
          ]
        }
      ]
    },
    {
      "cell_type": "markdown",
      "source": [
        "![PROGRESO MODULO 4.jpg](data:image/jpeg;base64,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)\n"
      ],
      "metadata": {
        "id": "CbpJ9plvnQDQ"
      }
    },
    {
      "cell_type": "code",
      "source": [],
      "metadata": {
        "id": "p7QLyW3WnSzW"
      },
      "execution_count": null,
      "outputs": []
    },
    {
      "cell_type": "code",
      "source": [],
      "metadata": {
        "id": "2zwELfJVnS53"
      },
      "execution_count": null,
      "outputs": []
    }
  ]
}