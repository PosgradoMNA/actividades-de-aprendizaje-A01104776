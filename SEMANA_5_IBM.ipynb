{
  "nbformat": 4,
  "nbformat_minor": 0,
  "metadata": {
    "colab": {
      "provenance": [],
      "collapsed_sections": [],
      "authorship_tag": "ABX9TyOV7N2XTc1rQpnNNBxJGXiB",
      "include_colab_link": true
    },
    "kernelspec": {
      "name": "python3",
      "display_name": "Python 3"
    },
    "language_info": {
      "name": "python"
    }
  },
  "cells": [
    {
      "cell_type": "markdown",
      "metadata": {
        "id": "view-in-github",
        "colab_type": "text"
      },
      "source": [
        "<a href=\"https://colab.research.google.com/github/PosgradoMNA/actividades-de-aprendizaje-A01104776/blob/main/SEMANA_5_IBM.ipynb\" target=\"_parent\"><img src=\"https://colab.research.google.com/assets/colab-badge.svg\" alt=\"Open In Colab\"/></a>"
      ]
    },
    {
      "cell_type": "markdown",
      "source": [
        "ANDREA MARGARITA OSORIO GONZALEZ\n",
        "\n",
        "A01104776"
      ],
      "metadata": {
        "id": "Vgt5Y_nl8aNE"
      }
    },
    {
      "cell_type": "code",
      "source": [
        "import pandas as pd\n",
        "import numpy as np\n",
        "import matplotlib.pylab as plt"
      ],
      "metadata": {
        "id": "YU99pV9cV8-I"
      },
      "execution_count": null,
      "outputs": []
    },
    {
      "cell_type": "code",
      "source": [
        "filename = \"https://cf-courses-data.s3.us.cloud-object-storage.appdomain.cloud/IBMDeveloperSkillsNetwork-DA0101EN-SkillsNetwork/labs/Data%20files/auto.csv\""
      ],
      "metadata": {
        "id": "CVN5hehEWYo8"
      },
      "execution_count": null,
      "outputs": []
    },
    {
      "cell_type": "code",
      "source": [
        "headers = [\"symboling\",\"normalized-losses\",\"make\",\"fuel-type\",\"aspiration\", \"num-of-doors\",\"body-style\",\n",
        "         \"drive-wheels\",\"engine-location\",\"wheel-base\", \"length\",\"width\",\"height\",\"curb-weight\",\"engine-type\",\n",
        "         \"num-of-cylinders\", \"engine-size\",\"fuel-system\",\"bore\",\"stroke\",\"compression-ratio\",\"horsepower\",\n",
        "         \"peak-rpm\",\"city-mpg\",\"highway-mpg\",\"price\"]"
      ],
      "metadata": {
        "id": "deT057ItWbIg"
      },
      "execution_count": null,
      "outputs": []
    },
    {
      "cell_type": "code",
      "source": [
        "df=pd.read_csv(filename,names = headers)"
      ],
      "metadata": {
        "id": "32H2x4YDtgKf"
      },
      "execution_count": null,
      "outputs": []
    },
    {
      "cell_type": "code",
      "source": [
        "df.head()"
      ],
      "metadata": {
        "colab": {
          "base_uri": "https://localhost:8080/",
          "height": 386
        },
        "id": "bHko84GuWiBd",
        "outputId": "2427b35c-474e-47f1-90fd-d35741472447"
      },
      "execution_count": null,
      "outputs": [
        {
          "output_type": "execute_result",
          "data": {
            "text/plain": [
              "   symboling normalized-losses         make fuel-type aspiration num-of-doors  \\\n",
              "0          3                 ?  alfa-romero       gas        std          two   \n",
              "1          3                 ?  alfa-romero       gas        std          two   \n",
              "2          1                 ?  alfa-romero       gas        std          two   \n",
              "3          2               164         audi       gas        std         four   \n",
              "4          2               164         audi       gas        std         four   \n",
              "\n",
              "    body-style drive-wheels engine-location  wheel-base  ...  engine-size  \\\n",
              "0  convertible          rwd           front        88.6  ...          130   \n",
              "1  convertible          rwd           front        88.6  ...          130   \n",
              "2    hatchback          rwd           front        94.5  ...          152   \n",
              "3        sedan          fwd           front        99.8  ...          109   \n",
              "4        sedan          4wd           front        99.4  ...          136   \n",
              "\n",
              "   fuel-system  bore  stroke compression-ratio horsepower  peak-rpm city-mpg  \\\n",
              "0         mpfi  3.47    2.68               9.0        111      5000       21   \n",
              "1         mpfi  3.47    2.68               9.0        111      5000       21   \n",
              "2         mpfi  2.68    3.47               9.0        154      5000       19   \n",
              "3         mpfi  3.19    3.40              10.0        102      5500       24   \n",
              "4         mpfi  3.19    3.40               8.0        115      5500       18   \n",
              "\n",
              "  highway-mpg  price  \n",
              "0          27  13495  \n",
              "1          27  16500  \n",
              "2          26  16500  \n",
              "3          30  13950  \n",
              "4          22  17450  \n",
              "\n",
              "[5 rows x 26 columns]"
            ],
            "text/html": [
              "\n",
              "  <div id=\"df-1b5dd131-faa9-43f5-8588-0d8e31bec03d\">\n",
              "    <div class=\"colab-df-container\">\n",
              "      <div>\n",
              "<style scoped>\n",
              "    .dataframe tbody tr th:only-of-type {\n",
              "        vertical-align: middle;\n",
              "    }\n",
              "\n",
              "    .dataframe tbody tr th {\n",
              "        vertical-align: top;\n",
              "    }\n",
              "\n",
              "    .dataframe thead th {\n",
              "        text-align: right;\n",
              "    }\n",
              "</style>\n",
              "<table border=\"1\" class=\"dataframe\">\n",
              "  <thead>\n",
              "    <tr style=\"text-align: right;\">\n",
              "      <th></th>\n",
              "      <th>symboling</th>\n",
              "      <th>normalized-losses</th>\n",
              "      <th>make</th>\n",
              "      <th>fuel-type</th>\n",
              "      <th>aspiration</th>\n",
              "      <th>num-of-doors</th>\n",
              "      <th>body-style</th>\n",
              "      <th>drive-wheels</th>\n",
              "      <th>engine-location</th>\n",
              "      <th>wheel-base</th>\n",
              "      <th>...</th>\n",
              "      <th>engine-size</th>\n",
              "      <th>fuel-system</th>\n",
              "      <th>bore</th>\n",
              "      <th>stroke</th>\n",
              "      <th>compression-ratio</th>\n",
              "      <th>horsepower</th>\n",
              "      <th>peak-rpm</th>\n",
              "      <th>city-mpg</th>\n",
              "      <th>highway-mpg</th>\n",
              "      <th>price</th>\n",
              "    </tr>\n",
              "  </thead>\n",
              "  <tbody>\n",
              "    <tr>\n",
              "      <th>0</th>\n",
              "      <td>3</td>\n",
              "      <td>?</td>\n",
              "      <td>alfa-romero</td>\n",
              "      <td>gas</td>\n",
              "      <td>std</td>\n",
              "      <td>two</td>\n",
              "      <td>convertible</td>\n",
              "      <td>rwd</td>\n",
              "      <td>front</td>\n",
              "      <td>88.6</td>\n",
              "      <td>...</td>\n",
              "      <td>130</td>\n",
              "      <td>mpfi</td>\n",
              "      <td>3.47</td>\n",
              "      <td>2.68</td>\n",
              "      <td>9.0</td>\n",
              "      <td>111</td>\n",
              "      <td>5000</td>\n",
              "      <td>21</td>\n",
              "      <td>27</td>\n",
              "      <td>13495</td>\n",
              "    </tr>\n",
              "    <tr>\n",
              "      <th>1</th>\n",
              "      <td>3</td>\n",
              "      <td>?</td>\n",
              "      <td>alfa-romero</td>\n",
              "      <td>gas</td>\n",
              "      <td>std</td>\n",
              "      <td>two</td>\n",
              "      <td>convertible</td>\n",
              "      <td>rwd</td>\n",
              "      <td>front</td>\n",
              "      <td>88.6</td>\n",
              "      <td>...</td>\n",
              "      <td>130</td>\n",
              "      <td>mpfi</td>\n",
              "      <td>3.47</td>\n",
              "      <td>2.68</td>\n",
              "      <td>9.0</td>\n",
              "      <td>111</td>\n",
              "      <td>5000</td>\n",
              "      <td>21</td>\n",
              "      <td>27</td>\n",
              "      <td>16500</td>\n",
              "    </tr>\n",
              "    <tr>\n",
              "      <th>2</th>\n",
              "      <td>1</td>\n",
              "      <td>?</td>\n",
              "      <td>alfa-romero</td>\n",
              "      <td>gas</td>\n",
              "      <td>std</td>\n",
              "      <td>two</td>\n",
              "      <td>hatchback</td>\n",
              "      <td>rwd</td>\n",
              "      <td>front</td>\n",
              "      <td>94.5</td>\n",
              "      <td>...</td>\n",
              "      <td>152</td>\n",
              "      <td>mpfi</td>\n",
              "      <td>2.68</td>\n",
              "      <td>3.47</td>\n",
              "      <td>9.0</td>\n",
              "      <td>154</td>\n",
              "      <td>5000</td>\n",
              "      <td>19</td>\n",
              "      <td>26</td>\n",
              "      <td>16500</td>\n",
              "    </tr>\n",
              "    <tr>\n",
              "      <th>3</th>\n",
              "      <td>2</td>\n",
              "      <td>164</td>\n",
              "      <td>audi</td>\n",
              "      <td>gas</td>\n",
              "      <td>std</td>\n",
              "      <td>four</td>\n",
              "      <td>sedan</td>\n",
              "      <td>fwd</td>\n",
              "      <td>front</td>\n",
              "      <td>99.8</td>\n",
              "      <td>...</td>\n",
              "      <td>109</td>\n",
              "      <td>mpfi</td>\n",
              "      <td>3.19</td>\n",
              "      <td>3.40</td>\n",
              "      <td>10.0</td>\n",
              "      <td>102</td>\n",
              "      <td>5500</td>\n",
              "      <td>24</td>\n",
              "      <td>30</td>\n",
              "      <td>13950</td>\n",
              "    </tr>\n",
              "    <tr>\n",
              "      <th>4</th>\n",
              "      <td>2</td>\n",
              "      <td>164</td>\n",
              "      <td>audi</td>\n",
              "      <td>gas</td>\n",
              "      <td>std</td>\n",
              "      <td>four</td>\n",
              "      <td>sedan</td>\n",
              "      <td>4wd</td>\n",
              "      <td>front</td>\n",
              "      <td>99.4</td>\n",
              "      <td>...</td>\n",
              "      <td>136</td>\n",
              "      <td>mpfi</td>\n",
              "      <td>3.19</td>\n",
              "      <td>3.40</td>\n",
              "      <td>8.0</td>\n",
              "      <td>115</td>\n",
              "      <td>5500</td>\n",
              "      <td>18</td>\n",
              "      <td>22</td>\n",
              "      <td>17450</td>\n",
              "    </tr>\n",
              "  </tbody>\n",
              "</table>\n",
              "<p>5 rows × 26 columns</p>\n",
              "</div>\n",
              "      <button class=\"colab-df-convert\" onclick=\"convertToInteractive('df-1b5dd131-faa9-43f5-8588-0d8e31bec03d')\"\n",
              "              title=\"Convert this dataframe to an interactive table.\"\n",
              "              style=\"display:none;\">\n",
              "        \n",
              "  <svg xmlns=\"http://www.w3.org/2000/svg\" height=\"24px\"viewBox=\"0 0 24 24\"\n",
              "       width=\"24px\">\n",
              "    <path d=\"M0 0h24v24H0V0z\" fill=\"none\"/>\n",
              "    <path d=\"M18.56 5.44l.94 2.06.94-2.06 2.06-.94-2.06-.94-.94-2.06-.94 2.06-2.06.94zm-11 1L8.5 8.5l.94-2.06 2.06-.94-2.06-.94L8.5 2.5l-.94 2.06-2.06.94zm10 10l.94 2.06.94-2.06 2.06-.94-2.06-.94-.94-2.06-.94 2.06-2.06.94z\"/><path d=\"M17.41 7.96l-1.37-1.37c-.4-.4-.92-.59-1.43-.59-.52 0-1.04.2-1.43.59L10.3 9.45l-7.72 7.72c-.78.78-.78 2.05 0 2.83L4 21.41c.39.39.9.59 1.41.59.51 0 1.02-.2 1.41-.59l7.78-7.78 2.81-2.81c.8-.78.8-2.07 0-2.86zM5.41 20L4 18.59l7.72-7.72 1.47 1.35L5.41 20z\"/>\n",
              "  </svg>\n",
              "      </button>\n",
              "      \n",
              "  <style>\n",
              "    .colab-df-container {\n",
              "      display:flex;\n",
              "      flex-wrap:wrap;\n",
              "      gap: 12px;\n",
              "    }\n",
              "\n",
              "    .colab-df-convert {\n",
              "      background-color: #E8F0FE;\n",
              "      border: none;\n",
              "      border-radius: 50%;\n",
              "      cursor: pointer;\n",
              "      display: none;\n",
              "      fill: #1967D2;\n",
              "      height: 32px;\n",
              "      padding: 0 0 0 0;\n",
              "      width: 32px;\n",
              "    }\n",
              "\n",
              "    .colab-df-convert:hover {\n",
              "      background-color: #E2EBFA;\n",
              "      box-shadow: 0px 1px 2px rgba(60, 64, 67, 0.3), 0px 1px 3px 1px rgba(60, 64, 67, 0.15);\n",
              "      fill: #174EA6;\n",
              "    }\n",
              "\n",
              "    [theme=dark] .colab-df-convert {\n",
              "      background-color: #3B4455;\n",
              "      fill: #D2E3FC;\n",
              "    }\n",
              "\n",
              "    [theme=dark] .colab-df-convert:hover {\n",
              "      background-color: #434B5C;\n",
              "      box-shadow: 0px 1px 3px 1px rgba(0, 0, 0, 0.15);\n",
              "      filter: drop-shadow(0px 1px 2px rgba(0, 0, 0, 0.3));\n",
              "      fill: #FFFFFF;\n",
              "    }\n",
              "  </style>\n",
              "\n",
              "      <script>\n",
              "        const buttonEl =\n",
              "          document.querySelector('#df-1b5dd131-faa9-43f5-8588-0d8e31bec03d button.colab-df-convert');\n",
              "        buttonEl.style.display =\n",
              "          google.colab.kernel.accessAllowed ? 'block' : 'none';\n",
              "\n",
              "        async function convertToInteractive(key) {\n",
              "          const element = document.querySelector('#df-1b5dd131-faa9-43f5-8588-0d8e31bec03d');\n",
              "          const dataTable =\n",
              "            await google.colab.kernel.invokeFunction('convertToInteractive',\n",
              "                                                     [key], {});\n",
              "          if (!dataTable) return;\n",
              "\n",
              "          const docLinkHtml = 'Like what you see? Visit the ' +\n",
              "            '<a target=\"_blank\" href=https://colab.research.google.com/notebooks/data_table.ipynb>data table notebook</a>'\n",
              "            + ' to learn more about interactive tables.';\n",
              "          element.innerHTML = '';\n",
              "          dataTable['output_type'] = 'display_data';\n",
              "          await google.colab.output.renderOutput(dataTable, element);\n",
              "          const docLink = document.createElement('div');\n",
              "          docLink.innerHTML = docLinkHtml;\n",
              "          element.appendChild(docLink);\n",
              "        }\n",
              "      </script>\n",
              "    </div>\n",
              "  </div>\n",
              "  "
            ]
          },
          "metadata": {},
          "execution_count": 5
        }
      ]
    },
    {
      "cell_type": "code",
      "source": [
        "import numpy as np\n",
        "\n",
        "df.replace(\"?\", np.nan , inplace = True)\n",
        "df.head(5)"
      ],
      "metadata": {
        "colab": {
          "base_uri": "https://localhost:8080/",
          "height": 386
        },
        "id": "XuPywTzXWneH",
        "outputId": "de3627ab-dc69-42e0-c821-3452b6a5e227"
      },
      "execution_count": null,
      "outputs": [
        {
          "output_type": "execute_result",
          "data": {
            "text/plain": [
              "   symboling normalized-losses         make fuel-type aspiration num-of-doors  \\\n",
              "0          3               NaN  alfa-romero       gas        std          two   \n",
              "1          3               NaN  alfa-romero       gas        std          two   \n",
              "2          1               NaN  alfa-romero       gas        std          two   \n",
              "3          2               164         audi       gas        std         four   \n",
              "4          2               164         audi       gas        std         four   \n",
              "\n",
              "    body-style drive-wheels engine-location  wheel-base  ...  engine-size  \\\n",
              "0  convertible          rwd           front        88.6  ...          130   \n",
              "1  convertible          rwd           front        88.6  ...          130   \n",
              "2    hatchback          rwd           front        94.5  ...          152   \n",
              "3        sedan          fwd           front        99.8  ...          109   \n",
              "4        sedan          4wd           front        99.4  ...          136   \n",
              "\n",
              "   fuel-system  bore  stroke compression-ratio horsepower  peak-rpm city-mpg  \\\n",
              "0         mpfi  3.47    2.68               9.0        111      5000       21   \n",
              "1         mpfi  3.47    2.68               9.0        111      5000       21   \n",
              "2         mpfi  2.68    3.47               9.0        154      5000       19   \n",
              "3         mpfi  3.19    3.40              10.0        102      5500       24   \n",
              "4         mpfi  3.19    3.40               8.0        115      5500       18   \n",
              "\n",
              "  highway-mpg  price  \n",
              "0          27  13495  \n",
              "1          27  16500  \n",
              "2          26  16500  \n",
              "3          30  13950  \n",
              "4          22  17450  \n",
              "\n",
              "[5 rows x 26 columns]"
            ],
            "text/html": [
              "\n",
              "  <div id=\"df-6c694ea6-338d-450c-bea9-ecdc16ec6e86\">\n",
              "    <div class=\"colab-df-container\">\n",
              "      <div>\n",
              "<style scoped>\n",
              "    .dataframe tbody tr th:only-of-type {\n",
              "        vertical-align: middle;\n",
              "    }\n",
              "\n",
              "    .dataframe tbody tr th {\n",
              "        vertical-align: top;\n",
              "    }\n",
              "\n",
              "    .dataframe thead th {\n",
              "        text-align: right;\n",
              "    }\n",
              "</style>\n",
              "<table border=\"1\" class=\"dataframe\">\n",
              "  <thead>\n",
              "    <tr style=\"text-align: right;\">\n",
              "      <th></th>\n",
              "      <th>symboling</th>\n",
              "      <th>normalized-losses</th>\n",
              "      <th>make</th>\n",
              "      <th>fuel-type</th>\n",
              "      <th>aspiration</th>\n",
              "      <th>num-of-doors</th>\n",
              "      <th>body-style</th>\n",
              "      <th>drive-wheels</th>\n",
              "      <th>engine-location</th>\n",
              "      <th>wheel-base</th>\n",
              "      <th>...</th>\n",
              "      <th>engine-size</th>\n",
              "      <th>fuel-system</th>\n",
              "      <th>bore</th>\n",
              "      <th>stroke</th>\n",
              "      <th>compression-ratio</th>\n",
              "      <th>horsepower</th>\n",
              "      <th>peak-rpm</th>\n",
              "      <th>city-mpg</th>\n",
              "      <th>highway-mpg</th>\n",
              "      <th>price</th>\n",
              "    </tr>\n",
              "  </thead>\n",
              "  <tbody>\n",
              "    <tr>\n",
              "      <th>0</th>\n",
              "      <td>3</td>\n",
              "      <td>NaN</td>\n",
              "      <td>alfa-romero</td>\n",
              "      <td>gas</td>\n",
              "      <td>std</td>\n",
              "      <td>two</td>\n",
              "      <td>convertible</td>\n",
              "      <td>rwd</td>\n",
              "      <td>front</td>\n",
              "      <td>88.6</td>\n",
              "      <td>...</td>\n",
              "      <td>130</td>\n",
              "      <td>mpfi</td>\n",
              "      <td>3.47</td>\n",
              "      <td>2.68</td>\n",
              "      <td>9.0</td>\n",
              "      <td>111</td>\n",
              "      <td>5000</td>\n",
              "      <td>21</td>\n",
              "      <td>27</td>\n",
              "      <td>13495</td>\n",
              "    </tr>\n",
              "    <tr>\n",
              "      <th>1</th>\n",
              "      <td>3</td>\n",
              "      <td>NaN</td>\n",
              "      <td>alfa-romero</td>\n",
              "      <td>gas</td>\n",
              "      <td>std</td>\n",
              "      <td>two</td>\n",
              "      <td>convertible</td>\n",
              "      <td>rwd</td>\n",
              "      <td>front</td>\n",
              "      <td>88.6</td>\n",
              "      <td>...</td>\n",
              "      <td>130</td>\n",
              "      <td>mpfi</td>\n",
              "      <td>3.47</td>\n",
              "      <td>2.68</td>\n",
              "      <td>9.0</td>\n",
              "      <td>111</td>\n",
              "      <td>5000</td>\n",
              "      <td>21</td>\n",
              "      <td>27</td>\n",
              "      <td>16500</td>\n",
              "    </tr>\n",
              "    <tr>\n",
              "      <th>2</th>\n",
              "      <td>1</td>\n",
              "      <td>NaN</td>\n",
              "      <td>alfa-romero</td>\n",
              "      <td>gas</td>\n",
              "      <td>std</td>\n",
              "      <td>two</td>\n",
              "      <td>hatchback</td>\n",
              "      <td>rwd</td>\n",
              "      <td>front</td>\n",
              "      <td>94.5</td>\n",
              "      <td>...</td>\n",
              "      <td>152</td>\n",
              "      <td>mpfi</td>\n",
              "      <td>2.68</td>\n",
              "      <td>3.47</td>\n",
              "      <td>9.0</td>\n",
              "      <td>154</td>\n",
              "      <td>5000</td>\n",
              "      <td>19</td>\n",
              "      <td>26</td>\n",
              "      <td>16500</td>\n",
              "    </tr>\n",
              "    <tr>\n",
              "      <th>3</th>\n",
              "      <td>2</td>\n",
              "      <td>164</td>\n",
              "      <td>audi</td>\n",
              "      <td>gas</td>\n",
              "      <td>std</td>\n",
              "      <td>four</td>\n",
              "      <td>sedan</td>\n",
              "      <td>fwd</td>\n",
              "      <td>front</td>\n",
              "      <td>99.8</td>\n",
              "      <td>...</td>\n",
              "      <td>109</td>\n",
              "      <td>mpfi</td>\n",
              "      <td>3.19</td>\n",
              "      <td>3.40</td>\n",
              "      <td>10.0</td>\n",
              "      <td>102</td>\n",
              "      <td>5500</td>\n",
              "      <td>24</td>\n",
              "      <td>30</td>\n",
              "      <td>13950</td>\n",
              "    </tr>\n",
              "    <tr>\n",
              "      <th>4</th>\n",
              "      <td>2</td>\n",
              "      <td>164</td>\n",
              "      <td>audi</td>\n",
              "      <td>gas</td>\n",
              "      <td>std</td>\n",
              "      <td>four</td>\n",
              "      <td>sedan</td>\n",
              "      <td>4wd</td>\n",
              "      <td>front</td>\n",
              "      <td>99.4</td>\n",
              "      <td>...</td>\n",
              "      <td>136</td>\n",
              "      <td>mpfi</td>\n",
              "      <td>3.19</td>\n",
              "      <td>3.40</td>\n",
              "      <td>8.0</td>\n",
              "      <td>115</td>\n",
              "      <td>5500</td>\n",
              "      <td>18</td>\n",
              "      <td>22</td>\n",
              "      <td>17450</td>\n",
              "    </tr>\n",
              "  </tbody>\n",
              "</table>\n",
              "<p>5 rows × 26 columns</p>\n",
              "</div>\n",
              "      <button class=\"colab-df-convert\" onclick=\"convertToInteractive('df-6c694ea6-338d-450c-bea9-ecdc16ec6e86')\"\n",
              "              title=\"Convert this dataframe to an interactive table.\"\n",
              "              style=\"display:none;\">\n",
              "        \n",
              "  <svg xmlns=\"http://www.w3.org/2000/svg\" height=\"24px\"viewBox=\"0 0 24 24\"\n",
              "       width=\"24px\">\n",
              "    <path d=\"M0 0h24v24H0V0z\" fill=\"none\"/>\n",
              "    <path d=\"M18.56 5.44l.94 2.06.94-2.06 2.06-.94-2.06-.94-.94-2.06-.94 2.06-2.06.94zm-11 1L8.5 8.5l.94-2.06 2.06-.94-2.06-.94L8.5 2.5l-.94 2.06-2.06.94zm10 10l.94 2.06.94-2.06 2.06-.94-2.06-.94-.94-2.06-.94 2.06-2.06.94z\"/><path d=\"M17.41 7.96l-1.37-1.37c-.4-.4-.92-.59-1.43-.59-.52 0-1.04.2-1.43.59L10.3 9.45l-7.72 7.72c-.78.78-.78 2.05 0 2.83L4 21.41c.39.39.9.59 1.41.59.51 0 1.02-.2 1.41-.59l7.78-7.78 2.81-2.81c.8-.78.8-2.07 0-2.86zM5.41 20L4 18.59l7.72-7.72 1.47 1.35L5.41 20z\"/>\n",
              "  </svg>\n",
              "      </button>\n",
              "      \n",
              "  <style>\n",
              "    .colab-df-container {\n",
              "      display:flex;\n",
              "      flex-wrap:wrap;\n",
              "      gap: 12px;\n",
              "    }\n",
              "\n",
              "    .colab-df-convert {\n",
              "      background-color: #E8F0FE;\n",
              "      border: none;\n",
              "      border-radius: 50%;\n",
              "      cursor: pointer;\n",
              "      display: none;\n",
              "      fill: #1967D2;\n",
              "      height: 32px;\n",
              "      padding: 0 0 0 0;\n",
              "      width: 32px;\n",
              "    }\n",
              "\n",
              "    .colab-df-convert:hover {\n",
              "      background-color: #E2EBFA;\n",
              "      box-shadow: 0px 1px 2px rgba(60, 64, 67, 0.3), 0px 1px 3px 1px rgba(60, 64, 67, 0.15);\n",
              "      fill: #174EA6;\n",
              "    }\n",
              "\n",
              "    [theme=dark] .colab-df-convert {\n",
              "      background-color: #3B4455;\n",
              "      fill: #D2E3FC;\n",
              "    }\n",
              "\n",
              "    [theme=dark] .colab-df-convert:hover {\n",
              "      background-color: #434B5C;\n",
              "      box-shadow: 0px 1px 3px 1px rgba(0, 0, 0, 0.15);\n",
              "      filter: drop-shadow(0px 1px 2px rgba(0, 0, 0, 0.3));\n",
              "      fill: #FFFFFF;\n",
              "    }\n",
              "  </style>\n",
              "\n",
              "      <script>\n",
              "        const buttonEl =\n",
              "          document.querySelector('#df-6c694ea6-338d-450c-bea9-ecdc16ec6e86 button.colab-df-convert');\n",
              "        buttonEl.style.display =\n",
              "          google.colab.kernel.accessAllowed ? 'block' : 'none';\n",
              "\n",
              "        async function convertToInteractive(key) {\n",
              "          const element = document.querySelector('#df-6c694ea6-338d-450c-bea9-ecdc16ec6e86');\n",
              "          const dataTable =\n",
              "            await google.colab.kernel.invokeFunction('convertToInteractive',\n",
              "                                                     [key], {});\n",
              "          if (!dataTable) return;\n",
              "\n",
              "          const docLinkHtml = 'Like what you see? Visit the ' +\n",
              "            '<a target=\"_blank\" href=https://colab.research.google.com/notebooks/data_table.ipynb>data table notebook</a>'\n",
              "            + ' to learn more about interactive tables.';\n",
              "          element.innerHTML = '';\n",
              "          dataTable['output_type'] = 'display_data';\n",
              "          await google.colab.output.renderOutput(dataTable, element);\n",
              "          const docLink = document.createElement('div');\n",
              "          docLink.innerHTML = docLinkHtml;\n",
              "          element.appendChild(docLink);\n",
              "        }\n",
              "      </script>\n",
              "    </div>\n",
              "  </div>\n",
              "  "
            ]
          },
          "metadata": {},
          "execution_count": 6
        }
      ]
    },
    {
      "cell_type": "code",
      "source": [
        "missing_data = df.isnull()\n",
        "missing_data.head(5)"
      ],
      "metadata": {
        "colab": {
          "base_uri": "https://localhost:8080/",
          "height": 334
        },
        "id": "isQJtqQvW0OP",
        "outputId": "62433ead-bd08-4594-9e33-50224bb7a66b"
      },
      "execution_count": null,
      "outputs": [
        {
          "output_type": "execute_result",
          "data": {
            "text/plain": [
              "   symboling  normalized-losses   make  fuel-type  aspiration  num-of-doors  \\\n",
              "0      False               True  False      False       False         False   \n",
              "1      False               True  False      False       False         False   \n",
              "2      False               True  False      False       False         False   \n",
              "3      False              False  False      False       False         False   \n",
              "4      False              False  False      False       False         False   \n",
              "\n",
              "   body-style  drive-wheels  engine-location  wheel-base  ...  engine-size  \\\n",
              "0       False         False            False       False  ...        False   \n",
              "1       False         False            False       False  ...        False   \n",
              "2       False         False            False       False  ...        False   \n",
              "3       False         False            False       False  ...        False   \n",
              "4       False         False            False       False  ...        False   \n",
              "\n",
              "   fuel-system   bore  stroke  compression-ratio  horsepower  peak-rpm  \\\n",
              "0        False  False   False              False       False     False   \n",
              "1        False  False   False              False       False     False   \n",
              "2        False  False   False              False       False     False   \n",
              "3        False  False   False              False       False     False   \n",
              "4        False  False   False              False       False     False   \n",
              "\n",
              "   city-mpg  highway-mpg  price  \n",
              "0     False        False  False  \n",
              "1     False        False  False  \n",
              "2     False        False  False  \n",
              "3     False        False  False  \n",
              "4     False        False  False  \n",
              "\n",
              "[5 rows x 26 columns]"
            ],
            "text/html": [
              "\n",
              "  <div id=\"df-4e7a9bde-d6a0-46e7-a0a3-f5302cc8c24d\">\n",
              "    <div class=\"colab-df-container\">\n",
              "      <div>\n",
              "<style scoped>\n",
              "    .dataframe tbody tr th:only-of-type {\n",
              "        vertical-align: middle;\n",
              "    }\n",
              "\n",
              "    .dataframe tbody tr th {\n",
              "        vertical-align: top;\n",
              "    }\n",
              "\n",
              "    .dataframe thead th {\n",
              "        text-align: right;\n",
              "    }\n",
              "</style>\n",
              "<table border=\"1\" class=\"dataframe\">\n",
              "  <thead>\n",
              "    <tr style=\"text-align: right;\">\n",
              "      <th></th>\n",
              "      <th>symboling</th>\n",
              "      <th>normalized-losses</th>\n",
              "      <th>make</th>\n",
              "      <th>fuel-type</th>\n",
              "      <th>aspiration</th>\n",
              "      <th>num-of-doors</th>\n",
              "      <th>body-style</th>\n",
              "      <th>drive-wheels</th>\n",
              "      <th>engine-location</th>\n",
              "      <th>wheel-base</th>\n",
              "      <th>...</th>\n",
              "      <th>engine-size</th>\n",
              "      <th>fuel-system</th>\n",
              "      <th>bore</th>\n",
              "      <th>stroke</th>\n",
              "      <th>compression-ratio</th>\n",
              "      <th>horsepower</th>\n",
              "      <th>peak-rpm</th>\n",
              "      <th>city-mpg</th>\n",
              "      <th>highway-mpg</th>\n",
              "      <th>price</th>\n",
              "    </tr>\n",
              "  </thead>\n",
              "  <tbody>\n",
              "    <tr>\n",
              "      <th>0</th>\n",
              "      <td>False</td>\n",
              "      <td>True</td>\n",
              "      <td>False</td>\n",
              "      <td>False</td>\n",
              "      <td>False</td>\n",
              "      <td>False</td>\n",
              "      <td>False</td>\n",
              "      <td>False</td>\n",
              "      <td>False</td>\n",
              "      <td>False</td>\n",
              "      <td>...</td>\n",
              "      <td>False</td>\n",
              "      <td>False</td>\n",
              "      <td>False</td>\n",
              "      <td>False</td>\n",
              "      <td>False</td>\n",
              "      <td>False</td>\n",
              "      <td>False</td>\n",
              "      <td>False</td>\n",
              "      <td>False</td>\n",
              "      <td>False</td>\n",
              "    </tr>\n",
              "    <tr>\n",
              "      <th>1</th>\n",
              "      <td>False</td>\n",
              "      <td>True</td>\n",
              "      <td>False</td>\n",
              "      <td>False</td>\n",
              "      <td>False</td>\n",
              "      <td>False</td>\n",
              "      <td>False</td>\n",
              "      <td>False</td>\n",
              "      <td>False</td>\n",
              "      <td>False</td>\n",
              "      <td>...</td>\n",
              "      <td>False</td>\n",
              "      <td>False</td>\n",
              "      <td>False</td>\n",
              "      <td>False</td>\n",
              "      <td>False</td>\n",
              "      <td>False</td>\n",
              "      <td>False</td>\n",
              "      <td>False</td>\n",
              "      <td>False</td>\n",
              "      <td>False</td>\n",
              "    </tr>\n",
              "    <tr>\n",
              "      <th>2</th>\n",
              "      <td>False</td>\n",
              "      <td>True</td>\n",
              "      <td>False</td>\n",
              "      <td>False</td>\n",
              "      <td>False</td>\n",
              "      <td>False</td>\n",
              "      <td>False</td>\n",
              "      <td>False</td>\n",
              "      <td>False</td>\n",
              "      <td>False</td>\n",
              "      <td>...</td>\n",
              "      <td>False</td>\n",
              "      <td>False</td>\n",
              "      <td>False</td>\n",
              "      <td>False</td>\n",
              "      <td>False</td>\n",
              "      <td>False</td>\n",
              "      <td>False</td>\n",
              "      <td>False</td>\n",
              "      <td>False</td>\n",
              "      <td>False</td>\n",
              "    </tr>\n",
              "    <tr>\n",
              "      <th>3</th>\n",
              "      <td>False</td>\n",
              "      <td>False</td>\n",
              "      <td>False</td>\n",
              "      <td>False</td>\n",
              "      <td>False</td>\n",
              "      <td>False</td>\n",
              "      <td>False</td>\n",
              "      <td>False</td>\n",
              "      <td>False</td>\n",
              "      <td>False</td>\n",
              "      <td>...</td>\n",
              "      <td>False</td>\n",
              "      <td>False</td>\n",
              "      <td>False</td>\n",
              "      <td>False</td>\n",
              "      <td>False</td>\n",
              "      <td>False</td>\n",
              "      <td>False</td>\n",
              "      <td>False</td>\n",
              "      <td>False</td>\n",
              "      <td>False</td>\n",
              "    </tr>\n",
              "    <tr>\n",
              "      <th>4</th>\n",
              "      <td>False</td>\n",
              "      <td>False</td>\n",
              "      <td>False</td>\n",
              "      <td>False</td>\n",
              "      <td>False</td>\n",
              "      <td>False</td>\n",
              "      <td>False</td>\n",
              "      <td>False</td>\n",
              "      <td>False</td>\n",
              "      <td>False</td>\n",
              "      <td>...</td>\n",
              "      <td>False</td>\n",
              "      <td>False</td>\n",
              "      <td>False</td>\n",
              "      <td>False</td>\n",
              "      <td>False</td>\n",
              "      <td>False</td>\n",
              "      <td>False</td>\n",
              "      <td>False</td>\n",
              "      <td>False</td>\n",
              "      <td>False</td>\n",
              "    </tr>\n",
              "  </tbody>\n",
              "</table>\n",
              "<p>5 rows × 26 columns</p>\n",
              "</div>\n",
              "      <button class=\"colab-df-convert\" onclick=\"convertToInteractive('df-4e7a9bde-d6a0-46e7-a0a3-f5302cc8c24d')\"\n",
              "              title=\"Convert this dataframe to an interactive table.\"\n",
              "              style=\"display:none;\">\n",
              "        \n",
              "  <svg xmlns=\"http://www.w3.org/2000/svg\" height=\"24px\"viewBox=\"0 0 24 24\"\n",
              "       width=\"24px\">\n",
              "    <path d=\"M0 0h24v24H0V0z\" fill=\"none\"/>\n",
              "    <path d=\"M18.56 5.44l.94 2.06.94-2.06 2.06-.94-2.06-.94-.94-2.06-.94 2.06-2.06.94zm-11 1L8.5 8.5l.94-2.06 2.06-.94-2.06-.94L8.5 2.5l-.94 2.06-2.06.94zm10 10l.94 2.06.94-2.06 2.06-.94-2.06-.94-.94-2.06-.94 2.06-2.06.94z\"/><path d=\"M17.41 7.96l-1.37-1.37c-.4-.4-.92-.59-1.43-.59-.52 0-1.04.2-1.43.59L10.3 9.45l-7.72 7.72c-.78.78-.78 2.05 0 2.83L4 21.41c.39.39.9.59 1.41.59.51 0 1.02-.2 1.41-.59l7.78-7.78 2.81-2.81c.8-.78.8-2.07 0-2.86zM5.41 20L4 18.59l7.72-7.72 1.47 1.35L5.41 20z\"/>\n",
              "  </svg>\n",
              "      </button>\n",
              "      \n",
              "  <style>\n",
              "    .colab-df-container {\n",
              "      display:flex;\n",
              "      flex-wrap:wrap;\n",
              "      gap: 12px;\n",
              "    }\n",
              "\n",
              "    .colab-df-convert {\n",
              "      background-color: #E8F0FE;\n",
              "      border: none;\n",
              "      border-radius: 50%;\n",
              "      cursor: pointer;\n",
              "      display: none;\n",
              "      fill: #1967D2;\n",
              "      height: 32px;\n",
              "      padding: 0 0 0 0;\n",
              "      width: 32px;\n",
              "    }\n",
              "\n",
              "    .colab-df-convert:hover {\n",
              "      background-color: #E2EBFA;\n",
              "      box-shadow: 0px 1px 2px rgba(60, 64, 67, 0.3), 0px 1px 3px 1px rgba(60, 64, 67, 0.15);\n",
              "      fill: #174EA6;\n",
              "    }\n",
              "\n",
              "    [theme=dark] .colab-df-convert {\n",
              "      background-color: #3B4455;\n",
              "      fill: #D2E3FC;\n",
              "    }\n",
              "\n",
              "    [theme=dark] .colab-df-convert:hover {\n",
              "      background-color: #434B5C;\n",
              "      box-shadow: 0px 1px 3px 1px rgba(0, 0, 0, 0.15);\n",
              "      filter: drop-shadow(0px 1px 2px rgba(0, 0, 0, 0.3));\n",
              "      fill: #FFFFFF;\n",
              "    }\n",
              "  </style>\n",
              "\n",
              "      <script>\n",
              "        const buttonEl =\n",
              "          document.querySelector('#df-4e7a9bde-d6a0-46e7-a0a3-f5302cc8c24d button.colab-df-convert');\n",
              "        buttonEl.style.display =\n",
              "          google.colab.kernel.accessAllowed ? 'block' : 'none';\n",
              "\n",
              "        async function convertToInteractive(key) {\n",
              "          const element = document.querySelector('#df-4e7a9bde-d6a0-46e7-a0a3-f5302cc8c24d');\n",
              "          const dataTable =\n",
              "            await google.colab.kernel.invokeFunction('convertToInteractive',\n",
              "                                                     [key], {});\n",
              "          if (!dataTable) return;\n",
              "\n",
              "          const docLinkHtml = 'Like what you see? Visit the ' +\n",
              "            '<a target=\"_blank\" href=https://colab.research.google.com/notebooks/data_table.ipynb>data table notebook</a>'\n",
              "            + ' to learn more about interactive tables.';\n",
              "          element.innerHTML = '';\n",
              "          dataTable['output_type'] = 'display_data';\n",
              "          await google.colab.output.renderOutput(dataTable, element);\n",
              "          const docLink = document.createElement('div');\n",
              "          docLink.innerHTML = docLinkHtml;\n",
              "          element.appendChild(docLink);\n",
              "        }\n",
              "      </script>\n",
              "    </div>\n",
              "  </div>\n",
              "  "
            ]
          },
          "metadata": {},
          "execution_count": 7
        }
      ]
    },
    {
      "cell_type": "code",
      "source": [
        "for column in missing_data.columns.values.tolist():\n",
        "    print(column)\n",
        "    print (missing_data[column].value_counts())\n",
        "    print(\"\")"
      ],
      "metadata": {
        "colab": {
          "base_uri": "https://localhost:8080/"
        },
        "id": "tH2v2BrkXPwZ",
        "outputId": "7254d943-207a-48e5-845b-36b15bfba5b6"
      },
      "execution_count": null,
      "outputs": [
        {
          "output_type": "stream",
          "name": "stdout",
          "text": [
            "symboling\n",
            "False    205\n",
            "Name: symboling, dtype: int64\n",
            "\n",
            "normalized-losses\n",
            "False    164\n",
            "True      41\n",
            "Name: normalized-losses, dtype: int64\n",
            "\n",
            "make\n",
            "False    205\n",
            "Name: make, dtype: int64\n",
            "\n",
            "fuel-type\n",
            "False    205\n",
            "Name: fuel-type, dtype: int64\n",
            "\n",
            "aspiration\n",
            "False    205\n",
            "Name: aspiration, dtype: int64\n",
            "\n",
            "num-of-doors\n",
            "False    203\n",
            "True       2\n",
            "Name: num-of-doors, dtype: int64\n",
            "\n",
            "body-style\n",
            "False    205\n",
            "Name: body-style, dtype: int64\n",
            "\n",
            "drive-wheels\n",
            "False    205\n",
            "Name: drive-wheels, dtype: int64\n",
            "\n",
            "engine-location\n",
            "False    205\n",
            "Name: engine-location, dtype: int64\n",
            "\n",
            "wheel-base\n",
            "False    205\n",
            "Name: wheel-base, dtype: int64\n",
            "\n",
            "length\n",
            "False    205\n",
            "Name: length, dtype: int64\n",
            "\n",
            "width\n",
            "False    205\n",
            "Name: width, dtype: int64\n",
            "\n",
            "height\n",
            "False    205\n",
            "Name: height, dtype: int64\n",
            "\n",
            "curb-weight\n",
            "False    205\n",
            "Name: curb-weight, dtype: int64\n",
            "\n",
            "engine-type\n",
            "False    205\n",
            "Name: engine-type, dtype: int64\n",
            "\n",
            "num-of-cylinders\n",
            "False    205\n",
            "Name: num-of-cylinders, dtype: int64\n",
            "\n",
            "engine-size\n",
            "False    205\n",
            "Name: engine-size, dtype: int64\n",
            "\n",
            "fuel-system\n",
            "False    205\n",
            "Name: fuel-system, dtype: int64\n",
            "\n",
            "bore\n",
            "False    201\n",
            "True       4\n",
            "Name: bore, dtype: int64\n",
            "\n",
            "stroke\n",
            "False    201\n",
            "True       4\n",
            "Name: stroke, dtype: int64\n",
            "\n",
            "compression-ratio\n",
            "False    205\n",
            "Name: compression-ratio, dtype: int64\n",
            "\n",
            "horsepower\n",
            "False    203\n",
            "True       2\n",
            "Name: horsepower, dtype: int64\n",
            "\n",
            "peak-rpm\n",
            "False    203\n",
            "True       2\n",
            "Name: peak-rpm, dtype: int64\n",
            "\n",
            "city-mpg\n",
            "False    205\n",
            "Name: city-mpg, dtype: int64\n",
            "\n",
            "highway-mpg\n",
            "False    205\n",
            "Name: highway-mpg, dtype: int64\n",
            "\n",
            "price\n",
            "False    201\n",
            "True       4\n",
            "Name: price, dtype: int64\n",
            "\n"
          ]
        }
      ]
    },
    {
      "cell_type": "code",
      "source": [
        "avg_norm_loss = df[\"normalized-losses\"].astype(\"float\").mean(axis=0)\n",
        "print(\"Average of normalized-losses:\", avg_norm_loss)"
      ],
      "metadata": {
        "colab": {
          "base_uri": "https://localhost:8080/"
        },
        "id": "ljfmfULSXRS4",
        "outputId": "25a4381c-7153-4048-b41a-a4e5041109fe"
      },
      "execution_count": null,
      "outputs": [
        {
          "output_type": "stream",
          "name": "stdout",
          "text": [
            "Average of normalized-losses: 122.0\n"
          ]
        }
      ]
    },
    {
      "cell_type": "code",
      "source": [
        "df[\"normalized-losses\"].replace(np.nan, avg_norm_loss, inplace=True)"
      ],
      "metadata": {
        "id": "8qesID8QXXeO"
      },
      "execution_count": null,
      "outputs": []
    },
    {
      "cell_type": "code",
      "source": [
        "avg_bore=df['bore'].astype('float').mean(axis=0)\n",
        "print(\"Average of bore:\", avg_bore)"
      ],
      "metadata": {
        "colab": {
          "base_uri": "https://localhost:8080/"
        },
        "id": "30K5jRzRXaGp",
        "outputId": "7cad2f9d-31b9-4b1f-a2a8-721b9c66a0a1"
      },
      "execution_count": null,
      "outputs": [
        {
          "output_type": "stream",
          "name": "stdout",
          "text": [
            "Average of bore: 3.3297512437810943\n"
          ]
        }
      ]
    },
    {
      "cell_type": "code",
      "source": [
        "df[\"bore\"].replace(np.nan, avg_bore, inplace=True)"
      ],
      "metadata": {
        "id": "t-r1lvWQXeiY"
      },
      "execution_count": null,
      "outputs": []
    },
    {
      "cell_type": "code",
      "source": [
        "avg_stroke = df[\"stroke\"].astype(\"float\").mean(axis = 0)\n",
        "print(\"Average of stroke:\", avg_stroke)\n"
      ],
      "metadata": {
        "colab": {
          "base_uri": "https://localhost:8080/"
        },
        "id": "K03Kd4L0Xfnu",
        "outputId": "c5ced1b7-ccf8-4681-cdb1-2cced6838b97"
      },
      "execution_count": null,
      "outputs": [
        {
          "output_type": "stream",
          "name": "stdout",
          "text": [
            "Average of stroke: 3.255422885572139\n"
          ]
        }
      ]
    },
    {
      "cell_type": "code",
      "source": [
        "avg_stroke = df[\"stroke\"].astype(\"float\").mean(axis = 0)\n",
        "print(\"Average of stroke:\", avg_stroke)\n"
      ],
      "metadata": {
        "colab": {
          "base_uri": "https://localhost:8080/"
        },
        "id": "W-vPiuTfXwcf",
        "outputId": "1e7cd000-6736-434a-c0bd-c97aa92958c8"
      },
      "execution_count": null,
      "outputs": [
        {
          "output_type": "stream",
          "name": "stdout",
          "text": [
            "Average of stroke: 3.255422885572139\n"
          ]
        }
      ]
    },
    {
      "cell_type": "code",
      "source": [
        "df[\"stroke\"].replace(np.nan, avg_stroke, inplace = True)"
      ],
      "metadata": {
        "id": "IRwe7ixLZEAe"
      },
      "execution_count": null,
      "outputs": []
    },
    {
      "cell_type": "code",
      "source": [
        "avg_horsepower = df['horsepower'].astype('float').mean(axis=0)\n",
        "print(\"Average horsepower:\", avg_horsepower)"
      ],
      "metadata": {
        "colab": {
          "base_uri": "https://localhost:8080/"
        },
        "id": "9yz4hckbZj35",
        "outputId": "b5223cf5-9a79-4437-dd47-7127065c865f"
      },
      "execution_count": null,
      "outputs": [
        {
          "output_type": "stream",
          "name": "stdout",
          "text": [
            "Average horsepower: 104.25615763546799\n"
          ]
        }
      ]
    },
    {
      "cell_type": "code",
      "source": [
        "df['horsepower'].replace(np.nan, avg_horsepower, inplace=True)"
      ],
      "metadata": {
        "id": "rEntuYInZmVd"
      },
      "execution_count": null,
      "outputs": []
    },
    {
      "cell_type": "code",
      "source": [
        "avg_peakrpm=df['peak-rpm'].astype('float').mean(axis=0)\n",
        "print(\"Average peak rpm:\", avg_peakrpm)"
      ],
      "metadata": {
        "colab": {
          "base_uri": "https://localhost:8080/"
        },
        "id": "4V3t3iEnZpCS",
        "outputId": "80e79b40-bc6a-4fcb-f0bb-62fe84001ed8"
      },
      "execution_count": null,
      "outputs": [
        {
          "output_type": "stream",
          "name": "stdout",
          "text": [
            "Average peak rpm: 5125.369458128079\n"
          ]
        }
      ]
    },
    {
      "cell_type": "code",
      "source": [
        "df['peak-rpm'].replace(np.nan, avg_peakrpm, inplace=True)"
      ],
      "metadata": {
        "id": "inBw39LZZu0h"
      },
      "execution_count": null,
      "outputs": []
    },
    {
      "cell_type": "code",
      "source": [
        "df['num-of-doors'].value_counts()\n",
        "\n",
        "\n",
        "\n"
      ],
      "metadata": {
        "colab": {
          "base_uri": "https://localhost:8080/"
        },
        "id": "zXku9mbUZrdP",
        "outputId": "c44e503b-bec1-4711-92ab-61b05a0cfc19"
      },
      "execution_count": null,
      "outputs": [
        {
          "output_type": "execute_result",
          "data": {
            "text/plain": [
              "four    114\n",
              "two      89\n",
              "Name: num-of-doors, dtype: int64"
            ]
          },
          "metadata": {},
          "execution_count": 20
        }
      ]
    },
    {
      "cell_type": "code",
      "source": [
        "df['num-of-doors'].value_counts().idxmax()"
      ],
      "metadata": {
        "colab": {
          "base_uri": "https://localhost:8080/",
          "height": 35
        },
        "id": "RR-J3YgmZw-_",
        "outputId": "cd94a2e5-8a24-4a1f-f0ad-8d3f8c916e9f"
      },
      "execution_count": null,
      "outputs": [
        {
          "output_type": "execute_result",
          "data": {
            "text/plain": [
              "'four'"
            ],
            "application/vnd.google.colaboratory.intrinsic+json": {
              "type": "string"
            }
          },
          "metadata": {},
          "execution_count": 21
        }
      ]
    },
    {
      "cell_type": "code",
      "source": [
        "df[\"num-of-doors\"].replace(np.nan, \"four\", inplace=True)\n"
      ],
      "metadata": {
        "id": "6b2XLFs5Z2Fv"
      },
      "execution_count": null,
      "outputs": []
    },
    {
      "cell_type": "code",
      "source": [
        "df.dropna(subset=[\"price\"], axis=0, inplace=True)\n"
      ],
      "metadata": {
        "id": "tUwrMS2gZ9Co"
      },
      "execution_count": null,
      "outputs": []
    },
    {
      "cell_type": "code",
      "source": [
        "df.reset_index(drop=True, inplace=True)"
      ],
      "metadata": {
        "id": "06n9fd7LaABt"
      },
      "execution_count": null,
      "outputs": []
    },
    {
      "cell_type": "code",
      "source": [
        "df.head()"
      ],
      "metadata": {
        "colab": {
          "base_uri": "https://localhost:8080/",
          "height": 386
        },
        "id": "GNwj7J3taB3M",
        "outputId": "10be99d0-654e-4740-cd08-b8976cf0e6e4"
      },
      "execution_count": null,
      "outputs": [
        {
          "output_type": "execute_result",
          "data": {
            "text/plain": [
              "   symboling normalized-losses         make fuel-type aspiration num-of-doors  \\\n",
              "0          3             122.0  alfa-romero       gas        std          two   \n",
              "1          3             122.0  alfa-romero       gas        std          two   \n",
              "2          1             122.0  alfa-romero       gas        std          two   \n",
              "3          2               164         audi       gas        std         four   \n",
              "4          2               164         audi       gas        std         four   \n",
              "\n",
              "    body-style drive-wheels engine-location  wheel-base  ...  engine-size  \\\n",
              "0  convertible          rwd           front        88.6  ...          130   \n",
              "1  convertible          rwd           front        88.6  ...          130   \n",
              "2    hatchback          rwd           front        94.5  ...          152   \n",
              "3        sedan          fwd           front        99.8  ...          109   \n",
              "4        sedan          4wd           front        99.4  ...          136   \n",
              "\n",
              "   fuel-system  bore  stroke compression-ratio horsepower  peak-rpm city-mpg  \\\n",
              "0         mpfi  3.47    2.68               9.0        111      5000       21   \n",
              "1         mpfi  3.47    2.68               9.0        111      5000       21   \n",
              "2         mpfi  2.68    3.47               9.0        154      5000       19   \n",
              "3         mpfi  3.19    3.40              10.0        102      5500       24   \n",
              "4         mpfi  3.19    3.40               8.0        115      5500       18   \n",
              "\n",
              "  highway-mpg  price  \n",
              "0          27  13495  \n",
              "1          27  16500  \n",
              "2          26  16500  \n",
              "3          30  13950  \n",
              "4          22  17450  \n",
              "\n",
              "[5 rows x 26 columns]"
            ],
            "text/html": [
              "\n",
              "  <div id=\"df-7601f1f9-9a5c-4c38-8116-d08cc0d79b40\">\n",
              "    <div class=\"colab-df-container\">\n",
              "      <div>\n",
              "<style scoped>\n",
              "    .dataframe tbody tr th:only-of-type {\n",
              "        vertical-align: middle;\n",
              "    }\n",
              "\n",
              "    .dataframe tbody tr th {\n",
              "        vertical-align: top;\n",
              "    }\n",
              "\n",
              "    .dataframe thead th {\n",
              "        text-align: right;\n",
              "    }\n",
              "</style>\n",
              "<table border=\"1\" class=\"dataframe\">\n",
              "  <thead>\n",
              "    <tr style=\"text-align: right;\">\n",
              "      <th></th>\n",
              "      <th>symboling</th>\n",
              "      <th>normalized-losses</th>\n",
              "      <th>make</th>\n",
              "      <th>fuel-type</th>\n",
              "      <th>aspiration</th>\n",
              "      <th>num-of-doors</th>\n",
              "      <th>body-style</th>\n",
              "      <th>drive-wheels</th>\n",
              "      <th>engine-location</th>\n",
              "      <th>wheel-base</th>\n",
              "      <th>...</th>\n",
              "      <th>engine-size</th>\n",
              "      <th>fuel-system</th>\n",
              "      <th>bore</th>\n",
              "      <th>stroke</th>\n",
              "      <th>compression-ratio</th>\n",
              "      <th>horsepower</th>\n",
              "      <th>peak-rpm</th>\n",
              "      <th>city-mpg</th>\n",
              "      <th>highway-mpg</th>\n",
              "      <th>price</th>\n",
              "    </tr>\n",
              "  </thead>\n",
              "  <tbody>\n",
              "    <tr>\n",
              "      <th>0</th>\n",
              "      <td>3</td>\n",
              "      <td>122.0</td>\n",
              "      <td>alfa-romero</td>\n",
              "      <td>gas</td>\n",
              "      <td>std</td>\n",
              "      <td>two</td>\n",
              "      <td>convertible</td>\n",
              "      <td>rwd</td>\n",
              "      <td>front</td>\n",
              "      <td>88.6</td>\n",
              "      <td>...</td>\n",
              "      <td>130</td>\n",
              "      <td>mpfi</td>\n",
              "      <td>3.47</td>\n",
              "      <td>2.68</td>\n",
              "      <td>9.0</td>\n",
              "      <td>111</td>\n",
              "      <td>5000</td>\n",
              "      <td>21</td>\n",
              "      <td>27</td>\n",
              "      <td>13495</td>\n",
              "    </tr>\n",
              "    <tr>\n",
              "      <th>1</th>\n",
              "      <td>3</td>\n",
              "      <td>122.0</td>\n",
              "      <td>alfa-romero</td>\n",
              "      <td>gas</td>\n",
              "      <td>std</td>\n",
              "      <td>two</td>\n",
              "      <td>convertible</td>\n",
              "      <td>rwd</td>\n",
              "      <td>front</td>\n",
              "      <td>88.6</td>\n",
              "      <td>...</td>\n",
              "      <td>130</td>\n",
              "      <td>mpfi</td>\n",
              "      <td>3.47</td>\n",
              "      <td>2.68</td>\n",
              "      <td>9.0</td>\n",
              "      <td>111</td>\n",
              "      <td>5000</td>\n",
              "      <td>21</td>\n",
              "      <td>27</td>\n",
              "      <td>16500</td>\n",
              "    </tr>\n",
              "    <tr>\n",
              "      <th>2</th>\n",
              "      <td>1</td>\n",
              "      <td>122.0</td>\n",
              "      <td>alfa-romero</td>\n",
              "      <td>gas</td>\n",
              "      <td>std</td>\n",
              "      <td>two</td>\n",
              "      <td>hatchback</td>\n",
              "      <td>rwd</td>\n",
              "      <td>front</td>\n",
              "      <td>94.5</td>\n",
              "      <td>...</td>\n",
              "      <td>152</td>\n",
              "      <td>mpfi</td>\n",
              "      <td>2.68</td>\n",
              "      <td>3.47</td>\n",
              "      <td>9.0</td>\n",
              "      <td>154</td>\n",
              "      <td>5000</td>\n",
              "      <td>19</td>\n",
              "      <td>26</td>\n",
              "      <td>16500</td>\n",
              "    </tr>\n",
              "    <tr>\n",
              "      <th>3</th>\n",
              "      <td>2</td>\n",
              "      <td>164</td>\n",
              "      <td>audi</td>\n",
              "      <td>gas</td>\n",
              "      <td>std</td>\n",
              "      <td>four</td>\n",
              "      <td>sedan</td>\n",
              "      <td>fwd</td>\n",
              "      <td>front</td>\n",
              "      <td>99.8</td>\n",
              "      <td>...</td>\n",
              "      <td>109</td>\n",
              "      <td>mpfi</td>\n",
              "      <td>3.19</td>\n",
              "      <td>3.40</td>\n",
              "      <td>10.0</td>\n",
              "      <td>102</td>\n",
              "      <td>5500</td>\n",
              "      <td>24</td>\n",
              "      <td>30</td>\n",
              "      <td>13950</td>\n",
              "    </tr>\n",
              "    <tr>\n",
              "      <th>4</th>\n",
              "      <td>2</td>\n",
              "      <td>164</td>\n",
              "      <td>audi</td>\n",
              "      <td>gas</td>\n",
              "      <td>std</td>\n",
              "      <td>four</td>\n",
              "      <td>sedan</td>\n",
              "      <td>4wd</td>\n",
              "      <td>front</td>\n",
              "      <td>99.4</td>\n",
              "      <td>...</td>\n",
              "      <td>136</td>\n",
              "      <td>mpfi</td>\n",
              "      <td>3.19</td>\n",
              "      <td>3.40</td>\n",
              "      <td>8.0</td>\n",
              "      <td>115</td>\n",
              "      <td>5500</td>\n",
              "      <td>18</td>\n",
              "      <td>22</td>\n",
              "      <td>17450</td>\n",
              "    </tr>\n",
              "  </tbody>\n",
              "</table>\n",
              "<p>5 rows × 26 columns</p>\n",
              "</div>\n",
              "      <button class=\"colab-df-convert\" onclick=\"convertToInteractive('df-7601f1f9-9a5c-4c38-8116-d08cc0d79b40')\"\n",
              "              title=\"Convert this dataframe to an interactive table.\"\n",
              "              style=\"display:none;\">\n",
              "        \n",
              "  <svg xmlns=\"http://www.w3.org/2000/svg\" height=\"24px\"viewBox=\"0 0 24 24\"\n",
              "       width=\"24px\">\n",
              "    <path d=\"M0 0h24v24H0V0z\" fill=\"none\"/>\n",
              "    <path d=\"M18.56 5.44l.94 2.06.94-2.06 2.06-.94-2.06-.94-.94-2.06-.94 2.06-2.06.94zm-11 1L8.5 8.5l.94-2.06 2.06-.94-2.06-.94L8.5 2.5l-.94 2.06-2.06.94zm10 10l.94 2.06.94-2.06 2.06-.94-2.06-.94-.94-2.06-.94 2.06-2.06.94z\"/><path d=\"M17.41 7.96l-1.37-1.37c-.4-.4-.92-.59-1.43-.59-.52 0-1.04.2-1.43.59L10.3 9.45l-7.72 7.72c-.78.78-.78 2.05 0 2.83L4 21.41c.39.39.9.59 1.41.59.51 0 1.02-.2 1.41-.59l7.78-7.78 2.81-2.81c.8-.78.8-2.07 0-2.86zM5.41 20L4 18.59l7.72-7.72 1.47 1.35L5.41 20z\"/>\n",
              "  </svg>\n",
              "      </button>\n",
              "      \n",
              "  <style>\n",
              "    .colab-df-container {\n",
              "      display:flex;\n",
              "      flex-wrap:wrap;\n",
              "      gap: 12px;\n",
              "    }\n",
              "\n",
              "    .colab-df-convert {\n",
              "      background-color: #E8F0FE;\n",
              "      border: none;\n",
              "      border-radius: 50%;\n",
              "      cursor: pointer;\n",
              "      display: none;\n",
              "      fill: #1967D2;\n",
              "      height: 32px;\n",
              "      padding: 0 0 0 0;\n",
              "      width: 32px;\n",
              "    }\n",
              "\n",
              "    .colab-df-convert:hover {\n",
              "      background-color: #E2EBFA;\n",
              "      box-shadow: 0px 1px 2px rgba(60, 64, 67, 0.3), 0px 1px 3px 1px rgba(60, 64, 67, 0.15);\n",
              "      fill: #174EA6;\n",
              "    }\n",
              "\n",
              "    [theme=dark] .colab-df-convert {\n",
              "      background-color: #3B4455;\n",
              "      fill: #D2E3FC;\n",
              "    }\n",
              "\n",
              "    [theme=dark] .colab-df-convert:hover {\n",
              "      background-color: #434B5C;\n",
              "      box-shadow: 0px 1px 3px 1px rgba(0, 0, 0, 0.15);\n",
              "      filter: drop-shadow(0px 1px 2px rgba(0, 0, 0, 0.3));\n",
              "      fill: #FFFFFF;\n",
              "    }\n",
              "  </style>\n",
              "\n",
              "      <script>\n",
              "        const buttonEl =\n",
              "          document.querySelector('#df-7601f1f9-9a5c-4c38-8116-d08cc0d79b40 button.colab-df-convert');\n",
              "        buttonEl.style.display =\n",
              "          google.colab.kernel.accessAllowed ? 'block' : 'none';\n",
              "\n",
              "        async function convertToInteractive(key) {\n",
              "          const element = document.querySelector('#df-7601f1f9-9a5c-4c38-8116-d08cc0d79b40');\n",
              "          const dataTable =\n",
              "            await google.colab.kernel.invokeFunction('convertToInteractive',\n",
              "                                                     [key], {});\n",
              "          if (!dataTable) return;\n",
              "\n",
              "          const docLinkHtml = 'Like what you see? Visit the ' +\n",
              "            '<a target=\"_blank\" href=https://colab.research.google.com/notebooks/data_table.ipynb>data table notebook</a>'\n",
              "            + ' to learn more about interactive tables.';\n",
              "          element.innerHTML = '';\n",
              "          dataTable['output_type'] = 'display_data';\n",
              "          await google.colab.output.renderOutput(dataTable, element);\n",
              "          const docLink = document.createElement('div');\n",
              "          docLink.innerHTML = docLinkHtml;\n",
              "          element.appendChild(docLink);\n",
              "        }\n",
              "      </script>\n",
              "    </div>\n",
              "  </div>\n",
              "  "
            ]
          },
          "metadata": {},
          "execution_count": 25
        }
      ]
    },
    {
      "cell_type": "markdown",
      "source": [
        "CORRECT DATA FORMAT"
      ],
      "metadata": {
        "id": "iC2vnXNvwZmg"
      }
    },
    {
      "cell_type": "code",
      "source": [
        "df.dtypes"
      ],
      "metadata": {
        "colab": {
          "base_uri": "https://localhost:8080/"
        },
        "id": "TnBF3z6iwRcA",
        "outputId": "98328104-1ef9-4247-eafe-af4061a70c53"
      },
      "execution_count": null,
      "outputs": [
        {
          "output_type": "execute_result",
          "data": {
            "text/plain": [
              "symboling              int64\n",
              "normalized-losses     object\n",
              "make                  object\n",
              "fuel-type             object\n",
              "aspiration            object\n",
              "num-of-doors          object\n",
              "body-style            object\n",
              "drive-wheels          object\n",
              "engine-location       object\n",
              "wheel-base           float64\n",
              "length               float64\n",
              "width                float64\n",
              "height               float64\n",
              "curb-weight            int64\n",
              "engine-type           object\n",
              "num-of-cylinders      object\n",
              "engine-size            int64\n",
              "fuel-system           object\n",
              "bore                  object\n",
              "stroke                object\n",
              "compression-ratio    float64\n",
              "horsepower            object\n",
              "peak-rpm              object\n",
              "city-mpg               int64\n",
              "highway-mpg            int64\n",
              "price                 object\n",
              "dtype: object"
            ]
          },
          "metadata": {},
          "execution_count": 31
        }
      ]
    },
    {
      "cell_type": "code",
      "source": [
        "df[[\"bore\", \"stroke\"]] = df[[\"bore\", \"stroke\"]].astype(\"float\")\n",
        "df[[\"normalized-losses\"]] = df[[\"normalized-losses\"]].astype(\"int\")\n",
        "df[[\"price\"]] = df[[\"price\"]].astype(\"float\")\n",
        "df[[\"peak-rpm\"]] = df[[\"peak-rpm\"]].astype(\"float\")"
      ],
      "metadata": {
        "id": "3gnVlRV5wIWo"
      },
      "execution_count": null,
      "outputs": []
    },
    {
      "cell_type": "code",
      "source": [
        "df.dtypes"
      ],
      "metadata": {
        "colab": {
          "base_uri": "https://localhost:8080/"
        },
        "id": "t-AmYYNmwlPl",
        "outputId": "9665c16f-363d-4479-835c-11ab3de318fa"
      },
      "execution_count": null,
      "outputs": [
        {
          "output_type": "execute_result",
          "data": {
            "text/plain": [
              "symboling              int64\n",
              "normalized-losses      int64\n",
              "make                  object\n",
              "fuel-type             object\n",
              "aspiration            object\n",
              "num-of-doors          object\n",
              "body-style            object\n",
              "drive-wheels          object\n",
              "engine-location       object\n",
              "wheel-base           float64\n",
              "length               float64\n",
              "width                float64\n",
              "height               float64\n",
              "curb-weight            int64\n",
              "engine-type           object\n",
              "num-of-cylinders      object\n",
              "engine-size            int64\n",
              "fuel-system           object\n",
              "bore                 float64\n",
              "stroke               float64\n",
              "compression-ratio    float64\n",
              "horsepower            object\n",
              "peak-rpm             float64\n",
              "city-mpg               int64\n",
              "highway-mpg            int64\n",
              "price                float64\n",
              "dtype: object"
            ]
          },
          "metadata": {},
          "execution_count": 33
        }
      ]
    },
    {
      "cell_type": "markdown",
      "source": [
        "DATA STANDARDIZATION"
      ],
      "metadata": {
        "id": "fvgVosqywy4a"
      }
    },
    {
      "cell_type": "code",
      "source": [
        "df.head"
      ],
      "metadata": {
        "colab": {
          "base_uri": "https://localhost:8080/"
        },
        "id": "3Tflcd04wnvE",
        "outputId": "fe31cd7a-8b7a-4f1b-8903-f177a5dcafab"
      },
      "execution_count": null,
      "outputs": [
        {
          "output_type": "execute_result",
          "data": {
            "text/plain": [
              "<bound method NDFrame.head of      symboling  normalized-losses         make fuel-type aspiration  \\\n",
              "0            3                122  alfa-romero       gas        std   \n",
              "1            3                122  alfa-romero       gas        std   \n",
              "2            1                122  alfa-romero       gas        std   \n",
              "3            2                164         audi       gas        std   \n",
              "4            2                164         audi       gas        std   \n",
              "..         ...                ...          ...       ...        ...   \n",
              "196         -1                 95        volvo       gas        std   \n",
              "197         -1                 95        volvo       gas      turbo   \n",
              "198         -1                 95        volvo       gas        std   \n",
              "199         -1                 95        volvo    diesel      turbo   \n",
              "200         -1                 95        volvo       gas      turbo   \n",
              "\n",
              "    num-of-doors   body-style drive-wheels engine-location  wheel-base  ...  \\\n",
              "0            two  convertible          rwd           front        88.6  ...   \n",
              "1            two  convertible          rwd           front        88.6  ...   \n",
              "2            two    hatchback          rwd           front        94.5  ...   \n",
              "3           four        sedan          fwd           front        99.8  ...   \n",
              "4           four        sedan          4wd           front        99.4  ...   \n",
              "..           ...          ...          ...             ...         ...  ...   \n",
              "196         four        sedan          rwd           front       109.1  ...   \n",
              "197         four        sedan          rwd           front       109.1  ...   \n",
              "198         four        sedan          rwd           front       109.1  ...   \n",
              "199         four        sedan          rwd           front       109.1  ...   \n",
              "200         four        sedan          rwd           front       109.1  ...   \n",
              "\n",
              "     engine-size  fuel-system  bore  stroke compression-ratio horsepower  \\\n",
              "0            130         mpfi  3.47    2.68               9.0        111   \n",
              "1            130         mpfi  3.47    2.68               9.0        111   \n",
              "2            152         mpfi  2.68    3.47               9.0        154   \n",
              "3            109         mpfi  3.19    3.40              10.0        102   \n",
              "4            136         mpfi  3.19    3.40               8.0        115   \n",
              "..           ...          ...   ...     ...               ...        ...   \n",
              "196          141         mpfi  3.78    3.15               9.5        114   \n",
              "197          141         mpfi  3.78    3.15               8.7        160   \n",
              "198          173         mpfi  3.58    2.87               8.8        134   \n",
              "199          145          idi  3.01    3.40              23.0        106   \n",
              "200          141         mpfi  3.78    3.15               9.5        114   \n",
              "\n",
              "     peak-rpm city-mpg  highway-mpg    price  \n",
              "0      5000.0       21           27  13495.0  \n",
              "1      5000.0       21           27  16500.0  \n",
              "2      5000.0       19           26  16500.0  \n",
              "3      5500.0       24           30  13950.0  \n",
              "4      5500.0       18           22  17450.0  \n",
              "..        ...      ...          ...      ...  \n",
              "196    5400.0       23           28  16845.0  \n",
              "197    5300.0       19           25  19045.0  \n",
              "198    5500.0       18           23  21485.0  \n",
              "199    4800.0       26           27  22470.0  \n",
              "200    5400.0       19           25  22625.0  \n",
              "\n",
              "[201 rows x 26 columns]>"
            ]
          },
          "metadata": {},
          "execution_count": 34
        }
      ]
    },
    {
      "cell_type": "code",
      "source": [
        "df[\"city-L/100km\"] = 235/df[\"city-mpg\"]"
      ],
      "metadata": {
        "id": "GPA0LP7xw780"
      },
      "execution_count": null,
      "outputs": []
    },
    {
      "cell_type": "code",
      "source": [
        "df.head"
      ],
      "metadata": {
        "colab": {
          "base_uri": "https://localhost:8080/"
        },
        "id": "L-X4RZ9Nw8y2",
        "outputId": "f87357a9-67f3-446a-db3e-237b986b74e0"
      },
      "execution_count": null,
      "outputs": [
        {
          "output_type": "execute_result",
          "data": {
            "text/plain": [
              "<bound method NDFrame.head of      symboling  normalized-losses         make fuel-type aspiration  \\\n",
              "0            3                122  alfa-romero       gas        std   \n",
              "1            3                122  alfa-romero       gas        std   \n",
              "2            1                122  alfa-romero       gas        std   \n",
              "3            2                164         audi       gas        std   \n",
              "4            2                164         audi       gas        std   \n",
              "..         ...                ...          ...       ...        ...   \n",
              "196         -1                 95        volvo       gas        std   \n",
              "197         -1                 95        volvo       gas      turbo   \n",
              "198         -1                 95        volvo       gas        std   \n",
              "199         -1                 95        volvo    diesel      turbo   \n",
              "200         -1                 95        volvo       gas      turbo   \n",
              "\n",
              "    num-of-doors   body-style drive-wheels engine-location  wheel-base  ...  \\\n",
              "0            two  convertible          rwd           front        88.6  ...   \n",
              "1            two  convertible          rwd           front        88.6  ...   \n",
              "2            two    hatchback          rwd           front        94.5  ...   \n",
              "3           four        sedan          fwd           front        99.8  ...   \n",
              "4           four        sedan          4wd           front        99.4  ...   \n",
              "..           ...          ...          ...             ...         ...  ...   \n",
              "196         four        sedan          rwd           front       109.1  ...   \n",
              "197         four        sedan          rwd           front       109.1  ...   \n",
              "198         four        sedan          rwd           front       109.1  ...   \n",
              "199         four        sedan          rwd           front       109.1  ...   \n",
              "200         four        sedan          rwd           front       109.1  ...   \n",
              "\n",
              "     fuel-system  bore  stroke  compression-ratio horsepower peak-rpm  \\\n",
              "0           mpfi  3.47    2.68                9.0        111   5000.0   \n",
              "1           mpfi  3.47    2.68                9.0        111   5000.0   \n",
              "2           mpfi  2.68    3.47                9.0        154   5000.0   \n",
              "3           mpfi  3.19    3.40               10.0        102   5500.0   \n",
              "4           mpfi  3.19    3.40                8.0        115   5500.0   \n",
              "..           ...   ...     ...                ...        ...      ...   \n",
              "196         mpfi  3.78    3.15                9.5        114   5400.0   \n",
              "197         mpfi  3.78    3.15                8.7        160   5300.0   \n",
              "198         mpfi  3.58    2.87                8.8        134   5500.0   \n",
              "199          idi  3.01    3.40               23.0        106   4800.0   \n",
              "200         mpfi  3.78    3.15                9.5        114   5400.0   \n",
              "\n",
              "     city-mpg highway-mpg    price  city-L/100km  \n",
              "0          21          27  13495.0     11.190476  \n",
              "1          21          27  16500.0     11.190476  \n",
              "2          19          26  16500.0     12.368421  \n",
              "3          24          30  13950.0      9.791667  \n",
              "4          18          22  17450.0     13.055556  \n",
              "..        ...         ...      ...           ...  \n",
              "196        23          28  16845.0     10.217391  \n",
              "197        19          25  19045.0     12.368421  \n",
              "198        18          23  21485.0     13.055556  \n",
              "199        26          27  22470.0      9.038462  \n",
              "200        19          25  22625.0     12.368421  \n",
              "\n",
              "[201 rows x 27 columns]>"
            ]
          },
          "metadata": {},
          "execution_count": 36
        }
      ]
    },
    {
      "cell_type": "code",
      "source": [
        "df[\"highway-mpg\"] = 235/df[\"highway-mpg\"]\n"
      ],
      "metadata": {
        "id": "0HaZdDWMxJXU"
      },
      "execution_count": null,
      "outputs": []
    },
    {
      "cell_type": "code",
      "source": [
        "df.rename(columns={'highway-mpg':'highway-L/100km'}, inplace=True)"
      ],
      "metadata": {
        "id": "6hHcv3B6xhrx"
      },
      "execution_count": null,
      "outputs": []
    },
    {
      "cell_type": "code",
      "source": [
        "df.head"
      ],
      "metadata": {
        "colab": {
          "base_uri": "https://localhost:8080/"
        },
        "id": "dNRtXhYUxmim",
        "outputId": "e65661dc-e78e-4bd8-c685-d6b213f33410"
      },
      "execution_count": null,
      "outputs": [
        {
          "output_type": "execute_result",
          "data": {
            "text/plain": [
              "<bound method NDFrame.head of      symboling  normalized-losses         make fuel-type aspiration  \\\n",
              "0            3                122  alfa-romero       gas        std   \n",
              "1            3                122  alfa-romero       gas        std   \n",
              "2            1                122  alfa-romero       gas        std   \n",
              "3            2                164         audi       gas        std   \n",
              "4            2                164         audi       gas        std   \n",
              "..         ...                ...          ...       ...        ...   \n",
              "196         -1                 95        volvo       gas        std   \n",
              "197         -1                 95        volvo       gas      turbo   \n",
              "198         -1                 95        volvo       gas        std   \n",
              "199         -1                 95        volvo    diesel      turbo   \n",
              "200         -1                 95        volvo       gas      turbo   \n",
              "\n",
              "    num-of-doors   body-style drive-wheels engine-location  wheel-base  ...  \\\n",
              "0            two  convertible          rwd           front        88.6  ...   \n",
              "1            two  convertible          rwd           front        88.6  ...   \n",
              "2            two    hatchback          rwd           front        94.5  ...   \n",
              "3           four        sedan          fwd           front        99.8  ...   \n",
              "4           four        sedan          4wd           front        99.4  ...   \n",
              "..           ...          ...          ...             ...         ...  ...   \n",
              "196         four        sedan          rwd           front       109.1  ...   \n",
              "197         four        sedan          rwd           front       109.1  ...   \n",
              "198         four        sedan          rwd           front       109.1  ...   \n",
              "199         four        sedan          rwd           front       109.1  ...   \n",
              "200         four        sedan          rwd           front       109.1  ...   \n",
              "\n",
              "     fuel-system  bore  stroke  compression-ratio horsepower peak-rpm  \\\n",
              "0           mpfi  3.47    2.68                9.0        111   5000.0   \n",
              "1           mpfi  3.47    2.68                9.0        111   5000.0   \n",
              "2           mpfi  2.68    3.47                9.0        154   5000.0   \n",
              "3           mpfi  3.19    3.40               10.0        102   5500.0   \n",
              "4           mpfi  3.19    3.40                8.0        115   5500.0   \n",
              "..           ...   ...     ...                ...        ...      ...   \n",
              "196         mpfi  3.78    3.15                9.5        114   5400.0   \n",
              "197         mpfi  3.78    3.15                8.7        160   5300.0   \n",
              "198         mpfi  3.58    2.87                8.8        134   5500.0   \n",
              "199          idi  3.01    3.40               23.0        106   4800.0   \n",
              "200         mpfi  3.78    3.15                9.5        114   5400.0   \n",
              "\n",
              "     city-mpg highway-L/100km    price  city-L/100km  \n",
              "0          21        8.703704  13495.0     11.190476  \n",
              "1          21        8.703704  16500.0     11.190476  \n",
              "2          19        9.038462  16500.0     12.368421  \n",
              "3          24        7.833333  13950.0      9.791667  \n",
              "4          18       10.681818  17450.0     13.055556  \n",
              "..        ...             ...      ...           ...  \n",
              "196        23        8.392857  16845.0     10.217391  \n",
              "197        19        9.400000  19045.0     12.368421  \n",
              "198        18       10.217391  21485.0     13.055556  \n",
              "199        26        8.703704  22470.0      9.038462  \n",
              "200        19        9.400000  22625.0     12.368421  \n",
              "\n",
              "[201 rows x 27 columns]>"
            ]
          },
          "metadata": {},
          "execution_count": 39
        }
      ]
    },
    {
      "cell_type": "markdown",
      "source": [
        "DATA NORMALIZATION"
      ],
      "metadata": {
        "id": "_eiZJflkxvYD"
      }
    },
    {
      "cell_type": "markdown",
      "source": [
        "To demonstrate normalization, let's say we want to scale the columns \"length\", \"width\" and \"height\".\n",
        "\n",
        "Target: would like to normalize those variables so their value ranges from 0 to 1\n",
        "\n",
        "Approach: replace original value by (original value)/(maximum value)"
      ],
      "metadata": {
        "id": "Jwl6chnmyZTS"
      }
    },
    {
      "cell_type": "code",
      "source": [
        "df[\"length\"] = df[\"length\"]/df[\"length\"].max()\n",
        "df[\"width\"] = df[\"width\"]/df[\"width\"].max()"
      ],
      "metadata": {
        "id": "V9ZtAp7dxpPK"
      },
      "execution_count": null,
      "outputs": []
    },
    {
      "cell_type": "code",
      "source": [
        "df[\"height\"] = df[\"height\"]/df[\"height\"].max()"
      ],
      "metadata": {
        "id": "G3N_Wm0exp8N"
      },
      "execution_count": null,
      "outputs": []
    },
    {
      "cell_type": "code",
      "source": [
        "df[[\"length\",\"width\",\"height\"]].head()"
      ],
      "metadata": {
        "colab": {
          "base_uri": "https://localhost:8080/",
          "height": 206
        },
        "id": "PodoLn9vzHqN",
        "outputId": "9f9a02c2-dd06-4fc3-9177-3e5fde547bb6"
      },
      "execution_count": null,
      "outputs": [
        {
          "output_type": "execute_result",
          "data": {
            "text/plain": [
              "     length     width    height\n",
              "0  0.811148  0.890278  0.816054\n",
              "1  0.811148  0.890278  0.816054\n",
              "2  0.822681  0.909722  0.876254\n",
              "3  0.848630  0.919444  0.908027\n",
              "4  0.848630  0.922222  0.908027"
            ],
            "text/html": [
              "\n",
              "  <div id=\"df-05e8c415-45e6-445e-b3b9-72b765dd072b\">\n",
              "    <div class=\"colab-df-container\">\n",
              "      <div>\n",
              "<style scoped>\n",
              "    .dataframe tbody tr th:only-of-type {\n",
              "        vertical-align: middle;\n",
              "    }\n",
              "\n",
              "    .dataframe tbody tr th {\n",
              "        vertical-align: top;\n",
              "    }\n",
              "\n",
              "    .dataframe thead th {\n",
              "        text-align: right;\n",
              "    }\n",
              "</style>\n",
              "<table border=\"1\" class=\"dataframe\">\n",
              "  <thead>\n",
              "    <tr style=\"text-align: right;\">\n",
              "      <th></th>\n",
              "      <th>length</th>\n",
              "      <th>width</th>\n",
              "      <th>height</th>\n",
              "    </tr>\n",
              "  </thead>\n",
              "  <tbody>\n",
              "    <tr>\n",
              "      <th>0</th>\n",
              "      <td>0.811148</td>\n",
              "      <td>0.890278</td>\n",
              "      <td>0.816054</td>\n",
              "    </tr>\n",
              "    <tr>\n",
              "      <th>1</th>\n",
              "      <td>0.811148</td>\n",
              "      <td>0.890278</td>\n",
              "      <td>0.816054</td>\n",
              "    </tr>\n",
              "    <tr>\n",
              "      <th>2</th>\n",
              "      <td>0.822681</td>\n",
              "      <td>0.909722</td>\n",
              "      <td>0.876254</td>\n",
              "    </tr>\n",
              "    <tr>\n",
              "      <th>3</th>\n",
              "      <td>0.848630</td>\n",
              "      <td>0.919444</td>\n",
              "      <td>0.908027</td>\n",
              "    </tr>\n",
              "    <tr>\n",
              "      <th>4</th>\n",
              "      <td>0.848630</td>\n",
              "      <td>0.922222</td>\n",
              "      <td>0.908027</td>\n",
              "    </tr>\n",
              "  </tbody>\n",
              "</table>\n",
              "</div>\n",
              "      <button class=\"colab-df-convert\" onclick=\"convertToInteractive('df-05e8c415-45e6-445e-b3b9-72b765dd072b')\"\n",
              "              title=\"Convert this dataframe to an interactive table.\"\n",
              "              style=\"display:none;\">\n",
              "        \n",
              "  <svg xmlns=\"http://www.w3.org/2000/svg\" height=\"24px\"viewBox=\"0 0 24 24\"\n",
              "       width=\"24px\">\n",
              "    <path d=\"M0 0h24v24H0V0z\" fill=\"none\"/>\n",
              "    <path d=\"M18.56 5.44l.94 2.06.94-2.06 2.06-.94-2.06-.94-.94-2.06-.94 2.06-2.06.94zm-11 1L8.5 8.5l.94-2.06 2.06-.94-2.06-.94L8.5 2.5l-.94 2.06-2.06.94zm10 10l.94 2.06.94-2.06 2.06-.94-2.06-.94-.94-2.06-.94 2.06-2.06.94z\"/><path d=\"M17.41 7.96l-1.37-1.37c-.4-.4-.92-.59-1.43-.59-.52 0-1.04.2-1.43.59L10.3 9.45l-7.72 7.72c-.78.78-.78 2.05 0 2.83L4 21.41c.39.39.9.59 1.41.59.51 0 1.02-.2 1.41-.59l7.78-7.78 2.81-2.81c.8-.78.8-2.07 0-2.86zM5.41 20L4 18.59l7.72-7.72 1.47 1.35L5.41 20z\"/>\n",
              "  </svg>\n",
              "      </button>\n",
              "      \n",
              "  <style>\n",
              "    .colab-df-container {\n",
              "      display:flex;\n",
              "      flex-wrap:wrap;\n",
              "      gap: 12px;\n",
              "    }\n",
              "\n",
              "    .colab-df-convert {\n",
              "      background-color: #E8F0FE;\n",
              "      border: none;\n",
              "      border-radius: 50%;\n",
              "      cursor: pointer;\n",
              "      display: none;\n",
              "      fill: #1967D2;\n",
              "      height: 32px;\n",
              "      padding: 0 0 0 0;\n",
              "      width: 32px;\n",
              "    }\n",
              "\n",
              "    .colab-df-convert:hover {\n",
              "      background-color: #E2EBFA;\n",
              "      box-shadow: 0px 1px 2px rgba(60, 64, 67, 0.3), 0px 1px 3px 1px rgba(60, 64, 67, 0.15);\n",
              "      fill: #174EA6;\n",
              "    }\n",
              "\n",
              "    [theme=dark] .colab-df-convert {\n",
              "      background-color: #3B4455;\n",
              "      fill: #D2E3FC;\n",
              "    }\n",
              "\n",
              "    [theme=dark] .colab-df-convert:hover {\n",
              "      background-color: #434B5C;\n",
              "      box-shadow: 0px 1px 3px 1px rgba(0, 0, 0, 0.15);\n",
              "      filter: drop-shadow(0px 1px 2px rgba(0, 0, 0, 0.3));\n",
              "      fill: #FFFFFF;\n",
              "    }\n",
              "  </style>\n",
              "\n",
              "      <script>\n",
              "        const buttonEl =\n",
              "          document.querySelector('#df-05e8c415-45e6-445e-b3b9-72b765dd072b button.colab-df-convert');\n",
              "        buttonEl.style.display =\n",
              "          google.colab.kernel.accessAllowed ? 'block' : 'none';\n",
              "\n",
              "        async function convertToInteractive(key) {\n",
              "          const element = document.querySelector('#df-05e8c415-45e6-445e-b3b9-72b765dd072b');\n",
              "          const dataTable =\n",
              "            await google.colab.kernel.invokeFunction('convertToInteractive',\n",
              "                                                     [key], {});\n",
              "          if (!dataTable) return;\n",
              "\n",
              "          const docLinkHtml = 'Like what you see? Visit the ' +\n",
              "            '<a target=\"_blank\" href=https://colab.research.google.com/notebooks/data_table.ipynb>data table notebook</a>'\n",
              "            + ' to learn more about interactive tables.';\n",
              "          element.innerHTML = '';\n",
              "          dataTable['output_type'] = 'display_data';\n",
              "          await google.colab.output.renderOutput(dataTable, element);\n",
              "          const docLink = document.createElement('div');\n",
              "          docLink.innerHTML = docLinkHtml;\n",
              "          element.appendChild(docLink);\n",
              "        }\n",
              "      </script>\n",
              "    </div>\n",
              "  </div>\n",
              "  "
            ]
          },
          "metadata": {},
          "execution_count": 45
        }
      ]
    },
    {
      "cell_type": "markdown",
      "source": [
        "BINNING"
      ],
      "metadata": {
        "id": "3LCeCCK5zZm0"
      }
    },
    {
      "cell_type": "markdown",
      "source": [
        "Binning is a process of transforming continuous numerical variables into discrete categorical 'bins' for grouped analysis"
      ],
      "metadata": {
        "id": "7ng2ma2aze-W"
      }
    },
    {
      "cell_type": "code",
      "source": [
        "df[\"horsepower\"]=df[\"horsepower\"].astype(int, copy = True)"
      ],
      "metadata": {
        "id": "Xcwb5jSCzOse"
      },
      "execution_count": null,
      "outputs": []
    },
    {
      "cell_type": "code",
      "source": [
        "%matplotlib inline\n",
        "import matplotlib as plt\n",
        "from matplotlib import pyplot\n",
        "plt.pyplot.hist(df[\"horsepower\"])"
      ],
      "metadata": {
        "colab": {
          "base_uri": "https://localhost:8080/",
          "height": 337
        },
        "id": "_zoHXhNMzvPB",
        "outputId": "8190f420-fb37-489a-b12a-7d98a42bdc52"
      },
      "execution_count": null,
      "outputs": [
        {
          "output_type": "execute_result",
          "data": {
            "text/plain": [
              "(array([44., 45., 48., 24., 14., 16.,  5.,  4.,  0.,  1.]),\n",
              " array([ 48. ,  69.4,  90.8, 112.2, 133.6, 155. , 176.4, 197.8, 219.2,\n",
              "        240.6, 262. ]),\n",
              " <a list of 10 Patch objects>)"
            ]
          },
          "metadata": {},
          "execution_count": 47
        },
        {
          "output_type": "display_data",
          "data": {
            "text/plain": [
              "<Figure size 432x288 with 1 Axes>"
            ],
            "image/png": "[encoded data removed]"
          },
          "metadata": {
            "needs_background": "light"
          }
        }
      ]
    },
    {
      "cell_type": "code",
      "source": [
        "plt.pyplot.xlabel(\"horsepower\")\n",
        "plt.pyplot.ylabel(\"count\")\n",
        "plt.pyplot.title(\"horsepower bins\")"
      ],
      "metadata": {
        "colab": {
          "base_uri": "https://localhost:8080/",
          "height": 312
        },
        "id": "KL5CRdIOzy7m",
        "outputId": "4afeb960-7ee5-4251-9d4d-4377136b87c3"
      },
      "execution_count": null,
      "outputs": [
        {
          "output_type": "execute_result",
          "data": {
            "text/plain": [
              "Text(0.5, 1.0, 'horsepower bins')"
            ]
          },
          "metadata": {},
          "execution_count": 48
        },
        {
          "output_type": "display_data",
          "data": {
            "text/plain": [
              "<Figure size 432x288 with 1 Axes>"
            ],
            "image/png": "[encoded data removed]"
          },
          "metadata": {
            "needs_background": "light"
          }
        }
      ]
    },
    {
      "cell_type": "code",
      "source": [
        "bins=np.linspace(min(df[\"horsepower\"]), max(df[\"horsepower\"]),4)\n",
        "bins"
      ],
      "metadata": {
        "colab": {
          "base_uri": "https://localhost:8080/"
        },
        "id": "B06JiYtVz1WT",
        "outputId": "4a7b00fd-2466-4d4d-d170-47dcaf70e9a2"
      },
      "execution_count": null,
      "outputs": [
        {
          "output_type": "execute_result",
          "data": {
            "text/plain": [
              "array([ 48.        , 119.33333333, 190.66666667, 262.        ])"
            ]
          },
          "metadata": {},
          "execution_count": 49
        }
      ]
    },
    {
      "cell_type": "code",
      "source": [
        "group_names = [\"Low\",\"Medium\",\"High\"]"
      ],
      "metadata": {
        "id": "O6acUJcG0HHb"
      },
      "execution_count": null,
      "outputs": []
    },
    {
      "cell_type": "code",
      "source": [
        "df[\"horsepower-binned\"] = pd.cut(df[\"horsepower\"],bins,labels=group_names,include_lowest=True)\n",
        "df[[\"horsepower\",\"horsepower-binned\"]].head(20)"
      ],
      "metadata": {
        "colab": {
          "base_uri": "https://localhost:8080/",
          "height": 676
        },
        "id": "JydrrJI30cEF",
        "outputId": "7d826fa1-bd82-43ca-d9c8-6a2998d7db6b"
      },
      "execution_count": null,
      "outputs": [
        {
          "output_type": "execute_result",
          "data": {
            "text/plain": [
              "    horsepower horsepower-binned\n",
              "0          111               Low\n",
              "1          111               Low\n",
              "2          154            Medium\n",
              "3          102               Low\n",
              "4          115               Low\n",
              "5          110               Low\n",
              "6          110               Low\n",
              "7          110               Low\n",
              "8          140            Medium\n",
              "9          101               Low\n",
              "10         101               Low\n",
              "11         121            Medium\n",
              "12         121            Medium\n",
              "13         121            Medium\n",
              "14         182            Medium\n",
              "15         182            Medium\n",
              "16         182            Medium\n",
              "17          48               Low\n",
              "18          70               Low\n",
              "19          70               Low"
            ],
            "text/html": [
              "\n",
              "  <div id=\"df-8813c8ff-90c9-441f-985b-32629ddb41ed\">\n",
              "    <div class=\"colab-df-container\">\n",
              "      <div>\n",
              "<style scoped>\n",
              "    .dataframe tbody tr th:only-of-type {\n",
              "        vertical-align: middle;\n",
              "    }\n",
              "\n",
              "    .dataframe tbody tr th {\n",
              "        vertical-align: top;\n",
              "    }\n",
              "\n",
              "    .dataframe thead th {\n",
              "        text-align: right;\n",
              "    }\n",
              "</style>\n",
              "<table border=\"1\" class=\"dataframe\">\n",
              "  <thead>\n",
              "    <tr style=\"text-align: right;\">\n",
              "      <th></th>\n",
              "      <th>horsepower</th>\n",
              "      <th>horsepower-binned</th>\n",
              "    </tr>\n",
              "  </thead>\n",
              "  <tbody>\n",
              "    <tr>\n",
              "      <th>0</th>\n",
              "      <td>111</td>\n",
              "      <td>Low</td>\n",
              "    </tr>\n",
              "    <tr>\n",
              "      <th>1</th>\n",
              "      <td>111</td>\n",
              "      <td>Low</td>\n",
              "    </tr>\n",
              "    <tr>\n",
              "      <th>2</th>\n",
              "      <td>154</td>\n",
              "      <td>Medium</td>\n",
              "    </tr>\n",
              "    <tr>\n",
              "      <th>3</th>\n",
              "      <td>102</td>\n",
              "      <td>Low</td>\n",
              "    </tr>\n",
              "    <tr>\n",
              "      <th>4</th>\n",
              "      <td>115</td>\n",
              "      <td>Low</td>\n",
              "    </tr>\n",
              "    <tr>\n",
              "      <th>5</th>\n",
              "      <td>110</td>\n",
              "      <td>Low</td>\n",
              "    </tr>\n",
              "    <tr>\n",
              "      <th>6</th>\n",
              "      <td>110</td>\n",
              "      <td>Low</td>\n",
              "    </tr>\n",
              "    <tr>\n",
              "      <th>7</th>\n",
              "      <td>110</td>\n",
              "      <td>Low</td>\n",
              "    </tr>\n",
              "    <tr>\n",
              "      <th>8</th>\n",
              "      <td>140</td>\n",
              "      <td>Medium</td>\n",
              "    </tr>\n",
              "    <tr>\n",
              "      <th>9</th>\n",
              "      <td>101</td>\n",
              "      <td>Low</td>\n",
              "    </tr>\n",
              "    <tr>\n",
              "      <th>10</th>\n",
              "      <td>101</td>\n",
              "      <td>Low</td>\n",
              "    </tr>\n",
              "    <tr>\n",
              "      <th>11</th>\n",
              "      <td>121</td>\n",
              "      <td>Medium</td>\n",
              "    </tr>\n",
              "    <tr>\n",
              "      <th>12</th>\n",
              "      <td>121</td>\n",
              "      <td>Medium</td>\n",
              "    </tr>\n",
              "    <tr>\n",
              "      <th>13</th>\n",
              "      <td>121</td>\n",
              "      <td>Medium</td>\n",
              "    </tr>\n",
              "    <tr>\n",
              "      <th>14</th>\n",
              "      <td>182</td>\n",
              "      <td>Medium</td>\n",
              "    </tr>\n",
              "    <tr>\n",
              "      <th>15</th>\n",
              "      <td>182</td>\n",
              "      <td>Medium</td>\n",
              "    </tr>\n",
              "    <tr>\n",
              "      <th>16</th>\n",
              "      <td>182</td>\n",
              "      <td>Medium</td>\n",
              "    </tr>\n",
              "    <tr>\n",
              "      <th>17</th>\n",
              "      <td>48</td>\n",
              "      <td>Low</td>\n",
              "    </tr>\n",
              "    <tr>\n",
              "      <th>18</th>\n",
              "      <td>70</td>\n",
              "      <td>Low</td>\n",
              "    </tr>\n",
              "    <tr>\n",
              "      <th>19</th>\n",
              "      <td>70</td>\n",
              "      <td>Low</td>\n",
              "    </tr>\n",
              "  </tbody>\n",
              "</table>\n",
              "</div>\n",
              "      <button class=\"colab-df-convert\" onclick=\"convertToInteractive('df-8813c8ff-90c9-441f-985b-32629ddb41ed')\"\n",
              "              title=\"Convert this dataframe to an interactive table.\"\n",
              "              style=\"display:none;\">\n",
              "        \n",
              "  <svg xmlns=\"http://www.w3.org/2000/svg\" height=\"24px\"viewBox=\"0 0 24 24\"\n",
              "       width=\"24px\">\n",
              "    <path d=\"M0 0h24v24H0V0z\" fill=\"none\"/>\n",
              "    <path d=\"M18.56 5.44l.94 2.06.94-2.06 2.06-.94-2.06-.94-.94-2.06-.94 2.06-2.06.94zm-11 1L8.5 8.5l.94-2.06 2.06-.94-2.06-.94L8.5 2.5l-.94 2.06-2.06.94zm10 10l.94 2.06.94-2.06 2.06-.94-2.06-.94-.94-2.06-.94 2.06-2.06.94z\"/><path d=\"M17.41 7.96l-1.37-1.37c-.4-.4-.92-.59-1.43-.59-.52 0-1.04.2-1.43.59L10.3 9.45l-7.72 7.72c-.78.78-.78 2.05 0 2.83L4 21.41c.39.39.9.59 1.41.59.51 0 1.02-.2 1.41-.59l7.78-7.78 2.81-2.81c.8-.78.8-2.07 0-2.86zM5.41 20L4 18.59l7.72-7.72 1.47 1.35L5.41 20z\"/>\n",
              "  </svg>\n",
              "      </button>\n",
              "      \n",
              "  <style>\n",
              "    .colab-df-container {\n",
              "      display:flex;\n",
              "      flex-wrap:wrap;\n",
              "      gap: 12px;\n",
              "    }\n",
              "\n",
              "    .colab-df-convert {\n",
              "      background-color: #E8F0FE;\n",
              "      border: none;\n",
              "      border-radius: 50%;\n",
              "      cursor: pointer;\n",
              "      display: none;\n",
              "      fill: #1967D2;\n",
              "      height: 32px;\n",
              "      padding: 0 0 0 0;\n",
              "      width: 32px;\n",
              "    }\n",
              "\n",
              "    .colab-df-convert:hover {\n",
              "      background-color: #E2EBFA;\n",
              "      box-shadow: 0px 1px 2px rgba(60, 64, 67, 0.3), 0px 1px 3px 1px rgba(60, 64, 67, 0.15);\n",
              "      fill: #174EA6;\n",
              "    }\n",
              "\n",
              "    [theme=dark] .colab-df-convert {\n",
              "      background-color: #3B4455;\n",
              "      fill: #D2E3FC;\n",
              "    }\n",
              "\n",
              "    [theme=dark] .colab-df-convert:hover {\n",
              "      background-color: #434B5C;\n",
              "      box-shadow: 0px 1px 3px 1px rgba(0, 0, 0, 0.15);\n",
              "      filter: drop-shadow(0px 1px 2px rgba(0, 0, 0, 0.3));\n",
              "      fill: #FFFFFF;\n",
              "    }\n",
              "  </style>\n",
              "\n",
              "      <script>\n",
              "        const buttonEl =\n",
              "          document.querySelector('#df-8813c8ff-90c9-441f-985b-32629ddb41ed button.colab-df-convert');\n",
              "        buttonEl.style.display =\n",
              "          google.colab.kernel.accessAllowed ? 'block' : 'none';\n",
              "\n",
              "        async function convertToInteractive(key) {\n",
              "          const element = document.querySelector('#df-8813c8ff-90c9-441f-985b-32629ddb41ed');\n",
              "          const dataTable =\n",
              "            await google.colab.kernel.invokeFunction('convertToInteractive',\n",
              "                                                     [key], {});\n",
              "          if (!dataTable) return;\n",
              "\n",
              "          const docLinkHtml = 'Like what you see? Visit the ' +\n",
              "            '<a target=\"_blank\" href=https://colab.research.google.com/notebooks/data_table.ipynb>data table notebook</a>'\n",
              "            + ' to learn more about interactive tables.';\n",
              "          element.innerHTML = '';\n",
              "          dataTable['output_type'] = 'display_data';\n",
              "          await google.colab.output.renderOutput(dataTable, element);\n",
              "          const docLink = document.createElement('div');\n",
              "          docLink.innerHTML = docLinkHtml;\n",
              "          element.appendChild(docLink);\n",
              "        }\n",
              "      </script>\n",
              "    </div>\n",
              "  </div>\n",
              "  "
            ]
          },
          "metadata": {},
          "execution_count": 51
        }
      ]
    },
    {
      "cell_type": "code",
      "source": [
        "df[\"horsepower-binned\"].value_counts()"
      ],
      "metadata": {
        "colab": {
          "base_uri": "https://localhost:8080/"
        },
        "id": "VJkyFry-07Z6",
        "outputId": "f6d1b18f-7e2a-4b1e-c68d-901004324974"
      },
      "execution_count": null,
      "outputs": [
        {
          "output_type": "execute_result",
          "data": {
            "text/plain": [
              "Low       153\n",
              "Medium     43\n",
              "High        5\n",
              "Name: horsepower-binned, dtype: int64"
            ]
          },
          "metadata": {},
          "execution_count": 52
        }
      ]
    },
    {
      "cell_type": "code",
      "source": [
        "%matplotlib inline\n",
        "import matplotlib as plt\n",
        "from matplotlib import pyplot\n",
        "pyplot.bar(group_names, df[\"horsepower-binned\"].value_counts())\n"
      ],
      "metadata": {
        "colab": {
          "base_uri": "https://localhost:8080/",
          "height": 285
        },
        "id": "zaeJq3Rb1C7y",
        "outputId": "e08972f9-8412-47fd-cd52-a5d4db4bb381"
      },
      "execution_count": null,
      "outputs": [
        {
          "output_type": "execute_result",
          "data": {
            "text/plain": [
              "<BarContainer object of 3 artists>"
            ]
          },
          "metadata": {},
          "execution_count": 53
        },
        {
          "output_type": "display_data",
          "data": {
            "text/plain": [
              "<Figure size 432x288 with 1 Axes>"
            ],
            "image/png": "[encoded data removed]"
          },
          "metadata": {
            "needs_background": "light"
          }
        }
      ]
    },
    {
      "cell_type": "code",
      "source": [
        "plt.pyplot.xlabel(\"horsepower\")\n",
        "plt.pyplot.ylabel(\"count\")\n",
        "plt.pyplot.title(\"horsepower bins\")"
      ],
      "metadata": {
        "colab": {
          "base_uri": "https://localhost:8080/",
          "height": 312
        },
        "id": "kbM1LLeM1Z9R",
        "outputId": "cc412460-8d63-47ca-91ac-696066cd74f9"
      },
      "execution_count": null,
      "outputs": [
        {
          "output_type": "execute_result",
          "data": {
            "text/plain": [
              "Text(0.5, 1.0, 'horsepower bins')"
            ]
          },
          "metadata": {},
          "execution_count": 54
        },
        {
          "output_type": "display_data",
          "data": {
            "text/plain": [
              "<Figure size 432x288 with 1 Axes>"
            ],
            "image/png": "[encoded data removed]"
          },
          "metadata": {
            "needs_background": "light"
          }
        }
      ]
    },
    {
      "cell_type": "markdown",
      "source": [
        "BINS VISUALIZATION"
      ],
      "metadata": {
        "id": "dcBWiqjJ1e4O"
      }
    },
    {
      "cell_type": "code",
      "source": [
        "%matplotlib inline\n",
        "import matplotlib as plt\n",
        "from matplotlib import pyplot"
      ],
      "metadata": {
        "id": "wtFq07g31cc2"
      },
      "execution_count": null,
      "outputs": []
    },
    {
      "cell_type": "code",
      "source": [
        "plt.pyplot.hist(df[\"horsepower\"], bins = 3)\n",
        "\n",
        "# set x/y labels and plot title\n",
        "plt.pyplot.xlabel(\"horsepower\")\n",
        "plt.pyplot.ylabel(\"count\")\n",
        "plt.pyplot.title(\"horsepower bins\")"
      ],
      "metadata": {
        "colab": {
          "base_uri": "https://localhost:8080/",
          "height": 312
        },
        "id": "uRWdoFqC1kPp",
        "outputId": "885a692a-2992-4922-fe15-03217634a7cb"
      },
      "execution_count": null,
      "outputs": [
        {
          "output_type": "execute_result",
          "data": {
            "text/plain": [
              "Text(0.5, 1.0, 'horsepower bins')"
            ]
          },
          "metadata": {},
          "execution_count": 56
        },
        {
          "output_type": "display_data",
          "data": {
            "text/plain": [
              "<Figure size 432x288 with 1 Axes>"
            ],
            "image/png": "[encoded data removed]"
          },
          "metadata": {
            "needs_background": "light"
          }
        }
      ]
    },
    {
      "cell_type": "markdown",
      "source": [
        "INDICATOR VARIABLE"
      ],
      "metadata": {
        "id": "Oqmy7Xfi1oSs"
      }
    },
    {
      "cell_type": "code",
      "source": [
        "df.columns"
      ],
      "metadata": {
        "colab": {
          "base_uri": "https://localhost:8080/"
        },
        "id": "Ug-946j31mKU",
        "outputId": "f56b19fb-8972-4538-deb1-d5f47a2f6944"
      },
      "execution_count": null,
      "outputs": [
        {
          "output_type": "execute_result",
          "data": {
            "text/plain": [
              "Index(['symboling', 'normalized-losses', 'make', 'fuel-type', 'aspiration',\n",
              "       'num-of-doors', 'body-style', 'drive-wheels', 'engine-location',\n",
              "       'wheel-base', 'length', 'width', 'height', 'curb-weight', 'engine-type',\n",
              "       'num-of-cylinders', 'engine-size', 'fuel-system', 'bore', 'stroke',\n",
              "       'compression-ratio', 'horsepower', 'peak-rpm', 'city-mpg',\n",
              "       'highway-L/100km', 'price', 'city-L/100km', 'horsepower-binned'],\n",
              "      dtype='object')"
            ]
          },
          "metadata": {},
          "execution_count": 57
        }
      ]
    },
    {
      "cell_type": "code",
      "source": [
        "dummy_variable_1 = pd.get_dummies (df[\"fuel-type\"])\n",
        "dummy_variable_1.head()"
      ],
      "metadata": {
        "colab": {
          "base_uri": "https://localhost:8080/",
          "height": 206
        },
        "id": "n5X1yBcB1uGT",
        "outputId": "d7c47930-b2e5-4b93-895a-0959654f6c65"
      },
      "execution_count": null,
      "outputs": [
        {
          "output_type": "execute_result",
          "data": {
            "text/plain": [
              "   diesel  gas\n",
              "0       0    1\n",
              "1       0    1\n",
              "2       0    1\n",
              "3       0    1\n",
              "4       0    1"
            ],
            "text/html": [
              "\n",
              "  <div id=\"df-32cd7ef7-3b88-4e5c-b716-1a60d810510c\">\n",
              "    <div class=\"colab-df-container\">\n",
              "      <div>\n",
              "<style scoped>\n",
              "    .dataframe tbody tr th:only-of-type {\n",
              "        vertical-align: middle;\n",
              "    }\n",
              "\n",
              "    .dataframe tbody tr th {\n",
              "        vertical-align: top;\n",
              "    }\n",
              "\n",
              "    .dataframe thead th {\n",
              "        text-align: right;\n",
              "    }\n",
              "</style>\n",
              "<table border=\"1\" class=\"dataframe\">\n",
              "  <thead>\n",
              "    <tr style=\"text-align: right;\">\n",
              "      <th></th>\n",
              "      <th>diesel</th>\n",
              "      <th>gas</th>\n",
              "    </tr>\n",
              "  </thead>\n",
              "  <tbody>\n",
              "    <tr>\n",
              "      <th>0</th>\n",
              "      <td>0</td>\n",
              "      <td>1</td>\n",
              "    </tr>\n",
              "    <tr>\n",
              "      <th>1</th>\n",
              "      <td>0</td>\n",
              "      <td>1</td>\n",
              "    </tr>\n",
              "    <tr>\n",
              "      <th>2</th>\n",
              "      <td>0</td>\n",
              "      <td>1</td>\n",
              "    </tr>\n",
              "    <tr>\n",
              "      <th>3</th>\n",
              "      <td>0</td>\n",
              "      <td>1</td>\n",
              "    </tr>\n",
              "    <tr>\n",
              "      <th>4</th>\n",
              "      <td>0</td>\n",
              "      <td>1</td>\n",
              "    </tr>\n",
              "  </tbody>\n",
              "</table>\n",
              "</div>\n",
              "      <button class=\"colab-df-convert\" onclick=\"convertToInteractive('df-32cd7ef7-3b88-4e5c-b716-1a60d810510c')\"\n",
              "              title=\"Convert this dataframe to an interactive table.\"\n",
              "              style=\"display:none;\">\n",
              "        \n",
              "  <svg xmlns=\"http://www.w3.org/2000/svg\" height=\"24px\"viewBox=\"0 0 24 24\"\n",
              "       width=\"24px\">\n",
              "    <path d=\"M0 0h24v24H0V0z\" fill=\"none\"/>\n",
              "    <path d=\"M18.56 5.44l.94 2.06.94-2.06 2.06-.94-2.06-.94-.94-2.06-.94 2.06-2.06.94zm-11 1L8.5 8.5l.94-2.06 2.06-.94-2.06-.94L8.5 2.5l-.94 2.06-2.06.94zm10 10l.94 2.06.94-2.06 2.06-.94-2.06-.94-.94-2.06-.94 2.06-2.06.94z\"/><path d=\"M17.41 7.96l-1.37-1.37c-.4-.4-.92-.59-1.43-.59-.52 0-1.04.2-1.43.59L10.3 9.45l-7.72 7.72c-.78.78-.78 2.05 0 2.83L4 21.41c.39.39.9.59 1.41.59.51 0 1.02-.2 1.41-.59l7.78-7.78 2.81-2.81c.8-.78.8-2.07 0-2.86zM5.41 20L4 18.59l7.72-7.72 1.47 1.35L5.41 20z\"/>\n",
              "  </svg>\n",
              "      </button>\n",
              "      \n",
              "  <style>\n",
              "    .colab-df-container {\n",
              "      display:flex;\n",
              "      flex-wrap:wrap;\n",
              "      gap: 12px;\n",
              "    }\n",
              "\n",
              "    .colab-df-convert {\n",
              "      background-color: #E8F0FE;\n",
              "      border: none;\n",
              "      border-radius: 50%;\n",
              "      cursor: pointer;\n",
              "      display: none;\n",
              "      fill: #1967D2;\n",
              "      height: 32px;\n",
              "      padding: 0 0 0 0;\n",
              "      width: 32px;\n",
              "    }\n",
              "\n",
              "    .colab-df-convert:hover {\n",
              "      background-color: #E2EBFA;\n",
              "      box-shadow: 0px 1px 2px rgba(60, 64, 67, 0.3), 0px 1px 3px 1px rgba(60, 64, 67, 0.15);\n",
              "      fill: #174EA6;\n",
              "    }\n",
              "\n",
              "    [theme=dark] .colab-df-convert {\n",
              "      background-color: #3B4455;\n",
              "      fill: #D2E3FC;\n",
              "    }\n",
              "\n",
              "    [theme=dark] .colab-df-convert:hover {\n",
              "      background-color: #434B5C;\n",
              "      box-shadow: 0px 1px 3px 1px rgba(0, 0, 0, 0.15);\n",
              "      filter: drop-shadow(0px 1px 2px rgba(0, 0, 0, 0.3));\n",
              "      fill: #FFFFFF;\n",
              "    }\n",
              "  </style>\n",
              "\n",
              "      <script>\n",
              "        const buttonEl =\n",
              "          document.querySelector('#df-32cd7ef7-3b88-4e5c-b716-1a60d810510c button.colab-df-convert');\n",
              "        buttonEl.style.display =\n",
              "          google.colab.kernel.accessAllowed ? 'block' : 'none';\n",
              "\n",
              "        async function convertToInteractive(key) {\n",
              "          const element = document.querySelector('#df-32cd7ef7-3b88-4e5c-b716-1a60d810510c');\n",
              "          const dataTable =\n",
              "            await google.colab.kernel.invokeFunction('convertToInteractive',\n",
              "                                                     [key], {});\n",
              "          if (!dataTable) return;\n",
              "\n",
              "          const docLinkHtml = 'Like what you see? Visit the ' +\n",
              "            '<a target=\"_blank\" href=https://colab.research.google.com/notebooks/data_table.ipynb>data table notebook</a>'\n",
              "            + ' to learn more about interactive tables.';\n",
              "          element.innerHTML = '';\n",
              "          dataTable['output_type'] = 'display_data';\n",
              "          await google.colab.output.renderOutput(dataTable, element);\n",
              "          const docLink = document.createElement('div');\n",
              "          docLink.innerHTML = docLinkHtml;\n",
              "          element.appendChild(docLink);\n",
              "        }\n",
              "      </script>\n",
              "    </div>\n",
              "  </div>\n",
              "  "
            ]
          },
          "metadata": {},
          "execution_count": 59
        }
      ]
    },
    {
      "cell_type": "code",
      "source": [
        "dummy_variable_1.rename(columns={'gas':'fuel-type-gas', 'diesel':'fuel-type-diesel'}, inplace=True)\n",
        "dummy_variable_1.head()"
      ],
      "metadata": {
        "colab": {
          "base_uri": "https://localhost:8080/",
          "height": 206
        },
        "id": "K5XiNdyz2Cl3",
        "outputId": "8a547b5e-4ae0-4c14-c8eb-274caf2f7430"
      },
      "execution_count": null,
      "outputs": [
        {
          "output_type": "execute_result",
          "data": {
            "text/plain": [
              "   fuel-type-diesel  fuel-type-gas\n",
              "0                 0              1\n",
              "1                 0              1\n",
              "2                 0              1\n",
              "3                 0              1\n",
              "4                 0              1"
            ],
            "text/html": [
              "\n",
              "  <div id=\"df-04ff5bbb-1f97-4deb-8d26-7fa41df78671\">\n",
              "    <div class=\"colab-df-container\">\n",
              "      <div>\n",
              "<style scoped>\n",
              "    .dataframe tbody tr th:only-of-type {\n",
              "        vertical-align: middle;\n",
              "    }\n",
              "\n",
              "    .dataframe tbody tr th {\n",
              "        vertical-align: top;\n",
              "    }\n",
              "\n",
              "    .dataframe thead th {\n",
              "        text-align: right;\n",
              "    }\n",
              "</style>\n",
              "<table border=\"1\" class=\"dataframe\">\n",
              "  <thead>\n",
              "    <tr style=\"text-align: right;\">\n",
              "      <th></th>\n",
              "      <th>fuel-type-diesel</th>\n",
              "      <th>fuel-type-gas</th>\n",
              "    </tr>\n",
              "  </thead>\n",
              "  <tbody>\n",
              "    <tr>\n",
              "      <th>0</th>\n",
              "      <td>0</td>\n",
              "      <td>1</td>\n",
              "    </tr>\n",
              "    <tr>\n",
              "      <th>1</th>\n",
              "      <td>0</td>\n",
              "      <td>1</td>\n",
              "    </tr>\n",
              "    <tr>\n",
              "      <th>2</th>\n",
              "      <td>0</td>\n",
              "      <td>1</td>\n",
              "    </tr>\n",
              "    <tr>\n",
              "      <th>3</th>\n",
              "      <td>0</td>\n",
              "      <td>1</td>\n",
              "    </tr>\n",
              "    <tr>\n",
              "      <th>4</th>\n",
              "      <td>0</td>\n",
              "      <td>1</td>\n",
              "    </tr>\n",
              "  </tbody>\n",
              "</table>\n",
              "</div>\n",
              "      <button class=\"colab-df-convert\" onclick=\"convertToInteractive('df-04ff5bbb-1f97-4deb-8d26-7fa41df78671')\"\n",
              "              title=\"Convert this dataframe to an interactive table.\"\n",
              "              style=\"display:none;\">\n",
              "        \n",
              "  <svg xmlns=\"http://www.w3.org/2000/svg\" height=\"24px\"viewBox=\"0 0 24 24\"\n",
              "       width=\"24px\">\n",
              "    <path d=\"M0 0h24v24H0V0z\" fill=\"none\"/>\n",
              "    <path d=\"M18.56 5.44l.94 2.06.94-2.06 2.06-.94-2.06-.94-.94-2.06-.94 2.06-2.06.94zm-11 1L8.5 8.5l.94-2.06 2.06-.94-2.06-.94L8.5 2.5l-.94 2.06-2.06.94zm10 10l.94 2.06.94-2.06 2.06-.94-2.06-.94-.94-2.06-.94 2.06-2.06.94z\"/><path d=\"M17.41 7.96l-1.37-1.37c-.4-.4-.92-.59-1.43-.59-.52 0-1.04.2-1.43.59L10.3 9.45l-7.72 7.72c-.78.78-.78 2.05 0 2.83L4 21.41c.39.39.9.59 1.41.59.51 0 1.02-.2 1.41-.59l7.78-7.78 2.81-2.81c.8-.78.8-2.07 0-2.86zM5.41 20L4 18.59l7.72-7.72 1.47 1.35L5.41 20z\"/>\n",
              "  </svg>\n",
              "      </button>\n",
              "      \n",
              "  <style>\n",
              "    .colab-df-container {\n",
              "      display:flex;\n",
              "      flex-wrap:wrap;\n",
              "      gap: 12px;\n",
              "    }\n",
              "\n",
              "    .colab-df-convert {\n",
              "      background-color: #E8F0FE;\n",
              "      border: none;\n",
              "      border-radius: 50%;\n",
              "      cursor: pointer;\n",
              "      display: none;\n",
              "      fill: #1967D2;\n",
              "      height: 32px;\n",
              "      padding: 0 0 0 0;\n",
              "      width: 32px;\n",
              "    }\n",
              "\n",
              "    .colab-df-convert:hover {\n",
              "      background-color: #E2EBFA;\n",
              "      box-shadow: 0px 1px 2px rgba(60, 64, 67, 0.3), 0px 1px 3px 1px rgba(60, 64, 67, 0.15);\n",
              "      fill: #174EA6;\n",
              "    }\n",
              "\n",
              "    [theme=dark] .colab-df-convert {\n",
              "      background-color: #3B4455;\n",
              "      fill: #D2E3FC;\n",
              "    }\n",
              "\n",
              "    [theme=dark] .colab-df-convert:hover {\n",
              "      background-color: #434B5C;\n",
              "      box-shadow: 0px 1px 3px 1px rgba(0, 0, 0, 0.15);\n",
              "      filter: drop-shadow(0px 1px 2px rgba(0, 0, 0, 0.3));\n",
              "      fill: #FFFFFF;\n",
              "    }\n",
              "  </style>\n",
              "\n",
              "      <script>\n",
              "        const buttonEl =\n",
              "          document.querySelector('#df-04ff5bbb-1f97-4deb-8d26-7fa41df78671 button.colab-df-convert');\n",
              "        buttonEl.style.display =\n",
              "          google.colab.kernel.accessAllowed ? 'block' : 'none';\n",
              "\n",
              "        async function convertToInteractive(key) {\n",
              "          const element = document.querySelector('#df-04ff5bbb-1f97-4deb-8d26-7fa41df78671');\n",
              "          const dataTable =\n",
              "            await google.colab.kernel.invokeFunction('convertToInteractive',\n",
              "                                                     [key], {});\n",
              "          if (!dataTable) return;\n",
              "\n",
              "          const docLinkHtml = 'Like what you see? Visit the ' +\n",
              "            '<a target=\"_blank\" href=https://colab.research.google.com/notebooks/data_table.ipynb>data table notebook</a>'\n",
              "            + ' to learn more about interactive tables.';\n",
              "          element.innerHTML = '';\n",
              "          dataTable['output_type'] = 'display_data';\n",
              "          await google.colab.output.renderOutput(dataTable, element);\n",
              "          const docLink = document.createElement('div');\n",
              "          docLink.innerHTML = docLinkHtml;\n",
              "          element.appendChild(docLink);\n",
              "        }\n",
              "      </script>\n",
              "    </div>\n",
              "  </div>\n",
              "  "
            ]
          },
          "metadata": {},
          "execution_count": 62
        }
      ]
    },
    {
      "cell_type": "code",
      "source": [
        "df=pd.concat([df, dummy_variable_1], axis=1)"
      ],
      "metadata": {
        "id": "AyA_OfYc2pa_"
      },
      "execution_count": null,
      "outputs": []
    },
    {
      "cell_type": "code",
      "source": [
        "df.drop(\"fuel-type\",axis=1,inplace=True)"
      ],
      "metadata": {
        "id": "hprTR8Np1wJX"
      },
      "execution_count": null,
      "outputs": []
    },
    {
      "cell_type": "code",
      "source": [
        "df.head()"
      ],
      "metadata": {
        "colab": {
          "base_uri": "https://localhost:8080/",
          "height": 386
        },
        "id": "Dd2wcKqb3C2Y",
        "outputId": "0b3ef1c7-2f9c-4e41-a192-50c5cfc1ceea"
      },
      "execution_count": null,
      "outputs": [
        {
          "output_type": "execute_result",
          "data": {
            "text/plain": [
              "   symboling  normalized-losses         make aspiration num-of-doors  \\\n",
              "0          3                122  alfa-romero        std          two   \n",
              "1          3                122  alfa-romero        std          two   \n",
              "2          1                122  alfa-romero        std          two   \n",
              "3          2                164         audi        std         four   \n",
              "4          2                164         audi        std         four   \n",
              "\n",
              "    body-style drive-wheels engine-location  wheel-base    length  ...  \\\n",
              "0  convertible          rwd           front        88.6  0.811148  ...   \n",
              "1  convertible          rwd           front        88.6  0.811148  ...   \n",
              "2    hatchback          rwd           front        94.5  0.822681  ...   \n",
              "3        sedan          fwd           front        99.8  0.848630  ...   \n",
              "4        sedan          4wd           front        99.4  0.848630  ...   \n",
              "\n",
              "   compression-ratio  horsepower  peak-rpm city-mpg highway-L/100km    price  \\\n",
              "0                9.0         111    5000.0       21        8.703704  13495.0   \n",
              "1                9.0         111    5000.0       21        8.703704  16500.0   \n",
              "2                9.0         154    5000.0       19        9.038462  16500.0   \n",
              "3               10.0         102    5500.0       24        7.833333  13950.0   \n",
              "4                8.0         115    5500.0       18       10.681818  17450.0   \n",
              "\n",
              "  city-L/100km  horsepower-binned  fuel-type-diesel  fuel-type-gas  \n",
              "0    11.190476                Low                 0              1  \n",
              "1    11.190476                Low                 0              1  \n",
              "2    12.368421             Medium                 0              1  \n",
              "3     9.791667                Low                 0              1  \n",
              "4    13.055556                Low                 0              1  \n",
              "\n",
              "[5 rows x 29 columns]"
            ],
            "text/html": [
              "\n",
              "  <div id=\"df-26537ffe-9ed2-4811-b886-ddfedda757e8\">\n",
              "    <div class=\"colab-df-container\">\n",
              "      <div>\n",
              "<style scoped>\n",
              "    .dataframe tbody tr th:only-of-type {\n",
              "        vertical-align: middle;\n",
              "    }\n",
              "\n",
              "    .dataframe tbody tr th {\n",
              "        vertical-align: top;\n",
              "    }\n",
              "\n",
              "    .dataframe thead th {\n",
              "        text-align: right;\n",
              "    }\n",
              "</style>\n",
              "<table border=\"1\" class=\"dataframe\">\n",
              "  <thead>\n",
              "    <tr style=\"text-align: right;\">\n",
              "      <th></th>\n",
              "      <th>symboling</th>\n",
              "      <th>normalized-losses</th>\n",
              "      <th>make</th>\n",
              "      <th>aspiration</th>\n",
              "      <th>num-of-doors</th>\n",
              "      <th>body-style</th>\n",
              "      <th>drive-wheels</th>\n",
              "      <th>engine-location</th>\n",
              "      <th>wheel-base</th>\n",
              "      <th>length</th>\n",
              "      <th>...</th>\n",
              "      <th>compression-ratio</th>\n",
              "      <th>horsepower</th>\n",
              "      <th>peak-rpm</th>\n",
              "      <th>city-mpg</th>\n",
              "      <th>highway-L/100km</th>\n",
              "      <th>price</th>\n",
              "      <th>city-L/100km</th>\n",
              "      <th>horsepower-binned</th>\n",
              "      <th>fuel-type-diesel</th>\n",
              "      <th>fuel-type-gas</th>\n",
              "    </tr>\n",
              "  </thead>\n",
              "  <tbody>\n",
              "    <tr>\n",
              "      <th>0</th>\n",
              "      <td>3</td>\n",
              "      <td>122</td>\n",
              "      <td>alfa-romero</td>\n",
              "      <td>std</td>\n",
              "      <td>two</td>\n",
              "      <td>convertible</td>\n",
              "      <td>rwd</td>\n",
              "      <td>front</td>\n",
              "      <td>88.6</td>\n",
              "      <td>0.811148</td>\n",
              "      <td>...</td>\n",
              "      <td>9.0</td>\n",
              "      <td>111</td>\n",
              "      <td>5000.0</td>\n",
              "      <td>21</td>\n",
              "      <td>8.703704</td>\n",
              "      <td>13495.0</td>\n",
              "      <td>11.190476</td>\n",
              "      <td>Low</td>\n",
              "      <td>0</td>\n",
              "      <td>1</td>\n",
              "    </tr>\n",
              "    <tr>\n",
              "      <th>1</th>\n",
              "      <td>3</td>\n",
              "      <td>122</td>\n",
              "      <td>alfa-romero</td>\n",
              "      <td>std</td>\n",
              "      <td>two</td>\n",
              "      <td>convertible</td>\n",
              "      <td>rwd</td>\n",
              "      <td>front</td>\n",
              "      <td>88.6</td>\n",
              "      <td>0.811148</td>\n",
              "      <td>...</td>\n",
              "      <td>9.0</td>\n",
              "      <td>111</td>\n",
              "      <td>5000.0</td>\n",
              "      <td>21</td>\n",
              "      <td>8.703704</td>\n",
              "      <td>16500.0</td>\n",
              "      <td>11.190476</td>\n",
              "      <td>Low</td>\n",
              "      <td>0</td>\n",
              "      <td>1</td>\n",
              "    </tr>\n",
              "    <tr>\n",
              "      <th>2</th>\n",
              "      <td>1</td>\n",
              "      <td>122</td>\n",
              "      <td>alfa-romero</td>\n",
              "      <td>std</td>\n",
              "      <td>two</td>\n",
              "      <td>hatchback</td>\n",
              "      <td>rwd</td>\n",
              "      <td>front</td>\n",
              "      <td>94.5</td>\n",
              "      <td>0.822681</td>\n",
              "      <td>...</td>\n",
              "      <td>9.0</td>\n",
              "      <td>154</td>\n",
              "      <td>5000.0</td>\n",
              "      <td>19</td>\n",
              "      <td>9.038462</td>\n",
              "      <td>16500.0</td>\n",
              "      <td>12.368421</td>\n",
              "      <td>Medium</td>\n",
              "      <td>0</td>\n",
              "      <td>1</td>\n",
              "    </tr>\n",
              "    <tr>\n",
              "      <th>3</th>\n",
              "      <td>2</td>\n",
              "      <td>164</td>\n",
              "      <td>audi</td>\n",
              "      <td>std</td>\n",
              "      <td>four</td>\n",
              "      <td>sedan</td>\n",
              "      <td>fwd</td>\n",
              "      <td>front</td>\n",
              "      <td>99.8</td>\n",
              "      <td>0.848630</td>\n",
              "      <td>...</td>\n",
              "      <td>10.0</td>\n",
              "      <td>102</td>\n",
              "      <td>5500.0</td>\n",
              "      <td>24</td>\n",
              "      <td>7.833333</td>\n",
              "      <td>13950.0</td>\n",
              "      <td>9.791667</td>\n",
              "      <td>Low</td>\n",
              "      <td>0</td>\n",
              "      <td>1</td>\n",
              "    </tr>\n",
              "    <tr>\n",
              "      <th>4</th>\n",
              "      <td>2</td>\n",
              "      <td>164</td>\n",
              "      <td>audi</td>\n",
              "      <td>std</td>\n",
              "      <td>four</td>\n",
              "      <td>sedan</td>\n",
              "      <td>4wd</td>\n",
              "      <td>front</td>\n",
              "      <td>99.4</td>\n",
              "      <td>0.848630</td>\n",
              "      <td>...</td>\n",
              "      <td>8.0</td>\n",
              "      <td>115</td>\n",
              "      <td>5500.0</td>\n",
              "      <td>18</td>\n",
              "      <td>10.681818</td>\n",
              "      <td>17450.0</td>\n",
              "      <td>13.055556</td>\n",
              "      <td>Low</td>\n",
              "      <td>0</td>\n",
              "      <td>1</td>\n",
              "    </tr>\n",
              "  </tbody>\n",
              "</table>\n",
              "<p>5 rows × 29 columns</p>\n",
              "</div>\n",
              "      <button class=\"colab-df-convert\" onclick=\"convertToInteractive('df-26537ffe-9ed2-4811-b886-ddfedda757e8')\"\n",
              "              title=\"Convert this dataframe to an interactive table.\"\n",
              "              style=\"display:none;\">\n",
              "        \n",
              "  <svg xmlns=\"http://www.w3.org/2000/svg\" height=\"24px\"viewBox=\"0 0 24 24\"\n",
              "       width=\"24px\">\n",
              "    <path d=\"M0 0h24v24H0V0z\" fill=\"none\"/>\n",
              "    <path d=\"M18.56 5.44l.94 2.06.94-2.06 2.06-.94-2.06-.94-.94-2.06-.94 2.06-2.06.94zm-11 1L8.5 8.5l.94-2.06 2.06-.94-2.06-.94L8.5 2.5l-.94 2.06-2.06.94zm10 10l.94 2.06.94-2.06 2.06-.94-2.06-.94-.94-2.06-.94 2.06-2.06.94z\"/><path d=\"M17.41 7.96l-1.37-1.37c-.4-.4-.92-.59-1.43-.59-.52 0-1.04.2-1.43.59L10.3 9.45l-7.72 7.72c-.78.78-.78 2.05 0 2.83L4 21.41c.39.39.9.59 1.41.59.51 0 1.02-.2 1.41-.59l7.78-7.78 2.81-2.81c.8-.78.8-2.07 0-2.86zM5.41 20L4 18.59l7.72-7.72 1.47 1.35L5.41 20z\"/>\n",
              "  </svg>\n",
              "      </button>\n",
              "      \n",
              "  <style>\n",
              "    .colab-df-container {\n",
              "      display:flex;\n",
              "      flex-wrap:wrap;\n",
              "      gap: 12px;\n",
              "    }\n",
              "\n",
              "    .colab-df-convert {\n",
              "      background-color: #E8F0FE;\n",
              "      border: none;\n",
              "      border-radius: 50%;\n",
              "      cursor: pointer;\n",
              "      display: none;\n",
              "      fill: #1967D2;\n",
              "      height: 32px;\n",
              "      padding: 0 0 0 0;\n",
              "      width: 32px;\n",
              "    }\n",
              "\n",
              "    .colab-df-convert:hover {\n",
              "      background-color: #E2EBFA;\n",
              "      box-shadow: 0px 1px 2px rgba(60, 64, 67, 0.3), 0px 1px 3px 1px rgba(60, 64, 67, 0.15);\n",
              "      fill: #174EA6;\n",
              "    }\n",
              "\n",
              "    [theme=dark] .colab-df-convert {\n",
              "      background-color: #3B4455;\n",
              "      fill: #D2E3FC;\n",
              "    }\n",
              "\n",
              "    [theme=dark] .colab-df-convert:hover {\n",
              "      background-color: #434B5C;\n",
              "      box-shadow: 0px 1px 3px 1px rgba(0, 0, 0, 0.15);\n",
              "      filter: drop-shadow(0px 1px 2px rgba(0, 0, 0, 0.3));\n",
              "      fill: #FFFFFF;\n",
              "    }\n",
              "  </style>\n",
              "\n",
              "      <script>\n",
              "        const buttonEl =\n",
              "          document.querySelector('#df-26537ffe-9ed2-4811-b886-ddfedda757e8 button.colab-df-convert');\n",
              "        buttonEl.style.display =\n",
              "          google.colab.kernel.accessAllowed ? 'block' : 'none';\n",
              "\n",
              "        async function convertToInteractive(key) {\n",
              "          const element = document.querySelector('#df-26537ffe-9ed2-4811-b886-ddfedda757e8');\n",
              "          const dataTable =\n",
              "            await google.colab.kernel.invokeFunction('convertToInteractive',\n",
              "                                                     [key], {});\n",
              "          if (!dataTable) return;\n",
              "\n",
              "          const docLinkHtml = 'Like what you see? Visit the ' +\n",
              "            '<a target=\"_blank\" href=https://colab.research.google.com/notebooks/data_table.ipynb>data table notebook</a>'\n",
              "            + ' to learn more about interactive tables.';\n",
              "          element.innerHTML = '';\n",
              "          dataTable['output_type'] = 'display_data';\n",
              "          await google.colab.output.renderOutput(dataTable, element);\n",
              "          const docLink = document.createElement('div');\n",
              "          docLink.innerHTML = docLinkHtml;\n",
              "          element.appendChild(docLink);\n",
              "        }\n",
              "      </script>\n",
              "    </div>\n",
              "  </div>\n",
              "  "
            ]
          },
          "metadata": {},
          "execution_count": 66
        }
      ]
    },
    {
      "cell_type": "code",
      "source": [
        "dummy_variable_2= pd.get_dummies (df[\"aspiration\"])"
      ],
      "metadata": {
        "id": "3iQEw1dI3EbZ"
      },
      "execution_count": null,
      "outputs": []
    },
    {
      "cell_type": "code",
      "source": [
        "dummy_variable_2.rename (columns={\"std\":\"aspiration-std\",\"turbo\":\"aspiration-turbo\"}, inplace=True)"
      ],
      "metadata": {
        "id": "CmaQFL6n3X31"
      },
      "execution_count": null,
      "outputs": []
    },
    {
      "cell_type": "code",
      "source": [
        "dummy_variable_2.head()"
      ],
      "metadata": {
        "colab": {
          "base_uri": "https://localhost:8080/",
          "height": 206
        },
        "id": "htpPlT4P3rlf",
        "outputId": "eef03b3e-4914-4f1f-e6d0-faa1eb1e1e47"
      },
      "execution_count": null,
      "outputs": [
        {
          "output_type": "execute_result",
          "data": {
            "text/plain": [
              "   aspiration-std  aspiration-turbo\n",
              "0               1                 0\n",
              "1               1                 0\n",
              "2               1                 0\n",
              "3               1                 0\n",
              "4               1                 0"
            ],
            "text/html": [
              "\n",
              "  <div id=\"df-6acb3cad-f20c-40b5-bfee-51e505638df6\">\n",
              "    <div class=\"colab-df-container\">\n",
              "      <div>\n",
              "<style scoped>\n",
              "    .dataframe tbody tr th:only-of-type {\n",
              "        vertical-align: middle;\n",
              "    }\n",
              "\n",
              "    .dataframe tbody tr th {\n",
              "        vertical-align: top;\n",
              "    }\n",
              "\n",
              "    .dataframe thead th {\n",
              "        text-align: right;\n",
              "    }\n",
              "</style>\n",
              "<table border=\"1\" class=\"dataframe\">\n",
              "  <thead>\n",
              "    <tr style=\"text-align: right;\">\n",
              "      <th></th>\n",
              "      <th>aspiration-std</th>\n",
              "      <th>aspiration-turbo</th>\n",
              "    </tr>\n",
              "  </thead>\n",
              "  <tbody>\n",
              "    <tr>\n",
              "      <th>0</th>\n",
              "      <td>1</td>\n",
              "      <td>0</td>\n",
              "    </tr>\n",
              "    <tr>\n",
              "      <th>1</th>\n",
              "      <td>1</td>\n",
              "      <td>0</td>\n",
              "    </tr>\n",
              "    <tr>\n",
              "      <th>2</th>\n",
              "      <td>1</td>\n",
              "      <td>0</td>\n",
              "    </tr>\n",
              "    <tr>\n",
              "      <th>3</th>\n",
              "      <td>1</td>\n",
              "      <td>0</td>\n",
              "    </tr>\n",
              "    <tr>\n",
              "      <th>4</th>\n",
              "      <td>1</td>\n",
              "      <td>0</td>\n",
              "    </tr>\n",
              "  </tbody>\n",
              "</table>\n",
              "</div>\n",
              "      <button class=\"colab-df-convert\" onclick=\"convertToInteractive('df-6acb3cad-f20c-40b5-bfee-51e505638df6')\"\n",
              "              title=\"Convert this dataframe to an interactive table.\"\n",
              "              style=\"display:none;\">\n",
              "        \n",
              "  <svg xmlns=\"http://www.w3.org/2000/svg\" height=\"24px\"viewBox=\"0 0 24 24\"\n",
              "       width=\"24px\">\n",
              "    <path d=\"M0 0h24v24H0V0z\" fill=\"none\"/>\n",
              "    <path d=\"M18.56 5.44l.94 2.06.94-2.06 2.06-.94-2.06-.94-.94-2.06-.94 2.06-2.06.94zm-11 1L8.5 8.5l.94-2.06 2.06-.94-2.06-.94L8.5 2.5l-.94 2.06-2.06.94zm10 10l.94 2.06.94-2.06 2.06-.94-2.06-.94-.94-2.06-.94 2.06-2.06.94z\"/><path d=\"M17.41 7.96l-1.37-1.37c-.4-.4-.92-.59-1.43-.59-.52 0-1.04.2-1.43.59L10.3 9.45l-7.72 7.72c-.78.78-.78 2.05 0 2.83L4 21.41c.39.39.9.59 1.41.59.51 0 1.02-.2 1.41-.59l7.78-7.78 2.81-2.81c.8-.78.8-2.07 0-2.86zM5.41 20L4 18.59l7.72-7.72 1.47 1.35L5.41 20z\"/>\n",
              "  </svg>\n",
              "      </button>\n",
              "      \n",
              "  <style>\n",
              "    .colab-df-container {\n",
              "      display:flex;\n",
              "      flex-wrap:wrap;\n",
              "      gap: 12px;\n",
              "    }\n",
              "\n",
              "    .colab-df-convert {\n",
              "      background-color: #E8F0FE;\n",
              "      border: none;\n",
              "      border-radius: 50%;\n",
              "      cursor: pointer;\n",
              "      display: none;\n",
              "      fill: #1967D2;\n",
              "      height: 32px;\n",
              "      padding: 0 0 0 0;\n",
              "      width: 32px;\n",
              "    }\n",
              "\n",
              "    .colab-df-convert:hover {\n",
              "      background-color: #E2EBFA;\n",
              "      box-shadow: 0px 1px 2px rgba(60, 64, 67, 0.3), 0px 1px 3px 1px rgba(60, 64, 67, 0.15);\n",
              "      fill: #174EA6;\n",
              "    }\n",
              "\n",
              "    [theme=dark] .colab-df-convert {\n",
              "      background-color: #3B4455;\n",
              "      fill: #D2E3FC;\n",
              "    }\n",
              "\n",
              "    [theme=dark] .colab-df-convert:hover {\n",
              "      background-color: #434B5C;\n",
              "      box-shadow: 0px 1px 3px 1px rgba(0, 0, 0, 0.15);\n",
              "      filter: drop-shadow(0px 1px 2px rgba(0, 0, 0, 0.3));\n",
              "      fill: #FFFFFF;\n",
              "    }\n",
              "  </style>\n",
              "\n",
              "      <script>\n",
              "        const buttonEl =\n",
              "          document.querySelector('#df-6acb3cad-f20c-40b5-bfee-51e505638df6 button.colab-df-convert');\n",
              "        buttonEl.style.display =\n",
              "          google.colab.kernel.accessAllowed ? 'block' : 'none';\n",
              "\n",
              "        async function convertToInteractive(key) {\n",
              "          const element = document.querySelector('#df-6acb3cad-f20c-40b5-bfee-51e505638df6');\n",
              "          const dataTable =\n",
              "            await google.colab.kernel.invokeFunction('convertToInteractive',\n",
              "                                                     [key], {});\n",
              "          if (!dataTable) return;\n",
              "\n",
              "          const docLinkHtml = 'Like what you see? Visit the ' +\n",
              "            '<a target=\"_blank\" href=https://colab.research.google.com/notebooks/data_table.ipynb>data table notebook</a>'\n",
              "            + ' to learn more about interactive tables.';\n",
              "          element.innerHTML = '';\n",
              "          dataTable['output_type'] = 'display_data';\n",
              "          await google.colab.output.renderOutput(dataTable, element);\n",
              "          const docLink = document.createElement('div');\n",
              "          docLink.innerHTML = docLinkHtml;\n",
              "          element.appendChild(docLink);\n",
              "        }\n",
              "      </script>\n",
              "    </div>\n",
              "  </div>\n",
              "  "
            ]
          },
          "metadata": {},
          "execution_count": 69
        }
      ]
    },
    {
      "cell_type": "code",
      "source": [
        "df=pd.concat ([df,dummy_variable_2],axis=1)"
      ],
      "metadata": {
        "id": "yrnZAEfQ3vGb"
      },
      "execution_count": null,
      "outputs": []
    },
    {
      "cell_type": "code",
      "source": [
        "df.drop(\"aspiration\", axis=1,inplace=True)"
      ],
      "metadata": {
        "id": "Q-luygZ13_a1"
      },
      "execution_count": null,
      "outputs": []
    },
    {
      "cell_type": "code",
      "source": [
        "df.to_csv(\"clean_df.csv\")"
      ],
      "metadata": {
        "id": "ByJFV3W54Ibk"
      },
      "execution_count": null,
      "outputs": []
    },
    {
      "cell_type": "markdown",
      "source": [
        "![1.png](data:image/png;base64,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)"
      ],
      "metadata": {
        "id": "kQvRyRnI7oSy"
      }
    },
    {
      "cell_type": "code",
      "source": [],
      "metadata": {
        "id": "dm0BI5iA7vZK"
      },
      "execution_count": null,
      "outputs": []
    },
    {
      "cell_type": "markdown",
      "source": [
        "![2.png](data:image/png;base64,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)"
      ],
      "metadata": {
        "id": "vdhk16rZ72PD"
      }
    },
    {
      "cell_type": "markdown",
      "source": [
        "![3.png](data:image/png;base64,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)"
      ],
      "metadata": {
        "id": "ZgrjUnBl73qo"
      }
    },
    {
      "cell_type": "code",
      "source": [],
      "metadata": {
        "id": "hCKB5qQ_75Pz"
      },
      "execution_count": null,
      "outputs": []
    },
    {
      "cell_type": "markdown",
      "source": [
        "![4.png](data:image/png;base64,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)"
      ],
      "metadata": {
        "id": "MYtcbiOn75cb"
      }
    },
    {
      "cell_type": "markdown",
      "source": [
        "![5A.png](data:image/png;base64,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)"
      ],
      "metadata": {
        "id": "KqufAU2T77FX"
      }
    },
    {
      "cell_type": "markdown",
      "source": [
        "![5B.png](data:image/png;base64,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)"
      ],
      "metadata": {
        "id": "wPS417Gb78hQ"
      }
    },
    {
      "cell_type": "markdown",
      "source": [],
      "metadata": {
        "id": "jcIwSAmt794U"
      }
    },
    {
      "cell_type": "markdown",
      "source": [
        "![PROGRESO_SEM5.png](data:image/png;base64,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)"
      ],
      "metadata": {
        "id": "gScEiAjA8UFv"
      }
    },
    {
      "cell_type": "markdown",
      "source": [],
      "metadata": {
        "id": "wceFdsI78WpW"
      }
    }
  ]
}