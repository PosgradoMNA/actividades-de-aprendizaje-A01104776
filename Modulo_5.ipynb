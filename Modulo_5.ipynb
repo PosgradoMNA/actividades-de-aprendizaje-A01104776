{
  "nbformat": 4,
  "nbformat_minor": 0,
  "metadata": {
    "colab": {
      "provenance": [],
      "collapsed_sections": [],
      "authorship_tag": "ABX9TyMv9EFAroC2Hvfd7nsxKxVg",
      "include_colab_link": true
    },
    "kernelspec": {
      "name": "python3",
      "display_name": "Python 3"
    },
    "language_info": {
      "name": "python"
    }
  },
  "cells": [
    {
      "cell_type": "markdown",
      "metadata": {
        "id": "view-in-github",
        "colab_type": "text"
      },
      "source": [
        "<a href=\"https://colab.research.google.com/github/PosgradoMNA/actividades-de-aprendizaje-A01104776/blob/main/Modulo_5.ipynb\" target=\"_parent\"><img src=\"https://colab.research.google.com/assets/colab-badge.svg\" alt=\"Open In Colab\"/></a>"
      ]
    },
    {
      "cell_type": "code",
      "execution_count": null,
      "metadata": {
        "id": "k7Oa1Da3irje"
      },
      "outputs": [],
      "source": [
        "a=[\"0\",1,\"two\",\"3\",4]"
      ]
    },
    {
      "cell_type": "code",
      "source": [
        "import numpy as np\n"
      ],
      "metadata": {
        "id": "S3lKOX8vl0vW"
      },
      "execution_count": null,
      "outputs": []
    },
    {
      "cell_type": "code",
      "source": [
        "a=np.array([0,1,2,3,4])"
      ],
      "metadata": {
        "id": "5gXdkfh4l4Yi"
      },
      "execution_count": null,
      "outputs": []
    },
    {
      "cell_type": "code",
      "source": [
        "a"
      ],
      "metadata": {
        "colab": {
          "base_uri": "https://localhost:8080/"
        },
        "id": "BCuMEAbdnBLI",
        "outputId": "5a5d1487-3805-45a9-b211-fabaf45a28c3"
      },
      "execution_count": null,
      "outputs": [
        {
          "output_type": "execute_result",
          "data": {
            "text/plain": [
              "array([0, 1, 2, 3, 4])"
            ]
          },
          "metadata": {},
          "execution_count": 16
        }
      ]
    },
    {
      "cell_type": "code",
      "source": [
        "type(a)"
      ],
      "metadata": {
        "colab": {
          "base_uri": "https://localhost:8080/"
        },
        "id": "nFBW5bxjnC5X",
        "outputId": "87a5a5ff-1405-4549-9068-3b052a3beeee"
      },
      "execution_count": null,
      "outputs": [
        {
          "output_type": "execute_result",
          "data": {
            "text/plain": [
              "numpy.ndarray"
            ]
          },
          "metadata": {},
          "execution_count": 17
        }
      ]
    },
    {
      "cell_type": "code",
      "source": [
        "a.dtype"
      ],
      "metadata": {
        "colab": {
          "base_uri": "https://localhost:8080/"
        },
        "id": "-mLYW_O_nFNw",
        "outputId": "f253d798-955f-4d78-88e0-48652b7cb369"
      },
      "execution_count": null,
      "outputs": [
        {
          "output_type": "execute_result",
          "data": {
            "text/plain": [
              "dtype('int64')"
            ]
          },
          "metadata": {},
          "execution_count": 18
        }
      ]
    },
    {
      "cell_type": "code",
      "source": [
        "a.size"
      ],
      "metadata": {
        "colab": {
          "base_uri": "https://localhost:8080/"
        },
        "id": "rOLoi068mxe4",
        "outputId": "6f1dacfc-6b46-4ad8-c410-16827a6cb63b"
      },
      "execution_count": null,
      "outputs": [
        {
          "output_type": "execute_result",
          "data": {
            "text/plain": [
              "5"
            ]
          },
          "metadata": {},
          "execution_count": 13
        }
      ]
    },
    {
      "cell_type": "code",
      "source": [
        "a.ndim"
      ],
      "metadata": {
        "colab": {
          "base_uri": "https://localhost:8080/"
        },
        "id": "Vf4bXYkam2T6",
        "outputId": "fa5f7f19-527c-40c4-d2e5-6cf067785f24"
      },
      "execution_count": null,
      "outputs": [
        {
          "output_type": "execute_result",
          "data": {
            "text/plain": [
              "1"
            ]
          },
          "metadata": {},
          "execution_count": 14
        }
      ]
    },
    {
      "cell_type": "code",
      "source": [
        "a.shape"
      ],
      "metadata": {
        "colab": {
          "base_uri": "https://localhost:8080/"
        },
        "id": "dq38A4Fkm8Po",
        "outputId": "91257926-3e0c-48c0-a6ab-8cf5201a4a88"
      },
      "execution_count": null,
      "outputs": [
        {
          "output_type": "execute_result",
          "data": {
            "text/plain": [
              "(5,)"
            ]
          },
          "metadata": {},
          "execution_count": 15
        }
      ]
    },
    {
      "cell_type": "code",
      "source": [
        "b=np.array([3.1,11.02,6.2,213.2,5.2])"
      ],
      "metadata": {
        "id": "JxSMSIXZnN_w"
      },
      "execution_count": null,
      "outputs": []
    },
    {
      "cell_type": "code",
      "source": [
        "type(b)"
      ],
      "metadata": {
        "colab": {
          "base_uri": "https://localhost:8080/"
        },
        "id": "Fdmz9VfKneS6",
        "outputId": "6ea3bdcc-9f7d-4e3f-e018-416df9dbdd42"
      },
      "execution_count": null,
      "outputs": [
        {
          "output_type": "execute_result",
          "data": {
            "text/plain": [
              "numpy.ndarray"
            ]
          },
          "metadata": {},
          "execution_count": 20
        }
      ]
    },
    {
      "cell_type": "code",
      "source": [
        "b.dtype"
      ],
      "metadata": {
        "colab": {
          "base_uri": "https://localhost:8080/"
        },
        "id": "QGVKkWqXnhJM",
        "outputId": "374c81f6-a5d7-4f8e-9d15-4c176e6f70dc"
      },
      "execution_count": null,
      "outputs": [
        {
          "output_type": "execute_result",
          "data": {
            "text/plain": [
              "dtype('float64')"
            ]
          },
          "metadata": {},
          "execution_count": 21
        }
      ]
    },
    {
      "cell_type": "code",
      "source": [
        "c=np.array([20,1,2,3,4])"
      ],
      "metadata": {
        "id": "ZWRfl8Kvnl66"
      },
      "execution_count": null,
      "outputs": []
    },
    {
      "cell_type": "code",
      "source": [
        "c"
      ],
      "metadata": {
        "colab": {
          "base_uri": "https://localhost:8080/"
        },
        "id": "C7XdWIFonwpQ",
        "outputId": "e477a4a5-9d01-4dda-bd68-b1b79ed1921e"
      },
      "execution_count": null,
      "outputs": [
        {
          "output_type": "execute_result",
          "data": {
            "text/plain": [
              "array([20,  1,  2,  3,  4])"
            ]
          },
          "metadata": {},
          "execution_count": 23
        }
      ]
    },
    {
      "cell_type": "code",
      "source": [
        "c[0]"
      ],
      "metadata": {
        "colab": {
          "base_uri": "https://localhost:8080/"
        },
        "id": "0m-Jeo5tnyQt",
        "outputId": "5c11ff9d-21e8-46ec-ed1a-022dce34758f"
      },
      "execution_count": null,
      "outputs": [
        {
          "output_type": "execute_result",
          "data": {
            "text/plain": [
              "20"
            ]
          },
          "metadata": {},
          "execution_count": 24
        }
      ]
    },
    {
      "cell_type": "code",
      "source": [
        "c[0]=100"
      ],
      "metadata": {
        "id": "S3vtW1qSn8km"
      },
      "execution_count": null,
      "outputs": []
    },
    {
      "cell_type": "code",
      "source": [
        "c"
      ],
      "metadata": {
        "colab": {
          "base_uri": "https://localhost:8080/"
        },
        "id": "do7QtfQon0ke",
        "outputId": "6634d607-becb-498c-9ca9-70fc974d5197"
      },
      "execution_count": null,
      "outputs": [
        {
          "output_type": "execute_result",
          "data": {
            "text/plain": [
              "array([100,   1,   2,   3,   4])"
            ]
          },
          "metadata": {},
          "execution_count": 26
        }
      ]
    },
    {
      "cell_type": "code",
      "source": [
        "c[4]=0"
      ],
      "metadata": {
        "id": "iPfRValZoElK"
      },
      "execution_count": null,
      "outputs": []
    },
    {
      "cell_type": "code",
      "source": [
        "c"
      ],
      "metadata": {
        "colab": {
          "base_uri": "https://localhost:8080/"
        },
        "id": "gC1lOAhsoOYl",
        "outputId": "87172db8-ef2a-4d83-adb6-f0987f6b5af4"
      },
      "execution_count": null,
      "outputs": [
        {
          "output_type": "execute_result",
          "data": {
            "text/plain": [
              "array([100,   1,   2,   3,   0])"
            ]
          },
          "metadata": {},
          "execution_count": 28
        }
      ]
    },
    {
      "cell_type": "code",
      "source": [
        "d=c[1:4]"
      ],
      "metadata": {
        "id": "BK1NQwhcoSAa"
      },
      "execution_count": null,
      "outputs": []
    },
    {
      "cell_type": "code",
      "source": [
        "d"
      ],
      "metadata": {
        "colab": {
          "base_uri": "https://localhost:8080/"
        },
        "id": "mvCEOYXqoPYC",
        "outputId": "5ece0700-85f4-4b7e-f7c8-22e6a474ab7d"
      },
      "execution_count": null,
      "outputs": [
        {
          "output_type": "execute_result",
          "data": {
            "text/plain": [
              "array([1, 2, 3])"
            ]
          },
          "metadata": {},
          "execution_count": 30
        }
      ]
    },
    {
      "cell_type": "code",
      "source": [
        "c[3:5]=300,400"
      ],
      "metadata": {
        "id": "224mKlnSoZ4o"
      },
      "execution_count": null,
      "outputs": []
    },
    {
      "cell_type": "code",
      "source": [
        "c"
      ],
      "metadata": {
        "colab": {
          "base_uri": "https://localhost:8080/"
        },
        "id": "twHkQaLIol3Q",
        "outputId": "9b2157e0-d6d3-4cb2-b8cb-e651991dbf2e"
      },
      "execution_count": null,
      "outputs": [
        {
          "output_type": "execute_result",
          "data": {
            "text/plain": [
              "array([100,   1,   2, 300, 400])"
            ]
          },
          "metadata": {},
          "execution_count": 32
        }
      ]
    },
    {
      "cell_type": "code",
      "source": [
        "u=[1,0]"
      ],
      "metadata": {
        "id": "hW86Vjhqomdl"
      },
      "execution_count": null,
      "outputs": []
    },
    {
      "cell_type": "code",
      "source": [
        "v=[1,0]"
      ],
      "metadata": {
        "id": "iNwRPW51pww1"
      },
      "execution_count": null,
      "outputs": []
    },
    {
      "cell_type": "code",
      "source": [
        "z=[]"
      ],
      "metadata": {
        "id": "4z4RwrmKp2fY"
      },
      "execution_count": null,
      "outputs": []
    },
    {
      "cell_type": "code",
      "source": [
        "u=np.array([1,0])"
      ],
      "metadata": {
        "id": "8CxjIY-zqEmQ"
      },
      "execution_count": null,
      "outputs": []
    },
    {
      "cell_type": "code",
      "source": [
        "v=np.array([0,1])"
      ],
      "metadata": {
        "id": "JQ1AQhQsqIYh"
      },
      "execution_count": null,
      "outputs": []
    },
    {
      "cell_type": "code",
      "source": [
        "z=u+v"
      ],
      "metadata": {
        "id": "jQbNsJNDqMDn"
      },
      "execution_count": null,
      "outputs": []
    },
    {
      "cell_type": "code",
      "source": [
        "z"
      ],
      "metadata": {
        "colab": {
          "base_uri": "https://localhost:8080/"
        },
        "id": "6TgeFt9QqNyr",
        "outputId": "28f5f591-36a1-49c8-ea70-e81ad26fcaee"
      },
      "execution_count": null,
      "outputs": [
        {
          "output_type": "execute_result",
          "data": {
            "text/plain": [
              "array([1, 1])"
            ]
          },
          "metadata": {},
          "execution_count": 41
        }
      ]
    },
    {
      "cell_type": "code",
      "source": [
        "z=u-v"
      ],
      "metadata": {
        "id": "1BXDe2bwqPl_"
      },
      "execution_count": null,
      "outputs": []
    },
    {
      "cell_type": "code",
      "source": [
        "z"
      ],
      "metadata": {
        "colab": {
          "base_uri": "https://localhost:8080/"
        },
        "id": "mBzXJMAiqQnF",
        "outputId": "b3146d9e-dbbc-49a4-9342-ab05bcd31a5e"
      },
      "execution_count": null,
      "outputs": [
        {
          "output_type": "execute_result",
          "data": {
            "text/plain": [
              "array([ 1, -1])"
            ]
          },
          "metadata": {},
          "execution_count": 43
        }
      ]
    },
    {
      "cell_type": "code",
      "source": [
        "y=np.array([1,2])"
      ],
      "metadata": {
        "id": "fxRWbSIaqde-"
      },
      "execution_count": null,
      "outputs": []
    },
    {
      "cell_type": "code",
      "source": [
        "z=2*y"
      ],
      "metadata": {
        "id": "LyWAUavRqvZJ"
      },
      "execution_count": null,
      "outputs": []
    },
    {
      "cell_type": "code",
      "source": [
        "z"
      ],
      "metadata": {
        "colab": {
          "base_uri": "https://localhost:8080/"
        },
        "id": "zUAYqrWWqyLA",
        "outputId": "7d42b64c-8548-469e-ea28-2b5c3710938c"
      },
      "execution_count": null,
      "outputs": [
        {
          "output_type": "execute_result",
          "data": {
            "text/plain": [
              "array([2, 4])"
            ]
          },
          "metadata": {},
          "execution_count": 47
        }
      ]
    },
    {
      "cell_type": "code",
      "source": [
        "u=np.array([1,2])"
      ],
      "metadata": {
        "id": "kndDsgqKq19l"
      },
      "execution_count": null,
      "outputs": []
    },
    {
      "cell_type": "code",
      "source": [
        "v=np.array([3,2])"
      ],
      "metadata": {
        "id": "v9MXVt1druaY"
      },
      "execution_count": null,
      "outputs": []
    },
    {
      "cell_type": "code",
      "source": [
        "z=u*v"
      ],
      "metadata": {
        "id": "bQZwBmHorxcW"
      },
      "execution_count": null,
      "outputs": []
    },
    {
      "cell_type": "code",
      "source": [
        "z"
      ],
      "metadata": {
        "colab": {
          "base_uri": "https://localhost:8080/"
        },
        "id": "qjGIYAw0rzyq",
        "outputId": "5ad3af32-7444-41a4-ce3b-6158ae3b3c3a"
      },
      "execution_count": null,
      "outputs": [
        {
          "output_type": "execute_result",
          "data": {
            "text/plain": [
              "array([3, 4])"
            ]
          },
          "metadata": {},
          "execution_count": 51
        }
      ]
    },
    {
      "cell_type": "code",
      "source": [
        "u=np.array([1,2])"
      ],
      "metadata": {
        "id": "L1AaYKu-sMHL"
      },
      "execution_count": null,
      "outputs": []
    },
    {
      "cell_type": "code",
      "source": [
        "v=np.array([3,1])"
      ],
      "metadata": {
        "id": "5SO6l9Pusdjo"
      },
      "execution_count": null,
      "outputs": []
    },
    {
      "cell_type": "code",
      "source": [
        "result=np.dot(u,v)"
      ],
      "metadata": {
        "id": "iEQ643vxshAS"
      },
      "execution_count": null,
      "outputs": []
    },
    {
      "cell_type": "code",
      "source": [
        "result"
      ],
      "metadata": {
        "colab": {
          "base_uri": "https://localhost:8080/"
        },
        "id": "1KOVv3zfslMf",
        "outputId": "c2ef8b70-3517-431d-b3e9-d7013008e949"
      },
      "execution_count": null,
      "outputs": [
        {
          "output_type": "execute_result",
          "data": {
            "text/plain": [
              "5"
            ]
          },
          "metadata": {},
          "execution_count": 76
        }
      ]
    },
    {
      "cell_type": "code",
      "source": [
        "u=np.array([1,2,3,-1])"
      ],
      "metadata": {
        "id": "6O_7LsrZsmZ1"
      },
      "execution_count": null,
      "outputs": []
    },
    {
      "cell_type": "code",
      "source": [
        "z=u+1"
      ],
      "metadata": {
        "id": "xrGoDb94s6z7"
      },
      "execution_count": null,
      "outputs": []
    },
    {
      "cell_type": "code",
      "source": [
        "z"
      ],
      "metadata": {
        "colab": {
          "base_uri": "https://localhost:8080/"
        },
        "id": "qp_VaIThs9S6",
        "outputId": "028e3c44-e7c0-4616-cb24-378b9bb86863"
      },
      "execution_count": null,
      "outputs": [
        {
          "output_type": "execute_result",
          "data": {
            "text/plain": [
              "array([2, 3, 4, 0])"
            ]
          },
          "metadata": {},
          "execution_count": 58
        }
      ]
    },
    {
      "cell_type": "code",
      "source": [
        "a=np.array([1,-1,1,-1])"
      ],
      "metadata": {
        "id": "ZXHyvzkns-Oa"
      },
      "execution_count": null,
      "outputs": []
    },
    {
      "cell_type": "code",
      "source": [
        "mean_a=a.mean()"
      ],
      "metadata": {
        "id": "pMRVKkpatkB2"
      },
      "execution_count": null,
      "outputs": []
    },
    {
      "cell_type": "code",
      "source": [
        "mean_a"
      ],
      "metadata": {
        "colab": {
          "base_uri": "https://localhost:8080/"
        },
        "id": "WC4Ux13ztsY-",
        "outputId": "3ce32385-ebac-4d16-a4d0-1d152184db65"
      },
      "execution_count": null,
      "outputs": [
        {
          "output_type": "execute_result",
          "data": {
            "text/plain": [
              "0.0"
            ]
          },
          "metadata": {},
          "execution_count": 61
        }
      ]
    },
    {
      "cell_type": "code",
      "source": [
        "b=np.array([1,-2,3,4,5])"
      ],
      "metadata": {
        "id": "0_ZyH0Ritt8b"
      },
      "execution_count": null,
      "outputs": []
    },
    {
      "cell_type": "code",
      "source": [
        "max_b=b.max()"
      ],
      "metadata": {
        "id": "GMCICr74u60J"
      },
      "execution_count": null,
      "outputs": []
    },
    {
      "cell_type": "code",
      "source": [
        "max_b"
      ],
      "metadata": {
        "colab": {
          "base_uri": "https://localhost:8080/"
        },
        "id": "UmpG7v_Wu-kw",
        "outputId": "f18b43db-ffc4-47a8-c804-abf00f602f40"
      },
      "execution_count": null,
      "outputs": [
        {
          "output_type": "execute_result",
          "data": {
            "text/plain": [
              "5"
            ]
          },
          "metadata": {},
          "execution_count": 64
        }
      ]
    },
    {
      "cell_type": "code",
      "source": [
        "np.pi"
      ],
      "metadata": {
        "colab": {
          "base_uri": "https://localhost:8080/"
        },
        "id": "Cv2J7JWYu_3k",
        "outputId": "974f28f1-0df9-4f3b-c454-5f8f114084b9"
      },
      "execution_count": null,
      "outputs": [
        {
          "output_type": "execute_result",
          "data": {
            "text/plain": [
              "3.141592653589793"
            ]
          },
          "metadata": {},
          "execution_count": 65
        }
      ]
    },
    {
      "cell_type": "code",
      "source": [
        "x=np.array([0,np.pi/2,np.pi])"
      ],
      "metadata": {
        "id": "b20sr9wpv-oK"
      },
      "execution_count": null,
      "outputs": []
    },
    {
      "cell_type": "code",
      "source": [
        "y=np.sin(x)"
      ],
      "metadata": {
        "id": "Wdr4CkZ2wJE-"
      },
      "execution_count": null,
      "outputs": []
    },
    {
      "cell_type": "code",
      "source": [
        "y"
      ],
      "metadata": {
        "colab": {
          "base_uri": "https://localhost:8080/"
        },
        "id": "BmV5E5fIwL_h",
        "outputId": "c25dc049-9b0c-4039-a742-feaac8000985"
      },
      "execution_count": null,
      "outputs": [
        {
          "output_type": "execute_result",
          "data": {
            "text/plain": [
              "array([0.0000000e+00, 1.0000000e+00, 1.2246468e-16])"
            ]
          },
          "metadata": {},
          "execution_count": 68
        }
      ]
    },
    {
      "cell_type": "code",
      "source": [
        "x=np.linspace(0,2*np.pi,100)"
      ],
      "metadata": {
        "id": "XwQ1HBInwM5O"
      },
      "execution_count": null,
      "outputs": []
    },
    {
      "cell_type": "code",
      "source": [
        "y=np.sin(x)"
      ],
      "metadata": {
        "id": "lgmzxkw8xVyA"
      },
      "execution_count": null,
      "outputs": []
    },
    {
      "cell_type": "code",
      "source": [
        "y"
      ],
      "metadata": {
        "colab": {
          "base_uri": "https://localhost:8080/"
        },
        "id": "8gvBNK0OxgAx",
        "outputId": "921b23fc-7058-4a97-d547-de5fa5beb8da"
      },
      "execution_count": null,
      "outputs": [
        {
          "output_type": "execute_result",
          "data": {
            "text/plain": [
              "array([ 0.00000000e+00,  6.34239197e-02,  1.26592454e-01,  1.89251244e-01,\n",
              "        2.51147987e-01,  3.12033446e-01,  3.71662456e-01,  4.29794912e-01,\n",
              "        4.86196736e-01,  5.40640817e-01,  5.92907929e-01,  6.42787610e-01,\n",
              "        6.90079011e-01,  7.34591709e-01,  7.76146464e-01,  8.14575952e-01,\n",
              "        8.49725430e-01,  8.81453363e-01,  9.09631995e-01,  9.34147860e-01,\n",
              "        9.54902241e-01,  9.71811568e-01,  9.84807753e-01,  9.93838464e-01,\n",
              "        9.98867339e-01,  9.99874128e-01,  9.96854776e-01,  9.89821442e-01,\n",
              "        9.78802446e-01,  9.63842159e-01,  9.45000819e-01,  9.22354294e-01,\n",
              "        8.95993774e-01,  8.66025404e-01,  8.32569855e-01,  7.95761841e-01,\n",
              "        7.55749574e-01,  7.12694171e-01,  6.66769001e-01,  6.18158986e-01,\n",
              "        5.67059864e-01,  5.13677392e-01,  4.58226522e-01,  4.00930535e-01,\n",
              "        3.42020143e-01,  2.81732557e-01,  2.20310533e-01,  1.58001396e-01,\n",
              "        9.50560433e-02,  3.17279335e-02, -3.17279335e-02, -9.50560433e-02,\n",
              "       -1.58001396e-01, -2.20310533e-01, -2.81732557e-01, -3.42020143e-01,\n",
              "       -4.00930535e-01, -4.58226522e-01, -5.13677392e-01, -5.67059864e-01,\n",
              "       -6.18158986e-01, -6.66769001e-01, -7.12694171e-01, -7.55749574e-01,\n",
              "       -7.95761841e-01, -8.32569855e-01, -8.66025404e-01, -8.95993774e-01,\n",
              "       -9.22354294e-01, -9.45000819e-01, -9.63842159e-01, -9.78802446e-01,\n",
              "       -9.89821442e-01, -9.96854776e-01, -9.99874128e-01, -9.98867339e-01,\n",
              "       -9.93838464e-01, -9.84807753e-01, -9.71811568e-01, -9.54902241e-01,\n",
              "       -9.34147860e-01, -9.09631995e-01, -8.81453363e-01, -8.49725430e-01,\n",
              "       -8.14575952e-01, -7.76146464e-01, -7.34591709e-01, -6.90079011e-01,\n",
              "       -6.42787610e-01, -5.92907929e-01, -5.40640817e-01, -4.86196736e-01,\n",
              "       -4.29794912e-01, -3.71662456e-01, -3.12033446e-01, -2.51147987e-01,\n",
              "       -1.89251244e-01, -1.26592454e-01, -6.34239197e-02, -2.44929360e-16])"
            ]
          },
          "metadata": {},
          "execution_count": 71
        }
      ]
    },
    {
      "cell_type": "code",
      "source": [
        "import matplotlib.pyplot as plt"
      ],
      "metadata": {
        "id": "esSVztIAxkCp"
      },
      "execution_count": null,
      "outputs": []
    },
    {
      "cell_type": "code",
      "source": [
        "%matplotlib inline"
      ],
      "metadata": {
        "id": "u59X_iI9xg1n"
      },
      "execution_count": null,
      "outputs": []
    },
    {
      "cell_type": "code",
      "source": [
        "plt.plot(x,y)"
      ],
      "metadata": {
        "colab": {
          "base_uri": "https://localhost:8080/",
          "height": 282
        },
        "id": "j2wLNZRTxtFt",
        "outputId": "a7922aeb-f658-4c66-9cd4-5af5c2862ed9"
      },
      "execution_count": null,
      "outputs": [
        {
          "output_type": "execute_result",
          "data": {
            "text/plain": [
              "[<matplotlib.lines.Line2D at 0x7f70d5c02b10>]"
            ]
          },
          "metadata": {},
          "execution_count": 74
        },
        {
          "output_type": "display_data",
          "data": {
            "text/plain": [
              "<Figure size 432x288 with 1 Axes>"
            ],
            "image/png": "[encoded data removed]"
          },
          "metadata": {
            "needs_background": "light"
          }
        }
      ]
    },
    {
      "cell_type": "code",
      "source": [
        "np.array([1,-1])*np.array([1,1])"
      ],
      "metadata": {
        "colab": {
          "base_uri": "https://localhost:8080/"
        },
        "id": "Sjb9sacKx_I5",
        "outputId": "7fc2a405-0a6f-458d-93cc-6e816d06753c"
      },
      "execution_count": null,
      "outputs": [
        {
          "output_type": "execute_result",
          "data": {
            "text/plain": [
              "array([ 1, -1])"
            ]
          },
          "metadata": {},
          "execution_count": 75
        }
      ]
    },
    {
      "cell_type": "code",
      "source": [
        "np.dot(np.array([1,-1]),np.array([1,1]))"
      ],
      "metadata": {
        "colab": {
          "base_uri": "https://localhost:8080/"
        },
        "id": "dn5jGh4JyUsp",
        "outputId": "bd0fb67b-07f5-4ffc-f023-21e167c0ba1c"
      },
      "execution_count": null,
      "outputs": [
        {
          "output_type": "execute_result",
          "data": {
            "text/plain": [
              "0"
            ]
          },
          "metadata": {},
          "execution_count": 77
        }
      ]
    },
    {
      "cell_type": "code",
      "source": [
        "a=[\"0\",1,\"two\",\"3\",4]"
      ],
      "metadata": {
        "id": "Oyl9q6wNyuvu"
      },
      "execution_count": null,
      "outputs": []
    },
    {
      "cell_type": "code",
      "source": [
        "print(\"a[0]:\",a[0])"
      ],
      "metadata": {
        "colab": {
          "base_uri": "https://localhost:8080/"
        },
        "id": "wyQpABTsy2bm",
        "outputId": "155e2623-876b-4edb-e420-f76241298d8a"
      },
      "execution_count": null,
      "outputs": [
        {
          "output_type": "stream",
          "name": "stdout",
          "text": [
            "a[0]: 0\n"
          ]
        }
      ]
    },
    {
      "cell_type": "code",
      "source": [
        "print(\"a[1]:\",a[1])"
      ],
      "metadata": {
        "colab": {
          "base_uri": "https://localhost:8080/"
        },
        "id": "MPQGuYAFzAcs",
        "outputId": "49c6cccd-c5cf-436e-96fb-c1178ff0c565"
      },
      "execution_count": null,
      "outputs": [
        {
          "output_type": "stream",
          "name": "stdout",
          "text": [
            "a[1]: 1\n"
          ]
        }
      ]
    },
    {
      "cell_type": "code",
      "source": [
        "print(\"a[0]:\", a[0])\n",
        "print(\"a[1]:\", a[1])\n",
        "print(\"a[2]:\", a[2])\n",
        "print(\"a[3]:\", a[3])\n",
        "print(\"a[4]:\", a[4])"
      ],
      "metadata": {
        "colab": {
          "base_uri": "https://localhost:8080/"
        },
        "id": "Svf_cDiAzVcQ",
        "outputId": "f7e190f4-e3f7-4e67-8dc8-b787556f24db"
      },
      "execution_count": null,
      "outputs": [
        {
          "output_type": "stream",
          "name": "stdout",
          "text": [
            "a[0]: 0\n",
            "a[1]: 1\n",
            "a[2]: two\n",
            "a[3]: 3\n",
            "a[4]: 4\n"
          ]
        }
      ]
    },
    {
      "cell_type": "code",
      "source": [
        "import numpy as np"
      ],
      "metadata": {
        "id": "I40sXSROzdxB"
      },
      "execution_count": null,
      "outputs": []
    },
    {
      "cell_type": "code",
      "source": [
        "a=np.array([0,1,2,3,4])"
      ],
      "metadata": {
        "id": "uJ0r631h0RPv"
      },
      "execution_count": null,
      "outputs": []
    },
    {
      "cell_type": "code",
      "source": [
        "a"
      ],
      "metadata": {
        "colab": {
          "base_uri": "https://localhost:8080/"
        },
        "id": "WIwZ1qR30VhP",
        "outputId": "a132cce6-f72f-4a03-d20a-2d26bedd1464"
      },
      "execution_count": null,
      "outputs": [
        {
          "output_type": "execute_result",
          "data": {
            "text/plain": [
              "array([0, 1, 2, 3, 4])"
            ]
          },
          "metadata": {},
          "execution_count": 86
        }
      ]
    },
    {
      "cell_type": "code",
      "source": [
        "print(\"a[0]:\", a[0])\n",
        "print(\"a[1]:\", a[1])\n",
        "print(\"a[2]:\", a[2])\n",
        "print(\"a[3]:\", a[3])\n",
        "print(\"a[4]:\", a[4])"
      ],
      "metadata": {
        "colab": {
          "base_uri": "https://localhost:8080/"
        },
        "id": "wo1Zktag0Wk3",
        "outputId": "f874bb40-79ca-4092-8d4f-de0d1232ef18"
      },
      "execution_count": null,
      "outputs": [
        {
          "output_type": "stream",
          "name": "stdout",
          "text": [
            "a[0]: 0\n",
            "a[1]: 1\n",
            "a[2]: 2\n",
            "a[3]: 3\n",
            "a[4]: 4\n"
          ]
        }
      ]
    },
    {
      "cell_type": "code",
      "source": [
        "print(np.__version__)"
      ],
      "metadata": {
        "colab": {
          "base_uri": "https://localhost:8080/"
        },
        "id": "IhdzqLs90gmp",
        "outputId": "3d26457a-0d04-4657-aa51-21ccc371ba5f"
      },
      "execution_count": null,
      "outputs": [
        {
          "output_type": "stream",
          "name": "stdout",
          "text": [
            "1.21.6\n"
          ]
        }
      ]
    },
    {
      "cell_type": "code",
      "source": [
        "type(a)"
      ],
      "metadata": {
        "colab": {
          "base_uri": "https://localhost:8080/"
        },
        "id": "yuPc5ceM0qAV",
        "outputId": "b0e146b9-e162-410d-df90-57868de2ef57"
      },
      "execution_count": null,
      "outputs": [
        {
          "output_type": "execute_result",
          "data": {
            "text/plain": [
              "numpy.ndarray"
            ]
          },
          "metadata": {},
          "execution_count": 90
        }
      ]
    },
    {
      "cell_type": "code",
      "source": [
        "a.dtype"
      ],
      "metadata": {
        "colab": {
          "base_uri": "https://localhost:8080/"
        },
        "id": "AotUiNx90kOG",
        "outputId": "124c1db7-1c3a-40ec-bf17-f35b3300b3be"
      },
      "execution_count": null,
      "outputs": [
        {
          "output_type": "execute_result",
          "data": {
            "text/plain": [
              "dtype('int64')"
            ]
          },
          "metadata": {},
          "execution_count": 91
        }
      ]
    },
    {
      "cell_type": "code",
      "source": [
        "b=np.array([3.1,11.02,6.2,213.2,5.2])"
      ],
      "metadata": {
        "id": "8Qk4tqO708tE"
      },
      "execution_count": null,
      "outputs": []
    },
    {
      "cell_type": "code",
      "source": [
        "type(b)"
      ],
      "metadata": {
        "colab": {
          "base_uri": "https://localhost:8080/"
        },
        "id": "arDj54Fw1EP2",
        "outputId": "24cb431c-1137-4f2a-eff1-3b5ac58e3853"
      },
      "execution_count": null,
      "outputs": [
        {
          "output_type": "execute_result",
          "data": {
            "text/plain": [
              "numpy.ndarray"
            ]
          },
          "metadata": {},
          "execution_count": 94
        }
      ]
    },
    {
      "cell_type": "code",
      "source": [
        "b.dtype"
      ],
      "metadata": {
        "colab": {
          "base_uri": "https://localhost:8080/"
        },
        "id": "PqyrFAiY1HJ5",
        "outputId": "c5117dd6-6880-435a-8505-c644701f47fa"
      },
      "execution_count": null,
      "outputs": [
        {
          "output_type": "execute_result",
          "data": {
            "text/plain": [
              "dtype('float64')"
            ]
          },
          "metadata": {},
          "execution_count": 95
        }
      ]
    },
    {
      "cell_type": "code",
      "source": [
        "d = c[1:4]"
      ],
      "metadata": {
        "id": "Q72NuqPd1O3D"
      },
      "execution_count": null,
      "outputs": []
    },
    {
      "cell_type": "code",
      "source": [
        "d"
      ],
      "metadata": {
        "colab": {
          "base_uri": "https://localhost:8080/"
        },
        "id": "BQuLi3sk2z6h",
        "outputId": "db140188-80f3-4ce0-af9e-9858a46b6905"
      },
      "execution_count": null,
      "outputs": [
        {
          "output_type": "execute_result",
          "data": {
            "text/plain": [
              "array([  1,   2, 300])"
            ]
          },
          "metadata": {},
          "execution_count": 97
        }
      ]
    },
    {
      "cell_type": "code",
      "source": [
        "c[3:5] = 300, 400"
      ],
      "metadata": {
        "id": "_VU2jV-R3R_1"
      },
      "execution_count": null,
      "outputs": []
    },
    {
      "cell_type": "code",
      "source": [
        "c"
      ],
      "metadata": {
        "colab": {
          "base_uri": "https://localhost:8080/"
        },
        "id": "Aq3pHXUM3Tkn",
        "outputId": "6812b8c9-87d8-4d8a-8551-3f6d18561091"
      },
      "execution_count": null,
      "outputs": [
        {
          "output_type": "execute_result",
          "data": {
            "text/plain": [
              "array([100,   1,   2, 300, 400])"
            ]
          },
          "metadata": {},
          "execution_count": 99
        }
      ]
    },
    {
      "cell_type": "code",
      "source": [
        "arr=np.array([1,2,3,4,5,6,7])"
      ],
      "metadata": {
        "id": "sx_KPkaR3Uyz"
      },
      "execution_count": null,
      "outputs": []
    },
    {
      "cell_type": "code",
      "source": [
        "print(arr[1:5:2])"
      ],
      "metadata": {
        "colab": {
          "base_uri": "https://localhost:8080/"
        },
        "id": "tPaYIpMh3n8V",
        "outputId": "2612adac-8dec-46e1-e8ec-528ae51459b7"
      },
      "execution_count": null,
      "outputs": [
        {
          "output_type": "stream",
          "name": "stdout",
          "text": [
            "[2 4]\n"
          ]
        }
      ]
    },
    {
      "cell_type": "code",
      "source": [
        "print(arr[:4])"
      ],
      "metadata": {
        "colab": {
          "base_uri": "https://localhost:8080/"
        },
        "id": "6NDoEwVa3lBX",
        "outputId": "4ae95375-9629-4a0b-dae9-26b0c6a01051"
      },
      "execution_count": null,
      "outputs": [
        {
          "output_type": "stream",
          "name": "stdout",
          "text": [
            "[1 2 3 4]\n"
          ]
        }
      ]
    },
    {
      "cell_type": "code",
      "source": [
        "print(arr[4:])print"
      ],
      "metadata": {
        "colab": {
          "base_uri": "https://localhost:8080/",
          "height": 131
        },
        "id": "NMnJ0Rhe4ERQ",
        "outputId": "c6d3a9a3-6a7b-45b7-870a-2fd8c571753b"
      },
      "execution_count": null,
      "outputs": [
        {
          "output_type": "error",
          "ename": "SyntaxError",
          "evalue": "ignored",
          "traceback": [
            "\u001b[0;36m  File \u001b[0;32m\"<ipython-input-104-313f42958d9b>\"\u001b[0;36m, line \u001b[0;32m1\u001b[0m\n\u001b[0;31m    print(arr[4:])print\u001b[0m\n\u001b[0m                      ^\u001b[0m\n\u001b[0;31mSyntaxError\u001b[0m\u001b[0;31m:\u001b[0m invalid syntax\n"
          ]
        }
      ]
    },
    {
      "cell_type": "code",
      "source": [
        "print(arr[1:5:])"
      ],
      "metadata": {
        "colab": {
          "base_uri": "https://localhost:8080/"
        },
        "id": "zVSMahiz4WYt",
        "outputId": "8d051ed9-7fc8-416b-bf1f-5e76b5087cf2"
      },
      "execution_count": null,
      "outputs": [
        {
          "output_type": "stream",
          "name": "stdout",
          "text": [
            "[2 3 4 5]\n"
          ]
        }
      ]
    },
    {
      "cell_type": "code",
      "source": [
        "arr = np.array([1, 2, 3, 4, 5, 6, 7, 8])"
      ],
      "metadata": {
        "id": "VPMtnKmA4Qei"
      },
      "execution_count": null,
      "outputs": []
    },
    {
      "cell_type": "code",
      "source": [
        "print(arr[1:8:2])"
      ],
      "metadata": {
        "colab": {
          "base_uri": "https://localhost:8080/"
        },
        "id": "2ocU9TBL4sA5",
        "outputId": "847ddfc5-b4f3-4c0c-bcbd-060aed02d30c"
      },
      "execution_count": null,
      "outputs": [
        {
          "output_type": "stream",
          "name": "stdout",
          "text": [
            "[2 4 6 8]\n"
          ]
        }
      ]
    },
    {
      "cell_type": "code",
      "source": [
        "select=[0,2,3,4]\n"
      ],
      "metadata": {
        "id": "2Jy7R_XV47FE"
      },
      "execution_count": null,
      "outputs": []
    },
    {
      "cell_type": "code",
      "source": [
        "select\n"
      ],
      "metadata": {
        "colab": {
          "base_uri": "https://localhost:8080/"
        },
        "id": "lBlIaw7P5BGp",
        "outputId": "933c84c8-b7ed-4497-b03a-83510290564a"
      },
      "execution_count": null,
      "outputs": [
        {
          "output_type": "execute_result",
          "data": {
            "text/plain": [
              "[0, 2, 3, 4]"
            ]
          },
          "metadata": {},
          "execution_count": 109
        }
      ]
    },
    {
      "cell_type": "code",
      "source": [
        "d=c[select]"
      ],
      "metadata": {
        "id": "ismCfHD45DUV"
      },
      "execution_count": null,
      "outputs": []
    },
    {
      "cell_type": "code",
      "source": [
        "d"
      ],
      "metadata": {
        "colab": {
          "base_uri": "https://localhost:8080/"
        },
        "id": "_g01Y3vc5Ucb",
        "outputId": "656c2c28-95b5-4bab-fd4c-b0d8cda75d82"
      },
      "execution_count": null,
      "outputs": [
        {
          "output_type": "execute_result",
          "data": {
            "text/plain": [
              "array([100,   2, 300, 400])"
            ]
          },
          "metadata": {},
          "execution_count": 111
        }
      ]
    },
    {
      "cell_type": "code",
      "source": [
        "c[select]=100000"
      ],
      "metadata": {
        "id": "DfC2DP4N5VIc"
      },
      "execution_count": null,
      "outputs": []
    },
    {
      "cell_type": "code",
      "source": [
        "c"
      ],
      "metadata": {
        "colab": {
          "base_uri": "https://localhost:8080/"
        },
        "id": "jGaUoSP85kbN",
        "outputId": "bf4c8f79-0d39-4a3a-e702-335d2d35ed2e"
      },
      "execution_count": null,
      "outputs": [
        {
          "output_type": "execute_result",
          "data": {
            "text/plain": [
              "array([100000,      1, 100000, 100000, 100000])"
            ]
          },
          "metadata": {},
          "execution_count": 113
        }
      ]
    },
    {
      "cell_type": "code",
      "source": [
        "a=np.array([0,1,2,3,4])"
      ],
      "metadata": {
        "id": "ST9TVyoG5k6X"
      },
      "execution_count": null,
      "outputs": []
    },
    {
      "cell_type": "code",
      "source": [
        "a"
      ],
      "metadata": {
        "colab": {
          "base_uri": "https://localhost:8080/"
        },
        "id": "CLttgKql5vZV",
        "outputId": "68855d0c-e51f-4808-b93d-e627cf04c869"
      },
      "execution_count": null,
      "outputs": [
        {
          "output_type": "execute_result",
          "data": {
            "text/plain": [
              "array([0, 1, 2, 3, 4])"
            ]
          },
          "metadata": {},
          "execution_count": 115
        }
      ]
    },
    {
      "cell_type": "code",
      "source": [
        "a.size"
      ],
      "metadata": {
        "colab": {
          "base_uri": "https://localhost:8080/"
        },
        "id": "DFKaRzVJ504L",
        "outputId": "f9b57de8-acfa-47d3-c31b-450f2cabf1f2"
      },
      "execution_count": null,
      "outputs": [
        {
          "output_type": "execute_result",
          "data": {
            "text/plain": [
              "5"
            ]
          },
          "metadata": {},
          "execution_count": 116
        }
      ]
    },
    {
      "cell_type": "code",
      "source": [
        "a.ndim"
      ],
      "metadata": {
        "colab": {
          "base_uri": "https://localhost:8080/"
        },
        "id": "a4wfcQX_532t",
        "outputId": "d4351eca-d444-46d1-d56b-13757b5d6807"
      },
      "execution_count": null,
      "outputs": [
        {
          "output_type": "execute_result",
          "data": {
            "text/plain": [
              "1"
            ]
          },
          "metadata": {},
          "execution_count": 117
        }
      ]
    },
    {
      "cell_type": "code",
      "source": [
        "a.shape"
      ],
      "metadata": {
        "colab": {
          "base_uri": "https://localhost:8080/"
        },
        "id": "CMaGlFYd6AwN",
        "outputId": "9a70c4c6-f43b-45a6-d597-2f3054b2d4f4"
      },
      "execution_count": null,
      "outputs": [
        {
          "output_type": "execute_result",
          "data": {
            "text/plain": [
              "(5,)"
            ]
          },
          "metadata": {},
          "execution_count": 118
        }
      ]
    },
    {
      "cell_type": "code",
      "source": [
        "b = np.array([10, 20, 30, 40, 50, 60, 70])"
      ],
      "metadata": {
        "id": "9DuJEVj56Cdd"
      },
      "execution_count": null,
      "outputs": []
    },
    {
      "cell_type": "code",
      "source": [
        "b.size\n",
        "\n",
        "b.ndim\n",
        "\n",
        "b.shape"
      ],
      "metadata": {
        "colab": {
          "base_uri": "https://localhost:8080/"
        },
        "id": "kthLsz2a6PTP",
        "outputId": "4244646b-1879-4a87-d7b0-cc01913b8d4a"
      },
      "execution_count": null,
      "outputs": [
        {
          "output_type": "execute_result",
          "data": {
            "text/plain": [
              "(7,)"
            ]
          },
          "metadata": {},
          "execution_count": 120
        }
      ]
    },
    {
      "cell_type": "code",
      "source": [
        "a = np.array([1, -1, 1, -1])"
      ],
      "metadata": {
        "id": "tT1XPtYn6Rd0"
      },
      "execution_count": null,
      "outputs": []
    },
    {
      "cell_type": "code",
      "source": [
        "mean=a.mean()"
      ],
      "metadata": {
        "id": "27O-Stwv6fWO"
      },
      "execution_count": null,
      "outputs": []
    },
    {
      "cell_type": "code",
      "source": [
        "mean"
      ],
      "metadata": {
        "colab": {
          "base_uri": "https://localhost:8080/"
        },
        "id": "BeLrcy6D6iMA",
        "outputId": "15bca47d-186a-4725-deea-c422c751ec88"
      },
      "execution_count": null,
      "outputs": [
        {
          "output_type": "execute_result",
          "data": {
            "text/plain": [
              "0.0"
            ]
          },
          "metadata": {},
          "execution_count": 123
        }
      ]
    },
    {
      "cell_type": "code",
      "source": [
        "standard_deviation=a.std()"
      ],
      "metadata": {
        "id": "SkEZyqmO6jBp"
      },
      "execution_count": null,
      "outputs": []
    },
    {
      "cell_type": "code",
      "source": [
        "standard_deviation"
      ],
      "metadata": {
        "colab": {
          "base_uri": "https://localhost:8080/"
        },
        "id": "eSuVM7856oSO",
        "outputId": "c50a8339-6271-4a5f-bdcc-6be9c2692297"
      },
      "execution_count": null,
      "outputs": [
        {
          "output_type": "execute_result",
          "data": {
            "text/plain": [
              "1.0"
            ]
          },
          "metadata": {},
          "execution_count": 125
        }
      ]
    },
    {
      "cell_type": "code",
      "source": [
        "b = np.array([-1, 2, 3, 4, 5])"
      ],
      "metadata": {
        "id": "umttsPbm6qP7"
      },
      "execution_count": null,
      "outputs": []
    },
    {
      "cell_type": "code",
      "source": [
        "max_b=b.max()"
      ],
      "metadata": {
        "id": "6s1awXgf6u5x"
      },
      "execution_count": null,
      "outputs": []
    },
    {
      "cell_type": "code",
      "source": [
        "max_b"
      ],
      "metadata": {
        "colab": {
          "base_uri": "https://localhost:8080/"
        },
        "id": "c1vGR6h660JP",
        "outputId": "80f52b23-6d0d-42b0-a251-0047c2b4f20f"
      },
      "execution_count": null,
      "outputs": [
        {
          "output_type": "execute_result",
          "data": {
            "text/plain": [
              "5"
            ]
          },
          "metadata": {},
          "execution_count": 128
        }
      ]
    },
    {
      "cell_type": "code",
      "source": [
        "min_b=b.min()"
      ],
      "metadata": {
        "id": "moqGY8jI62ZH"
      },
      "execution_count": null,
      "outputs": []
    },
    {
      "cell_type": "code",
      "source": [
        "min_b"
      ],
      "metadata": {
        "colab": {
          "base_uri": "https://localhost:8080/"
        },
        "id": "K-TBkviY686i",
        "outputId": "eaf57361-38cc-49cc-aa3d-bc87f3b71be9"
      },
      "execution_count": null,
      "outputs": [
        {
          "output_type": "execute_result",
          "data": {
            "text/plain": [
              "-1"
            ]
          },
          "metadata": {},
          "execution_count": 130
        }
      ]
    },
    {
      "cell_type": "code",
      "source": [
        "c = np.array([-10, 201, 43, 94, 502])"
      ],
      "metadata": {
        "id": "WxYACcL369tR"
      },
      "execution_count": null,
      "outputs": []
    },
    {
      "cell_type": "code",
      "source": [
        "max_c=c.max()\n",
        "max_c\n",
        "\n",
        "min_c=c.min()\n",
        "min_c\n",
        "\n",
        "Sum=(max_c+min_c)\n",
        "Sum"
      ],
      "metadata": {
        "colab": {
          "base_uri": "https://localhost:8080/"
        },
        "id": "a8Cde0c47qeL",
        "outputId": "a59a712b-f3c3-4610-80ad-be0ff361f4a0"
      },
      "execution_count": null,
      "outputs": [
        {
          "output_type": "execute_result",
          "data": {
            "text/plain": [
              "492"
            ]
          },
          "metadata": {},
          "execution_count": 132
        }
      ]
    },
    {
      "cell_type": "code",
      "source": [
        "u = np.array([1, 0])"
      ],
      "metadata": {
        "id": "AL-UcCde7rmB"
      },
      "execution_count": null,
      "outputs": []
    },
    {
      "cell_type": "code",
      "source": [
        "u"
      ],
      "metadata": {
        "colab": {
          "base_uri": "https://localhost:8080/"
        },
        "id": "CpGUY-D57xGL",
        "outputId": "5adc4600-6df4-472d-b4cd-11b6c0e6522c"
      },
      "execution_count": null,
      "outputs": [
        {
          "output_type": "execute_result",
          "data": {
            "text/plain": [
              "array([1, 0])"
            ]
          },
          "metadata": {},
          "execution_count": 135
        }
      ]
    },
    {
      "cell_type": "code",
      "source": [
        "v = np.array([0, 1])\n",
        "v"
      ],
      "metadata": {
        "colab": {
          "base_uri": "https://localhost:8080/"
        },
        "id": "lGiqR1XE7z74",
        "outputId": "97272b0f-f05d-4752-e612-8732c355134a"
      },
      "execution_count": null,
      "outputs": [
        {
          "output_type": "execute_result",
          "data": {
            "text/plain": [
              "array([0, 1])"
            ]
          },
          "metadata": {},
          "execution_count": 136
        }
      ]
    },
    {
      "cell_type": "code",
      "source": [
        "z=np.add(u,v)"
      ],
      "metadata": {
        "id": "Kvi1ZDBL74Tb"
      },
      "execution_count": null,
      "outputs": []
    },
    {
      "cell_type": "code",
      "source": [
        "z"
      ],
      "metadata": {
        "colab": {
          "base_uri": "https://localhost:8080/"
        },
        "id": "QOYC58Ve77CM",
        "outputId": "eab53087-1912-46a5-a3ac-9af28574a5e5"
      },
      "execution_count": null,
      "outputs": [
        {
          "output_type": "execute_result",
          "data": {
            "text/plain": [
              "array([1, 1])"
            ]
          },
          "metadata": {},
          "execution_count": 138
        }
      ]
    },
    {
      "cell_type": "code",
      "source": [
        "import time "
      ],
      "metadata": {
        "id": "55z1eb_677fM"
      },
      "execution_count": null,
      "outputs": []
    },
    {
      "cell_type": "code",
      "source": [
        "import sys"
      ],
      "metadata": {
        "id": "a5z4kcSZ8Rv3"
      },
      "execution_count": null,
      "outputs": []
    },
    {
      "cell_type": "code",
      "source": [
        "import numpy as np"
      ],
      "metadata": {
        "id": "alBAd9FD8O7P"
      },
      "execution_count": null,
      "outputs": []
    },
    {
      "cell_type": "code",
      "source": [
        "import matplotlib.pyplot as plt\n"
      ],
      "metadata": {
        "id": "IwOloI378Wph"
      },
      "execution_count": null,
      "outputs": []
    },
    {
      "cell_type": "code",
      "source": [
        "%matplotlib inline"
      ],
      "metadata": {
        "id": "TLYbFmk98cp1"
      },
      "execution_count": null,
      "outputs": []
    },
    {
      "cell_type": "code",
      "source": [
        "import time \n",
        "import sys\n",
        "import numpy as np \n",
        "\n",
        "import matplotlib.pyplot as plt\n",
        "%matplotlib inline  \n",
        "\n",
        "def Plotvec1(u, z, v):\n",
        "    \n",
        "    ax = plt.axes() # to generate the full window axes\n",
        "    ax.arrow(0, 0, *u, head_width=0.05, color='r', head_length=0.1)# Add an arrow to the  U Axes with arrow head width 0.05, color red and arrow head length 0.1\n",
        "    plt.text(*(u + 0.1), 'u')#Adds the text u to the Axes \n",
        "    \n",
        "    ax.arrow(0, 0, *v, head_width=0.05, color='b', head_length=0.1)# Add an arrow to the  v Axes with arrow head width 0.05, color red and arrow head length 0.1\n",
        "    plt.text(*(v + 0.1), 'v')#Adds the text v to the Axes \n",
        "    \n",
        "    ax.arrow(0, 0, *z, head_width=0.05, head_length=0.1)\n",
        "    plt.text(*(z + 0.1), 'z')#Adds the text z to the Axes \n",
        "    plt.ylim(-2, 2)#set the ylim to bottom(-2), top(2)\n",
        "    plt.xlim(-2, 2)#set the xlim to left(-2), right(2)"
      ],
      "metadata": {
        "id": "nhImJYTv8myD"
      },
      "execution_count": null,
      "outputs": []
    },
    {
      "cell_type": "code",
      "source": [
        "Plotvec1(u, z, v)"
      ],
      "metadata": {
        "colab": {
          "base_uri": "https://localhost:8080/",
          "height": 269
        },
        "id": "4Vu9J6Tk8pvW",
        "outputId": "e1c4f762-1348-47fd-f242-99d244745d78"
      },
      "execution_count": null,
      "outputs": [
        {
          "output_type": "display_data",
          "data": {
            "text/plain": [
              "<Figure size 432x288 with 1 Axes>"
            ],
            "image/png": "[encoded data removed]"
          },
          "metadata": {
            "needs_background": "light"
          }
        }
      ]
    },
    {
      "cell_type": "code",
      "source": [
        "a = np.array([10, 20, 30])\n",
        "a"
      ],
      "metadata": {
        "colab": {
          "base_uri": "https://localhost:8080/"
        },
        "id": "ThgVyHXM89WI",
        "outputId": "e550691e-c851-4870-8118-a17df23d5937"
      },
      "execution_count": null,
      "outputs": [
        {
          "output_type": "execute_result",
          "data": {
            "text/plain": [
              "array([10, 20, 30])"
            ]
          },
          "metadata": {},
          "execution_count": 149
        }
      ]
    },
    {
      "cell_type": "code",
      "source": [
        "b = np.array([5, 10, 15])\n",
        "b"
      ],
      "metadata": {
        "colab": {
          "base_uri": "https://localhost:8080/"
        },
        "id": "imNT0mAl8-wo",
        "outputId": "159f604b-c5f2-4dab-9724-f263a3052190"
      },
      "execution_count": null,
      "outputs": [
        {
          "output_type": "execute_result",
          "data": {
            "text/plain": [
              "array([ 5, 10, 15])"
            ]
          },
          "metadata": {},
          "execution_count": 150
        }
      ]
    },
    {
      "cell_type": "code",
      "source": [
        "c=np.subtract(a,b)"
      ],
      "metadata": {
        "id": "csY__fTU9Cxh"
      },
      "execution_count": null,
      "outputs": []
    },
    {
      "cell_type": "code",
      "source": [
        "c"
      ],
      "metadata": {
        "colab": {
          "base_uri": "https://localhost:8080/"
        },
        "id": "mXRINVxb9Hwv",
        "outputId": "663bc87f-be29-4ba6-fea6-8cd551949307"
      },
      "execution_count": null,
      "outputs": [
        {
          "output_type": "execute_result",
          "data": {
            "text/plain": [
              "array([ 5, 10, 15])"
            ]
          },
          "metadata": {},
          "execution_count": 153
        }
      ]
    },
    {
      "cell_type": "code",
      "source": [
        "X = np.array([1, 2])\n",
        "Y = np.array([3, 2])"
      ],
      "metadata": {
        "id": "qin4D74k-NTo"
      },
      "execution_count": null,
      "outputs": []
    },
    {
      "cell_type": "code",
      "source": [
        "np.dot(X,Y)"
      ],
      "metadata": {
        "colab": {
          "base_uri": "https://localhost:8080/"
        },
        "id": "xZUcVS6v-OTC",
        "outputId": "855e69d9-7a2a-489f-8819-d71e35148e85"
      },
      "execution_count": null,
      "outputs": [
        {
          "output_type": "execute_result",
          "data": {
            "text/plain": [
              "7"
            ]
          },
          "metadata": {},
          "execution_count": 155
        }
      ]
    },
    {
      "cell_type": "code",
      "source": [
        "print(X[0])\n"
      ],
      "metadata": {
        "colab": {
          "base_uri": "https://localhost:8080/"
        },
        "id": "WDs3GimA-U9U",
        "outputId": "5913ea25-af65-44f2-d20b-2fce8f9b29f9"
      },
      "execution_count": null,
      "outputs": [
        {
          "output_type": "stream",
          "name": "stdout",
          "text": [
            "1\n"
          ]
        }
      ]
    },
    {
      "cell_type": "code",
      "source": [
        "print(X[1])"
      ],
      "metadata": {
        "colab": {
          "base_uri": "https://localhost:8080/"
        },
        "id": "IlbsZdss-l1a",
        "outputId": "f791f46e-bb90-45c9-f38f-fbf0074d569c"
      },
      "execution_count": null,
      "outputs": [
        {
          "output_type": "stream",
          "name": "stdout",
          "text": [
            "2\n"
          ]
        }
      ]
    },
    {
      "cell_type": "code",
      "source": [
        "u = np.array([1, 2, 3, -1]) "
      ],
      "metadata": {
        "id": "tHDyt_sx_K-F"
      },
      "execution_count": null,
      "outputs": []
    },
    {
      "cell_type": "code",
      "source": [
        "u+1\n"
      ],
      "metadata": {
        "colab": {
          "base_uri": "https://localhost:8080/"
        },
        "id": "LSvlg7wt_OO_",
        "outputId": "aae320dc-30b3-4214-a672-62bb99ba61a1"
      },
      "execution_count": null,
      "outputs": [
        {
          "output_type": "execute_result",
          "data": {
            "text/plain": [
              "array([2, 3, 4, 0])"
            ]
          },
          "metadata": {},
          "execution_count": 162
        }
      ]
    },
    {
      "cell_type": "code",
      "source": [
        "np.pi"
      ],
      "metadata": {
        "colab": {
          "base_uri": "https://localhost:8080/"
        },
        "id": "8eE90zMA_wQP",
        "outputId": "d402c864-ec7b-4f7c-d74b-1bb39b2fd105"
      },
      "execution_count": null,
      "outputs": [
        {
          "output_type": "execute_result",
          "data": {
            "text/plain": [
              "3.141592653589793"
            ]
          },
          "metadata": {},
          "execution_count": 165
        }
      ]
    },
    {
      "cell_type": "code",
      "source": [
        "np.linspace(-2,2,num=5)"
      ],
      "metadata": {
        "colab": {
          "base_uri": "https://localhost:8080/"
        },
        "id": "aHGkPL15_kgA",
        "outputId": "4f425c99-64c5-48e0-ed2e-368c01a71478"
      },
      "execution_count": null,
      "outputs": [
        {
          "output_type": "execute_result",
          "data": {
            "text/plain": [
              "array([-2., -1.,  0.,  1.,  2.])"
            ]
          },
          "metadata": {},
          "execution_count": 167
        }
      ]
    },
    {
      "cell_type": "code",
      "source": [
        "arr1 = np.array([1, 2, 3])\n",
        "print(arr1)"
      ],
      "metadata": {
        "colab": {
          "base_uri": "https://localhost:8080/"
        },
        "id": "QCGxPajv_vjg",
        "outputId": "eeac63ed-7088-4836-80fe-14cb8999f8b0"
      },
      "execution_count": null,
      "outputs": [
        {
          "output_type": "stream",
          "name": "stdout",
          "text": [
            "[1 2 3]\n"
          ]
        }
      ]
    },
    {
      "cell_type": "code",
      "source": [
        "for x in arr1:\n",
        "  print(x)"
      ],
      "metadata": {
        "colab": {
          "base_uri": "https://localhost:8080/"
        },
        "id": "hzB1KQXJAU2S",
        "outputId": "6de222a6-1d97-46c0-b563-3c826f23f033"
      },
      "execution_count": null,
      "outputs": [
        {
          "output_type": "stream",
          "name": "stdout",
          "text": [
            "1\n",
            "2\n",
            "3\n"
          ]
        }
      ]
    },
    {
      "cell_type": "code",
      "source": [
        "import time \n",
        "import sys\n",
        "import numpy as np \n",
        "\n",
        "import matplotlib.pyplot as plt\n",
        "%matplotlib inline  \n",
        "\n",
        "def Plotvec2(a,b):\n",
        "    ax = plt.axes()# to generate the full window axes\n",
        "    ax.arrow(0, 0, *a, head_width=0.05, color ='r', head_length=0.1)#Add an arrow to the  a Axes with arrow head width 0.05, color red and arrow head length 0.1\n",
        "    plt.text(*(a + 0.1), 'a')\n",
        "    ax.arrow(0, 0, *b, head_width=0.05, color ='b', head_length=0.1)#Add an arrow to the  b Axes with arrow head width 0.05, color blue and arrow head length 0.1\n",
        "    plt.text(*(b + 0.1), 'b')\n",
        "    plt.ylim(-2, 2)#set the ylim to bottom(-2), top(2)\n",
        "    plt.xlim(-2, 2)#set the xlim to left(-2), right(2)\n",
        "    "
      ],
      "metadata": {
        "id": "1vU1Ac3hAVw7"
      },
      "execution_count": null,
      "outputs": []
    },
    {
      "cell_type": "code",
      "source": [
        "a = np.array([-1, 1])\n",
        "b = np.array([1, 1])\n",
        "Plotvec2(a, b)\n",
        "print(\"The dot product is\", np.dot(a,b))"
      ],
      "metadata": {
        "colab": {
          "base_uri": "https://localhost:8080/",
          "height": 286
        },
        "id": "_Xs6hxFCBlhH",
        "outputId": "aea32cbf-05f4-4265-ac5e-cccfedb8ff8a"
      },
      "execution_count": null,
      "outputs": [
        {
          "output_type": "stream",
          "name": "stdout",
          "text": [
            "The dot product is 0\n"
          ]
        },
        {
          "output_type": "display_data",
          "data": {
            "text/plain": [
              "<Figure size 432x288 with 1 Axes>"
            ],
            "image/png": "[encoded data removed]"
          },
          "metadata": {
            "needs_background": "light"
          }
        }
      ]
    },
    {
      "cell_type": "code",
      "source": [
        "a = np.array([1, 0])\n",
        "b = np.array([0, 1])\n",
        "Plotvec2(a, b)\n",
        "print(\"The dot product is\", np.dot(a, b))"
      ],
      "metadata": {
        "colab": {
          "base_uri": "https://localhost:8080/",
          "height": 286
        },
        "id": "j_Uq99GlBmlY",
        "outputId": "a228ddb7-3c73-4c85-ae28-25f38a16567a"
      },
      "execution_count": null,
      "outputs": [
        {
          "output_type": "stream",
          "name": "stdout",
          "text": [
            "The dot product is 0\n"
          ]
        },
        {
          "output_type": "display_data",
          "data": {
            "text/plain": [
              "<Figure size 432x288 with 1 Axes>"
            ],
            "image/png": "[encoded data removed]"
          },
          "metadata": {
            "needs_background": "light"
          }
        }
      ]
    },
    {
      "cell_type": "code",
      "source": [
        "a = np.array([1, 1])\n",
        "b = np.array([0, 1])\n",
        "Plotvec2(a, b)\n",
        "print(\"The dot product is\", np.dot(a, b))"
      ],
      "metadata": {
        "colab": {
          "base_uri": "https://localhost:8080/",
          "height": 286
        },
        "id": "EM0-AqeqBrUi",
        "outputId": "f0f637c2-9f87-4f6e-f206-7b3a992732af"
      },
      "execution_count": null,
      "outputs": [
        {
          "output_type": "stream",
          "name": "stdout",
          "text": [
            "The dot product is 1\n"
          ]
        },
        {
          "output_type": "display_data",
          "data": {
            "text/plain": [
              "<Figure size 432x288 with 1 Axes>"
            ],
            "image/png": "[encoded data removed]"
          },
          "metadata": {
            "needs_background": "light"
          }
        }
      ]
    },
    {
      "cell_type": "code",
      "source": [
        "a=[[11,12,13],[21,22,23],[31,32,33]]"
      ],
      "metadata": {
        "id": "eVtLwa5ZBuYs"
      },
      "execution_count": null,
      "outputs": []
    },
    {
      "cell_type": "code",
      "source": [
        "a=np.array(a)"
      ],
      "metadata": {
        "id": "3i_30tDhDkYv"
      },
      "execution_count": null,
      "outputs": []
    },
    {
      "cell_type": "code",
      "source": [
        "a"
      ],
      "metadata": {
        "colab": {
          "base_uri": "https://localhost:8080/"
        },
        "id": "yMFmLiTmBtTl",
        "outputId": "6e48ae42-6c2d-4b3a-d665-d8a48c8624cd"
      },
      "execution_count": null,
      "outputs": [
        {
          "output_type": "execute_result",
          "data": {
            "text/plain": [
              "array([[11, 12, 13],\n",
              "       [21, 22, 23],\n",
              "       [31, 32, 33]])"
            ]
          },
          "metadata": {},
          "execution_count": 176
        }
      ]
    },
    {
      "cell_type": "code",
      "source": [
        "a.ndim"
      ],
      "metadata": {
        "colab": {
          "base_uri": "https://localhost:8080/"
        },
        "id": "5fciLOAIBilk",
        "outputId": "909f080d-bc8e-48c1-940d-4009dc692dc4"
      },
      "execution_count": null,
      "outputs": [
        {
          "output_type": "execute_result",
          "data": {
            "text/plain": [
              "2"
            ]
          },
          "metadata": {},
          "execution_count": 177
        }
      ]
    },
    {
      "cell_type": "code",
      "source": [
        "a.shape"
      ],
      "metadata": {
        "colab": {
          "base_uri": "https://localhost:8080/"
        },
        "id": "_PmeWjZeAQyu",
        "outputId": "1037658b-79b7-4fe1-ca8b-13bd8e344363"
      },
      "execution_count": null,
      "outputs": [
        {
          "output_type": "execute_result",
          "data": {
            "text/plain": [
              "(3, 3)"
            ]
          },
          "metadata": {},
          "execution_count": 178
        }
      ]
    },
    {
      "cell_type": "code",
      "source": [
        "a.size"
      ],
      "metadata": {
        "colab": {
          "base_uri": "https://localhost:8080/"
        },
        "id": "G5CY5y4yHnNV",
        "outputId": "f47183e3-1405-4e71-caca-e6d054ee7b83"
      },
      "execution_count": null,
      "outputs": [
        {
          "output_type": "execute_result",
          "data": {
            "text/plain": [
              "9"
            ]
          },
          "metadata": {},
          "execution_count": 179
        }
      ]
    },
    {
      "cell_type": "code",
      "source": [
        "x=np.array([[1,0],[0,1]])"
      ],
      "metadata": {
        "id": "08nY9WuiH68N"
      },
      "execution_count": null,
      "outputs": []
    },
    {
      "cell_type": "code",
      "source": [
        "y=np.array([[2,1],[1,2]])"
      ],
      "metadata": {
        "id": "X1fHIK2_IgRq"
      },
      "execution_count": null,
      "outputs": []
    },
    {
      "cell_type": "code",
      "source": [
        "z=x+y"
      ],
      "metadata": {
        "id": "ivAGud9TIvCG"
      },
      "execution_count": null,
      "outputs": []
    },
    {
      "cell_type": "code",
      "source": [
        "z"
      ],
      "metadata": {
        "colab": {
          "base_uri": "https://localhost:8080/"
        },
        "id": "nDo3XBCAIxHn",
        "outputId": "61534afa-9649-4a10-af35-72fdecc02afa"
      },
      "execution_count": null,
      "outputs": [
        {
          "output_type": "execute_result",
          "data": {
            "text/plain": [
              "array([[3, 1],\n",
              "       [1, 3]])"
            ]
          },
          "metadata": {},
          "execution_count": 183
        }
      ]
    },
    {
      "cell_type": "code",
      "source": [
        "y=np.array([[2,1],[1,2]])"
      ],
      "metadata": {
        "id": "P5M8UWU6Ixoc"
      },
      "execution_count": null,
      "outputs": []
    },
    {
      "cell_type": "code",
      "source": [
        "z=2*y"
      ],
      "metadata": {
        "id": "tBtT35joI7pv"
      },
      "execution_count": null,
      "outputs": []
    },
    {
      "cell_type": "code",
      "source": [
        "z"
      ],
      "metadata": {
        "colab": {
          "base_uri": "https://localhost:8080/"
        },
        "id": "RZHRKnJAJjnr",
        "outputId": "4abdd0c3-3457-4ec3-971d-335416107f88"
      },
      "execution_count": null,
      "outputs": [
        {
          "output_type": "execute_result",
          "data": {
            "text/plain": [
              "array([[4, 2],\n",
              "       [2, 4]])"
            ]
          },
          "metadata": {},
          "execution_count": 186
        }
      ]
    },
    {
      "cell_type": "code",
      "source": [
        "x=np.array([[1,0],[0,1]])"
      ],
      "metadata": {
        "id": "XgNR_Q0pJkax"
      },
      "execution_count": null,
      "outputs": []
    },
    {
      "cell_type": "code",
      "source": [
        "y=np.array([[2,1],[1,2]])"
      ],
      "metadata": {
        "id": "wXOrXgOuKAFP"
      },
      "execution_count": null,
      "outputs": []
    },
    {
      "cell_type": "code",
      "source": [
        "z=x*y"
      ],
      "metadata": {
        "id": "Hp0WS7XCKROJ"
      },
      "execution_count": null,
      "outputs": []
    },
    {
      "cell_type": "code",
      "source": [
        "z"
      ],
      "metadata": {
        "colab": {
          "base_uri": "https://localhost:8080/"
        },
        "id": "eqHmub-QKXK0",
        "outputId": "c4cf0275-6350-4388-db59-823e6e6eee41"
      },
      "execution_count": null,
      "outputs": [
        {
          "output_type": "execute_result",
          "data": {
            "text/plain": [
              "array([[2, 0],\n",
              "       [0, 2]])"
            ]
          },
          "metadata": {},
          "execution_count": 192
        }
      ]
    },
    {
      "cell_type": "code",
      "source": [
        "a=np.array([[0,1,1],[1,0,0]])"
      ],
      "metadata": {
        "id": "b53LVIxqKZJr"
      },
      "execution_count": null,
      "outputs": []
    },
    {
      "cell_type": "code",
      "source": [
        "b=np.array([[1,1],[1,1],[-1,1]])"
      ],
      "metadata": {
        "id": "COY29cVvLvY3"
      },
      "execution_count": null,
      "outputs": []
    },
    {
      "cell_type": "code",
      "source": [
        "c=np.dot(a,b)"
      ],
      "metadata": {
        "id": "LcvNI4utL86J"
      },
      "execution_count": null,
      "outputs": []
    },
    {
      "cell_type": "code",
      "source": [
        "c"
      ],
      "metadata": {
        "colab": {
          "base_uri": "https://localhost:8080/"
        },
        "id": "oaX92eZoMBXZ",
        "outputId": "93eb527e-f9bb-4127-cb40-fef6f7c03f7c"
      },
      "execution_count": null,
      "outputs": [
        {
          "output_type": "execute_result",
          "data": {
            "text/plain": [
              "array([[0, 2],\n",
              "       [1, 1]])"
            ]
          },
          "metadata": {},
          "execution_count": 196
        }
      ]
    },
    {
      "cell_type": "code",
      "source": [
        "A = np.array([[1,2],[3,4],[5,6],[7,8]])"
      ],
      "metadata": {
        "id": "e8v9kAFVMCKi"
      },
      "execution_count": null,
      "outputs": []
    },
    {
      "cell_type": "code",
      "source": [
        "B = np.array([[1,2,3],[4,5,6],[7,8,9]])"
      ],
      "metadata": {
        "id": "grQyiRtGMW3S"
      },
      "execution_count": null,
      "outputs": []
    },
    {
      "cell_type": "code",
      "source": [
        "import numpy as np \n",
        "import matplotlib.pyplot as plt"
      ],
      "metadata": {
        "id": "5xxJCy67Mnve"
      },
      "execution_count": null,
      "outputs": []
    },
    {
      "cell_type": "code",
      "source": [
        "a = [[11, 12, 13], [21, 22, 23], [31, 32, 33]]\n",
        "a"
      ],
      "metadata": {
        "colab": {
          "base_uri": "https://localhost:8080/"
        },
        "id": "zurLoC2gMu4E",
        "outputId": "5078912c-4455-4acf-928f-f1851b792121"
      },
      "execution_count": null,
      "outputs": [
        {
          "output_type": "execute_result",
          "data": {
            "text/plain": [
              "[[11, 12, 13], [21, 22, 23], [31, 32, 33]]"
            ]
          },
          "metadata": {},
          "execution_count": 201
        }
      ]
    },
    {
      "cell_type": "code",
      "source": [
        "A = np.array(a)\n",
        "A"
      ],
      "metadata": {
        "colab": {
          "base_uri": "https://localhost:8080/"
        },
        "id": "ZNyf1t14Mvvz",
        "outputId": "b5e8442f-900d-46bd-e09f-0097d8e16339"
      },
      "execution_count": null,
      "outputs": [
        {
          "output_type": "execute_result",
          "data": {
            "text/plain": [
              "array([[11, 12, 13],\n",
              "       [21, 22, 23],\n",
              "       [31, 32, 33]])"
            ]
          },
          "metadata": {},
          "execution_count": 202
        }
      ]
    },
    {
      "cell_type": "code",
      "source": [
        "A.ndim"
      ],
      "metadata": {
        "colab": {
          "base_uri": "https://localhost:8080/"
        },
        "id": "2rRYYfb1M0sU",
        "outputId": "c6ef3fc8-4767-4138-e9d5-0daa22d6db8c"
      },
      "execution_count": null,
      "outputs": [
        {
          "output_type": "execute_result",
          "data": {
            "text/plain": [
              "2"
            ]
          },
          "metadata": {},
          "execution_count": 205
        }
      ]
    },
    {
      "cell_type": "code",
      "source": [
        "A.shape"
      ],
      "metadata": {
        "colab": {
          "base_uri": "https://localhost:8080/"
        },
        "id": "gxPj4iRFNTNJ",
        "outputId": "406d4035-1246-4246-fb03-bfc6461a25dd"
      },
      "execution_count": null,
      "outputs": [
        {
          "output_type": "execute_result",
          "data": {
            "text/plain": [
              "(3, 3)"
            ]
          },
          "metadata": {},
          "execution_count": 206
        }
      ]
    },
    {
      "cell_type": "code",
      "source": [
        "A.size"
      ],
      "metadata": {
        "colab": {
          "base_uri": "https://localhost:8080/"
        },
        "id": "HVF0XXjJNr3I",
        "outputId": "710eb887-268d-4b08-aef4-63d8547b2fa8"
      },
      "execution_count": null,
      "outputs": [
        {
          "output_type": "execute_result",
          "data": {
            "text/plain": [
              "9"
            ]
          },
          "metadata": {},
          "execution_count": 207
        }
      ]
    },
    {
      "cell_type": "code",
      "source": [
        "A[1,2]"
      ],
      "metadata": {
        "colab": {
          "base_uri": "https://localhost:8080/"
        },
        "id": "Q2-azEWJNtrp",
        "outputId": "d6b1337a-5f6b-4b6b-e016-7798fdea3e89"
      },
      "execution_count": null,
      "outputs": [
        {
          "output_type": "execute_result",
          "data": {
            "text/plain": [
              "23"
            ]
          },
          "metadata": {},
          "execution_count": 208
        }
      ]
    },
    {
      "cell_type": "code",
      "source": [
        "A[1][2]"
      ],
      "metadata": {
        "colab": {
          "base_uri": "https://localhost:8080/"
        },
        "id": "BRGWC-rIONMY",
        "outputId": "4d29e457-dca8-4717-d177-50d3b957fc2d"
      },
      "execution_count": null,
      "outputs": [
        {
          "output_type": "execute_result",
          "data": {
            "text/plain": [
              "23"
            ]
          },
          "metadata": {},
          "execution_count": 209
        }
      ]
    },
    {
      "cell_type": "code",
      "source": [
        "A[0][0]"
      ],
      "metadata": {
        "colab": {
          "base_uri": "https://localhost:8080/"
        },
        "id": "P9vnQYxWOasM",
        "outputId": "075deab1-f6d3-4e6a-ef71-617266599271"
      },
      "execution_count": null,
      "outputs": [
        {
          "output_type": "execute_result",
          "data": {
            "text/plain": [
              "11"
            ]
          },
          "metadata": {},
          "execution_count": 210
        }
      ]
    },
    {
      "cell_type": "code",
      "source": [
        "A[0][0:2]"
      ],
      "metadata": {
        "colab": {
          "base_uri": "https://localhost:8080/"
        },
        "id": "M_vYbbWFOTMu",
        "outputId": "ab8bae90-a457-49a5-be4a-9b787be6276c"
      },
      "execution_count": null,
      "outputs": [
        {
          "output_type": "execute_result",
          "data": {
            "text/plain": [
              "array([11, 12])"
            ]
          },
          "metadata": {},
          "execution_count": 211
        }
      ]
    },
    {
      "cell_type": "code",
      "source": [
        "A[0:2,2]"
      ],
      "metadata": {
        "colab": {
          "base_uri": "https://localhost:8080/"
        },
        "id": "dCsB0R9AOltg",
        "outputId": "ef3459cb-0b75-4c06-b1f2-459f0f7710f1"
      },
      "execution_count": null,
      "outputs": [
        {
          "output_type": "execute_result",
          "data": {
            "text/plain": [
              "array([13, 23])"
            ]
          },
          "metadata": {},
          "execution_count": 212
        }
      ]
    },
    {
      "cell_type": "code",
      "source": [
        "X = np.array([[1, 0], [0, 1]]) \n",
        "X"
      ],
      "metadata": {
        "colab": {
          "base_uri": "https://localhost:8080/"
        },
        "id": "QvrQlCFQOsov",
        "outputId": "c6a712f7-8f8b-4774-e0fc-686a1c9c17a6"
      },
      "execution_count": null,
      "outputs": [
        {
          "output_type": "execute_result",
          "data": {
            "text/plain": [
              "array([[1, 0],\n",
              "       [0, 1]])"
            ]
          },
          "metadata": {},
          "execution_count": 213
        }
      ]
    },
    {
      "cell_type": "code",
      "source": [
        "Y = np.array([[2, 1], [1, 2]]) \n",
        "Y"
      ],
      "metadata": {
        "colab": {
          "base_uri": "https://localhost:8080/"
        },
        "id": "D61Kuny-Pmyn",
        "outputId": "d72894f0-9067-4582-d283-86a7ca59ed90"
      },
      "execution_count": null,
      "outputs": [
        {
          "output_type": "execute_result",
          "data": {
            "text/plain": [
              "array([[2, 1],\n",
              "       [1, 2]])"
            ]
          },
          "metadata": {},
          "execution_count": 214
        }
      ]
    },
    {
      "cell_type": "code",
      "source": [
        "Z = X + Y\n",
        "Z"
      ],
      "metadata": {
        "colab": {
          "base_uri": "https://localhost:8080/"
        },
        "id": "uWDQSqt-PpuU",
        "outputId": "2480076e-ecc3-4be3-d542-a65af28ea7f9"
      },
      "execution_count": null,
      "outputs": [
        {
          "output_type": "execute_result",
          "data": {
            "text/plain": [
              "array([[3, 1],\n",
              "       [1, 3]])"
            ]
          },
          "metadata": {},
          "execution_count": 215
        }
      ]
    },
    {
      "cell_type": "code",
      "source": [
        "Y = np.array([[2, 1], [1, 2]]) \n",
        "Y"
      ],
      "metadata": {
        "colab": {
          "base_uri": "https://localhost:8080/"
        },
        "id": "Q52HmWCaPtkv",
        "outputId": "c04bdd17-608b-4364-b9c9-a6d0147f6eb4"
      },
      "execution_count": null,
      "outputs": [
        {
          "output_type": "execute_result",
          "data": {
            "text/plain": [
              "array([[2, 1],\n",
              "       [1, 2]])"
            ]
          },
          "metadata": {},
          "execution_count": 216
        }
      ]
    },
    {
      "cell_type": "code",
      "source": [
        "Z = 2 * Y\n"
      ],
      "metadata": {
        "id": "zna6i1DePvja"
      },
      "execution_count": null,
      "outputs": []
    },
    {
      "cell_type": "code",
      "source": [
        "Z"
      ],
      "metadata": {
        "colab": {
          "base_uri": "https://localhost:8080/"
        },
        "id": "b7_wFufCPwna",
        "outputId": "55950c15-fd21-4b69-92d5-ec06d6a09035"
      },
      "execution_count": null,
      "outputs": [
        {
          "output_type": "execute_result",
          "data": {
            "text/plain": [
              "array([[4, 2],\n",
              "       [2, 4]])"
            ]
          },
          "metadata": {},
          "execution_count": 218
        }
      ]
    },
    {
      "cell_type": "code",
      "source": [
        "Y = np.array([[2, 1], [1, 2]]) \n",
        "Y"
      ],
      "metadata": {
        "colab": {
          "base_uri": "https://localhost:8080/"
        },
        "id": "YsfuVJiQPx5w",
        "outputId": "959cf4ba-5912-4f33-be70-177d736a1f45"
      },
      "execution_count": null,
      "outputs": [
        {
          "output_type": "execute_result",
          "data": {
            "text/plain": [
              "array([[2, 1],\n",
              "       [1, 2]])"
            ]
          },
          "metadata": {},
          "execution_count": 219
        }
      ]
    },
    {
      "cell_type": "code",
      "source": [
        "X = np.array([[1, 0], [0, 1]]) \n",
        "X"
      ],
      "metadata": {
        "colab": {
          "base_uri": "https://localhost:8080/"
        },
        "id": "dOpuFfDaP4nG",
        "outputId": "645e7363-815e-4448-95f3-f7f4e3b593f7"
      },
      "execution_count": null,
      "outputs": [
        {
          "output_type": "execute_result",
          "data": {
            "text/plain": [
              "array([[1, 0],\n",
              "       [0, 1]])"
            ]
          },
          "metadata": {},
          "execution_count": 220
        }
      ]
    },
    {
      "cell_type": "code",
      "source": [
        "Z = X * Y\n",
        "Z"
      ],
      "metadata": {
        "colab": {
          "base_uri": "https://localhost:8080/"
        },
        "id": "cUvxuwRHP6WS",
        "outputId": "433b75e7-a434-4c1a-f5ed-e222bcb6bd98"
      },
      "execution_count": null,
      "outputs": [
        {
          "output_type": "execute_result",
          "data": {
            "text/plain": [
              "array([[2, 0],\n",
              "       [0, 2]])"
            ]
          },
          "metadata": {},
          "execution_count": 221
        }
      ]
    },
    {
      "cell_type": "code",
      "source": [
        "Z"
      ],
      "metadata": {
        "colab": {
          "base_uri": "https://localhost:8080/"
        },
        "id": "ASHjnpE8P7sJ",
        "outputId": "fd444fea-de09-4374-c5b4-204f9f150fb7"
      },
      "execution_count": null,
      "outputs": [
        {
          "output_type": "execute_result",
          "data": {
            "text/plain": [
              "array([[2, 0],\n",
              "       [0, 2]])"
            ]
          },
          "metadata": {},
          "execution_count": 222
        }
      ]
    },
    {
      "cell_type": "code",
      "source": [
        "A = np.array([[0, 1, 1], [1, 0, 1]])\n",
        "A"
      ],
      "metadata": {
        "colab": {
          "base_uri": "https://localhost:8080/"
        },
        "id": "v7xhHb12P__D",
        "outputId": "5d9f33fe-9d0b-4537-c504-e2ab0d1eccb9"
      },
      "execution_count": null,
      "outputs": [
        {
          "output_type": "execute_result",
          "data": {
            "text/plain": [
              "array([[0, 1, 1],\n",
              "       [1, 0, 1]])"
            ]
          },
          "metadata": {},
          "execution_count": 223
        }
      ]
    },
    {
      "cell_type": "code",
      "source": [
        "B = np.array([[1, 1], [1, 1], [-1, 1]])\n",
        "B"
      ],
      "metadata": {
        "colab": {
          "base_uri": "https://localhost:8080/"
        },
        "id": "se9PjZiUQA0b",
        "outputId": "4cc70d6e-1579-4a05-ce93-f82abeb824da"
      },
      "execution_count": null,
      "outputs": [
        {
          "output_type": "execute_result",
          "data": {
            "text/plain": [
              "array([[ 1,  1],\n",
              "       [ 1,  1],\n",
              "       [-1,  1]])"
            ]
          },
          "metadata": {},
          "execution_count": 224
        }
      ]
    },
    {
      "cell_type": "code",
      "source": [
        "Z = np.dot(A,B)\n",
        "Z"
      ],
      "metadata": {
        "colab": {
          "base_uri": "https://localhost:8080/"
        },
        "id": "xH894QbrQDpt",
        "outputId": "a178219e-1214-47a7-b906-da1c3d40028f"
      },
      "execution_count": null,
      "outputs": [
        {
          "output_type": "execute_result",
          "data": {
            "text/plain": [
              "array([[0, 2],\n",
              "       [0, 2]])"
            ]
          },
          "metadata": {},
          "execution_count": 225
        }
      ]
    },
    {
      "cell_type": "code",
      "source": [
        "np.sin(Z)"
      ],
      "metadata": {
        "colab": {
          "base_uri": "https://localhost:8080/"
        },
        "id": "QIP2qSwdQFDA",
        "outputId": "06a07d15-f488-4c28-c549-39ba21fbe451"
      },
      "execution_count": null,
      "outputs": [
        {
          "output_type": "execute_result",
          "data": {
            "text/plain": [
              "array([[0.        , 0.90929743],\n",
              "       [0.        , 0.90929743]])"
            ]
          },
          "metadata": {},
          "execution_count": 226
        }
      ]
    },
    {
      "cell_type": "code",
      "source": [
        "C = np.array([[1,1],[2,2],[3,3]])\n",
        "C"
      ],
      "metadata": {
        "colab": {
          "base_uri": "https://localhost:8080/"
        },
        "id": "ERQ_pqNiQGEj",
        "outputId": "b4465454-5d54-46a1-b3fe-fa8e6aec81ed"
      },
      "execution_count": null,
      "outputs": [
        {
          "output_type": "execute_result",
          "data": {
            "text/plain": [
              "array([[1, 1],\n",
              "       [2, 2],\n",
              "       [3, 3]])"
            ]
          },
          "metadata": {},
          "execution_count": 227
        }
      ]
    },
    {
      "cell_type": "code",
      "source": [
        "C.T"
      ],
      "metadata": {
        "colab": {
          "base_uri": "https://localhost:8080/"
        },
        "id": "2rQgrdP6QJMs",
        "outputId": "e0b04dbd-5d6a-4cc8-b86e-f78bc9e9c76d"
      },
      "execution_count": null,
      "outputs": [
        {
          "output_type": "execute_result",
          "data": {
            "text/plain": [
              "array([[1, 2, 3],\n",
              "       [1, 2, 3]])"
            ]
          },
          "metadata": {},
          "execution_count": 228
        }
      ]
    },
    {
      "cell_type": "code",
      "source": [
        "import pandas as pd"
      ],
      "metadata": {
        "id": "Fz7spAq9QSLL"
      },
      "execution_count": null,
      "outputs": []
    },
    {
      "cell_type": "code",
      "source": [
        "dict_={\"a\":[11,21,31],\"b\":[12,22,32]}"
      ],
      "metadata": {
        "id": "nzS88-SgSamJ"
      },
      "execution_count": null,
      "outputs": []
    },
    {
      "cell_type": "code",
      "source": [
        "df=pd.DataFrame(dict_)"
      ],
      "metadata": {
        "id": "v4zeTxu5PlYm"
      },
      "execution_count": null,
      "outputs": []
    },
    {
      "cell_type": "code",
      "source": [
        "df.head()"
      ],
      "metadata": {
        "colab": {
          "base_uri": "https://localhost:8080/",
          "height": 143
        },
        "id": "vqM5K9T9OaSn",
        "outputId": "1972e59e-4d82-4e25-805f-a584b238230b"
      },
      "execution_count": null,
      "outputs": [
        {
          "output_type": "execute_result",
          "data": {
            "text/plain": [
              "    a   b\n",
              "0  11  12\n",
              "1  21  22\n",
              "2  31  32"
            ],
            "text/html": [
              "\n",
              "  <div id=\"df-282faaf7-71cb-4f54-8d86-974f15b21d55\">\n",
              "    <div class=\"colab-df-container\">\n",
              "      <div>\n",
              "<style scoped>\n",
              "    .dataframe tbody tr th:only-of-type {\n",
              "        vertical-align: middle;\n",
              "    }\n",
              "\n",
              "    .dataframe tbody tr th {\n",
              "        vertical-align: top;\n",
              "    }\n",
              "\n",
              "    .dataframe thead th {\n",
              "        text-align: right;\n",
              "    }\n",
              "</style>\n",
              "<table border=\"1\" class=\"dataframe\">\n",
              "  <thead>\n",
              "    <tr style=\"text-align: right;\">\n",
              "      <th></th>\n",
              "      <th>a</th>\n",
              "      <th>b</th>\n",
              "    </tr>\n",
              "  </thead>\n",
              "  <tbody>\n",
              "    <tr>\n",
              "      <th>0</th>\n",
              "      <td>11</td>\n",
              "      <td>12</td>\n",
              "    </tr>\n",
              "    <tr>\n",
              "      <th>1</th>\n",
              "      <td>21</td>\n",
              "      <td>22</td>\n",
              "    </tr>\n",
              "    <tr>\n",
              "      <th>2</th>\n",
              "      <td>31</td>\n",
              "      <td>32</td>\n",
              "    </tr>\n",
              "  </tbody>\n",
              "</table>\n",
              "</div>\n",
              "      <button class=\"colab-df-convert\" onclick=\"convertToInteractive('df-282faaf7-71cb-4f54-8d86-974f15b21d55')\"\n",
              "              title=\"Convert this dataframe to an interactive table.\"\n",
              "              style=\"display:none;\">\n",
              "        \n",
              "  <svg xmlns=\"http://www.w3.org/2000/svg\" height=\"24px\"viewBox=\"0 0 24 24\"\n",
              "       width=\"24px\">\n",
              "    <path d=\"M0 0h24v24H0V0z\" fill=\"none\"/>\n",
              "    <path d=\"M18.56 5.44l.94 2.06.94-2.06 2.06-.94-2.06-.94-.94-2.06-.94 2.06-2.06.94zm-11 1L8.5 8.5l.94-2.06 2.06-.94-2.06-.94L8.5 2.5l-.94 2.06-2.06.94zm10 10l.94 2.06.94-2.06 2.06-.94-2.06-.94-.94-2.06-.94 2.06-2.06.94z\"/><path d=\"M17.41 7.96l-1.37-1.37c-.4-.4-.92-.59-1.43-.59-.52 0-1.04.2-1.43.59L10.3 9.45l-7.72 7.72c-.78.78-.78 2.05 0 2.83L4 21.41c.39.39.9.59 1.41.59.51 0 1.02-.2 1.41-.59l7.78-7.78 2.81-2.81c.8-.78.8-2.07 0-2.86zM5.41 20L4 18.59l7.72-7.72 1.47 1.35L5.41 20z\"/>\n",
              "  </svg>\n",
              "      </button>\n",
              "      \n",
              "  <style>\n",
              "    .colab-df-container {\n",
              "      display:flex;\n",
              "      flex-wrap:wrap;\n",
              "      gap: 12px;\n",
              "    }\n",
              "\n",
              "    .colab-df-convert {\n",
              "      background-color: #E8F0FE;\n",
              "      border: none;\n",
              "      border-radius: 50%;\n",
              "      cursor: pointer;\n",
              "      display: none;\n",
              "      fill: #1967D2;\n",
              "      height: 32px;\n",
              "      padding: 0 0 0 0;\n",
              "      width: 32px;\n",
              "    }\n",
              "\n",
              "    .colab-df-convert:hover {\n",
              "      background-color: #E2EBFA;\n",
              "      box-shadow: 0px 1px 2px rgba(60, 64, 67, 0.3), 0px 1px 3px 1px rgba(60, 64, 67, 0.15);\n",
              "      fill: #174EA6;\n",
              "    }\n",
              "\n",
              "    [theme=dark] .colab-df-convert {\n",
              "      background-color: #3B4455;\n",
              "      fill: #D2E3FC;\n",
              "    }\n",
              "\n",
              "    [theme=dark] .colab-df-convert:hover {\n",
              "      background-color: #434B5C;\n",
              "      box-shadow: 0px 1px 3px 1px rgba(0, 0, 0, 0.15);\n",
              "      filter: drop-shadow(0px 1px 2px rgba(0, 0, 0, 0.3));\n",
              "      fill: #FFFFFF;\n",
              "    }\n",
              "  </style>\n",
              "\n",
              "      <script>\n",
              "        const buttonEl =\n",
              "          document.querySelector('#df-282faaf7-71cb-4f54-8d86-974f15b21d55 button.colab-df-convert');\n",
              "        buttonEl.style.display =\n",
              "          google.colab.kernel.accessAllowed ? 'block' : 'none';\n",
              "\n",
              "        async function convertToInteractive(key) {\n",
              "          const element = document.querySelector('#df-282faaf7-71cb-4f54-8d86-974f15b21d55');\n",
              "          const dataTable =\n",
              "            await google.colab.kernel.invokeFunction('convertToInteractive',\n",
              "                                                     [key], {});\n",
              "          if (!dataTable) return;\n",
              "\n",
              "          const docLinkHtml = 'Like what you see? Visit the ' +\n",
              "            '<a target=\"_blank\" href=https://colab.research.google.com/notebooks/data_table.ipynb>data table notebook</a>'\n",
              "            + ' to learn more about interactive tables.';\n",
              "          element.innerHTML = '';\n",
              "          dataTable['output_type'] = 'display_data';\n",
              "          await google.colab.output.renderOutput(dataTable, element);\n",
              "          const docLink = document.createElement('div');\n",
              "          docLink.innerHTML = docLinkHtml;\n",
              "          element.appendChild(docLink);\n",
              "        }\n",
              "      </script>\n",
              "    </div>\n",
              "  </div>\n",
              "  "
            ]
          },
          "metadata": {},
          "execution_count": 232
        }
      ]
    },
    {
      "cell_type": "code",
      "source": [
        "df.mean()"
      ],
      "metadata": {
        "colab": {
          "base_uri": "https://localhost:8080/"
        },
        "id": "wc5d0wvaSw8Y",
        "outputId": "79569f92-5e3e-4d65-bc06-28b09356b800"
      },
      "execution_count": null,
      "outputs": [
        {
          "output_type": "execute_result",
          "data": {
            "text/plain": [
              "a    21.0\n",
              "b    22.0\n",
              "dtype: float64"
            ]
          },
          "metadata": {},
          "execution_count": 233
        }
      ]
    },
    {
      "cell_type": "code",
      "source": [
        "import requests"
      ],
      "metadata": {
        "id": "mdJ723bXSzFJ"
      },
      "execution_count": null,
      "outputs": []
    },
    {
      "cell_type": "code",
      "source": [
        "import os \n",
        "from PIL import Image\n",
        "from IPython.display import IFrame"
      ],
      "metadata": {
        "id": "SBwiXLVgW1BT"
      },
      "execution_count": null,
      "outputs": []
    },
    {
      "cell_type": "code",
      "source": [
        "url='https://www.ibm.com/'\n",
        "r=requests.get(url)"
      ],
      "metadata": {
        "id": "RCyKZT5LYIJJ"
      },
      "execution_count": null,
      "outputs": []
    },
    {
      "cell_type": "code",
      "source": [
        "r.status_code"
      ],
      "metadata": {
        "colab": {
          "base_uri": "https://localhost:8080/"
        },
        "id": "AtBqgWVkYLLr",
        "outputId": "75433677-0788-4c52-f33e-5a937e60bb0e"
      },
      "execution_count": null,
      "outputs": [
        {
          "output_type": "execute_result",
          "data": {
            "text/plain": [
              "200"
            ]
          },
          "metadata": {},
          "execution_count": 237
        }
      ]
    },
    {
      "cell_type": "code",
      "source": [
        "print(r.request.headers)"
      ],
      "metadata": {
        "colab": {
          "base_uri": "https://localhost:8080/"
        },
        "id": "thckIqNJYO1G",
        "outputId": "8470e3d3-7695-4c0f-be88-edddcf66d06b"
      },
      "execution_count": null,
      "outputs": [
        {
          "output_type": "stream",
          "name": "stdout",
          "text": [
            "{'User-Agent': 'python-requests/2.23.0', 'Accept-Encoding': 'gzip, deflate', 'Accept': '*/*', 'Connection': 'keep-alive', 'Cookie': '_abck=5556C126FF7EBBF320A2DA66999F3208~-1~YAAQJ608FzowzEiDAQAAn6tghgg7VnuqJeTW5vzQhXhvk8IKetg/vyvazZW5F1W5/XEu81u7uZsN9Pi/7SchiaMpaxbZa5xZNYCDxut1ls/4OMbkMnl7G71zoIiomoHxwvimIb0mSTT3kaErm1WMRDac0LOOKtZEqo5pTMfNuFdhuMWkiL/Jrw6k2qUbB2VQ3rrgtC4bkM/DdlgePfk0Nxhqtb4CTPIc51noPY8ORFMfbgpEYABwnh27qe8ok9hd9h+UR+Up+/8A4QAH+JzebSFTCuBLlFUHkcjWg5kHkbqVyRlan7+JdkkisAPyh4nU7++pEyfdv8pvCxD4FRgzoZfmpZ/qabWhdvs+b1JPf6nRIWrgACs=~-1~-1~-1; bm_sz=2922A6107C54D8AA7DA141FC56934EF3~YAAQJ608FzswzEiDAQAAn6tghhGcPyIPyFSZbDfrNOknc0E/1RA44297m+DKgVlsgoRoYQjGXdAcKpI/Zs3Xfc84kIVvsX1NSzmqt02PbAaoTqG2Jfmt826QKN1rqYmpohHQocueMTm5hziAea8jrs1C8GB/6VHDK6CUol2igpqOusrnC8oy3qJksc4PF6TWO4fX4/ENnTUIOhKq6IGT6of+kEMviQGv8oOUO1TXMI33DBROHE4NxHpYGDxfju0A8Tm66Dwcy/SHAUauQdii7uWv48VCzoZ8vpCpnZaeYhQ=~3291449~3158581'}\n"
          ]
        }
      ]
    },
    {
      "cell_type": "code",
      "source": [
        "print(\"request body:\", r.request.body)"
      ],
      "metadata": {
        "colab": {
          "base_uri": "https://localhost:8080/"
        },
        "id": "INXeQ4JJYQno",
        "outputId": "a826d968-6746-4348-ec76-be45c03b7cdf"
      },
      "execution_count": null,
      "outputs": [
        {
          "output_type": "stream",
          "name": "stdout",
          "text": [
            "request body: None\n"
          ]
        }
      ]
    },
    {
      "cell_type": "code",
      "source": [
        "header=r.headers\n",
        "print(r.headers)"
      ],
      "metadata": {
        "colab": {
          "base_uri": "https://localhost:8080/"
        },
        "id": "7WqPcBuoYX7G",
        "outputId": "dff48188-f336-4237-d021-004618715270"
      },
      "execution_count": null,
      "outputs": [
        {
          "output_type": "stream",
          "name": "stdout",
          "text": [
            "{'Server': 'Apache', 'Last-Modified': 'Mon, 26 Sep 2022 12:10:36 GMT', 'ETag': '\"182c6-5e9936a544ba1-gzip\"', 'Accept-Ranges': 'bytes', 'Content-Encoding': 'gzip', 'Content-Type': 'text/html', 'Cache-Control': 'max-age=3600', 'Expires': 'Thu, 29 Sep 2022 00:13:45 GMT', 'X-Akamai-Transformed': '9 21429 0 pmb=mTOE,2', 'Date': 'Wed, 28 Sep 2022 23:13:45 GMT', 'Content-Length': '21618', 'Connection': 'keep-alive', 'Vary': 'Accept-Encoding', 'x-content-type-options': 'nosniff', 'X-XSS-Protection': '1; mode=block', 'Content-Security-Policy': 'upgrade-insecure-requests', 'Strict-Transport-Security': 'max-age=31536000'}\n"
          ]
        }
      ]
    },
    {
      "cell_type": "code",
      "source": [
        "header['date']"
      ],
      "metadata": {
        "colab": {
          "base_uri": "https://localhost:8080/",
          "height": 35
        },
        "id": "fhhdg40-YagW",
        "outputId": "c7d728a0-90ba-4b56-bf1c-b6c39bacd6b3"
      },
      "execution_count": null,
      "outputs": [
        {
          "output_type": "execute_result",
          "data": {
            "text/plain": [
              "'Wed, 28 Sep 2022 23:13:45 GMT'"
            ],
            "application/vnd.google.colaboratory.intrinsic+json": {
              "type": "string"
            }
          },
          "metadata": {},
          "execution_count": 241
        }
      ]
    },
    {
      "cell_type": "code",
      "source": [
        "header['Content-Type']"
      ],
      "metadata": {
        "colab": {
          "base_uri": "https://localhost:8080/",
          "height": 35
        },
        "id": "4GlyMhwvYgPO",
        "outputId": "022d42cf-d2ce-407e-b52f-c72b018de113"
      },
      "execution_count": null,
      "outputs": [
        {
          "output_type": "execute_result",
          "data": {
            "text/plain": [
              "'text/html'"
            ],
            "application/vnd.google.colaboratory.intrinsic+json": {
              "type": "string"
            }
          },
          "metadata": {},
          "execution_count": 242
        }
      ]
    },
    {
      "cell_type": "code",
      "source": [
        " r.encoding"
      ],
      "metadata": {
        "colab": {
          "base_uri": "https://localhost:8080/",
          "height": 35
        },
        "id": "I894mWPnYiEt",
        "outputId": "322d0d20-12c4-4acb-f240-e53be5d8b7f1"
      },
      "execution_count": null,
      "outputs": [
        {
          "output_type": "execute_result",
          "data": {
            "text/plain": [
              "'ISO-8859-1'"
            ],
            "application/vnd.google.colaboratory.intrinsic+json": {
              "type": "string"
            }
          },
          "metadata": {},
          "execution_count": 243
        }
      ]
    },
    {
      "cell_type": "code",
      "source": [
        "r.text[0:100]"
      ],
      "metadata": {
        "colab": {
          "base_uri": "https://localhost:8080/",
          "height": 35
        },
        "id": "gDoIlGeMYj8f",
        "outputId": "4d1773a9-5967-424d-ef51-d73af5738e7c"
      },
      "execution_count": null,
      "outputs": [
        {
          "output_type": "execute_result",
          "data": {
            "text/plain": [
              "'<!DOCTYPE html><html lang=\"en-US\"><head><meta name=\"viewport\" content=\"width=device-width\"/><meta ch'"
            ],
            "application/vnd.google.colaboratory.intrinsic+json": {
              "type": "string"
            }
          },
          "metadata": {},
          "execution_count": 244
        }
      ]
    },
    {
      "cell_type": "code",
      "source": [
        "r.text[0:100]"
      ],
      "metadata": {
        "colab": {
          "base_uri": "https://localhost:8080/",
          "height": 35
        },
        "id": "3H8qOjAaYlEO",
        "outputId": "0ce0f33f-b7a9-4483-e85d-1cf05af31dbd"
      },
      "execution_count": null,
      "outputs": [
        {
          "output_type": "execute_result",
          "data": {
            "text/plain": [
              "'<!DOCTYPE html><html lang=\"en-US\"><head><meta name=\"viewport\" content=\"width=device-width\"/><meta ch'"
            ],
            "application/vnd.google.colaboratory.intrinsic+json": {
              "type": "string"
            }
          },
          "metadata": {},
          "execution_count": 245
        }
      ]
    },
    {
      "cell_type": "code",
      "source": [
        "url='https://cf-courses-data.s3.us.cloud-object-storage.appdomain.cloud/IBMDeveloperSkillsNetwork-PY0101EN-SkillsNetwork/IDSNlogo.png'"
      ],
      "metadata": {
        "id": "pkeKbt2yYqVA"
      },
      "execution_count": null,
      "outputs": []
    },
    {
      "cell_type": "code",
      "source": [
        "r=requests.get(url)"
      ],
      "metadata": {
        "colab": {
          "base_uri": "https://localhost:8080/",
          "height": 166
        },
        "id": "ZS6NV-96Yu4R",
        "outputId": "7cd24e66-f1bb-47b6-86b7-2a6a6a49bb82"
      },
      "execution_count": 22,
      "outputs": [
        {
          "output_type": "error",
          "ename": "NameError",
          "evalue": "ignored",
          "traceback": [
            "\u001b[0;31m---------------------------------------------------------------------------\u001b[0m",
            "\u001b[0;31mNameError\u001b[0m                                 Traceback (most recent call last)",
            "\u001b[0;32m<ipython-input-22-8cd05b5bbcd6>\u001b[0m in \u001b[0;36m<module>\u001b[0;34m\u001b[0m\n\u001b[0;32m----> 1\u001b[0;31m \u001b[0mr\u001b[0m\u001b[0;34m=\u001b[0m\u001b[0mrequests\u001b[0m\u001b[0;34m.\u001b[0m\u001b[0mget\u001b[0m\u001b[0;34m(\u001b[0m\u001b[0murl\u001b[0m\u001b[0;34m)\u001b[0m\u001b[0;34m\u001b[0m\u001b[0;34m\u001b[0m\u001b[0m\n\u001b[0m",
            "\u001b[0;31mNameError\u001b[0m: name 'requests' is not defined"
          ]
        }
      ]
    },
    {
      "cell_type": "code",
      "source": [
        "print(r.headers)"
      ],
      "metadata": {
        "colab": {
          "base_uri": "https://localhost:8080/",
          "height": 166
        },
        "id": "qpG-ZLsJYwyI",
        "outputId": "5183060c-b43b-4fd8-ad7a-b4f6179b78b4"
      },
      "execution_count": null,
      "outputs": [
        {
          "output_type": "error",
          "ename": "NameError",
          "evalue": "ignored",
          "traceback": [
            "\u001b[0;31m---------------------------------------------------------------------------\u001b[0m",
            "\u001b[0;31mNameError\u001b[0m                                 Traceback (most recent call last)",
            "\u001b[0;32m<ipython-input-20-7c942d1891ec>\u001b[0m in \u001b[0;36m<module>\u001b[0;34m\u001b[0m\n\u001b[0;32m----> 1\u001b[0;31m \u001b[0mprint\u001b[0m\u001b[0;34m(\u001b[0m\u001b[0mr\u001b[0m\u001b[0;34m.\u001b[0m\u001b[0mheaders\u001b[0m\u001b[0;34m)\u001b[0m\u001b[0;34m\u001b[0m\u001b[0;34m\u001b[0m\u001b[0m\n\u001b[0m",
            "\u001b[0;31mNameError\u001b[0m: name 'r' is not defined"
          ]
        }
      ]
    },
    {
      "cell_type": "code",
      "source": [
        "path=os.path.join(os.getcwd(),'image.png')\n",
        "path"
      ],
      "metadata": {
        "colab": {
          "base_uri": "https://localhost:8080/",
          "height": 35
        },
        "id": "81KYwJNXYyv5",
        "outputId": "97ef88b6-dc37-47db-85f6-1bfd7d16071b"
      },
      "execution_count": null,
      "outputs": [
        {
          "output_type": "execute_result",
          "data": {
            "text/plain": [
              "'/content/image.png'"
            ],
            "application/vnd.google.colaboratory.intrinsic+json": {
              "type": "string"
            }
          },
          "metadata": {},
          "execution_count": 249
        }
      ]
    },
    {
      "cell_type": "code",
      "source": [
        "with open(path,'wb') as f:\n",
        "    f.write(r.content)"
      ],
      "metadata": {
        "id": "H35BrvP1Y3oX"
      },
      "execution_count": null,
      "outputs": []
    },
    {
      "cell_type": "code",
      "source": [
        "Image.open(path)  "
      ],
      "metadata": {
        "colab": {
          "base_uri": "https://localhost:8080/",
          "height": 817
        },
        "id": "3uoYrA7VY767",
        "outputId": "d54f2d1b-f1a7-40eb-db55-91a21957781e"
      },
      "execution_count": null,
      "outputs": [
        {
          "output_type": "execute_result",
          "data": {
            "text/plain": [
              "<PIL.PngImagePlugin.PngImageFile image mode=P size=800x800 at 0x7F70D4B7D6D0>"
            ],
            "image/png": "[encoded data removed]"
          },
          "metadata": {},
          "execution_count": 251
        }
      ]
    },
    {
      "cell_type": "code",
      "source": [
        "url_get='http://httpbin.org/get'"
      ],
      "metadata": {
        "id": "BZoeFRd8Y_UV"
      },
      "execution_count": null,
      "outputs": []
    },
    {
      "cell_type": "code",
      "source": [
        "payload={\"name\":\"Joseph\",\"ID\":\"123\"}"
      ],
      "metadata": {
        "id": "p6aZ096dZIrH"
      },
      "execution_count": null,
      "outputs": []
    },
    {
      "cell_type": "code",
      "source": [
        "r=requests.get(url_get,params=payload)"
      ],
      "metadata": {
        "colab": {
          "base_uri": "https://localhost:8080/",
          "height": 166
        },
        "id": "GOglvNluZTgW",
        "outputId": "24c42dc6-7496-40d6-ebc8-0bf0245c1abd"
      },
      "execution_count": null,
      "outputs": [
        {
          "output_type": "error",
          "ename": "NameError",
          "evalue": "ignored",
          "traceback": [
            "\u001b[0;31m---------------------------------------------------------------------------\u001b[0m",
            "\u001b[0;31mNameError\u001b[0m                                 Traceback (most recent call last)",
            "\u001b[0;32m<ipython-input-17-b46a293b7831>\u001b[0m in \u001b[0;36m<module>\u001b[0;34m\u001b[0m\n\u001b[0;32m----> 1\u001b[0;31m \u001b[0mr\u001b[0m\u001b[0;34m=\u001b[0m\u001b[0mrequests\u001b[0m\u001b[0;34m.\u001b[0m\u001b[0mget\u001b[0m\u001b[0;34m(\u001b[0m\u001b[0murl_get\u001b[0m\u001b[0;34m,\u001b[0m\u001b[0mparams\u001b[0m\u001b[0;34m=\u001b[0m\u001b[0mpayload\u001b[0m\u001b[0;34m)\u001b[0m\u001b[0;34m\u001b[0m\u001b[0;34m\u001b[0m\u001b[0m\n\u001b[0m",
            "\u001b[0;31mNameError\u001b[0m: name 'requests' is not defined"
          ]
        }
      ]
    },
    {
      "cell_type": "code",
      "source": [
        "r.url"
      ],
      "metadata": {
        "colab": {
          "base_uri": "https://localhost:8080/",
          "height": 166
        },
        "id": "HHb8yOivZVUz",
        "outputId": "0826d6a1-885c-4324-a672-dc5ef121b8da"
      },
      "execution_count": null,
      "outputs": [
        {
          "output_type": "error",
          "ename": "NameError",
          "evalue": "ignored",
          "traceback": [
            "\u001b[0;31m---------------------------------------------------------------------------\u001b[0m",
            "\u001b[0;31mNameError\u001b[0m                                 Traceback (most recent call last)",
            "\u001b[0;32m<ipython-input-9-63d1936cd6b8>\u001b[0m in \u001b[0;36m<module>\u001b[0;34m\u001b[0m\n\u001b[0;32m----> 1\u001b[0;31m \u001b[0mr\u001b[0m\u001b[0;34m.\u001b[0m\u001b[0murl\u001b[0m\u001b[0;34m\u001b[0m\u001b[0;34m\u001b[0m\u001b[0m\n\u001b[0m",
            "\u001b[0;31mNameError\u001b[0m: name 'r' is not defined"
          ]
        }
      ]
    },
    {
      "cell_type": "code",
      "source": [
        "print(\"request body:\", r.request.body)"
      ],
      "metadata": {
        "colab": {
          "base_uri": "https://localhost:8080/",
          "height": 166
        },
        "id": "NN3JmeuuZYZw",
        "outputId": "23b221e5-d27e-4a6f-ce7e-b19c4f1f4583"
      },
      "execution_count": null,
      "outputs": [
        {
          "output_type": "error",
          "ename": "NameError",
          "evalue": "ignored",
          "traceback": [
            "\u001b[0;31m---------------------------------------------------------------------------\u001b[0m",
            "\u001b[0;31mNameError\u001b[0m                                 Traceback (most recent call last)",
            "\u001b[0;32m<ipython-input-10-ccd5469eb84d>\u001b[0m in \u001b[0;36m<module>\u001b[0;34m\u001b[0m\n\u001b[0;32m----> 1\u001b[0;31m \u001b[0mprint\u001b[0m\u001b[0;34m(\u001b[0m\u001b[0;34m\"request body:\"\u001b[0m\u001b[0;34m,\u001b[0m \u001b[0mr\u001b[0m\u001b[0;34m.\u001b[0m\u001b[0mrequest\u001b[0m\u001b[0;34m.\u001b[0m\u001b[0mbody\u001b[0m\u001b[0;34m)\u001b[0m\u001b[0;34m\u001b[0m\u001b[0;34m\u001b[0m\u001b[0m\n\u001b[0m",
            "\u001b[0;31mNameError\u001b[0m: name 'r' is not defined"
          ]
        }
      ]
    },
    {
      "cell_type": "code",
      "source": [
        "print(r.status_code)"
      ],
      "metadata": {
        "colab": {
          "base_uri": "https://localhost:8080/",
          "height": 166
        },
        "id": "QAowoTfXZbNK",
        "outputId": "81113974-97f3-4703-a0ba-290c43308f1e"
      },
      "execution_count": null,
      "outputs": [
        {
          "output_type": "error",
          "ename": "NameError",
          "evalue": "ignored",
          "traceback": [
            "\u001b[0;31m---------------------------------------------------------------------------\u001b[0m",
            "\u001b[0;31mNameError\u001b[0m                                 Traceback (most recent call last)",
            "\u001b[0;32m<ipython-input-11-d01dd688bd7b>\u001b[0m in \u001b[0;36m<module>\u001b[0;34m\u001b[0m\n\u001b[0;32m----> 1\u001b[0;31m \u001b[0mprint\u001b[0m\u001b[0;34m(\u001b[0m\u001b[0mr\u001b[0m\u001b[0;34m.\u001b[0m\u001b[0mstatus_code\u001b[0m\u001b[0;34m)\u001b[0m\u001b[0;34m\u001b[0m\u001b[0;34m\u001b[0m\u001b[0m\n\u001b[0m",
            "\u001b[0;31mNameError\u001b[0m: name 'r' is not defined"
          ]
        }
      ]
    },
    {
      "cell_type": "code",
      "source": [
        "print(r.text)"
      ],
      "metadata": {
        "colab": {
          "base_uri": "https://localhost:8080/"
        },
        "id": "39A7gZ8tZeGq",
        "outputId": "8235a748-c948-4867-9a1c-6700d6fa8ce0"
      },
      "execution_count": null,
      "outputs": [
        {
          "output_type": "stream",
          "name": "stdout",
          "text": [
            "{\n",
            "  \"args\": {\n",
            "    \"ID\": \"123\", \n",
            "    \"name\": \"Joseph\"\n",
            "  }, \n",
            "  \"headers\": {\n",
            "    \"Accept\": \"*/*\", \n",
            "    \"Accept-Encoding\": \"gzip, deflate\", \n",
            "    \"Host\": \"httpbin.org\", \n",
            "    \"User-Agent\": \"python-requests/2.23.0\", \n",
            "    \"X-Amzn-Trace-Id\": \"Root=1-6334d65a-312e671e4ff687a373070725\"\n",
            "  }, \n",
            "  \"origin\": \"34.125.193.23\", \n",
            "  \"url\": \"http://httpbin.org/get?name=Joseph&ID=123\"\n",
            "}\n",
            "\n"
          ]
        }
      ]
    },
    {
      "cell_type": "code",
      "source": [
        "r.headers['Content-Type']"
      ],
      "metadata": {
        "colab": {
          "base_uri": "https://localhost:8080/",
          "height": 35
        },
        "id": "H9ChmUmsZfXz",
        "outputId": "84020250-51d9-4d25-a18c-8bd913a33748"
      },
      "execution_count": null,
      "outputs": [
        {
          "output_type": "execute_result",
          "data": {
            "text/plain": [
              "'application/json'"
            ],
            "application/vnd.google.colaboratory.intrinsic+json": {
              "type": "string"
            }
          },
          "metadata": {},
          "execution_count": 259
        }
      ]
    },
    {
      "cell_type": "code",
      "source": [
        "r.json()"
      ],
      "metadata": {
        "colab": {
          "base_uri": "https://localhost:8080/"
        },
        "id": "GemhRN7hZiqt",
        "outputId": "7ad6d272-8c74-4ae1-8ddb-5545bb459e5b"
      },
      "execution_count": null,
      "outputs": [
        {
          "output_type": "execute_result",
          "data": {
            "text/plain": [
              "{'args': {'ID': '123', 'name': 'Joseph'},\n",
              " 'headers': {'Accept': '*/*',\n",
              "  'Accept-Encoding': 'gzip, deflate',\n",
              "  'Host': 'httpbin.org',\n",
              "  'User-Agent': 'python-requests/2.23.0',\n",
              "  'X-Amzn-Trace-Id': 'Root=1-6334d65a-312e671e4ff687a373070725'},\n",
              " 'origin': '34.125.193.23',\n",
              " 'url': 'http://httpbin.org/get?name=Joseph&ID=123'}"
            ]
          },
          "metadata": {},
          "execution_count": 260
        }
      ]
    },
    {
      "cell_type": "code",
      "source": [],
      "metadata": {
        "id": "sfMVBXWXZ1J2"
      },
      "execution_count": null,
      "outputs": []
    },
    {
      "cell_type": "code",
      "source": [
        "r.json()['args']"
      ],
      "metadata": {
        "colab": {
          "base_uri": "https://localhost:8080/"
        },
        "id": "zIAo-8F5ZliQ",
        "outputId": "cb87cf25-c063-4870-ff97-4ca1972ce06f"
      },
      "execution_count": null,
      "outputs": [
        {
          "output_type": "execute_result",
          "data": {
            "text/plain": [
              "{'ID': '123', 'name': 'Joseph'}"
            ]
          },
          "metadata": {},
          "execution_count": 261
        }
      ]
    },
    {
      "cell_type": "code",
      "source": [
        "url_post='http://httpbin.org/post'"
      ],
      "metadata": {
        "id": "RDIk26URZnwt"
      },
      "execution_count": null,
      "outputs": []
    },
    {
      "cell_type": "code",
      "source": [
        "r_post=requests.post(url_post,data=payload)"
      ],
      "metadata": {
        "id": "jeYmRzFXZpRD"
      },
      "execution_count": null,
      "outputs": []
    },
    {
      "cell_type": "code",
      "source": [
        "print(\"POST request URL:\",r_post.url )\n",
        "print(\"GET request URL:\",r.url)"
      ],
      "metadata": {
        "colab": {
          "base_uri": "https://localhost:8080/"
        },
        "id": "S2O0vzVtZsbt",
        "outputId": "d4b83a2f-1393-4373-b9c5-384515916c2f"
      },
      "execution_count": null,
      "outputs": [
        {
          "output_type": "stream",
          "name": "stdout",
          "text": [
            "POST request URL: http://httpbin.org/post\n",
            "GET request URL: http://httpbin.org/get?name=Joseph&ID=123\n"
          ]
        }
      ]
    },
    {
      "cell_type": "code",
      "source": [
        "print(\"POST request body:\",r_post.request.body)\n",
        "print(\"GET request body:\",r.request.body)"
      ],
      "metadata": {
        "colab": {
          "base_uri": "https://localhost:8080/"
        },
        "id": "X7VYIVbfZt4r",
        "outputId": "f5f02b8c-6747-4686-98c4-c7cf43b06068"
      },
      "execution_count": null,
      "outputs": [
        {
          "output_type": "stream",
          "name": "stdout",
          "text": [
            "POST request body: name=Joseph&ID=123\n",
            "GET request body: None\n"
          ]
        }
      ]
    },
    {
      "cell_type": "code",
      "source": [
        "r_post.json()['form']"
      ],
      "metadata": {
        "colab": {
          "base_uri": "https://localhost:8080/",
          "height": 166
        },
        "id": "SXODTFazZ2ga",
        "outputId": "e78dea4d-78e1-4101-a7d0-ea64cbfcefa1"
      },
      "execution_count": null,
      "outputs": [
        {
          "output_type": "error",
          "ename": "NameError",
          "evalue": "ignored",
          "traceback": [
            "\u001b[0;31m---------------------------------------------------------------------------\u001b[0m",
            "\u001b[0;31mNameError\u001b[0m                                 Traceback (most recent call last)",
            "\u001b[0;32m<ipython-input-5-680a564c9a80>\u001b[0m in \u001b[0;36m<module>\u001b[0;34m\u001b[0m\n\u001b[0;32m----> 1\u001b[0;31m \u001b[0mr_post\u001b[0m\u001b[0;34m.\u001b[0m\u001b[0mjson\u001b[0m\u001b[0;34m(\u001b[0m\u001b[0;34m)\u001b[0m\u001b[0;34m[\u001b[0m\u001b[0;34m'form'\u001b[0m\u001b[0;34m]\u001b[0m\u001b[0;34m\u001b[0m\u001b[0;34m\u001b[0m\u001b[0m\n\u001b[0m",
            "\u001b[0;31mNameError\u001b[0m: name 'r_post' is not defined"
          ]
        }
      ]
    },
    {
      "cell_type": "code",
      "source": [
        "!pip install randomuser"
      ],
      "metadata": {
        "colab": {
          "base_uri": "https://localhost:8080/"
        },
        "id": "zJpdi_NzZ4XD",
        "outputId": "5837223d-cc26-4f05-9d28-8cd2fb4ad3d9"
      },
      "execution_count": 23,
      "outputs": [
        {
          "output_type": "stream",
          "name": "stdout",
          "text": [
            "Looking in indexes: https://pypi.org/simple, https://us-python.pkg.dev/colab-wheels/public/simple/\n",
            "Collecting randomuser\n",
            "  Downloading randomuser-1.6.tar.gz (5.0 kB)\n",
            "Building wheels for collected packages: randomuser\n",
            "  Building wheel for randomuser (setup.py) ... \u001b[?25l\u001b[?25hdone\n",
            "  Created wheel for randomuser: filename=randomuser-1.6-py3-none-any.whl size=5084 sha256=c0d147470f5843dfbda9b49bf14b0ffdfda45e1ef33521b9ccd78094c473dfc6\n",
            "  Stored in directory: /root/.cache/pip/wheels/21/10/7b/c13bc3e24a3c1000a34554802ad8aa0ff27df56366998a0473\n",
            "Successfully built randomuser\n",
            "Installing collected packages: randomuser\n",
            "Successfully installed randomuser-1.6\n"
          ]
        }
      ]
    },
    {
      "cell_type": "code",
      "source": [
        "from randomuser import RandomUser\n",
        "import pandas as pd"
      ],
      "metadata": {
        "id": "4wzcWOwDa3dO"
      },
      "execution_count": 24,
      "outputs": []
    },
    {
      "cell_type": "code",
      "source": [
        "r = RandomUser()"
      ],
      "metadata": {
        "id": "a91DEO9wa7GX"
      },
      "execution_count": 25,
      "outputs": []
    },
    {
      "cell_type": "code",
      "source": [
        "some_list = r.generate_users(10)"
      ],
      "metadata": {
        "id": "lAkyJf0PbBEw"
      },
      "execution_count": 26,
      "outputs": []
    },
    {
      "cell_type": "code",
      "source": [
        "some_list"
      ],
      "metadata": {
        "colab": {
          "base_uri": "https://localhost:8080/"
        },
        "id": "hUB0NP0EbCGS",
        "outputId": "d6f010b3-818b-4265-a8ba-b7541e4bd752"
      },
      "execution_count": 27,
      "outputs": [
        {
          "output_type": "execute_result",
          "data": {
            "text/plain": [
              "[<randomuser.RandomUser at 0x7f0d2d1e8210>,\n",
              " <randomuser.RandomUser at 0x7f0d2d1e8250>,\n",
              " <randomuser.RandomUser at 0x7f0d2d1e8290>,\n",
              " <randomuser.RandomUser at 0x7f0d2d1e82d0>,\n",
              " <randomuser.RandomUser at 0x7f0d2d1e8310>,\n",
              " <randomuser.RandomUser at 0x7f0d2d1e8390>,\n",
              " <randomuser.RandomUser at 0x7f0d2d1e83d0>,\n",
              " <randomuser.RandomUser at 0x7f0d2d1e8410>,\n",
              " <randomuser.RandomUser at 0x7f0d2d1e8450>,\n",
              " <randomuser.RandomUser at 0x7f0d2d1e8350>]"
            ]
          },
          "metadata": {},
          "execution_count": 27
        }
      ]
    },
    {
      "cell_type": "code",
      "source": [
        "name = r.get_full_name()"
      ],
      "metadata": {
        "id": "4EbPKOtpPaow"
      },
      "execution_count": 28,
      "outputs": []
    },
    {
      "cell_type": "code",
      "source": [
        "for user in some_list:\n",
        "    print (user.get_full_name(),\" \",user.get_email())"
      ],
      "metadata": {
        "colab": {
          "base_uri": "https://localhost:8080/"
        },
        "id": "5YYdE2GcPfy7",
        "outputId": "980d49b3-8ca3-40da-f125-37315cf48ff7"
      },
      "execution_count": 29,
      "outputs": [
        {
          "output_type": "stream",
          "name": "stdout",
          "text": [
            "Selma Madsen   selma.madsen@example.com\n",
            "Elmer Davies   elmer.davies@example.com\n",
            "Gloria Diaz   gloria.diaz@example.com\n",
            "ایلیا حسینی   yly.hsyny@example.com\n",
            "Zulmira Novaes   zulmira.novaes@example.com\n",
            "Téo Rolland   teo.rolland@example.com\n",
            "Aurora Marin   aurora.marin@example.com\n",
            "Vildan Köybaşı   vildan.koybasi@example.com\n",
            "Simona Bjørn   simona.bjorn@example.com\n",
            "Teresa Horton   teresa.horton@example.com\n"
          ]
        }
      ]
    },
    {
      "cell_type": "code",
      "source": [
        "for user in some_list:\n",
        "    print (user.get_picture())"
      ],
      "metadata": {
        "colab": {
          "base_uri": "https://localhost:8080/"
        },
        "id": "NzXKZZFgPhEy",
        "outputId": "12d2070b-e947-49df-f021-171e7e8c2c07"
      },
      "execution_count": 30,
      "outputs": [
        {
          "output_type": "stream",
          "name": "stdout",
          "text": [
            "https://randomuser.me/api/portraits/women/70.jpg\n",
            "https://randomuser.me/api/portraits/men/31.jpg\n",
            "https://randomuser.me/api/portraits/women/64.jpg\n",
            "https://randomuser.me/api/portraits/men/89.jpg\n",
            "https://randomuser.me/api/portraits/women/90.jpg\n",
            "https://randomuser.me/api/portraits/men/57.jpg\n",
            "https://randomuser.me/api/portraits/women/42.jpg\n",
            "https://randomuser.me/api/portraits/women/56.jpg\n",
            "https://randomuser.me/api/portraits/women/38.jpg\n",
            "https://randomuser.me/api/portraits/women/66.jpg\n"
          ]
        }
      ]
    },
    {
      "cell_type": "code",
      "source": [
        "def get_users():\n",
        "    users =[]\n",
        "     \n",
        "    for user in RandomUser.generate_users(10):\n",
        "        users.append({\"Name\":user.get_full_name(),\"Gender\":user.get_gender(),\"City\":user.get_city(),\"State\":user.get_state(),\"Email\":user.get_email(), \"DOB\":user.get_dob(),\"Picture\":user.get_picture()})\n",
        "      \n",
        "    return pd.DataFrame(users)     "
      ],
      "metadata": {
        "id": "_4wFT5TnP2VF"
      },
      "execution_count": 31,
      "outputs": []
    },
    {
      "cell_type": "code",
      "source": [
        "get_users()"
      ],
      "metadata": {
        "colab": {
          "base_uri": "https://localhost:8080/",
          "height": 580
        },
        "id": "LDOx5RRHP3Oh",
        "outputId": "9f693080-e8ef-4ff8-9578-2160a3fd916d"
      },
      "execution_count": 32,
      "outputs": [
        {
          "output_type": "execute_result",
          "data": {
            "text/plain": [
              "                  Name  Gender              City               State  \\\n",
              "0        Nicholas Cruz    male    Stoke-on-Trent           Wiltshire   \n",
              "1         Molly George  female         Tipperary             Donegal   \n",
              "2       Brandon Castro    male         San Mateo               Idaho   \n",
              "3        Maxime Moreau    male  Clermont-Ferrand             Aveyron   \n",
              "4     Elenise Carvalho  female         Araucária            Amazonas   \n",
              "5           Ülkü Orbay  female           Antalya              Mardin   \n",
              "6  Hans-Bernd Wiesmann    male       Unterallgäu             Sachsen   \n",
              "7        Wibke Häußler  female         Havelberg              Bayern   \n",
              "8       Janice Schmidt  female           Geelong  Northern Territory   \n",
              "9    Josefina Iglesias  female          Zaragoza             Galicia   \n",
              "\n",
              "                             Email                       DOB  \\\n",
              "0        nicholas.cruz@example.com  1991-07-19T07:08:34.486Z   \n",
              "1         molly.george@example.com  1952-04-16T09:47:43.492Z   \n",
              "2       brandon.castro@example.com  1992-12-23T19:24:16.274Z   \n",
              "3        maxime.moreau@example.com  1961-01-01T19:36:04.482Z   \n",
              "4     elenise.carvalho@example.com  1951-08-27T22:10:21.004Z   \n",
              "5           ulku.orbay@example.com  1961-02-17T17:25:12.341Z   \n",
              "6  hans-bernd.wiesmann@example.com  1968-09-14T14:38:08.196Z   \n",
              "7       wibke.haussler@example.com  1975-11-18T13:03:14.627Z   \n",
              "8       janice.schmidt@example.com  1954-06-26T08:37:45.597Z   \n",
              "9    josefina.iglesias@example.com  1970-03-06T07:51:39.099Z   \n",
              "\n",
              "                                            Picture  \n",
              "0    https://randomuser.me/api/portraits/men/67.jpg  \n",
              "1  https://randomuser.me/api/portraits/women/28.jpg  \n",
              "2    https://randomuser.me/api/portraits/men/38.jpg  \n",
              "3    https://randomuser.me/api/portraits/men/33.jpg  \n",
              "4  https://randomuser.me/api/portraits/women/65.jpg  \n",
              "5  https://randomuser.me/api/portraits/women/55.jpg  \n",
              "6     https://randomuser.me/api/portraits/men/6.jpg  \n",
              "7   https://randomuser.me/api/portraits/women/1.jpg  \n",
              "8  https://randomuser.me/api/portraits/women/74.jpg  \n",
              "9  https://randomuser.me/api/portraits/women/34.jpg  "
            ],
            "text/html": [
              "\n",
              "  <div id=\"df-82dc476a-b12f-497d-a552-521792c08ed8\">\n",
              "    <div class=\"colab-df-container\">\n",
              "      <div>\n",
              "<style scoped>\n",
              "    .dataframe tbody tr th:only-of-type {\n",
              "        vertical-align: middle;\n",
              "    }\n",
              "\n",
              "    .dataframe tbody tr th {\n",
              "        vertical-align: top;\n",
              "    }\n",
              "\n",
              "    .dataframe thead th {\n",
              "        text-align: right;\n",
              "    }\n",
              "</style>\n",
              "<table border=\"1\" class=\"dataframe\">\n",
              "  <thead>\n",
              "    <tr style=\"text-align: right;\">\n",
              "      <th></th>\n",
              "      <th>Name</th>\n",
              "      <th>Gender</th>\n",
              "      <th>City</th>\n",
              "      <th>State</th>\n",
              "      <th>Email</th>\n",
              "      <th>DOB</th>\n",
              "      <th>Picture</th>\n",
              "    </tr>\n",
              "  </thead>\n",
              "  <tbody>\n",
              "    <tr>\n",
              "      <th>0</th>\n",
              "      <td>Nicholas Cruz</td>\n",
              "      <td>male</td>\n",
              "      <td>Stoke-on-Trent</td>\n",
              "      <td>Wiltshire</td>\n",
              "      <td>nicholas.cruz@example.com</td>\n",
              "      <td>1991-07-19T07:08:34.486Z</td>\n",
              "      <td>https://randomuser.me/api/portraits/men/67.jpg</td>\n",
              "    </tr>\n",
              "    <tr>\n",
              "      <th>1</th>\n",
              "      <td>Molly George</td>\n",
              "      <td>female</td>\n",
              "      <td>Tipperary</td>\n",
              "      <td>Donegal</td>\n",
              "      <td>molly.george@example.com</td>\n",
              "      <td>1952-04-16T09:47:43.492Z</td>\n",
              "      <td>https://randomuser.me/api/portraits/women/28.jpg</td>\n",
              "    </tr>\n",
              "    <tr>\n",
              "      <th>2</th>\n",
              "      <td>Brandon Castro</td>\n",
              "      <td>male</td>\n",
              "      <td>San Mateo</td>\n",
              "      <td>Idaho</td>\n",
              "      <td>brandon.castro@example.com</td>\n",
              "      <td>1992-12-23T19:24:16.274Z</td>\n",
              "      <td>https://randomuser.me/api/portraits/men/38.jpg</td>\n",
              "    </tr>\n",
              "    <tr>\n",
              "      <th>3</th>\n",
              "      <td>Maxime Moreau</td>\n",
              "      <td>male</td>\n",
              "      <td>Clermont-Ferrand</td>\n",
              "      <td>Aveyron</td>\n",
              "      <td>maxime.moreau@example.com</td>\n",
              "      <td>1961-01-01T19:36:04.482Z</td>\n",
              "      <td>https://randomuser.me/api/portraits/men/33.jpg</td>\n",
              "    </tr>\n",
              "    <tr>\n",
              "      <th>4</th>\n",
              "      <td>Elenise Carvalho</td>\n",
              "      <td>female</td>\n",
              "      <td>Araucária</td>\n",
              "      <td>Amazonas</td>\n",
              "      <td>elenise.carvalho@example.com</td>\n",
              "      <td>1951-08-27T22:10:21.004Z</td>\n",
              "      <td>https://randomuser.me/api/portraits/women/65.jpg</td>\n",
              "    </tr>\n",
              "    <tr>\n",
              "      <th>5</th>\n",
              "      <td>Ülkü Orbay</td>\n",
              "      <td>female</td>\n",
              "      <td>Antalya</td>\n",
              "      <td>Mardin</td>\n",
              "      <td>ulku.orbay@example.com</td>\n",
              "      <td>1961-02-17T17:25:12.341Z</td>\n",
              "      <td>https://randomuser.me/api/portraits/women/55.jpg</td>\n",
              "    </tr>\n",
              "    <tr>\n",
              "      <th>6</th>\n",
              "      <td>Hans-Bernd Wiesmann</td>\n",
              "      <td>male</td>\n",
              "      <td>Unterallgäu</td>\n",
              "      <td>Sachsen</td>\n",
              "      <td>hans-bernd.wiesmann@example.com</td>\n",
              "      <td>1968-09-14T14:38:08.196Z</td>\n",
              "      <td>https://randomuser.me/api/portraits/men/6.jpg</td>\n",
              "    </tr>\n",
              "    <tr>\n",
              "      <th>7</th>\n",
              "      <td>Wibke Häußler</td>\n",
              "      <td>female</td>\n",
              "      <td>Havelberg</td>\n",
              "      <td>Bayern</td>\n",
              "      <td>wibke.haussler@example.com</td>\n",
              "      <td>1975-11-18T13:03:14.627Z</td>\n",
              "      <td>https://randomuser.me/api/portraits/women/1.jpg</td>\n",
              "    </tr>\n",
              "    <tr>\n",
              "      <th>8</th>\n",
              "      <td>Janice Schmidt</td>\n",
              "      <td>female</td>\n",
              "      <td>Geelong</td>\n",
              "      <td>Northern Territory</td>\n",
              "      <td>janice.schmidt@example.com</td>\n",
              "      <td>1954-06-26T08:37:45.597Z</td>\n",
              "      <td>https://randomuser.me/api/portraits/women/74.jpg</td>\n",
              "    </tr>\n",
              "    <tr>\n",
              "      <th>9</th>\n",
              "      <td>Josefina Iglesias</td>\n",
              "      <td>female</td>\n",
              "      <td>Zaragoza</td>\n",
              "      <td>Galicia</td>\n",
              "      <td>josefina.iglesias@example.com</td>\n",
              "      <td>1970-03-06T07:51:39.099Z</td>\n",
              "      <td>https://randomuser.me/api/portraits/women/34.jpg</td>\n",
              "    </tr>\n",
              "  </tbody>\n",
              "</table>\n",
              "</div>\n",
              "      <button class=\"colab-df-convert\" onclick=\"convertToInteractive('df-82dc476a-b12f-497d-a552-521792c08ed8')\"\n",
              "              title=\"Convert this dataframe to an interactive table.\"\n",
              "              style=\"display:none;\">\n",
              "        \n",
              "  <svg xmlns=\"http://www.w3.org/2000/svg\" height=\"24px\"viewBox=\"0 0 24 24\"\n",
              "       width=\"24px\">\n",
              "    <path d=\"M0 0h24v24H0V0z\" fill=\"none\"/>\n",
              "    <path d=\"M18.56 5.44l.94 2.06.94-2.06 2.06-.94-2.06-.94-.94-2.06-.94 2.06-2.06.94zm-11 1L8.5 8.5l.94-2.06 2.06-.94-2.06-.94L8.5 2.5l-.94 2.06-2.06.94zm10 10l.94 2.06.94-2.06 2.06-.94-2.06-.94-.94-2.06-.94 2.06-2.06.94z\"/><path d=\"M17.41 7.96l-1.37-1.37c-.4-.4-.92-.59-1.43-.59-.52 0-1.04.2-1.43.59L10.3 9.45l-7.72 7.72c-.78.78-.78 2.05 0 2.83L4 21.41c.39.39.9.59 1.41.59.51 0 1.02-.2 1.41-.59l7.78-7.78 2.81-2.81c.8-.78.8-2.07 0-2.86zM5.41 20L4 18.59l7.72-7.72 1.47 1.35L5.41 20z\"/>\n",
              "  </svg>\n",
              "      </button>\n",
              "      \n",
              "  <style>\n",
              "    .colab-df-container {\n",
              "      display:flex;\n",
              "      flex-wrap:wrap;\n",
              "      gap: 12px;\n",
              "    }\n",
              "\n",
              "    .colab-df-convert {\n",
              "      background-color: #E8F0FE;\n",
              "      border: none;\n",
              "      border-radius: 50%;\n",
              "      cursor: pointer;\n",
              "      display: none;\n",
              "      fill: #1967D2;\n",
              "      height: 32px;\n",
              "      padding: 0 0 0 0;\n",
              "      width: 32px;\n",
              "    }\n",
              "\n",
              "    .colab-df-convert:hover {\n",
              "      background-color: #E2EBFA;\n",
              "      box-shadow: 0px 1px 2px rgba(60, 64, 67, 0.3), 0px 1px 3px 1px rgba(60, 64, 67, 0.15);\n",
              "      fill: #174EA6;\n",
              "    }\n",
              "\n",
              "    [theme=dark] .colab-df-convert {\n",
              "      background-color: #3B4455;\n",
              "      fill: #D2E3FC;\n",
              "    }\n",
              "\n",
              "    [theme=dark] .colab-df-convert:hover {\n",
              "      background-color: #434B5C;\n",
              "      box-shadow: 0px 1px 3px 1px rgba(0, 0, 0, 0.15);\n",
              "      filter: drop-shadow(0px 1px 2px rgba(0, 0, 0, 0.3));\n",
              "      fill: #FFFFFF;\n",
              "    }\n",
              "  </style>\n",
              "\n",
              "      <script>\n",
              "        const buttonEl =\n",
              "          document.querySelector('#df-82dc476a-b12f-497d-a552-521792c08ed8 button.colab-df-convert');\n",
              "        buttonEl.style.display =\n",
              "          google.colab.kernel.accessAllowed ? 'block' : 'none';\n",
              "\n",
              "        async function convertToInteractive(key) {\n",
              "          const element = document.querySelector('#df-82dc476a-b12f-497d-a552-521792c08ed8');\n",
              "          const dataTable =\n",
              "            await google.colab.kernel.invokeFunction('convertToInteractive',\n",
              "                                                     [key], {});\n",
              "          if (!dataTable) return;\n",
              "\n",
              "          const docLinkHtml = 'Like what you see? Visit the ' +\n",
              "            '<a target=\"_blank\" href=https://colab.research.google.com/notebooks/data_table.ipynb>data table notebook</a>'\n",
              "            + ' to learn more about interactive tables.';\n",
              "          element.innerHTML = '';\n",
              "          dataTable['output_type'] = 'display_data';\n",
              "          await google.colab.output.renderOutput(dataTable, element);\n",
              "          const docLink = document.createElement('div');\n",
              "          docLink.innerHTML = docLinkHtml;\n",
              "          element.appendChild(docLink);\n",
              "        }\n",
              "      </script>\n",
              "    </div>\n",
              "  </div>\n",
              "  "
            ]
          },
          "metadata": {},
          "execution_count": 32
        }
      ]
    },
    {
      "cell_type": "code",
      "source": [
        "df1 = pd.DataFrame(get_users())  "
      ],
      "metadata": {
        "id": "Evq4buNLP60i"
      },
      "execution_count": 33,
      "outputs": []
    },
    {
      "cell_type": "code",
      "source": [
        "import requests\n",
        "import json"
      ],
      "metadata": {
        "id": "vpvor1dZP9uk"
      },
      "execution_count": 34,
      "outputs": []
    },
    {
      "cell_type": "code",
      "source": [
        "data = requests.get(\"https://www.fruityvice.com/api/fruit/all\")"
      ],
      "metadata": {
        "id": "KA4yL-p6QC6O"
      },
      "execution_count": 35,
      "outputs": []
    },
    {
      "cell_type": "code",
      "source": [
        "results = json.loads(data.text)"
      ],
      "metadata": {
        "id": "9-nonJtgQF8u"
      },
      "execution_count": 36,
      "outputs": []
    },
    {
      "cell_type": "code",
      "source": [
        "pd.DataFrame(results)"
      ],
      "metadata": {
        "colab": {
          "base_uri": "https://localhost:8080/",
          "height": 1000
        },
        "id": "Fee6S-ikQID4",
        "outputId": "37a17db2-3a47-41a0-89a8-f9bc01e93308"
      },
      "execution_count": 37,
      "outputs": [
        {
          "output_type": "execute_result",
          "data": {
            "text/plain": [
              "         genus          name  id           family             order  \\\n",
              "0        Malus         Apple   6         Rosaceae           Rosales   \n",
              "1       Prunus       Apricot  35         Rosaceae           Rosales   \n",
              "2         Musa        Banana   1         Musaceae      Zingiberales   \n",
              "3        Rubus    Blackberry  64         Rosaceae           Rosales   \n",
              "4     Fragaria     Blueberry  33         Rosaceae           Rosales   \n",
              "5       Prunus        Cherry   9         Rosaceae              None   \n",
              "6        Durio        Durian  60        Malvaceae          Malvales   \n",
              "7        Ficus           Fig  68         Moraceae           Rosales   \n",
              "8        Ribes    Gooseberry  69  Grossulariaceae      Saxifragales   \n",
              "9        Vitis        Grapes  47         Vitaceae           Vitales   \n",
              "10       Malus    GreenApple  72         Rosaceae           Rosales   \n",
              "11     Psidium         Guava  37        Myrtaceae          Myrtales   \n",
              "12     Apteryx          Kiwi  66    Actinidiaceae  Struthioniformes   \n",
              "13      Citrus         Lemon  26         Rutaceae        Sapindales   \n",
              "14      Citrus          Lime  44         Rutaceae        Sapindales   \n",
              "15   Vaccinium   Lingonberry  65        Ericaceae          Ericales   \n",
              "16      Litchi        Lychee  67      Sapindaceae        Sapindales   \n",
              "17   Mangifera         Mango  27    Anacardiaceae        Sapindales   \n",
              "18     Cucumis         Melon  41    Cucurbitaceae     Cucurbitaceae   \n",
              "19      Citrus        Orange   2         Rutaceae        Sapindales   \n",
              "20      Carica        Papaya  42       Caricaceae         Caricacea   \n",
              "21  Passiflora  Passionfruit  70   Passifloraceae      Malpighiales   \n",
              "22       Pyrus          Pear   4         Rosaceae           Rosales   \n",
              "23   Diospyros     Persimmon  52        Ebenaceae           Rosales   \n",
              "24      Ananas     Pineapple  10     Bromeliaceae            Poales   \n",
              "25      Prunus          Plum  71         Rosaceae           Rosales   \n",
              "26       Rubus     Raspberry  23         Rosaceae           Rosales   \n",
              "27    Fragaria    Strawberry   3         Rosaceae           Rosales   \n",
              "28     Solanum        Tomato   5       Solanaceae         Solanales   \n",
              "29    Spondias          Umbu  73    Anacardiaceae                 0   \n",
              "30   Citrullus    Watermelon  25    Cucurbitaceae      Cucurbitales   \n",
              "\n",
              "                                           nutritions  \n",
              "0   {'carbohydrates': 11.4, 'protein': 0.3, 'fat':...  \n",
              "1   {'carbohydrates': 3.9, 'protein': 0.5, 'fat': ...  \n",
              "2   {'carbohydrates': 22, 'protein': 1, 'fat': 0.2...  \n",
              "3   {'carbohydrates': 9, 'protein': 1.3, 'fat': 0....  \n",
              "4   {'carbohydrates': 5.5, 'protein': 0, 'fat': 0....  \n",
              "5   {'carbohydrates': 12, 'protein': 1, 'fat': 0.3...  \n",
              "6   {'carbohydrates': 27.1, 'protein': 1.5, 'fat':...  \n",
              "7   {'carbohydrates': 19, 'protein': 0.8, 'fat': 0...  \n",
              "8   {'carbohydrates': 10, 'protein': 0.9, 'fat': 0...  \n",
              "9   {'carbohydrates': 18.1, 'protein': 0.72, 'fat'...  \n",
              "10  {'carbohydrates': 3.1, 'protein': 0.4, 'fat': ...  \n",
              "11  {'carbohydrates': 14, 'protein': 2.6, 'fat': 1...  \n",
              "12  {'carbohydrates': 15, 'protein': 1.1, 'fat': 0...  \n",
              "13  {'carbohydrates': 9, 'protein': 1.1, 'fat': 0....  \n",
              "14  {'carbohydrates': 8.4, 'protein': 0.3, 'fat': ...  \n",
              "15  {'carbohydrates': 11.3, 'protein': 0.75, 'fat'...  \n",
              "16  {'carbohydrates': 17, 'protein': 0.8, 'fat': 0...  \n",
              "17  {'carbohydrates': 15, 'protein': 0.82, 'fat': ...  \n",
              "18  {'carbohydrates': 8, 'protein': 0, 'fat': 0, '...  \n",
              "19  {'carbohydrates': 8.3, 'protein': 1, 'fat': 0....  \n",
              "20  {'carbohydrates': 11, 'protein': 0, 'fat': 0.4...  \n",
              "21  {'carbohydrates': 22.4, 'protein': 2.2, 'fat':...  \n",
              "22  {'carbohydrates': 15, 'protein': 0.4, 'fat': 0...  \n",
              "23  {'carbohydrates': 18, 'protein': 0, 'fat': 0, ...  \n",
              "24  {'carbohydrates': 13.12, 'protein': 0.54, 'fat...  \n",
              "25  {'carbohydrates': 11.4, 'protein': 0.7, 'fat':...  \n",
              "26  {'carbohydrates': 12, 'protein': 1.2, 'fat': 0...  \n",
              "27  {'carbohydrates': 5.5, 'protein': 0.8, 'fat': ...  \n",
              "28  {'carbohydrates': 3.9, 'protein': 0.9, 'fat': ...  \n",
              "29  {'carbohydrates': 0, 'protein': 0, 'fat': 0, '...  \n",
              "30  {'carbohydrates': 8, 'protein': 0.6, 'fat': 0....  "
            ],
            "text/html": [
              "\n",
              "  <div id=\"df-cfe73bcb-2a23-4f99-aafc-6c49b2581deb\">\n",
              "    <div class=\"colab-df-container\">\n",
              "      <div>\n",
              "<style scoped>\n",
              "    .dataframe tbody tr th:only-of-type {\n",
              "        vertical-align: middle;\n",
              "    }\n",
              "\n",
              "    .dataframe tbody tr th {\n",
              "        vertical-align: top;\n",
              "    }\n",
              "\n",
              "    .dataframe thead th {\n",
              "        text-align: right;\n",
              "    }\n",
              "</style>\n",
              "<table border=\"1\" class=\"dataframe\">\n",
              "  <thead>\n",
              "    <tr style=\"text-align: right;\">\n",
              "      <th></th>\n",
              "      <th>genus</th>\n",
              "      <th>name</th>\n",
              "      <th>id</th>\n",
              "      <th>family</th>\n",
              "      <th>order</th>\n",
              "      <th>nutritions</th>\n",
              "    </tr>\n",
              "  </thead>\n",
              "  <tbody>\n",
              "    <tr>\n",
              "      <th>0</th>\n",
              "      <td>Malus</td>\n",
              "      <td>Apple</td>\n",
              "      <td>6</td>\n",
              "      <td>Rosaceae</td>\n",
              "      <td>Rosales</td>\n",
              "      <td>{'carbohydrates': 11.4, 'protein': 0.3, 'fat':...</td>\n",
              "    </tr>\n",
              "    <tr>\n",
              "      <th>1</th>\n",
              "      <td>Prunus</td>\n",
              "      <td>Apricot</td>\n",
              "      <td>35</td>\n",
              "      <td>Rosaceae</td>\n",
              "      <td>Rosales</td>\n",
              "      <td>{'carbohydrates': 3.9, 'protein': 0.5, 'fat': ...</td>\n",
              "    </tr>\n",
              "    <tr>\n",
              "      <th>2</th>\n",
              "      <td>Musa</td>\n",
              "      <td>Banana</td>\n",
              "      <td>1</td>\n",
              "      <td>Musaceae</td>\n",
              "      <td>Zingiberales</td>\n",
              "      <td>{'carbohydrates': 22, 'protein': 1, 'fat': 0.2...</td>\n",
              "    </tr>\n",
              "    <tr>\n",
              "      <th>3</th>\n",
              "      <td>Rubus</td>\n",
              "      <td>Blackberry</td>\n",
              "      <td>64</td>\n",
              "      <td>Rosaceae</td>\n",
              "      <td>Rosales</td>\n",
              "      <td>{'carbohydrates': 9, 'protein': 1.3, 'fat': 0....</td>\n",
              "    </tr>\n",
              "    <tr>\n",
              "      <th>4</th>\n",
              "      <td>Fragaria</td>\n",
              "      <td>Blueberry</td>\n",
              "      <td>33</td>\n",
              "      <td>Rosaceae</td>\n",
              "      <td>Rosales</td>\n",
              "      <td>{'carbohydrates': 5.5, 'protein': 0, 'fat': 0....</td>\n",
              "    </tr>\n",
              "    <tr>\n",
              "      <th>5</th>\n",
              "      <td>Prunus</td>\n",
              "      <td>Cherry</td>\n",
              "      <td>9</td>\n",
              "      <td>Rosaceae</td>\n",
              "      <td>None</td>\n",
              "      <td>{'carbohydrates': 12, 'protein': 1, 'fat': 0.3...</td>\n",
              "    </tr>\n",
              "    <tr>\n",
              "      <th>6</th>\n",
              "      <td>Durio</td>\n",
              "      <td>Durian</td>\n",
              "      <td>60</td>\n",
              "      <td>Malvaceae</td>\n",
              "      <td>Malvales</td>\n",
              "      <td>{'carbohydrates': 27.1, 'protein': 1.5, 'fat':...</td>\n",
              "    </tr>\n",
              "    <tr>\n",
              "      <th>7</th>\n",
              "      <td>Ficus</td>\n",
              "      <td>Fig</td>\n",
              "      <td>68</td>\n",
              "      <td>Moraceae</td>\n",
              "      <td>Rosales</td>\n",
              "      <td>{'carbohydrates': 19, 'protein': 0.8, 'fat': 0...</td>\n",
              "    </tr>\n",
              "    <tr>\n",
              "      <th>8</th>\n",
              "      <td>Ribes</td>\n",
              "      <td>Gooseberry</td>\n",
              "      <td>69</td>\n",
              "      <td>Grossulariaceae</td>\n",
              "      <td>Saxifragales</td>\n",
              "      <td>{'carbohydrates': 10, 'protein': 0.9, 'fat': 0...</td>\n",
              "    </tr>\n",
              "    <tr>\n",
              "      <th>9</th>\n",
              "      <td>Vitis</td>\n",
              "      <td>Grapes</td>\n",
              "      <td>47</td>\n",
              "      <td>Vitaceae</td>\n",
              "      <td>Vitales</td>\n",
              "      <td>{'carbohydrates': 18.1, 'protein': 0.72, 'fat'...</td>\n",
              "    </tr>\n",
              "    <tr>\n",
              "      <th>10</th>\n",
              "      <td>Malus</td>\n",
              "      <td>GreenApple</td>\n",
              "      <td>72</td>\n",
              "      <td>Rosaceae</td>\n",
              "      <td>Rosales</td>\n",
              "      <td>{'carbohydrates': 3.1, 'protein': 0.4, 'fat': ...</td>\n",
              "    </tr>\n",
              "    <tr>\n",
              "      <th>11</th>\n",
              "      <td>Psidium</td>\n",
              "      <td>Guava</td>\n",
              "      <td>37</td>\n",
              "      <td>Myrtaceae</td>\n",
              "      <td>Myrtales</td>\n",
              "      <td>{'carbohydrates': 14, 'protein': 2.6, 'fat': 1...</td>\n",
              "    </tr>\n",
              "    <tr>\n",
              "      <th>12</th>\n",
              "      <td>Apteryx</td>\n",
              "      <td>Kiwi</td>\n",
              "      <td>66</td>\n",
              "      <td>Actinidiaceae</td>\n",
              "      <td>Struthioniformes</td>\n",
              "      <td>{'carbohydrates': 15, 'protein': 1.1, 'fat': 0...</td>\n",
              "    </tr>\n",
              "    <tr>\n",
              "      <th>13</th>\n",
              "      <td>Citrus</td>\n",
              "      <td>Lemon</td>\n",
              "      <td>26</td>\n",
              "      <td>Rutaceae</td>\n",
              "      <td>Sapindales</td>\n",
              "      <td>{'carbohydrates': 9, 'protein': 1.1, 'fat': 0....</td>\n",
              "    </tr>\n",
              "    <tr>\n",
              "      <th>14</th>\n",
              "      <td>Citrus</td>\n",
              "      <td>Lime</td>\n",
              "      <td>44</td>\n",
              "      <td>Rutaceae</td>\n",
              "      <td>Sapindales</td>\n",
              "      <td>{'carbohydrates': 8.4, 'protein': 0.3, 'fat': ...</td>\n",
              "    </tr>\n",
              "    <tr>\n",
              "      <th>15</th>\n",
              "      <td>Vaccinium</td>\n",
              "      <td>Lingonberry</td>\n",
              "      <td>65</td>\n",
              "      <td>Ericaceae</td>\n",
              "      <td>Ericales</td>\n",
              "      <td>{'carbohydrates': 11.3, 'protein': 0.75, 'fat'...</td>\n",
              "    </tr>\n",
              "    <tr>\n",
              "      <th>16</th>\n",
              "      <td>Litchi</td>\n",
              "      <td>Lychee</td>\n",
              "      <td>67</td>\n",
              "      <td>Sapindaceae</td>\n",
              "      <td>Sapindales</td>\n",
              "      <td>{'carbohydrates': 17, 'protein': 0.8, 'fat': 0...</td>\n",
              "    </tr>\n",
              "    <tr>\n",
              "      <th>17</th>\n",
              "      <td>Mangifera</td>\n",
              "      <td>Mango</td>\n",
              "      <td>27</td>\n",
              "      <td>Anacardiaceae</td>\n",
              "      <td>Sapindales</td>\n",
              "      <td>{'carbohydrates': 15, 'protein': 0.82, 'fat': ...</td>\n",
              "    </tr>\n",
              "    <tr>\n",
              "      <th>18</th>\n",
              "      <td>Cucumis</td>\n",
              "      <td>Melon</td>\n",
              "      <td>41</td>\n",
              "      <td>Cucurbitaceae</td>\n",
              "      <td>Cucurbitaceae</td>\n",
              "      <td>{'carbohydrates': 8, 'protein': 0, 'fat': 0, '...</td>\n",
              "    </tr>\n",
              "    <tr>\n",
              "      <th>19</th>\n",
              "      <td>Citrus</td>\n",
              "      <td>Orange</td>\n",
              "      <td>2</td>\n",
              "      <td>Rutaceae</td>\n",
              "      <td>Sapindales</td>\n",
              "      <td>{'carbohydrates': 8.3, 'protein': 1, 'fat': 0....</td>\n",
              "    </tr>\n",
              "    <tr>\n",
              "      <th>20</th>\n",
              "      <td>Carica</td>\n",
              "      <td>Papaya</td>\n",
              "      <td>42</td>\n",
              "      <td>Caricaceae</td>\n",
              "      <td>Caricacea</td>\n",
              "      <td>{'carbohydrates': 11, 'protein': 0, 'fat': 0.4...</td>\n",
              "    </tr>\n",
              "    <tr>\n",
              "      <th>21</th>\n",
              "      <td>Passiflora</td>\n",
              "      <td>Passionfruit</td>\n",
              "      <td>70</td>\n",
              "      <td>Passifloraceae</td>\n",
              "      <td>Malpighiales</td>\n",
              "      <td>{'carbohydrates': 22.4, 'protein': 2.2, 'fat':...</td>\n",
              "    </tr>\n",
              "    <tr>\n",
              "      <th>22</th>\n",
              "      <td>Pyrus</td>\n",
              "      <td>Pear</td>\n",
              "      <td>4</td>\n",
              "      <td>Rosaceae</td>\n",
              "      <td>Rosales</td>\n",
              "      <td>{'carbohydrates': 15, 'protein': 0.4, 'fat': 0...</td>\n",
              "    </tr>\n",
              "    <tr>\n",
              "      <th>23</th>\n",
              "      <td>Diospyros</td>\n",
              "      <td>Persimmon</td>\n",
              "      <td>52</td>\n",
              "      <td>Ebenaceae</td>\n",
              "      <td>Rosales</td>\n",
              "      <td>{'carbohydrates': 18, 'protein': 0, 'fat': 0, ...</td>\n",
              "    </tr>\n",
              "    <tr>\n",
              "      <th>24</th>\n",
              "      <td>Ananas</td>\n",
              "      <td>Pineapple</td>\n",
              "      <td>10</td>\n",
              "      <td>Bromeliaceae</td>\n",
              "      <td>Poales</td>\n",
              "      <td>{'carbohydrates': 13.12, 'protein': 0.54, 'fat...</td>\n",
              "    </tr>\n",
              "    <tr>\n",
              "      <th>25</th>\n",
              "      <td>Prunus</td>\n",
              "      <td>Plum</td>\n",
              "      <td>71</td>\n",
              "      <td>Rosaceae</td>\n",
              "      <td>Rosales</td>\n",
              "      <td>{'carbohydrates': 11.4, 'protein': 0.7, 'fat':...</td>\n",
              "    </tr>\n",
              "    <tr>\n",
              "      <th>26</th>\n",
              "      <td>Rubus</td>\n",
              "      <td>Raspberry</td>\n",
              "      <td>23</td>\n",
              "      <td>Rosaceae</td>\n",
              "      <td>Rosales</td>\n",
              "      <td>{'carbohydrates': 12, 'protein': 1.2, 'fat': 0...</td>\n",
              "    </tr>\n",
              "    <tr>\n",
              "      <th>27</th>\n",
              "      <td>Fragaria</td>\n",
              "      <td>Strawberry</td>\n",
              "      <td>3</td>\n",
              "      <td>Rosaceae</td>\n",
              "      <td>Rosales</td>\n",
              "      <td>{'carbohydrates': 5.5, 'protein': 0.8, 'fat': ...</td>\n",
              "    </tr>\n",
              "    <tr>\n",
              "      <th>28</th>\n",
              "      <td>Solanum</td>\n",
              "      <td>Tomato</td>\n",
              "      <td>5</td>\n",
              "      <td>Solanaceae</td>\n",
              "      <td>Solanales</td>\n",
              "      <td>{'carbohydrates': 3.9, 'protein': 0.9, 'fat': ...</td>\n",
              "    </tr>\n",
              "    <tr>\n",
              "      <th>29</th>\n",
              "      <td>Spondias</td>\n",
              "      <td>Umbu</td>\n",
              "      <td>73</td>\n",
              "      <td>Anacardiaceae</td>\n",
              "      <td>0</td>\n",
              "      <td>{'carbohydrates': 0, 'protein': 0, 'fat': 0, '...</td>\n",
              "    </tr>\n",
              "    <tr>\n",
              "      <th>30</th>\n",
              "      <td>Citrullus</td>\n",
              "      <td>Watermelon</td>\n",
              "      <td>25</td>\n",
              "      <td>Cucurbitaceae</td>\n",
              "      <td>Cucurbitales</td>\n",
              "      <td>{'carbohydrates': 8, 'protein': 0.6, 'fat': 0....</td>\n",
              "    </tr>\n",
              "  </tbody>\n",
              "</table>\n",
              "</div>\n",
              "      <button class=\"colab-df-convert\" onclick=\"convertToInteractive('df-cfe73bcb-2a23-4f99-aafc-6c49b2581deb')\"\n",
              "              title=\"Convert this dataframe to an interactive table.\"\n",
              "              style=\"display:none;\">\n",
              "        \n",
              "  <svg xmlns=\"http://www.w3.org/2000/svg\" height=\"24px\"viewBox=\"0 0 24 24\"\n",
              "       width=\"24px\">\n",
              "    <path d=\"M0 0h24v24H0V0z\" fill=\"none\"/>\n",
              "    <path d=\"M18.56 5.44l.94 2.06.94-2.06 2.06-.94-2.06-.94-.94-2.06-.94 2.06-2.06.94zm-11 1L8.5 8.5l.94-2.06 2.06-.94-2.06-.94L8.5 2.5l-.94 2.06-2.06.94zm10 10l.94 2.06.94-2.06 2.06-.94-2.06-.94-.94-2.06-.94 2.06-2.06.94z\"/><path d=\"M17.41 7.96l-1.37-1.37c-.4-.4-.92-.59-1.43-.59-.52 0-1.04.2-1.43.59L10.3 9.45l-7.72 7.72c-.78.78-.78 2.05 0 2.83L4 21.41c.39.39.9.59 1.41.59.51 0 1.02-.2 1.41-.59l7.78-7.78 2.81-2.81c.8-.78.8-2.07 0-2.86zM5.41 20L4 18.59l7.72-7.72 1.47 1.35L5.41 20z\"/>\n",
              "  </svg>\n",
              "      </button>\n",
              "      \n",
              "  <style>\n",
              "    .colab-df-container {\n",
              "      display:flex;\n",
              "      flex-wrap:wrap;\n",
              "      gap: 12px;\n",
              "    }\n",
              "\n",
              "    .colab-df-convert {\n",
              "      background-color: #E8F0FE;\n",
              "      border: none;\n",
              "      border-radius: 50%;\n",
              "      cursor: pointer;\n",
              "      display: none;\n",
              "      fill: #1967D2;\n",
              "      height: 32px;\n",
              "      padding: 0 0 0 0;\n",
              "      width: 32px;\n",
              "    }\n",
              "\n",
              "    .colab-df-convert:hover {\n",
              "      background-color: #E2EBFA;\n",
              "      box-shadow: 0px 1px 2px rgba(60, 64, 67, 0.3), 0px 1px 3px 1px rgba(60, 64, 67, 0.15);\n",
              "      fill: #174EA6;\n",
              "    }\n",
              "\n",
              "    [theme=dark] .colab-df-convert {\n",
              "      background-color: #3B4455;\n",
              "      fill: #D2E3FC;\n",
              "    }\n",
              "\n",
              "    [theme=dark] .colab-df-convert:hover {\n",
              "      background-color: #434B5C;\n",
              "      box-shadow: 0px 1px 3px 1px rgba(0, 0, 0, 0.15);\n",
              "      filter: drop-shadow(0px 1px 2px rgba(0, 0, 0, 0.3));\n",
              "      fill: #FFFFFF;\n",
              "    }\n",
              "  </style>\n",
              "\n",
              "      <script>\n",
              "        const buttonEl =\n",
              "          document.querySelector('#df-cfe73bcb-2a23-4f99-aafc-6c49b2581deb button.colab-df-convert');\n",
              "        buttonEl.style.display =\n",
              "          google.colab.kernel.accessAllowed ? 'block' : 'none';\n",
              "\n",
              "        async function convertToInteractive(key) {\n",
              "          const element = document.querySelector('#df-cfe73bcb-2a23-4f99-aafc-6c49b2581deb');\n",
              "          const dataTable =\n",
              "            await google.colab.kernel.invokeFunction('convertToInteractive',\n",
              "                                                     [key], {});\n",
              "          if (!dataTable) return;\n",
              "\n",
              "          const docLinkHtml = 'Like what you see? Visit the ' +\n",
              "            '<a target=\"_blank\" href=https://colab.research.google.com/notebooks/data_table.ipynb>data table notebook</a>'\n",
              "            + ' to learn more about interactive tables.';\n",
              "          element.innerHTML = '';\n",
              "          dataTable['output_type'] = 'display_data';\n",
              "          await google.colab.output.renderOutput(dataTable, element);\n",
              "          const docLink = document.createElement('div');\n",
              "          docLink.innerHTML = docLinkHtml;\n",
              "          element.appendChild(docLink);\n",
              "        }\n",
              "      </script>\n",
              "    </div>\n",
              "  </div>\n",
              "  "
            ]
          },
          "metadata": {},
          "execution_count": 37
        }
      ]
    },
    {
      "cell_type": "code",
      "source": [
        "df2 = pd.json_normalize(results)"
      ],
      "metadata": {
        "id": "DEEghyo6QJr0"
      },
      "execution_count": 38,
      "outputs": []
    },
    {
      "cell_type": "code",
      "source": [
        "df2"
      ],
      "metadata": {
        "colab": {
          "base_uri": "https://localhost:8080/",
          "height": 1000
        },
        "id": "OtGWcCBbQNv-",
        "outputId": "5c220687-854e-4bde-9e93-26d26f642020"
      },
      "execution_count": 39,
      "outputs": [
        {
          "output_type": "execute_result",
          "data": {
            "text/plain": [
              "         genus          name  id           family             order  \\\n",
              "0        Malus         Apple   6         Rosaceae           Rosales   \n",
              "1       Prunus       Apricot  35         Rosaceae           Rosales   \n",
              "2         Musa        Banana   1         Musaceae      Zingiberales   \n",
              "3        Rubus    Blackberry  64         Rosaceae           Rosales   \n",
              "4     Fragaria     Blueberry  33         Rosaceae           Rosales   \n",
              "5       Prunus        Cherry   9         Rosaceae              None   \n",
              "6        Durio        Durian  60        Malvaceae          Malvales   \n",
              "7        Ficus           Fig  68         Moraceae           Rosales   \n",
              "8        Ribes    Gooseberry  69  Grossulariaceae      Saxifragales   \n",
              "9        Vitis        Grapes  47         Vitaceae           Vitales   \n",
              "10       Malus    GreenApple  72         Rosaceae           Rosales   \n",
              "11     Psidium         Guava  37        Myrtaceae          Myrtales   \n",
              "12     Apteryx          Kiwi  66    Actinidiaceae  Struthioniformes   \n",
              "13      Citrus         Lemon  26         Rutaceae        Sapindales   \n",
              "14      Citrus          Lime  44         Rutaceae        Sapindales   \n",
              "15   Vaccinium   Lingonberry  65        Ericaceae          Ericales   \n",
              "16      Litchi        Lychee  67      Sapindaceae        Sapindales   \n",
              "17   Mangifera         Mango  27    Anacardiaceae        Sapindales   \n",
              "18     Cucumis         Melon  41    Cucurbitaceae     Cucurbitaceae   \n",
              "19      Citrus        Orange   2         Rutaceae        Sapindales   \n",
              "20      Carica        Papaya  42       Caricaceae         Caricacea   \n",
              "21  Passiflora  Passionfruit  70   Passifloraceae      Malpighiales   \n",
              "22       Pyrus          Pear   4         Rosaceae           Rosales   \n",
              "23   Diospyros     Persimmon  52        Ebenaceae           Rosales   \n",
              "24      Ananas     Pineapple  10     Bromeliaceae            Poales   \n",
              "25      Prunus          Plum  71         Rosaceae           Rosales   \n",
              "26       Rubus     Raspberry  23         Rosaceae           Rosales   \n",
              "27    Fragaria    Strawberry   3         Rosaceae           Rosales   \n",
              "28     Solanum        Tomato   5       Solanaceae         Solanales   \n",
              "29    Spondias          Umbu  73    Anacardiaceae                 0   \n",
              "30   Citrullus    Watermelon  25    Cucurbitaceae      Cucurbitales   \n",
              "\n",
              "    nutritions.carbohydrates  nutritions.protein  nutritions.fat  \\\n",
              "0                      11.40                0.30            0.40   \n",
              "1                       3.90                0.50            0.10   \n",
              "2                      22.00                1.00            0.20   \n",
              "3                       9.00                1.30            0.40   \n",
              "4                       5.50                0.00            0.40   \n",
              "5                      12.00                1.00            0.30   \n",
              "6                      27.10                1.50            5.30   \n",
              "7                      19.00                0.80            0.30   \n",
              "8                      10.00                0.90            0.60   \n",
              "9                      18.10                0.72            0.16   \n",
              "10                      3.10                0.40            0.10   \n",
              "11                     14.00                2.60            1.00   \n",
              "12                     15.00                1.10            0.50   \n",
              "13                      9.00                1.10            0.30   \n",
              "14                      8.40                0.30            0.10   \n",
              "15                     11.30                0.75            0.34   \n",
              "16                     17.00                0.80            0.44   \n",
              "17                     15.00                0.82            0.38   \n",
              "18                      8.00                0.00            0.00   \n",
              "19                      8.30                1.00            0.20   \n",
              "20                     11.00                0.00            0.40   \n",
              "21                     22.40                2.20            0.70   \n",
              "22                     15.00                0.40            0.10   \n",
              "23                     18.00                0.00            0.00   \n",
              "24                     13.12                0.54            0.12   \n",
              "25                     11.40                0.70            0.28   \n",
              "26                     12.00                1.20            0.70   \n",
              "27                      5.50                0.80            0.40   \n",
              "28                      3.90                0.90            0.20   \n",
              "29                      0.00                0.00            0.00   \n",
              "30                      8.00                0.60            0.20   \n",
              "\n",
              "    nutritions.calories  nutritions.sugar  \n",
              "0                    52             10.30  \n",
              "1                    15              3.20  \n",
              "2                    96             17.20  \n",
              "3                    40              4.50  \n",
              "4                    29              5.40  \n",
              "5                    50              8.00  \n",
              "6                   147              6.75  \n",
              "7                    74             16.00  \n",
              "8                    44              0.00  \n",
              "9                    69             15.48  \n",
              "10                   21              6.40  \n",
              "11                   68              9.00  \n",
              "12                   61              9.00  \n",
              "13                   29              2.50  \n",
              "14                   25              1.70  \n",
              "15                   50              5.74  \n",
              "16                   66             15.00  \n",
              "17                   60             13.70  \n",
              "18                   34              8.00  \n",
              "19                   43              8.20  \n",
              "20                   43              1.00  \n",
              "21                   97             11.20  \n",
              "22                   57             10.00  \n",
              "23                   81             18.00  \n",
              "24                   50              9.85  \n",
              "25                   46              9.92  \n",
              "26                   53              4.40  \n",
              "27                   29              5.40  \n",
              "28                   74              2.60  \n",
              "29                    0              0.00  \n",
              "30                   30              6.00  "
            ],
            "text/html": [
              "\n",
              "  <div id=\"df-46b3de60-22fe-41a8-96d7-681be5b7f21b\">\n",
              "    <div class=\"colab-df-container\">\n",
              "      <div>\n",
              "<style scoped>\n",
              "    .dataframe tbody tr th:only-of-type {\n",
              "        vertical-align: middle;\n",
              "    }\n",
              "\n",
              "    .dataframe tbody tr th {\n",
              "        vertical-align: top;\n",
              "    }\n",
              "\n",
              "    .dataframe thead th {\n",
              "        text-align: right;\n",
              "    }\n",
              "</style>\n",
              "<table border=\"1\" class=\"dataframe\">\n",
              "  <thead>\n",
              "    <tr style=\"text-align: right;\">\n",
              "      <th></th>\n",
              "      <th>genus</th>\n",
              "      <th>name</th>\n",
              "      <th>id</th>\n",
              "      <th>family</th>\n",
              "      <th>order</th>\n",
              "      <th>nutritions.carbohydrates</th>\n",
              "      <th>nutritions.protein</th>\n",
              "      <th>nutritions.fat</th>\n",
              "      <th>nutritions.calories</th>\n",
              "      <th>nutritions.sugar</th>\n",
              "    </tr>\n",
              "  </thead>\n",
              "  <tbody>\n",
              "    <tr>\n",
              "      <th>0</th>\n",
              "      <td>Malus</td>\n",
              "      <td>Apple</td>\n",
              "      <td>6</td>\n",
              "      <td>Rosaceae</td>\n",
              "      <td>Rosales</td>\n",
              "      <td>11.40</td>\n",
              "      <td>0.30</td>\n",
              "      <td>0.40</td>\n",
              "      <td>52</td>\n",
              "      <td>10.30</td>\n",
              "    </tr>\n",
              "    <tr>\n",
              "      <th>1</th>\n",
              "      <td>Prunus</td>\n",
              "      <td>Apricot</td>\n",
              "      <td>35</td>\n",
              "      <td>Rosaceae</td>\n",
              "      <td>Rosales</td>\n",
              "      <td>3.90</td>\n",
              "      <td>0.50</td>\n",
              "      <td>0.10</td>\n",
              "      <td>15</td>\n",
              "      <td>3.20</td>\n",
              "    </tr>\n",
              "    <tr>\n",
              "      <th>2</th>\n",
              "      <td>Musa</td>\n",
              "      <td>Banana</td>\n",
              "      <td>1</td>\n",
              "      <td>Musaceae</td>\n",
              "      <td>Zingiberales</td>\n",
              "      <td>22.00</td>\n",
              "      <td>1.00</td>\n",
              "      <td>0.20</td>\n",
              "      <td>96</td>\n",
              "      <td>17.20</td>\n",
              "    </tr>\n",
              "    <tr>\n",
              "      <th>3</th>\n",
              "      <td>Rubus</td>\n",
              "      <td>Blackberry</td>\n",
              "      <td>64</td>\n",
              "      <td>Rosaceae</td>\n",
              "      <td>Rosales</td>\n",
              "      <td>9.00</td>\n",
              "      <td>1.30</td>\n",
              "      <td>0.40</td>\n",
              "      <td>40</td>\n",
              "      <td>4.50</td>\n",
              "    </tr>\n",
              "    <tr>\n",
              "      <th>4</th>\n",
              "      <td>Fragaria</td>\n",
              "      <td>Blueberry</td>\n",
              "      <td>33</td>\n",
              "      <td>Rosaceae</td>\n",
              "      <td>Rosales</td>\n",
              "      <td>5.50</td>\n",
              "      <td>0.00</td>\n",
              "      <td>0.40</td>\n",
              "      <td>29</td>\n",
              "      <td>5.40</td>\n",
              "    </tr>\n",
              "    <tr>\n",
              "      <th>5</th>\n",
              "      <td>Prunus</td>\n",
              "      <td>Cherry</td>\n",
              "      <td>9</td>\n",
              "      <td>Rosaceae</td>\n",
              "      <td>None</td>\n",
              "      <td>12.00</td>\n",
              "      <td>1.00</td>\n",
              "      <td>0.30</td>\n",
              "      <td>50</td>\n",
              "      <td>8.00</td>\n",
              "    </tr>\n",
              "    <tr>\n",
              "      <th>6</th>\n",
              "      <td>Durio</td>\n",
              "      <td>Durian</td>\n",
              "      <td>60</td>\n",
              "      <td>Malvaceae</td>\n",
              "      <td>Malvales</td>\n",
              "      <td>27.10</td>\n",
              "      <td>1.50</td>\n",
              "      <td>5.30</td>\n",
              "      <td>147</td>\n",
              "      <td>6.75</td>\n",
              "    </tr>\n",
              "    <tr>\n",
              "      <th>7</th>\n",
              "      <td>Ficus</td>\n",
              "      <td>Fig</td>\n",
              "      <td>68</td>\n",
              "      <td>Moraceae</td>\n",
              "      <td>Rosales</td>\n",
              "      <td>19.00</td>\n",
              "      <td>0.80</td>\n",
              "      <td>0.30</td>\n",
              "      <td>74</td>\n",
              "      <td>16.00</td>\n",
              "    </tr>\n",
              "    <tr>\n",
              "      <th>8</th>\n",
              "      <td>Ribes</td>\n",
              "      <td>Gooseberry</td>\n",
              "      <td>69</td>\n",
              "      <td>Grossulariaceae</td>\n",
              "      <td>Saxifragales</td>\n",
              "      <td>10.00</td>\n",
              "      <td>0.90</td>\n",
              "      <td>0.60</td>\n",
              "      <td>44</td>\n",
              "      <td>0.00</td>\n",
              "    </tr>\n",
              "    <tr>\n",
              "      <th>9</th>\n",
              "      <td>Vitis</td>\n",
              "      <td>Grapes</td>\n",
              "      <td>47</td>\n",
              "      <td>Vitaceae</td>\n",
              "      <td>Vitales</td>\n",
              "      <td>18.10</td>\n",
              "      <td>0.72</td>\n",
              "      <td>0.16</td>\n",
              "      <td>69</td>\n",
              "      <td>15.48</td>\n",
              "    </tr>\n",
              "    <tr>\n",
              "      <th>10</th>\n",
              "      <td>Malus</td>\n",
              "      <td>GreenApple</td>\n",
              "      <td>72</td>\n",
              "      <td>Rosaceae</td>\n",
              "      <td>Rosales</td>\n",
              "      <td>3.10</td>\n",
              "      <td>0.40</td>\n",
              "      <td>0.10</td>\n",
              "      <td>21</td>\n",
              "      <td>6.40</td>\n",
              "    </tr>\n",
              "    <tr>\n",
              "      <th>11</th>\n",
              "      <td>Psidium</td>\n",
              "      <td>Guava</td>\n",
              "      <td>37</td>\n",
              "      <td>Myrtaceae</td>\n",
              "      <td>Myrtales</td>\n",
              "      <td>14.00</td>\n",
              "      <td>2.60</td>\n",
              "      <td>1.00</td>\n",
              "      <td>68</td>\n",
              "      <td>9.00</td>\n",
              "    </tr>\n",
              "    <tr>\n",
              "      <th>12</th>\n",
              "      <td>Apteryx</td>\n",
              "      <td>Kiwi</td>\n",
              "      <td>66</td>\n",
              "      <td>Actinidiaceae</td>\n",
              "      <td>Struthioniformes</td>\n",
              "      <td>15.00</td>\n",
              "      <td>1.10</td>\n",
              "      <td>0.50</td>\n",
              "      <td>61</td>\n",
              "      <td>9.00</td>\n",
              "    </tr>\n",
              "    <tr>\n",
              "      <th>13</th>\n",
              "      <td>Citrus</td>\n",
              "      <td>Lemon</td>\n",
              "      <td>26</td>\n",
              "      <td>Rutaceae</td>\n",
              "      <td>Sapindales</td>\n",
              "      <td>9.00</td>\n",
              "      <td>1.10</td>\n",
              "      <td>0.30</td>\n",
              "      <td>29</td>\n",
              "      <td>2.50</td>\n",
              "    </tr>\n",
              "    <tr>\n",
              "      <th>14</th>\n",
              "      <td>Citrus</td>\n",
              "      <td>Lime</td>\n",
              "      <td>44</td>\n",
              "      <td>Rutaceae</td>\n",
              "      <td>Sapindales</td>\n",
              "      <td>8.40</td>\n",
              "      <td>0.30</td>\n",
              "      <td>0.10</td>\n",
              "      <td>25</td>\n",
              "      <td>1.70</td>\n",
              "    </tr>\n",
              "    <tr>\n",
              "      <th>15</th>\n",
              "      <td>Vaccinium</td>\n",
              "      <td>Lingonberry</td>\n",
              "      <td>65</td>\n",
              "      <td>Ericaceae</td>\n",
              "      <td>Ericales</td>\n",
              "      <td>11.30</td>\n",
              "      <td>0.75</td>\n",
              "      <td>0.34</td>\n",
              "      <td>50</td>\n",
              "      <td>5.74</td>\n",
              "    </tr>\n",
              "    <tr>\n",
              "      <th>16</th>\n",
              "      <td>Litchi</td>\n",
              "      <td>Lychee</td>\n",
              "      <td>67</td>\n",
              "      <td>Sapindaceae</td>\n",
              "      <td>Sapindales</td>\n",
              "      <td>17.00</td>\n",
              "      <td>0.80</td>\n",
              "      <td>0.44</td>\n",
              "      <td>66</td>\n",
              "      <td>15.00</td>\n",
              "    </tr>\n",
              "    <tr>\n",
              "      <th>17</th>\n",
              "      <td>Mangifera</td>\n",
              "      <td>Mango</td>\n",
              "      <td>27</td>\n",
              "      <td>Anacardiaceae</td>\n",
              "      <td>Sapindales</td>\n",
              "      <td>15.00</td>\n",
              "      <td>0.82</td>\n",
              "      <td>0.38</td>\n",
              "      <td>60</td>\n",
              "      <td>13.70</td>\n",
              "    </tr>\n",
              "    <tr>\n",
              "      <th>18</th>\n",
              "      <td>Cucumis</td>\n",
              "      <td>Melon</td>\n",
              "      <td>41</td>\n",
              "      <td>Cucurbitaceae</td>\n",
              "      <td>Cucurbitaceae</td>\n",
              "      <td>8.00</td>\n",
              "      <td>0.00</td>\n",
              "      <td>0.00</td>\n",
              "      <td>34</td>\n",
              "      <td>8.00</td>\n",
              "    </tr>\n",
              "    <tr>\n",
              "      <th>19</th>\n",
              "      <td>Citrus</td>\n",
              "      <td>Orange</td>\n",
              "      <td>2</td>\n",
              "      <td>Rutaceae</td>\n",
              "      <td>Sapindales</td>\n",
              "      <td>8.30</td>\n",
              "      <td>1.00</td>\n",
              "      <td>0.20</td>\n",
              "      <td>43</td>\n",
              "      <td>8.20</td>\n",
              "    </tr>\n",
              "    <tr>\n",
              "      <th>20</th>\n",
              "      <td>Carica</td>\n",
              "      <td>Papaya</td>\n",
              "      <td>42</td>\n",
              "      <td>Caricaceae</td>\n",
              "      <td>Caricacea</td>\n",
              "      <td>11.00</td>\n",
              "      <td>0.00</td>\n",
              "      <td>0.40</td>\n",
              "      <td>43</td>\n",
              "      <td>1.00</td>\n",
              "    </tr>\n",
              "    <tr>\n",
              "      <th>21</th>\n",
              "      <td>Passiflora</td>\n",
              "      <td>Passionfruit</td>\n",
              "      <td>70</td>\n",
              "      <td>Passifloraceae</td>\n",
              "      <td>Malpighiales</td>\n",
              "      <td>22.40</td>\n",
              "      <td>2.20</td>\n",
              "      <td>0.70</td>\n",
              "      <td>97</td>\n",
              "      <td>11.20</td>\n",
              "    </tr>\n",
              "    <tr>\n",
              "      <th>22</th>\n",
              "      <td>Pyrus</td>\n",
              "      <td>Pear</td>\n",
              "      <td>4</td>\n",
              "      <td>Rosaceae</td>\n",
              "      <td>Rosales</td>\n",
              "      <td>15.00</td>\n",
              "      <td>0.40</td>\n",
              "      <td>0.10</td>\n",
              "      <td>57</td>\n",
              "      <td>10.00</td>\n",
              "    </tr>\n",
              "    <tr>\n",
              "      <th>23</th>\n",
              "      <td>Diospyros</td>\n",
              "      <td>Persimmon</td>\n",
              "      <td>52</td>\n",
              "      <td>Ebenaceae</td>\n",
              "      <td>Rosales</td>\n",
              "      <td>18.00</td>\n",
              "      <td>0.00</td>\n",
              "      <td>0.00</td>\n",
              "      <td>81</td>\n",
              "      <td>18.00</td>\n",
              "    </tr>\n",
              "    <tr>\n",
              "      <th>24</th>\n",
              "      <td>Ananas</td>\n",
              "      <td>Pineapple</td>\n",
              "      <td>10</td>\n",
              "      <td>Bromeliaceae</td>\n",
              "      <td>Poales</td>\n",
              "      <td>13.12</td>\n",
              "      <td>0.54</td>\n",
              "      <td>0.12</td>\n",
              "      <td>50</td>\n",
              "      <td>9.85</td>\n",
              "    </tr>\n",
              "    <tr>\n",
              "      <th>25</th>\n",
              "      <td>Prunus</td>\n",
              "      <td>Plum</td>\n",
              "      <td>71</td>\n",
              "      <td>Rosaceae</td>\n",
              "      <td>Rosales</td>\n",
              "      <td>11.40</td>\n",
              "      <td>0.70</td>\n",
              "      <td>0.28</td>\n",
              "      <td>46</td>\n",
              "      <td>9.92</td>\n",
              "    </tr>\n",
              "    <tr>\n",
              "      <th>26</th>\n",
              "      <td>Rubus</td>\n",
              "      <td>Raspberry</td>\n",
              "      <td>23</td>\n",
              "      <td>Rosaceae</td>\n",
              "      <td>Rosales</td>\n",
              "      <td>12.00</td>\n",
              "      <td>1.20</td>\n",
              "      <td>0.70</td>\n",
              "      <td>53</td>\n",
              "      <td>4.40</td>\n",
              "    </tr>\n",
              "    <tr>\n",
              "      <th>27</th>\n",
              "      <td>Fragaria</td>\n",
              "      <td>Strawberry</td>\n",
              "      <td>3</td>\n",
              "      <td>Rosaceae</td>\n",
              "      <td>Rosales</td>\n",
              "      <td>5.50</td>\n",
              "      <td>0.80</td>\n",
              "      <td>0.40</td>\n",
              "      <td>29</td>\n",
              "      <td>5.40</td>\n",
              "    </tr>\n",
              "    <tr>\n",
              "      <th>28</th>\n",
              "      <td>Solanum</td>\n",
              "      <td>Tomato</td>\n",
              "      <td>5</td>\n",
              "      <td>Solanaceae</td>\n",
              "      <td>Solanales</td>\n",
              "      <td>3.90</td>\n",
              "      <td>0.90</td>\n",
              "      <td>0.20</td>\n",
              "      <td>74</td>\n",
              "      <td>2.60</td>\n",
              "    </tr>\n",
              "    <tr>\n",
              "      <th>29</th>\n",
              "      <td>Spondias</td>\n",
              "      <td>Umbu</td>\n",
              "      <td>73</td>\n",
              "      <td>Anacardiaceae</td>\n",
              "      <td>0</td>\n",
              "      <td>0.00</td>\n",
              "      <td>0.00</td>\n",
              "      <td>0.00</td>\n",
              "      <td>0</td>\n",
              "      <td>0.00</td>\n",
              "    </tr>\n",
              "    <tr>\n",
              "      <th>30</th>\n",
              "      <td>Citrullus</td>\n",
              "      <td>Watermelon</td>\n",
              "      <td>25</td>\n",
              "      <td>Cucurbitaceae</td>\n",
              "      <td>Cucurbitales</td>\n",
              "      <td>8.00</td>\n",
              "      <td>0.60</td>\n",
              "      <td>0.20</td>\n",
              "      <td>30</td>\n",
              "      <td>6.00</td>\n",
              "    </tr>\n",
              "  </tbody>\n",
              "</table>\n",
              "</div>\n",
              "      <button class=\"colab-df-convert\" onclick=\"convertToInteractive('df-46b3de60-22fe-41a8-96d7-681be5b7f21b')\"\n",
              "              title=\"Convert this dataframe to an interactive table.\"\n",
              "              style=\"display:none;\">\n",
              "        \n",
              "  <svg xmlns=\"http://www.w3.org/2000/svg\" height=\"24px\"viewBox=\"0 0 24 24\"\n",
              "       width=\"24px\">\n",
              "    <path d=\"M0 0h24v24H0V0z\" fill=\"none\"/>\n",
              "    <path d=\"M18.56 5.44l.94 2.06.94-2.06 2.06-.94-2.06-.94-.94-2.06-.94 2.06-2.06.94zm-11 1L8.5 8.5l.94-2.06 2.06-.94-2.06-.94L8.5 2.5l-.94 2.06-2.06.94zm10 10l.94 2.06.94-2.06 2.06-.94-2.06-.94-.94-2.06-.94 2.06-2.06.94z\"/><path d=\"M17.41 7.96l-1.37-1.37c-.4-.4-.92-.59-1.43-.59-.52 0-1.04.2-1.43.59L10.3 9.45l-7.72 7.72c-.78.78-.78 2.05 0 2.83L4 21.41c.39.39.9.59 1.41.59.51 0 1.02-.2 1.41-.59l7.78-7.78 2.81-2.81c.8-.78.8-2.07 0-2.86zM5.41 20L4 18.59l7.72-7.72 1.47 1.35L5.41 20z\"/>\n",
              "  </svg>\n",
              "      </button>\n",
              "      \n",
              "  <style>\n",
              "    .colab-df-container {\n",
              "      display:flex;\n",
              "      flex-wrap:wrap;\n",
              "      gap: 12px;\n",
              "    }\n",
              "\n",
              "    .colab-df-convert {\n",
              "      background-color: #E8F0FE;\n",
              "      border: none;\n",
              "      border-radius: 50%;\n",
              "      cursor: pointer;\n",
              "      display: none;\n",
              "      fill: #1967D2;\n",
              "      height: 32px;\n",
              "      padding: 0 0 0 0;\n",
              "      width: 32px;\n",
              "    }\n",
              "\n",
              "    .colab-df-convert:hover {\n",
              "      background-color: #E2EBFA;\n",
              "      box-shadow: 0px 1px 2px rgba(60, 64, 67, 0.3), 0px 1px 3px 1px rgba(60, 64, 67, 0.15);\n",
              "      fill: #174EA6;\n",
              "    }\n",
              "\n",
              "    [theme=dark] .colab-df-convert {\n",
              "      background-color: #3B4455;\n",
              "      fill: #D2E3FC;\n",
              "    }\n",
              "\n",
              "    [theme=dark] .colab-df-convert:hover {\n",
              "      background-color: #434B5C;\n",
              "      box-shadow: 0px 1px 3px 1px rgba(0, 0, 0, 0.15);\n",
              "      filter: drop-shadow(0px 1px 2px rgba(0, 0, 0, 0.3));\n",
              "      fill: #FFFFFF;\n",
              "    }\n",
              "  </style>\n",
              "\n",
              "      <script>\n",
              "        const buttonEl =\n",
              "          document.querySelector('#df-46b3de60-22fe-41a8-96d7-681be5b7f21b button.colab-df-convert');\n",
              "        buttonEl.style.display =\n",
              "          google.colab.kernel.accessAllowed ? 'block' : 'none';\n",
              "\n",
              "        async function convertToInteractive(key) {\n",
              "          const element = document.querySelector('#df-46b3de60-22fe-41a8-96d7-681be5b7f21b');\n",
              "          const dataTable =\n",
              "            await google.colab.kernel.invokeFunction('convertToInteractive',\n",
              "                                                     [key], {});\n",
              "          if (!dataTable) return;\n",
              "\n",
              "          const docLinkHtml = 'Like what you see? Visit the ' +\n",
              "            '<a target=\"_blank\" href=https://colab.research.google.com/notebooks/data_table.ipynb>data table notebook</a>'\n",
              "            + ' to learn more about interactive tables.';\n",
              "          element.innerHTML = '';\n",
              "          dataTable['output_type'] = 'display_data';\n",
              "          await google.colab.output.renderOutput(dataTable, element);\n",
              "          const docLink = document.createElement('div');\n",
              "          docLink.innerHTML = docLinkHtml;\n",
              "          element.appendChild(docLink);\n",
              "        }\n",
              "      </script>\n",
              "    </div>\n",
              "  </div>\n",
              "  "
            ]
          },
          "metadata": {},
          "execution_count": 39
        }
      ]
    },
    {
      "cell_type": "code",
      "source": [
        "cherry = df2.loc[df2[\"name\"] == 'Cherry']\n",
        "(cherry.iloc[0]['family']) , (cherry.iloc[0]['genus'])"
      ],
      "metadata": {
        "colab": {
          "base_uri": "https://localhost:8080/"
        },
        "id": "Io4_pFhQQRFe",
        "outputId": "fe2646a8-c1f5-4d8c-9f58-495f9241121b"
      },
      "execution_count": 40,
      "outputs": [
        {
          "output_type": "execute_result",
          "data": {
            "text/plain": [
              "('Rosaceae', 'Prunus')"
            ]
          },
          "metadata": {},
          "execution_count": 40
        }
      ]
    },
    {
      "cell_type": "code",
      "source": [
        "cal_banana = df2.loc[df2[\"name\"] == 'Banana']\n",
        "cal_banana.iloc[0]['nutritions.calories']"
      ],
      "metadata": {
        "colab": {
          "base_uri": "https://localhost:8080/"
        },
        "id": "lfEDu3AdQY89",
        "outputId": "2a798056-388b-4a2a-c010-e860727e0931"
      },
      "execution_count": 41,
      "outputs": [
        {
          "output_type": "execute_result",
          "data": {
            "text/plain": [
              "96"
            ]
          },
          "metadata": {},
          "execution_count": 41
        }
      ]
    },
    {
      "cell_type": "code",
      "source": [
        "data2 = requests.get(\"https://www.fishwatch.gov/api/species\")"
      ],
      "metadata": {
        "id": "tMQHxv_AQaFr"
      },
      "execution_count": 42,
      "outputs": []
    },
    {
      "cell_type": "code",
      "source": [
        "results2 = json.loads(data2.text)"
      ],
      "metadata": {
        "id": "2aM9Sl6RQi2m"
      },
      "execution_count": 43,
      "outputs": []
    },
    {
      "cell_type": "code",
      "source": [
        "df3 = pd.DataFrame(results2)\n",
        "df3"
      ],
      "metadata": {
        "colab": {
          "base_uri": "https://localhost:8080/",
          "height": 1000
        },
        "id": "7SlTWM-lQpvw",
        "outputId": "68a531b7-1725-4d64-8488-7ca9bd40a786"
      },
      "execution_count": 44,
      "outputs": [
        {
          "output_type": "execute_result",
          "data": {
            "text/plain": [
              "                                    Fishery Management  \\\n",
              "0    <ul>\\n<li><a href=\"https://www.fisheries.noaa....   \n",
              "1    <ul>\\n<li><a href=\"https://www.fisheries.noaa....   \n",
              "2    <ul>\\n<li>\\n<p><a href=\"https://archive.fisher...   \n",
              "3    <ul>\\n<li><a href=\"https://www.fisheries.noaa....   \n",
              "4    <ul>\\n<li>The states and <a href=\"https://www....   \n",
              "..                                                 ...   \n",
              "111  <ul>\\n<li><a href=\"https://www.fisheries.noaa....   \n",
              "112  <ul>\\n<li><a href=\"https://www.greateratlantic...   \n",
              "113  <ul>\\n<li><a href=\"http://sero.nmfs.noaa.gov/\"...   \n",
              "114  <ul>\\n<li><a href=\"https://sero.nmfs.noaa.gov/...   \n",
              "115  <ul>\\n<li>There are two stocks of Atlantic cod...   \n",
              "\n",
              "                                               Habitat  \\\n",
              "0                                                 None   \n",
              "1    <ul>\\n<li>White hake are groundfish, meaning t...   \n",
              "2    <ul>\\n<li>Atlantic chub mackerel are a schooli...   \n",
              "3    <ul>\\n<li>Shortfin squid live in deep and shal...   \n",
              "4    <ul>\\n<li>American lobsters live on the ocean ...   \n",
              "..                                                 ...   \n",
              "111  <ul>\\n<li>Younger pollock live in the mid-wate...   \n",
              "112  <ul>\\n<li>Monkfish live on the ocean floor, ty...   \n",
              "113  <ul>\\n<li>Mahi mahi live near the surface in t...   \n",
              "114  <ul>\\n<li>Cobia are found near structures in t...   \n",
              "115  <ul>\\n<li>Atlantic cod live near the ocean flo...   \n",
              "\n",
              "                                       Habitat Impacts  \\\n",
              "0    Bottomfish fishing operations, typically using...   \n",
              "1    Area closures and gear restrictions protect ha...   \n",
              "2    Area closures and gear restrictions protect ha...   \n",
              "3    Fishing gears used to harvest shortfin squid h...   \n",
              "4    Fishing gears used to harvest American lobster...   \n",
              "..                                                 ...   \n",
              "111  The Alaska pollock fishery uses midwater trawl...   \n",
              "112  Area closures and gear restrictions protect ha...   \n",
              "113  Fishing gear used to catch mahi mahi rarely co...   \n",
              "114  Fishing gear used to catch cobia rarely contac...   \n",
              "115  Area closures and gear restrictions protect ha...   \n",
              "\n",
              "                                         Image Gallery  \\\n",
              "0    [{'src': 'https://origin-east-01-drupal-fishwa...   \n",
              "1    [{'src': 'https://origin-east-01-drupal-fishwa...   \n",
              "2    [{'src': 'https://origin-east-01-drupal-fishwa...   \n",
              "3                                                 None   \n",
              "4    [{'src': 'https://origin-east-01-drupal-fishwa...   \n",
              "..                                                 ...   \n",
              "111  [{'src': 'https://origin-east-01-drupal-fishwa...   \n",
              "112  [{'src': 'https://origin-east-01-drupal-fishwa...   \n",
              "113  [{'src': 'https://origin-east-01-drupal-fishwa...   \n",
              "114  [{'src': 'https://origin-east-01-drupal-fishwa...   \n",
              "115  [{'src': 'https://origin-east-01-drupal-fishwa...   \n",
              "\n",
              "                                              Location Management  \\\n",
              "0    <ul>\\n<li>Crimson jobfish are distributed thro...       None   \n",
              "1    <ul>\\n<li>White hake are found in the northwes...       None   \n",
              "2    <ul>\\n<li>Atlantic chub mackerel in the wester...       None   \n",
              "3    <ul>\\n<li>Shortfin squid inhabits the continen...       None   \n",
              "4    <ul>\\n<li>American lobsters are found in the n...       None   \n",
              "..                                                 ...        ...   \n",
              "111  <ul>\\n<li>Alaska pollock are found throughout ...       None   \n",
              "112  <ul>\\n<li>Monkfish are found in the Northwest ...       None   \n",
              "113  <ul>\\n<li>Mahi mahi are found in the Atlantic,...       None   \n",
              "114  <ul>\\n<li>In U.S. waters, cobia are most abund...       None   \n",
              "115  <ul>\\n<li>In the Northwest Atlantic, cod range...       None   \n",
              "\n",
              "           NOAA Fisheries Region  \\\n",
              "0                Pacific Islands   \n",
              "1               Greater Atlantic   \n",
              "2               Greater Atlantic   \n",
              "3               Greater Atlantic   \n",
              "4               Greater Atlantic   \n",
              "..                           ...   \n",
              "111                       Alaska   \n",
              "112  Greater Atlantic, Southeast   \n",
              "113  Greater Atlantic, Southeast   \n",
              "114  Greater Atlantic, Southeast   \n",
              "115             Greater Atlantic   \n",
              "\n",
              "                                            Population  \\\n",
              "0    The population level is unknown, but the stock...   \n",
              "1    Significantly below target population level. A...   \n",
              "2     The stock has never been assessed. The popula...   \n",
              "3    The population level is unknown. The species h...   \n",
              "4    Above target population levels in the Gulf of ...   \n",
              "..                                                 ...   \n",
              "111  Above target population levels for the Aleutia...   \n",
              "112                    Above target population levels.   \n",
              "113                    Above target population levels.   \n",
              "114  Below target level but fishing rate promotes p...   \n",
              "115  Significantly below target population levels. ...   \n",
              "\n",
              "                                     Population Status  \\\n",
              "0    <ul>\\n<li>There are five stocks of crimson job...   \n",
              "1    <ul>\\n<li>According to the 2019 stock assessme...   \n",
              "2    <p>Atlantic chub mackerel has never been asses...   \n",
              "3    <ul>\\n<li>According to the latest assessment (...   \n",
              "4    <ul>\\n<li>According to the 2020&nbsp;<a href=\"...   \n",
              "..                                                 ...   \n",
              "111  <ul>\\n<li>There are five stocks of walleye pol...   \n",
              "112  <ul>\\n<li>There are two stocks of monkfish: Gu...   \n",
              "113  <ul>\\n<li>Scientists assume populations are ab...   \n",
              "114  <ul>\\n<li>\\n<p>According to the 2020 stock ass...   \n",
              "115  <ul>\\n<li>Gulf of Maine stock:\\n<ul>\\n<li>Acco...   \n",
              "\n",
              "                 Scientific Name  ...  Selenium Serving Weight Servings  \\\n",
              "0    Pristipomoides filamentosus  ...  38.2 mcg    100 g (raw)        1   \n",
              "1               Urophycis tenuis  ...  32.1 mcg    100 g (raw)        1   \n",
              "2                 Scomber colias  ...  44.1 mcg    100 g (raw)        1   \n",
              "3             Illex illecebrosus  ...  44.8 mcg          100 g        1   \n",
              "4             Homarus americanus  ...  41.4 mcg    100 g (raw)        1   \n",
              "..                           ...  ...       ...            ...      ...   \n",
              "111          Gadus chalcogrammus  ...  21.9 mcg    100 g (raw)        1   \n",
              "112           Lophius americanus  ...  36.5 mcg    100 g (raw)        1   \n",
              "113          Coryphaena hippurus  ...  36.5 mcg    100 g (raw)        1   \n",
              "114         Rachycentron canadum  ...  36.5 mcg    100 g (raw)        1   \n",
              "115                 Gadus morhua  ...  33.1 mcg          100 g        1   \n",
              "\n",
              "     Sodium                                             Source Sugars, Total  \\\n",
              "0     64 mg  <p>U.S -wild caught around Hawaii and Pacific ...           0 g   \n",
              "1     72 mg  <p>White hake is wild-caught from Maine to sou...           0 g   \n",
              "2     90 mg  <p>U.S. wild caught from Southern New England ...           0 g   \n",
              "3     44 mg  <p>U.S. wild-caught from Maine to North Caroli...           0 g   \n",
              "4    296 mg  <p>U.S. wild-caught from Maine to North Caroli...           0 g   \n",
              "..      ...                                                ...           ...   \n",
              "111   99 mg  <p>U.S. wild-caught, mainly in the Bering Sea ...           0 g   \n",
              "112   18 mg  <p>U.S. wild-caught from Maine to North Caroli...           0 g   \n",
              "113   88 mg  <p>Wild-caught from Massachusetts to Texas.</p>\\n           0 g   \n",
              "114  135 mg  <p>Wild-caught from Virginia to Texas. Cobia i...           0 g   \n",
              "115   54 mg       <p>Wild-caught from Maine to Virginia.</p>\\n           0 g   \n",
              "\n",
              "                                                 Taste  \\\n",
              "0      <p>Crimson jobfish has a delicate flavor.</p>\\n   \n",
              "1    <p>White hake has a mild, almost sweet&nbsp;ta...   \n",
              "2                    <p>Rich, pronounced flavor.</p>\\n   \n",
              "3      <p>Mild, and subtly sweet.</p>\\n<p>&nbsp;</p>\\n   \n",
              "4                             <p>Mild and sweet.</p>\\n   \n",
              "..                                                 ...   \n",
              "111  <p>Pollock has mild-tasting flesh and is simil...   \n",
              "112                                     <p>Mild.</p>\\n   \n",
              "113  <p>Mahi mahi has a sweet, mild flavor. For a m...   \n",
              "114           <p>Cobia has a sweet, rich flavor.</p>\\n   \n",
              "115  <p>Atlantic cod has a mild clean flavor. It is...   \n",
              "\n",
              "                                               Texture  \\\n",
              "0    <p>Crimson jobfish has&nbsp;a firm texture and...   \n",
              "1    <p>White hake has a soft, delicate texture tha...   \n",
              "2                     <p>Soft, flaky, and moist.</p>\\n   \n",
              "3                             <p>Firm and meaty.</p>\\n   \n",
              "4    <p>The meat is firm and somewhat fibrous. The ...   \n",
              "..                                                 ...   \n",
              "111  <p>Pollock has a relatively fine texture and i...   \n",
              "112  <p>The tail meat is firm, dense, and relativel...   \n",
              "113  <p>Mahi mahi is lean and fairly firm with larg...   \n",
              "114  <p>Cobia is lean, moist, and firm with a nice ...   \n",
              "115  <p>Cod has large flakes. It's less firm than h...   \n",
              "\n",
              "                                 Path         last_update  \n",
              "0           /profiles/crimson-jobfish  06/21/2022 - 12:00  \n",
              "1                /profiles/white-hake  03/24/2022 - 10:36  \n",
              "2    /profiles/atlantic-chub-mackerel  08/11/2022 - 16:16  \n",
              "3            /profiles/shortfin-squid  09/02/2022 - 11:08  \n",
              "4          /profiles/american-lobster  01/07/2022 - 10:44  \n",
              "..                                ...                 ...  \n",
              "111          /profiles/alaska-pollock  08/24/2021 - 17:44  \n",
              "112                /profiles/monkfish  08/10/2022 - 17:32  \n",
              "113      /profiles/atlantic-mahi-mahi  08/03/2022 - 16:19  \n",
              "114                   /profiles/cobia  02/17/2022 - 11:28  \n",
              "115            /profiles/atlantic-cod  02/17/2022 - 12:56  \n",
              "\n",
              "[116 rows x 56 columns]"
            ],
            "text/html": [
              "\n",
              "  <div id=\"df-27762068-ed66-4686-aa6c-f1afd2b6960b\">\n",
              "    <div class=\"colab-df-container\">\n",
              "      <div>\n",
              "<style scoped>\n",
              "    .dataframe tbody tr th:only-of-type {\n",
              "        vertical-align: middle;\n",
              "    }\n",
              "\n",
              "    .dataframe tbody tr th {\n",
              "        vertical-align: top;\n",
              "    }\n",
              "\n",
              "    .dataframe thead th {\n",
              "        text-align: right;\n",
              "    }\n",
              "</style>\n",
              "<table border=\"1\" class=\"dataframe\">\n",
              "  <thead>\n",
              "    <tr style=\"text-align: right;\">\n",
              "      <th></th>\n",
              "      <th>Fishery Management</th>\n",
              "      <th>Habitat</th>\n",
              "      <th>Habitat Impacts</th>\n",
              "      <th>Image Gallery</th>\n",
              "      <th>Location</th>\n",
              "      <th>Management</th>\n",
              "      <th>NOAA Fisheries Region</th>\n",
              "      <th>Population</th>\n",
              "      <th>Population Status</th>\n",
              "      <th>Scientific Name</th>\n",
              "      <th>...</th>\n",
              "      <th>Selenium</th>\n",
              "      <th>Serving Weight</th>\n",
              "      <th>Servings</th>\n",
              "      <th>Sodium</th>\n",
              "      <th>Source</th>\n",
              "      <th>Sugars, Total</th>\n",
              "      <th>Taste</th>\n",
              "      <th>Texture</th>\n",
              "      <th>Path</th>\n",
              "      <th>last_update</th>\n",
              "    </tr>\n",
              "  </thead>\n",
              "  <tbody>\n",
              "    <tr>\n",
              "      <th>0</th>\n",
              "      <td>&lt;ul&gt;\\n&lt;li&gt;&lt;a href=\"https://www.fisheries.noaa....</td>\n",
              "      <td>None</td>\n",
              "      <td>Bottomfish fishing operations, typically using...</td>\n",
              "      <td>[{'src': 'https://origin-east-01-drupal-fishwa...</td>\n",
              "      <td>&lt;ul&gt;\\n&lt;li&gt;Crimson jobfish are distributed thro...</td>\n",
              "      <td>None</td>\n",
              "      <td>Pacific Islands</td>\n",
              "      <td>The population level is unknown, but the stock...</td>\n",
              "      <td>&lt;ul&gt;\\n&lt;li&gt;There are five stocks of crimson job...</td>\n",
              "      <td>Pristipomoides filamentosus</td>\n",
              "      <td>...</td>\n",
              "      <td>38.2 mcg</td>\n",
              "      <td>100 g (raw)</td>\n",
              "      <td>1</td>\n",
              "      <td>64 mg</td>\n",
              "      <td>&lt;p&gt;U.S -wild caught around Hawaii and Pacific ...</td>\n",
              "      <td>0 g</td>\n",
              "      <td>&lt;p&gt;Crimson jobfish has a delicate flavor.&lt;/p&gt;\\n</td>\n",
              "      <td>&lt;p&gt;Crimson jobfish has&amp;nbsp;a firm texture and...</td>\n",
              "      <td>/profiles/crimson-jobfish</td>\n",
              "      <td>06/21/2022 - 12:00</td>\n",
              "    </tr>\n",
              "    <tr>\n",
              "      <th>1</th>\n",
              "      <td>&lt;ul&gt;\\n&lt;li&gt;&lt;a href=\"https://www.fisheries.noaa....</td>\n",
              "      <td>&lt;ul&gt;\\n&lt;li&gt;White hake are groundfish, meaning t...</td>\n",
              "      <td>Area closures and gear restrictions protect ha...</td>\n",
              "      <td>[{'src': 'https://origin-east-01-drupal-fishwa...</td>\n",
              "      <td>&lt;ul&gt;\\n&lt;li&gt;White hake are found in the northwes...</td>\n",
              "      <td>None</td>\n",
              "      <td>Greater Atlantic</td>\n",
              "      <td>Significantly below target population level. A...</td>\n",
              "      <td>&lt;ul&gt;\\n&lt;li&gt;According to the 2019 stock assessme...</td>\n",
              "      <td>Urophycis tenuis</td>\n",
              "      <td>...</td>\n",
              "      <td>32.1 mcg</td>\n",
              "      <td>100 g (raw)</td>\n",
              "      <td>1</td>\n",
              "      <td>72 mg</td>\n",
              "      <td>&lt;p&gt;White hake is wild-caught from Maine to sou...</td>\n",
              "      <td>0 g</td>\n",
              "      <td>&lt;p&gt;White hake has a mild, almost sweet&amp;nbsp;ta...</td>\n",
              "      <td>&lt;p&gt;White hake has a soft, delicate texture tha...</td>\n",
              "      <td>/profiles/white-hake</td>\n",
              "      <td>03/24/2022 - 10:36</td>\n",
              "    </tr>\n",
              "    <tr>\n",
              "      <th>2</th>\n",
              "      <td>&lt;ul&gt;\\n&lt;li&gt;\\n&lt;p&gt;&lt;a href=\"https://archive.fisher...</td>\n",
              "      <td>&lt;ul&gt;\\n&lt;li&gt;Atlantic chub mackerel are a schooli...</td>\n",
              "      <td>Area closures and gear restrictions protect ha...</td>\n",
              "      <td>[{'src': 'https://origin-east-01-drupal-fishwa...</td>\n",
              "      <td>&lt;ul&gt;\\n&lt;li&gt;Atlantic chub mackerel in the wester...</td>\n",
              "      <td>None</td>\n",
              "      <td>Greater Atlantic</td>\n",
              "      <td>The stock has never been assessed. The popula...</td>\n",
              "      <td>&lt;p&gt;Atlantic chub mackerel has never been asses...</td>\n",
              "      <td>Scomber colias</td>\n",
              "      <td>...</td>\n",
              "      <td>44.1 mcg</td>\n",
              "      <td>100 g (raw)</td>\n",
              "      <td>1</td>\n",
              "      <td>90 mg</td>\n",
              "      <td>&lt;p&gt;U.S. wild caught from Southern New England ...</td>\n",
              "      <td>0 g</td>\n",
              "      <td>&lt;p&gt;Rich, pronounced flavor.&lt;/p&gt;\\n</td>\n",
              "      <td>&lt;p&gt;Soft, flaky, and moist.&lt;/p&gt;\\n</td>\n",
              "      <td>/profiles/atlantic-chub-mackerel</td>\n",
              "      <td>08/11/2022 - 16:16</td>\n",
              "    </tr>\n",
              "    <tr>\n",
              "      <th>3</th>\n",
              "      <td>&lt;ul&gt;\\n&lt;li&gt;&lt;a href=\"https://www.fisheries.noaa....</td>\n",
              "      <td>&lt;ul&gt;\\n&lt;li&gt;Shortfin squid live in deep and shal...</td>\n",
              "      <td>Fishing gears used to harvest shortfin squid h...</td>\n",
              "      <td>None</td>\n",
              "      <td>&lt;ul&gt;\\n&lt;li&gt;Shortfin squid inhabits the continen...</td>\n",
              "      <td>None</td>\n",
              "      <td>Greater Atlantic</td>\n",
              "      <td>The population level is unknown. The species h...</td>\n",
              "      <td>&lt;ul&gt;\\n&lt;li&gt;According to the latest assessment (...</td>\n",
              "      <td>Illex illecebrosus</td>\n",
              "      <td>...</td>\n",
              "      <td>44.8 mcg</td>\n",
              "      <td>100 g</td>\n",
              "      <td>1</td>\n",
              "      <td>44 mg</td>\n",
              "      <td>&lt;p&gt;U.S. wild-caught from Maine to North Caroli...</td>\n",
              "      <td>0 g</td>\n",
              "      <td>&lt;p&gt;Mild, and subtly sweet.&lt;/p&gt;\\n&lt;p&gt;&amp;nbsp;&lt;/p&gt;\\n</td>\n",
              "      <td>&lt;p&gt;Firm and meaty.&lt;/p&gt;\\n</td>\n",
              "      <td>/profiles/shortfin-squid</td>\n",
              "      <td>09/02/2022 - 11:08</td>\n",
              "    </tr>\n",
              "    <tr>\n",
              "      <th>4</th>\n",
              "      <td>&lt;ul&gt;\\n&lt;li&gt;The states and &lt;a href=\"https://www....</td>\n",
              "      <td>&lt;ul&gt;\\n&lt;li&gt;American lobsters live on the ocean ...</td>\n",
              "      <td>Fishing gears used to harvest American lobster...</td>\n",
              "      <td>[{'src': 'https://origin-east-01-drupal-fishwa...</td>\n",
              "      <td>&lt;ul&gt;\\n&lt;li&gt;American lobsters are found in the n...</td>\n",
              "      <td>None</td>\n",
              "      <td>Greater Atlantic</td>\n",
              "      <td>Above target population levels in the Gulf of ...</td>\n",
              "      <td>&lt;ul&gt;\\n&lt;li&gt;According to the 2020&amp;nbsp;&lt;a href=\"...</td>\n",
              "      <td>Homarus americanus</td>\n",
              "      <td>...</td>\n",
              "      <td>41.4 mcg</td>\n",
              "      <td>100 g (raw)</td>\n",
              "      <td>1</td>\n",
              "      <td>296 mg</td>\n",
              "      <td>&lt;p&gt;U.S. wild-caught from Maine to North Caroli...</td>\n",
              "      <td>0 g</td>\n",
              "      <td>&lt;p&gt;Mild and sweet.&lt;/p&gt;\\n</td>\n",
              "      <td>&lt;p&gt;The meat is firm and somewhat fibrous. The ...</td>\n",
              "      <td>/profiles/american-lobster</td>\n",
              "      <td>01/07/2022 - 10:44</td>\n",
              "    </tr>\n",
              "    <tr>\n",
              "      <th>...</th>\n",
              "      <td>...</td>\n",
              "      <td>...</td>\n",
              "      <td>...</td>\n",
              "      <td>...</td>\n",
              "      <td>...</td>\n",
              "      <td>...</td>\n",
              "      <td>...</td>\n",
              "      <td>...</td>\n",
              "      <td>...</td>\n",
              "      <td>...</td>\n",
              "      <td>...</td>\n",
              "      <td>...</td>\n",
              "      <td>...</td>\n",
              "      <td>...</td>\n",
              "      <td>...</td>\n",
              "      <td>...</td>\n",
              "      <td>...</td>\n",
              "      <td>...</td>\n",
              "      <td>...</td>\n",
              "      <td>...</td>\n",
              "      <td>...</td>\n",
              "    </tr>\n",
              "    <tr>\n",
              "      <th>111</th>\n",
              "      <td>&lt;ul&gt;\\n&lt;li&gt;&lt;a href=\"https://www.fisheries.noaa....</td>\n",
              "      <td>&lt;ul&gt;\\n&lt;li&gt;Younger pollock live in the mid-wate...</td>\n",
              "      <td>The Alaska pollock fishery uses midwater trawl...</td>\n",
              "      <td>[{'src': 'https://origin-east-01-drupal-fishwa...</td>\n",
              "      <td>&lt;ul&gt;\\n&lt;li&gt;Alaska pollock are found throughout ...</td>\n",
              "      <td>None</td>\n",
              "      <td>Alaska</td>\n",
              "      <td>Above target population levels for the Aleutia...</td>\n",
              "      <td>&lt;ul&gt;\\n&lt;li&gt;There are five stocks of walleye pol...</td>\n",
              "      <td>Gadus chalcogrammus</td>\n",
              "      <td>...</td>\n",
              "      <td>21.9 mcg</td>\n",
              "      <td>100 g (raw)</td>\n",
              "      <td>1</td>\n",
              "      <td>99 mg</td>\n",
              "      <td>&lt;p&gt;U.S. wild-caught, mainly in the Bering Sea ...</td>\n",
              "      <td>0 g</td>\n",
              "      <td>&lt;p&gt;Pollock has mild-tasting flesh and is simil...</td>\n",
              "      <td>&lt;p&gt;Pollock has a relatively fine texture and i...</td>\n",
              "      <td>/profiles/alaska-pollock</td>\n",
              "      <td>08/24/2021 - 17:44</td>\n",
              "    </tr>\n",
              "    <tr>\n",
              "      <th>112</th>\n",
              "      <td>&lt;ul&gt;\\n&lt;li&gt;&lt;a href=\"https://www.greateratlantic...</td>\n",
              "      <td>&lt;ul&gt;\\n&lt;li&gt;Monkfish live on the ocean floor, ty...</td>\n",
              "      <td>Area closures and gear restrictions protect ha...</td>\n",
              "      <td>[{'src': 'https://origin-east-01-drupal-fishwa...</td>\n",
              "      <td>&lt;ul&gt;\\n&lt;li&gt;Monkfish are found in the Northwest ...</td>\n",
              "      <td>None</td>\n",
              "      <td>Greater Atlantic, Southeast</td>\n",
              "      <td>Above target population levels.</td>\n",
              "      <td>&lt;ul&gt;\\n&lt;li&gt;There are two stocks of monkfish: Gu...</td>\n",
              "      <td>Lophius americanus</td>\n",
              "      <td>...</td>\n",
              "      <td>36.5 mcg</td>\n",
              "      <td>100 g (raw)</td>\n",
              "      <td>1</td>\n",
              "      <td>18 mg</td>\n",
              "      <td>&lt;p&gt;U.S. wild-caught from Maine to North Caroli...</td>\n",
              "      <td>0 g</td>\n",
              "      <td>&lt;p&gt;Mild.&lt;/p&gt;\\n</td>\n",
              "      <td>&lt;p&gt;The tail meat is firm, dense, and relativel...</td>\n",
              "      <td>/profiles/monkfish</td>\n",
              "      <td>08/10/2022 - 17:32</td>\n",
              "    </tr>\n",
              "    <tr>\n",
              "      <th>113</th>\n",
              "      <td>&lt;ul&gt;\\n&lt;li&gt;&lt;a href=\"http://sero.nmfs.noaa.gov/\"...</td>\n",
              "      <td>&lt;ul&gt;\\n&lt;li&gt;Mahi mahi live near the surface in t...</td>\n",
              "      <td>Fishing gear used to catch mahi mahi rarely co...</td>\n",
              "      <td>[{'src': 'https://origin-east-01-drupal-fishwa...</td>\n",
              "      <td>&lt;ul&gt;\\n&lt;li&gt;Mahi mahi are found in the Atlantic,...</td>\n",
              "      <td>None</td>\n",
              "      <td>Greater Atlantic, Southeast</td>\n",
              "      <td>Above target population levels.</td>\n",
              "      <td>&lt;ul&gt;\\n&lt;li&gt;Scientists assume populations are ab...</td>\n",
              "      <td>Coryphaena hippurus</td>\n",
              "      <td>...</td>\n",
              "      <td>36.5 mcg</td>\n",
              "      <td>100 g (raw)</td>\n",
              "      <td>1</td>\n",
              "      <td>88 mg</td>\n",
              "      <td>&lt;p&gt;Wild-caught from Massachusetts to Texas.&lt;/p&gt;\\n</td>\n",
              "      <td>0 g</td>\n",
              "      <td>&lt;p&gt;Mahi mahi has a sweet, mild flavor. For a m...</td>\n",
              "      <td>&lt;p&gt;Mahi mahi is lean and fairly firm with larg...</td>\n",
              "      <td>/profiles/atlantic-mahi-mahi</td>\n",
              "      <td>08/03/2022 - 16:19</td>\n",
              "    </tr>\n",
              "    <tr>\n",
              "      <th>114</th>\n",
              "      <td>&lt;ul&gt;\\n&lt;li&gt;&lt;a href=\"https://sero.nmfs.noaa.gov/...</td>\n",
              "      <td>&lt;ul&gt;\\n&lt;li&gt;Cobia are found near structures in t...</td>\n",
              "      <td>Fishing gear used to catch cobia rarely contac...</td>\n",
              "      <td>[{'src': 'https://origin-east-01-drupal-fishwa...</td>\n",
              "      <td>&lt;ul&gt;\\n&lt;li&gt;In U.S. waters, cobia are most abund...</td>\n",
              "      <td>None</td>\n",
              "      <td>Greater Atlantic, Southeast</td>\n",
              "      <td>Below target level but fishing rate promotes p...</td>\n",
              "      <td>&lt;ul&gt;\\n&lt;li&gt;\\n&lt;p&gt;According to the 2020 stock ass...</td>\n",
              "      <td>Rachycentron canadum</td>\n",
              "      <td>...</td>\n",
              "      <td>36.5 mcg</td>\n",
              "      <td>100 g (raw)</td>\n",
              "      <td>1</td>\n",
              "      <td>135 mg</td>\n",
              "      <td>&lt;p&gt;Wild-caught from Virginia to Texas. Cobia i...</td>\n",
              "      <td>0 g</td>\n",
              "      <td>&lt;p&gt;Cobia has a sweet, rich flavor.&lt;/p&gt;\\n</td>\n",
              "      <td>&lt;p&gt;Cobia is lean, moist, and firm with a nice ...</td>\n",
              "      <td>/profiles/cobia</td>\n",
              "      <td>02/17/2022 - 11:28</td>\n",
              "    </tr>\n",
              "    <tr>\n",
              "      <th>115</th>\n",
              "      <td>&lt;ul&gt;\\n&lt;li&gt;There are two stocks of Atlantic cod...</td>\n",
              "      <td>&lt;ul&gt;\\n&lt;li&gt;Atlantic cod live near the ocean flo...</td>\n",
              "      <td>Area closures and gear restrictions protect ha...</td>\n",
              "      <td>[{'src': 'https://origin-east-01-drupal-fishwa...</td>\n",
              "      <td>&lt;ul&gt;\\n&lt;li&gt;In the Northwest Atlantic, cod range...</td>\n",
              "      <td>None</td>\n",
              "      <td>Greater Atlantic</td>\n",
              "      <td>Significantly below target population levels. ...</td>\n",
              "      <td>&lt;ul&gt;\\n&lt;li&gt;Gulf of Maine stock:\\n&lt;ul&gt;\\n&lt;li&gt;Acco...</td>\n",
              "      <td>Gadus morhua</td>\n",
              "      <td>...</td>\n",
              "      <td>33.1 mcg</td>\n",
              "      <td>100 g</td>\n",
              "      <td>1</td>\n",
              "      <td>54 mg</td>\n",
              "      <td>&lt;p&gt;Wild-caught from Maine to Virginia.&lt;/p&gt;\\n</td>\n",
              "      <td>0 g</td>\n",
              "      <td>&lt;p&gt;Atlantic cod has a mild clean flavor. It is...</td>\n",
              "      <td>&lt;p&gt;Cod has large flakes. It's less firm than h...</td>\n",
              "      <td>/profiles/atlantic-cod</td>\n",
              "      <td>02/17/2022 - 12:56</td>\n",
              "    </tr>\n",
              "  </tbody>\n",
              "</table>\n",
              "<p>116 rows × 56 columns</p>\n",
              "</div>\n",
              "      <button class=\"colab-df-convert\" onclick=\"convertToInteractive('df-27762068-ed66-4686-aa6c-f1afd2b6960b')\"\n",
              "              title=\"Convert this dataframe to an interactive table.\"\n",
              "              style=\"display:none;\">\n",
              "        \n",
              "  <svg xmlns=\"http://www.w3.org/2000/svg\" height=\"24px\"viewBox=\"0 0 24 24\"\n",
              "       width=\"24px\">\n",
              "    <path d=\"M0 0h24v24H0V0z\" fill=\"none\"/>\n",
              "    <path d=\"M18.56 5.44l.94 2.06.94-2.06 2.06-.94-2.06-.94-.94-2.06-.94 2.06-2.06.94zm-11 1L8.5 8.5l.94-2.06 2.06-.94-2.06-.94L8.5 2.5l-.94 2.06-2.06.94zm10 10l.94 2.06.94-2.06 2.06-.94-2.06-.94-.94-2.06-.94 2.06-2.06.94z\"/><path d=\"M17.41 7.96l-1.37-1.37c-.4-.4-.92-.59-1.43-.59-.52 0-1.04.2-1.43.59L10.3 9.45l-7.72 7.72c-.78.78-.78 2.05 0 2.83L4 21.41c.39.39.9.59 1.41.59.51 0 1.02-.2 1.41-.59l7.78-7.78 2.81-2.81c.8-.78.8-2.07 0-2.86zM5.41 20L4 18.59l7.72-7.72 1.47 1.35L5.41 20z\"/>\n",
              "  </svg>\n",
              "      </button>\n",
              "      \n",
              "  <style>\n",
              "    .colab-df-container {\n",
              "      display:flex;\n",
              "      flex-wrap:wrap;\n",
              "      gap: 12px;\n",
              "    }\n",
              "\n",
              "    .colab-df-convert {\n",
              "      background-color: #E8F0FE;\n",
              "      border: none;\n",
              "      border-radius: 50%;\n",
              "      cursor: pointer;\n",
              "      display: none;\n",
              "      fill: #1967D2;\n",
              "      height: 32px;\n",
              "      padding: 0 0 0 0;\n",
              "      width: 32px;\n",
              "    }\n",
              "\n",
              "    .colab-df-convert:hover {\n",
              "      background-color: #E2EBFA;\n",
              "      box-shadow: 0px 1px 2px rgba(60, 64, 67, 0.3), 0px 1px 3px 1px rgba(60, 64, 67, 0.15);\n",
              "      fill: #174EA6;\n",
              "    }\n",
              "\n",
              "    [theme=dark] .colab-df-convert {\n",
              "      background-color: #3B4455;\n",
              "      fill: #D2E3FC;\n",
              "    }\n",
              "\n",
              "    [theme=dark] .colab-df-convert:hover {\n",
              "      background-color: #434B5C;\n",
              "      box-shadow: 0px 1px 3px 1px rgba(0, 0, 0, 0.15);\n",
              "      filter: drop-shadow(0px 1px 2px rgba(0, 0, 0, 0.3));\n",
              "      fill: #FFFFFF;\n",
              "    }\n",
              "  </style>\n",
              "\n",
              "      <script>\n",
              "        const buttonEl =\n",
              "          document.querySelector('#df-27762068-ed66-4686-aa6c-f1afd2b6960b button.colab-df-convert');\n",
              "        buttonEl.style.display =\n",
              "          google.colab.kernel.accessAllowed ? 'block' : 'none';\n",
              "\n",
              "        async function convertToInteractive(key) {\n",
              "          const element = document.querySelector('#df-27762068-ed66-4686-aa6c-f1afd2b6960b');\n",
              "          const dataTable =\n",
              "            await google.colab.kernel.invokeFunction('convertToInteractive',\n",
              "                                                     [key], {});\n",
              "          if (!dataTable) return;\n",
              "\n",
              "          const docLinkHtml = 'Like what you see? Visit the ' +\n",
              "            '<a target=\"_blank\" href=https://colab.research.google.com/notebooks/data_table.ipynb>data table notebook</a>'\n",
              "            + ' to learn more about interactive tables.';\n",
              "          element.innerHTML = '';\n",
              "          dataTable['output_type'] = 'display_data';\n",
              "          await google.colab.output.renderOutput(dataTable, element);\n",
              "          const docLink = document.createElement('div');\n",
              "          docLink.innerHTML = docLinkHtml;\n",
              "          element.appendChild(docLink);\n",
              "        }\n",
              "      </script>\n",
              "    </div>\n",
              "  </div>\n",
              "  "
            ]
          },
          "metadata": {},
          "execution_count": 44
        }
      ]
    },
    {
      "cell_type": "code",
      "source": [
        "import numpy as np"
      ],
      "metadata": {
        "id": "kmeOt87bRa_m"
      },
      "execution_count": 51,
      "outputs": []
    },
    {
      "cell_type": "code",
      "source": [
        "a=np.array([0,1,0,1,0])"
      ],
      "metadata": {
        "id": "Rzq6okJNQshJ"
      },
      "execution_count": 52,
      "outputs": []
    },
    {
      "cell_type": "code",
      "source": [
        "b=np.array([1,0,1,0,1])"
      ],
      "metadata": {
        "id": "u5xIZYZ3Py89"
      },
      "execution_count": 53,
      "outputs": []
    },
    {
      "cell_type": "code",
      "source": [
        "a*b"
      ],
      "metadata": {
        "colab": {
          "base_uri": "https://localhost:8080/"
        },
        "id": "ooaI5rJRRx3u",
        "outputId": "8ad89537-94e4-4fcf-a7df-2dc200eeaa1b"
      },
      "execution_count": 54,
      "outputs": [
        {
          "output_type": "execute_result",
          "data": {
            "text/plain": [
              "array([0, 0, 0, 0, 0])"
            ]
          },
          "metadata": {},
          "execution_count": 54
        }
      ]
    },
    {
      "cell_type": "code",
      "source": [
        "a=np.array([0,1])"
      ],
      "metadata": {
        "id": "k-TPUop-Ry6q"
      },
      "execution_count": 55,
      "outputs": []
    },
    {
      "cell_type": "code",
      "source": [
        "b=np.array([1,0])"
      ],
      "metadata": {
        "id": "vCeDwuV8R6gP"
      },
      "execution_count": 56,
      "outputs": []
    },
    {
      "cell_type": "code",
      "source": [
        "np.dot(a,b)"
      ],
      "metadata": {
        "colab": {
          "base_uri": "https://localhost:8080/"
        },
        "id": "y6iPKeJPR-aH",
        "outputId": "2b165520-ddee-4702-d9ce-e71a4b4d93b0"
      },
      "execution_count": 57,
      "outputs": [
        {
          "output_type": "execute_result",
          "data": {
            "text/plain": [
              "0"
            ]
          },
          "metadata": {},
          "execution_count": 57
        }
      ]
    },
    {
      "cell_type": "code",
      "source": [
        "a=np.array([1,1,1,1,1])"
      ],
      "metadata": {
        "id": "K0pyBWkTSApz"
      },
      "execution_count": 58,
      "outputs": []
    },
    {
      "cell_type": "code",
      "source": [
        "a+10"
      ],
      "metadata": {
        "colab": {
          "base_uri": "https://localhost:8080/"
        },
        "id": "D9hen5auSEqp",
        "outputId": "698f69e5-8982-474f-fbbe-11f01ef1ce3e"
      },
      "execution_count": 59,
      "outputs": [
        {
          "output_type": "execute_result",
          "data": {
            "text/plain": [
              "array([11, 11, 11, 11, 11])"
            ]
          },
          "metadata": {},
          "execution_count": 59
        }
      ]
    },
    {
      "cell_type": "code",
      "source": [],
      "metadata": {
        "id": "imzp2l0PSGb3"
      },
      "execution_count": null,
      "outputs": []
    },
    {
      "cell_type": "markdown",
      "source": [
        "![progreso.png](data:image/png;base64,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)"
      ],
      "metadata": {
        "id": "Z0i0-xvDVXbq"
      }
    },
    {
      "cell_type": "code",
      "source": [],
      "metadata": {
        "id": "7WnQRBPFVZGH"
      },
      "execution_count": 59,
      "outputs": []
    }
  ]
}